{
 "cells": [
  {
   "cell_type": "markdown",
   "metadata": {},
   "source": [
    "# Sentiment Analysis\n",
    "\n",
    "## Using XGBoost in SageMaker\n",
    "\n",
    "_Deep Learning Nanodegree Program | Deployment_\n",
    "\n",
    "---\n",
    "\n",
    "As our first example of using Amazon's SageMaker service we will construct a random tree model to predict the sentiment of a movie review. You may have seen a version of this example in a pervious lesson although it would have been done using the sklearn package. Instead, we will be using the XGBoost package as it is provided to us by Amazon.\n",
    "\n",
    "## Instructions\n",
    "\n",
    "Some template code has already been provided for you, and you will need to implement additional functionality to successfully complete this notebook. You will not need to modify the included code beyond what is requested. Sections that begin with '**TODO**' in the header indicate that you need to complete or implement some portion within them. Instructions will be provided for each section and the specifics of the implementation are marked in the code block with a `# TODO: ...` comment. Please be sure to read the instructions carefully!\n",
    "\n",
    "In addition to implementing code, there may be questions for you to answer which relate to the task and your implementation. Each section where you will answer a question is preceded by a '**Question:**' header. Carefully read each question and provide your answer below the '**Answer:**' header by editing the Markdown cell.\n",
    "\n",
    "> **Note**: Code and Markdown cells can be executed using the **Shift+Enter** keyboard shortcut. In addition, a cell can be edited by typically clicking it (double-click for Markdown cells) or by pressing **Enter** while it is highlighted."
   ]
  },
  {
   "cell_type": "markdown",
   "metadata": {},
   "source": [
    "## Step 1: Downloading the data\n",
    "\n",
    "The dataset we are going to use is very popular among researchers in Natural Language Processing, usually referred to as the [IMDb dataset](http://ai.stanford.edu/~amaas/data/sentiment/). It consists of movie reviews from the website [imdb.com](http://www.imdb.com/), each labeled as either '**pos**itive', if the reviewer enjoyed the film, or '**neg**ative' otherwise.\n",
    "\n",
    "> Maas, Andrew L., et al. [Learning Word Vectors for Sentiment Analysis](http://ai.stanford.edu/~amaas/data/sentiment/). In _Proceedings of the 49th Annual Meeting of the Association for Computational Linguistics: Human Language Technologies_. Association for Computational Linguistics, 2011.\n",
    "\n",
    "We begin by using some Jupyter Notebook magic to download and extract the dataset."
   ]
  },
  {
   "cell_type": "code",
   "execution_count": 1,
   "metadata": {},
   "outputs": [
    {
     "name": "stdout",
     "output_type": "stream",
     "text": [
      "mkdir: cannot create directory ‘../data’: File exists\n",
      "--2020-05-02 20:05:52--  http://ai.stanford.edu/~amaas/data/sentiment/aclImdb_v1.tar.gz\n",
      "Resolving ai.stanford.edu (ai.stanford.edu)... 171.64.68.10\n",
      "Connecting to ai.stanford.edu (ai.stanford.edu)|171.64.68.10|:80... connected.\n",
      "HTTP request sent, awaiting response... 200 OK\n",
      "Length: 84125825 (80M) [application/x-gzip]\n",
      "Saving to: ‘../data/aclImdb_v1.tar.gz’\n",
      "\n",
      "../data/aclImdb_v1. 100%[===================>]  80.23M  23.4MB/s    in 5.1s    \n",
      "\n",
      "2020-05-02 20:05:59 (15.7 MB/s) - ‘../data/aclImdb_v1.tar.gz’ saved [84125825/84125825]\n",
      "\n"
     ]
    }
   ],
   "source": [
    "%mkdir ../data\n",
    "!wget -O ../data/aclImdb_v1.tar.gz http://ai.stanford.edu/~amaas/data/sentiment/aclImdb_v1.tar.gz\n",
    "!tar -zxf ../data/aclImdb_v1.tar.gz -C ../data"
   ]
  },
  {
   "cell_type": "markdown",
   "metadata": {},
   "source": [
    "## Step 2: Preparing the data\n",
    "\n",
    "The data we have downloaded is split into various files, each of which contains a single review. It will be much easier going forward if we combine these individual files into two large files, one for training and one for testing."
   ]
  },
  {
   "cell_type": "code",
   "execution_count": 2,
   "metadata": {},
   "outputs": [],
   "source": [
    "import os\n",
    "import glob\n",
    "\n",
    "def read_imdb_data(data_dir='../data/aclImdb'):\n",
    "    data = {}\n",
    "    labels = {}\n",
    "    \n",
    "    for data_type in ['train', 'test']:\n",
    "        data[data_type] = {}\n",
    "        labels[data_type] = {}\n",
    "        \n",
    "        for sentiment in ['pos', 'neg']:\n",
    "            data[data_type][sentiment] = []\n",
    "            labels[data_type][sentiment] = []\n",
    "            \n",
    "            path = os.path.join(data_dir, data_type, sentiment, '*.txt')\n",
    "            files = glob.glob(path)\n",
    "            \n",
    "            for f in files:\n",
    "                with open(f) as review:\n",
    "                    data[data_type][sentiment].append(review.read())\n",
    "                    # Here we represent a positive review by '1' and a negative review by '0'\n",
    "                    labels[data_type][sentiment].append(1 if sentiment == 'pos' else 0)\n",
    "                    \n",
    "            assert len(data[data_type][sentiment]) == len(labels[data_type][sentiment]), \\\n",
    "                    \"{}/{} data size does not match labels size\".format(data_type, sentiment)\n",
    "                \n",
    "    return data, labels"
   ]
  },
  {
   "cell_type": "code",
   "execution_count": 3,
   "metadata": {},
   "outputs": [
    {
     "name": "stdout",
     "output_type": "stream",
     "text": [
      "IMDB reviews: train = 12500 pos / 12500 neg, test = 12500 pos / 12500 neg\n"
     ]
    }
   ],
   "source": [
    "data, labels = read_imdb_data()\n",
    "print(\"IMDB reviews: train = {} pos / {} neg, test = {} pos / {} neg\".format(\n",
    "            len(data['train']['pos']), len(data['train']['neg']),\n",
    "            len(data['test']['pos']), len(data['test']['neg'])))"
   ]
  },
  {
   "cell_type": "code",
   "execution_count": 4,
   "metadata": {},
   "outputs": [],
   "source": [
    "from sklearn.utils import shuffle\n",
    "\n",
    "def prepare_imdb_data(data, labels):\n",
    "    \"\"\"Prepare training and test sets from IMDb movie reviews.\"\"\"\n",
    "    \n",
    "    #Combine positive and negative reviews and labels\n",
    "    data_train = data['train']['pos'] + data['train']['neg']\n",
    "    data_test = data['test']['pos'] + data['test']['neg']\n",
    "    labels_train = labels['train']['pos'] + labels['train']['neg']\n",
    "    labels_test = labels['test']['pos'] + labels['test']['neg']\n",
    "    \n",
    "    #Shuffle reviews and corresponding labels within training and test sets\n",
    "    data_train, labels_train = shuffle(data_train, labels_train)\n",
    "    data_test, labels_test = shuffle(data_test, labels_test)\n",
    "    \n",
    "    # Return a unified training data, test data, training labels, test labets\n",
    "    return data_train, data_test, labels_train, labels_test"
   ]
  },
  {
   "cell_type": "code",
   "execution_count": 5,
   "metadata": {},
   "outputs": [
    {
     "name": "stdout",
     "output_type": "stream",
     "text": [
      "IMDb reviews (combined): train = 25000, test = 25000\n"
     ]
    }
   ],
   "source": [
    "train_X, test_X, train_y, test_y = prepare_imdb_data(data, labels)\n",
    "print(\"IMDb reviews (combined): train = {}, test = {}\".format(len(train_X), len(test_X)))"
   ]
  },
  {
   "cell_type": "code",
   "execution_count": 6,
   "metadata": {},
   "outputs": [
    {
     "data": {
      "text/plain": [
       "'I watched to movie today and it just blew my mind away. It is a real masterpiece of art and I don\\'t understand why most of the people think it\\'s garbage. The main idea of the movie - take your ego away and then you will have true power! This was the main battle at the end of the movie and Guy Ritchie has shown that in a magnificent way. \"The greatest enemy will hide in the last place you will ever look\" - do you remember this from the movie? Because our true enemy is in us - it is our ego... That voice that always tells us that we are important, that gives us our pride, that tells us not to give, but only to take, that creates our aggression, that wants to be in control, that creates all the negative feelings and thoughts. GR expressed this idea in an astonishing way and has shown that the only way to gain true control is when you loose control and you just let go of your personal importance. A superb movie!'"
      ]
     },
     "execution_count": 6,
     "metadata": {},
     "output_type": "execute_result"
    }
   ],
   "source": [
    "train_X[100]"
   ]
  },
  {
   "cell_type": "markdown",
   "metadata": {},
   "source": [
    "## Step 3: Processing the data\n",
    "\n",
    "Now that we have our training and testing datasets merged and ready to use, we need to start processing the raw data into something that will be useable by our machine learning algorithm. To begin with, we remove any html formatting that may appear in the reviews and perform some standard natural language processing in order to homogenize the data."
   ]
  },
  {
   "cell_type": "code",
   "execution_count": 7,
   "metadata": {},
   "outputs": [
    {
     "name": "stdout",
     "output_type": "stream",
     "text": [
      "[nltk_data] Downloading package stopwords to\n",
      "[nltk_data]     /home/ec2-user/nltk_data...\n",
      "[nltk_data]   Unzipping corpora/stopwords.zip.\n"
     ]
    }
   ],
   "source": [
    "import nltk\n",
    "nltk.download(\"stopwords\")\n",
    "from nltk.corpus import stopwords\n",
    "from nltk.stem.porter import *\n",
    "stemmer = PorterStemmer()"
   ]
  },
  {
   "cell_type": "code",
   "execution_count": 8,
   "metadata": {},
   "outputs": [],
   "source": [
    "import re\n",
    "from bs4 import BeautifulSoup\n",
    "\n",
    "def review_to_words(review):\n",
    "    text = BeautifulSoup(review, \"html.parser\").get_text() # Remove HTML tags\n",
    "    text = re.sub(r\"[^a-zA-Z0-9]\", \" \", text.lower()) # Convert to lower case\n",
    "    words = text.split() # Split string into words\n",
    "    words = [w for w in words if w not in stopwords.words(\"english\")] # Remove stopwords\n",
    "    words = [PorterStemmer().stem(w) for w in words] # stem\n",
    "    \n",
    "    return words"
   ]
  },
  {
   "cell_type": "code",
   "execution_count": 9,
   "metadata": {},
   "outputs": [],
   "source": [
    "import pickle\n",
    "\n",
    "cache_dir = os.path.join(\"../cache\", \"sentiment_analysis\")  # where to store cache files\n",
    "os.makedirs(cache_dir, exist_ok=True)  # ensure cache directory exists\n",
    "\n",
    "def preprocess_data(data_train, data_test, labels_train, labels_test,\n",
    "                    cache_dir=cache_dir, cache_file=\"preprocessed_data.pkl\"):\n",
    "    \"\"\"Convert each review to words; read from cache if available.\"\"\"\n",
    "\n",
    "    # If cache_file is not None, try to read from it first\n",
    "    cache_data = None\n",
    "    if cache_file is not None:\n",
    "        try:\n",
    "            with open(os.path.join(cache_dir, cache_file), \"rb\") as f:\n",
    "                cache_data = pickle.load(f)\n",
    "            print(\"Read preprocessed data from cache file:\", cache_file)\n",
    "        except:\n",
    "            pass  # unable to read from cache, but that's okay\n",
    "    \n",
    "    # If cache is missing, then do the heavy lifting\n",
    "    if cache_data is None:\n",
    "        # Preprocess training and test data to obtain words for each review\n",
    "        #words_train = list(map(review_to_words, data_train))\n",
    "        #words_test = list(map(review_to_words, data_test))\n",
    "        words_train = [review_to_words(review) for review in data_train]\n",
    "        words_test = [review_to_words(review) for review in data_test]\n",
    "        \n",
    "        # Write to cache file for future runs\n",
    "        if cache_file is not None:\n",
    "            cache_data = dict(words_train=words_train, words_test=words_test,\n",
    "                              labels_train=labels_train, labels_test=labels_test)\n",
    "            with open(os.path.join(cache_dir, cache_file), \"wb\") as f:\n",
    "                pickle.dump(cache_data, f)\n",
    "            print(\"Wrote preprocessed data to cache file:\", cache_file)\n",
    "    else:\n",
    "        # Unpack data loaded from cache file\n",
    "        words_train, words_test, labels_train, labels_test = (cache_data['words_train'],\n",
    "                cache_data['words_test'], cache_data['labels_train'], cache_data['labels_test'])\n",
    "    \n",
    "    return words_train, words_test, labels_train, labels_test"
   ]
  },
  {
   "cell_type": "code",
   "execution_count": null,
   "metadata": {},
   "outputs": [
    {
     "name": "stdout",
     "output_type": "stream",
     "text": [
      "Wrote preprocessed data to cache file: preprocessed_data.pkl\n"
     ]
    }
   ],
   "source": [
    "# Preprocess data\n",
    "train_X, test_X, train_y, test_y = preprocess_data(train_X, test_X, train_y, test_y)"
   ]
  },
  {
   "cell_type": "markdown",
   "metadata": {},
   "source": [
    "### Extract Bag-of-Words features\n",
    "\n",
    "For the model we will be implementing, rather than using the reviews directly, we are going to transform each review into a Bag-of-Words feature representation. Keep in mind that 'in the wild' we will only have access to the training set so our transformer can only use the training set to construct a representation."
   ]
  },
  {
   "cell_type": "code",
   "execution_count": null,
   "metadata": {},
   "outputs": [],
   "source": [
    "import numpy as np\n",
    "from sklearn.feature_extraction.text import CountVectorizer\n",
    "from sklearn.externals import joblib\n",
    "# joblib is an enhanced version of pickle that is more efficient for storing NumPy arrays\n",
    "\n",
    "def extract_BoW_features(words_train, words_test, vocabulary_size=5000,\n",
    "                         cache_dir=cache_dir, cache_file=\"bow_features.pkl\"):\n",
    "    \"\"\"Extract Bag-of-Words for a given set of documents, already preprocessed into words.\"\"\"\n",
    "    \n",
    "    # If cache_file is not None, try to read from it first\n",
    "    cache_data = None\n",
    "    if cache_file is not None:\n",
    "        try:\n",
    "            with open(os.path.join(cache_dir, cache_file), \"rb\") as f:\n",
    "                cache_data = joblib.load(f)\n",
    "            print(\"Read features from cache file:\", cache_file)\n",
    "        except:\n",
    "            pass  # unable to read from cache, but that's okay\n",
    "    \n",
    "    # If cache is missing, then do the heavy lifting\n",
    "    if cache_data is None:\n",
    "        # Fit a vectorizer to training documents and use it to transform them\n",
    "        # NOTE: Training documents have already been preprocessed and tokenized into words;\n",
    "        #       pass in dummy functions to skip those steps, e.g. preprocessor=lambda x: x\n",
    "        vectorizer = CountVectorizer(max_features=vocabulary_size,\n",
    "                preprocessor=lambda x: x, tokenizer=lambda x: x)  # already preprocessed\n",
    "        features_train = vectorizer.fit_transform(words_train).toarray()\n",
    "\n",
    "        # Apply the same vectorizer to transform the test documents (ignore unknown words)\n",
    "        features_test = vectorizer.transform(words_test).toarray()\n",
    "        \n",
    "        # NOTE: Remember to convert the features using .toarray() for a compact representation\n",
    "        \n",
    "        # Write to cache file for future runs (store vocabulary as well)\n",
    "        if cache_file is not None:\n",
    "            vocabulary = vectorizer.vocabulary_\n",
    "            cache_data = dict(features_train=features_train, features_test=features_test,\n",
    "                             vocabulary=vocabulary)\n",
    "            with open(os.path.join(cache_dir, cache_file), \"wb\") as f:\n",
    "                joblib.dump(cache_data, f)\n",
    "            print(\"Wrote features to cache file:\", cache_file)\n",
    "    else:\n",
    "        # Unpack data loaded from cache file\n",
    "        features_train, features_test, vocabulary = (cache_data['features_train'],\n",
    "                cache_data['features_test'], cache_data['vocabulary'])\n",
    "    \n",
    "    # Return both the extracted features as well as the vocabulary\n",
    "    return features_train, features_test, vocabulary"
   ]
  },
  {
   "cell_type": "code",
   "execution_count": null,
   "metadata": {},
   "outputs": [
    {
     "name": "stdout",
     "output_type": "stream",
     "text": [
      "Wrote features to cache file: bow_features.pkl\n"
     ]
    }
   ],
   "source": [
    "# Extract Bag of Words features for both training and test datasets\n",
    "train_X, test_X, vocabulary = extract_BoW_features(train_X, test_X)"
   ]
  },
  {
   "cell_type": "code",
   "execution_count": 14,
   "metadata": {},
   "outputs": [
    {
     "data": {
      "text/plain": [
       "(25000, 5000)"
      ]
     },
     "execution_count": 14,
     "metadata": {},
     "output_type": "execute_result"
    }
   ],
   "source": [
    "train_X.shape"
   ]
  },
  {
   "cell_type": "markdown",
   "metadata": {},
   "source": [
    "## Step 4: Classification using XGBoost\n",
    "\n",
    "Now that we have created the feature representation of our training (and testing) data, it is time to start setting up and using the XGBoost classifier provided by SageMaker.\n",
    "\n",
    "### (TODO) Writing the dataset\n",
    "\n",
    "The XGBoost classifier that we will be using requires the dataset to be written to a file and stored using Amazon S3. To do this, we will start by splitting the training dataset into two parts, the data we will train the model with and a validation set. Then, we will write those datasets to a file and upload the files to S3. In addition, we will write the test set input to a file and upload the file to S3. This is so that we can use SageMakers Batch Transform functionality to test our model once we've fit it."
   ]
  },
  {
   "cell_type": "code",
   "execution_count": 15,
   "metadata": {},
   "outputs": [],
   "source": [
    "import pandas as pd\n",
    "from sklearn.model_selection import train_test_split\n",
    "\n",
    "# TODO: Split the train_X and train_y arrays into the DataFrames val_X, train_X and val_y, train_y. Make sure that\n",
    "#       val_X and val_y contain 10 000 entires while train_X and train_y contain the remaining 15 000 entries.\n",
    "train_X, val_X, train_y, val_y = train_test_split(train_X,train_y, test_size=0.4)"
   ]
  },
  {
   "cell_type": "markdown",
   "metadata": {},
   "source": [
    "The documentation for the XGBoost algorithm in SageMaker requires that the saved datasets should contain no headers or index and that for the training and validation data, the label should occur first for each sample.\n",
    "\n",
    "For more information about this and other algorithms, the SageMaker developer documentation can be found on __[Amazon's website.](https://docs.aws.amazon.com/sagemaker/latest/dg/)__"
   ]
  },
  {
   "cell_type": "code",
   "execution_count": 16,
   "metadata": {},
   "outputs": [],
   "source": [
    "# First we make sure that the local directory in which we'd like to store the training and validation csv files exists.\n",
    "data_dir = '../data/xgboost'\n",
    "if not os.path.exists(data_dir):\n",
    "    os.makedirs(data_dir)"
   ]
  },
  {
   "cell_type": "code",
   "execution_count": 19,
   "metadata": {},
   "outputs": [],
   "source": [
    "# First, save the test data to test.csv in the data_dir directory. Note that we do not save the associated ground truth\n",
    "# labels, instead we will use them later to compare with our model output.\n",
    "\n",
    "pd.DataFrame(test_X).to_csv(os.path.join(data_dir, 'test.csv'), header=False, index=False)\n",
    "\n",
    "# TODO: Save the training and validation data to train.csv and validation.csv in the data_dir directory.\n",
    "#       Make sure that the files you create are in the correct format.\n",
    "pd.concat([pd.DataFrame(train_y),pd.DataFrame(train_X)],axis=1).to_csv(os.path.join(data_dir,'train.csv'), header=False,index=False)\n",
    "pd.concat([pd.DataFrame(val_y),pd.DataFrame(val_X)],axis=1).to_csv(os.path.join(data_dir,'validation.csv'), header=False,index=False)"
   ]
  },
  {
   "cell_type": "code",
   "execution_count": 20,
   "metadata": {},
   "outputs": [
    {
     "data": {
      "text/plain": [
       "[1, 1, 0, 1, 1]"
      ]
     },
     "execution_count": 20,
     "metadata": {},
     "output_type": "execute_result"
    }
   ],
   "source": [
    "train_y[:5]"
   ]
  },
  {
   "cell_type": "code",
   "execution_count": null,
   "metadata": {},
   "outputs": [],
   "source": [
    "# To save a bit of memory we can set text_X, train_X, val_X, train_y and val_y to None.\n",
    "\n",
    "test_X = train_X = val_X = train_y = val_y = None"
   ]
  },
  {
   "cell_type": "markdown",
   "metadata": {},
   "source": [
    "### (TODO) Uploading Training / Validation files to S3\n",
    "\n",
    "Amazon's S3 service allows us to store files that can be access by both the built-in training models such as the XGBoost model we will be using as well as custom models such as the one we will see a little later.\n",
    "\n",
    "For this, and most other tasks we will be doing using SageMaker, there are two methods we could use. The first is to use the low level functionality of SageMaker which requires knowing each of the objects involved in the SageMaker environment. The second is to use the high level functionality in which certain choices have been made on the user's behalf. The low level approach benefits from allowing the user a great deal of flexibility while the high level approach makes development much quicker. For our purposes we will opt to use the high level approach although using the low-level approach is certainly an option.\n",
    "\n",
    "Recall the method `upload_data()` which is a member of object representing our current SageMaker session. What this method does is upload the data to the default bucket (which is created if it does not exist) into the path described by the key_prefix variable. To see this for yourself, once you have uploaded the data files, go to the S3 console and look to see where the files have been uploaded.\n",
    "\n",
    "For additional resources, see the __[SageMaker API documentation](http://sagemaker.readthedocs.io/en/latest/)__ and in addition the __[SageMaker Developer Guide.](https://docs.aws.amazon.com/sagemaker/latest/dg/)__"
   ]
  },
  {
   "cell_type": "code",
   "execution_count": 21,
   "metadata": {},
   "outputs": [],
   "source": [
    "import sagemaker\n",
    "\n",
    "session = sagemaker.Session() # Store the current SageMaker session\n",
    "\n",
    "# S3 prefix (which folder will we use)\n",
    "prefix = 'sentiment-xgboost'\n",
    "\n",
    "# TODO: Upload the test.csv, train.csv and validation.csv files which are contained in data_dir to S3 using sess.upload_data().\n",
    "test_location = session.upload_data(os.path.join(data_dir,'test.csv'), key_prefix=prefix)\n",
    "val_location = session.upload_data(os.path.join(data_dir,'validation.csv'), key_prefix=prefix)\n",
    "train_location = session.upload_data(os.path.join(data_dir,'train.csv'), key_prefix=prefix)"
   ]
  },
  {
   "cell_type": "markdown",
   "metadata": {},
   "source": [
    "### (TODO) Creating the XGBoost model\n",
    "\n",
    "Now that the data has been uploaded it is time to create the XGBoost model. To begin with, we need to do some setup. At this point it is worth discussing what a model is in SageMaker. It is easiest to think of a model of comprising three different objects in the SageMaker ecosystem, which interact with one another.\n",
    "\n",
    "- Model Artifacts\n",
    "- Training Code (Container)\n",
    "- Inference Code (Container)\n",
    "\n",
    "The Model Artifacts are what you might think of as the actual model itself. For example, if you were building a neural network, the model artifacts would be the weights of the various layers. In our case, for an XGBoost model, the artifacts are the actual trees that are created during training.\n",
    "\n",
    "The other two objects, the training code and the inference code are then used the manipulate the training artifacts. More precisely, the training code uses the training data that is provided and creates the model artifacts, while the inference code uses the model artifacts to make predictions on new data.\n",
    "\n",
    "The way that SageMaker runs the training and inference code is by making use of Docker containers. For now, think of a container as being a way of packaging code up so that dependencies aren't an issue."
   ]
  },
  {
   "cell_type": "code",
   "execution_count": 22,
   "metadata": {},
   "outputs": [],
   "source": [
    "from sagemaker import get_execution_role\n",
    "\n",
    "# Our current execution role is require when creating the model as the training\n",
    "# and inference code will need to access the model artifacts.\n",
    "role = get_execution_role()"
   ]
  },
  {
   "cell_type": "code",
   "execution_count": 23,
   "metadata": {},
   "outputs": [
    {
     "name": "stderr",
     "output_type": "stream",
     "text": [
      "WARNING:root:There is a more up to date SageMaker XGBoost image. To use the newer image, please set 'repo_version'='0.90-2'. For example:\n",
      "\tget_image_uri(region, 'xgboost', '0.90-2').\n"
     ]
    }
   ],
   "source": [
    "# We need to retrieve the location of the container which is provided by Amazon for using XGBoost.\n",
    "# As a matter of convenience, the training and inference code both use the same container.\n",
    "from sagemaker.amazon.amazon_estimator import get_image_uri\n",
    "\n",
    "container = get_image_uri(session.boto_region_name, 'xgboost')"
   ]
  },
  {
   "cell_type": "code",
   "execution_count": 24,
   "metadata": {},
   "outputs": [],
   "source": [
    "# TODO: Create a SageMaker estimator using the container location determined in the previous cell.\n",
    "#       It is recommended that you use a single training instance of type ml.m4.xlarge. It is also\n",
    "#       recommended that you use 's3://{}/{}/output'.format(session.default_bucket(), prefix) as the\n",
    "#       output path.\n",
    "\n",
    "xgb = sagemaker.estimator.Estimator(container,\n",
    "                                   role,\n",
    "                                   train_instance_count=1,\n",
    "                                   train_instance_type='ml.m4.xlarge',\n",
    "                                   output_path='s3://{}/{}/output'.format(session.default_bucket(),prefix),\n",
    "                                    sagemaker_session = session)\n",
    "\n",
    "\n",
    "# TODO: Set the XGBoost hyperparameters in the xgb object. Don't forget that in this case we have a binary\n",
    "#       label so we should be using the 'binary:logistic' objective.\n",
    "xgb.set_hyperparameters(max_depth=10,\n",
    "                        eta=0.2,\n",
    "                        gamma=4,\n",
    "                        min_child_weight=8,\n",
    "                        subsample=0.8,\n",
    "                        num_class=2,\n",
    "                        objective='multi:softmax',\n",
    "                        early_stopping_rounds=10,\n",
    "                        num_round=200)"
   ]
  },
  {
   "cell_type": "markdown",
   "metadata": {},
   "source": [
    "### Fit the XGBoost model\n",
    "\n",
    "Now that our model has been set up we simply need to attach the training and validation datasets and then ask SageMaker to set up the computation."
   ]
  },
  {
   "cell_type": "code",
   "execution_count": 25,
   "metadata": {},
   "outputs": [],
   "source": [
    "s3_input_train = sagemaker.s3_input(s3_data=train_location, content_type='csv')\n",
    "s3_input_validation = sagemaker.s3_input(s3_data=val_location, content_type='csv')"
   ]
  },
  {
   "cell_type": "code",
   "execution_count": 26,
   "metadata": {
    "scrolled": false
   },
   "outputs": [
    {
     "name": "stdout",
     "output_type": "stream",
     "text": [
      "2020-05-02 21:48:52 Starting - Starting the training job...\n",
      "2020-05-02 21:48:53 Starting - Launching requested ML instances...\n",
      "2020-05-02 21:49:51 Starting - Preparing the instances for training......\n",
      "2020-05-02 21:50:38 Downloading - Downloading input data...\n",
      "2020-05-02 21:51:16 Training - Training image download completed. Training in progress.\u001b[34mArguments: train\u001b[0m\n",
      "\u001b[34m[2020-05-02:21:51:17:INFO] Running standalone xgboost training.\u001b[0m\n",
      "\u001b[34m[2020-05-02:21:51:17:INFO] File size need to be processed in the node: 238.47mb. Available memory size in the node: 8496.4mb\u001b[0m\n",
      "\u001b[34m[2020-05-02:21:51:17:INFO] Determined delimiter of CSV input is ','\u001b[0m\n",
      "\u001b[34m[21:51:17] S3DistributionType set as FullyReplicated\u001b[0m\n",
      "\u001b[34m[21:51:19] 15000x5000 matrix with 75000000 entries loaded from /opt/ml/input/data/train?format=csv&label_column=0&delimiter=,\u001b[0m\n",
      "\u001b[34m[2020-05-02:21:51:19:INFO] Determined delimiter of CSV input is ','\u001b[0m\n",
      "\u001b[34m[21:51:19] S3DistributionType set as FullyReplicated\u001b[0m\n",
      "\u001b[34m[21:51:20] 10000x5000 matrix with 50000000 entries loaded from /opt/ml/input/data/validation?format=csv&label_column=0&delimiter=,\u001b[0m\n",
      "\u001b[34m[21:51:25] src/tree/updater_prune.cc:74: tree pruning end, 1 roots, 112 extra nodes, 132 pruned nodes, max_depth=10\u001b[0m\n",
      "\u001b[34m[21:51:27] src/tree/updater_prune.cc:74: tree pruning end, 1 roots, 112 extra nodes, 134 pruned nodes, max_depth=10\u001b[0m\n",
      "\u001b[34m[0]#011train-merror:0.2462#011validation-merror:0.2712\u001b[0m\n",
      "\u001b[34mMultiple eval metrics have been passed: 'validation-merror' will be used for early stopping.\n",
      "\u001b[0m\n",
      "\u001b[34mWill train until validation-merror hasn't improved in 10 rounds.\u001b[0m\n",
      "\u001b[34m[21:51:30] src/tree/updater_prune.cc:74: tree pruning end, 1 roots, 110 extra nodes, 120 pruned nodes, max_depth=10\u001b[0m\n",
      "\u001b[34m[21:51:33] src/tree/updater_prune.cc:74: tree pruning end, 1 roots, 124 extra nodes, 92 pruned nodes, max_depth=10\u001b[0m\n",
      "\u001b[34m[1]#011train-merror:0.2316#011validation-merror:0.258\u001b[0m\n",
      "\u001b[34m[21:51:35] src/tree/updater_prune.cc:74: tree pruning end, 1 roots, 94 extra nodes, 144 pruned nodes, max_depth=10\u001b[0m\n",
      "\u001b[34m[21:51:38] src/tree/updater_prune.cc:74: tree pruning end, 1 roots, 110 extra nodes, 122 pruned nodes, max_depth=10\u001b[0m\n",
      "\u001b[34m[2]#011train-merror:0.224333#011validation-merror:0.2529\u001b[0m\n",
      "\u001b[34m[21:51:40] src/tree/updater_prune.cc:74: tree pruning end, 1 roots, 92 extra nodes, 130 pruned nodes, max_depth=10\u001b[0m\n",
      "\u001b[34m[21:51:43] src/tree/updater_prune.cc:74: tree pruning end, 1 roots, 72 extra nodes, 114 pruned nodes, max_depth=10\u001b[0m\n",
      "\u001b[34m[3]#011train-merror:0.215267#011validation-merror:0.2453\u001b[0m\n",
      "\u001b[34m[21:51:45] src/tree/updater_prune.cc:74: tree pruning end, 1 roots, 54 extra nodes, 110 pruned nodes, max_depth=10\u001b[0m\n",
      "\u001b[34m[21:51:47] src/tree/updater_prune.cc:74: tree pruning end, 1 roots, 58 extra nodes, 116 pruned nodes, max_depth=10\u001b[0m\n",
      "\u001b[34m[4]#011train-merror:0.209933#011validation-merror:0.2397\u001b[0m\n",
      "\u001b[34m[21:51:50] src/tree/updater_prune.cc:74: tree pruning end, 1 roots, 106 extra nodes, 128 pruned nodes, max_depth=10\u001b[0m\n",
      "\u001b[34m[21:51:52] src/tree/updater_prune.cc:74: tree pruning end, 1 roots, 114 extra nodes, 132 pruned nodes, max_depth=10\u001b[0m\n",
      "\u001b[34m[5]#011train-merror:0.201067#011validation-merror:0.2327\u001b[0m\n",
      "\u001b[34m[21:51:55] src/tree/updater_prune.cc:74: tree pruning end, 1 roots, 64 extra nodes, 98 pruned nodes, max_depth=10\u001b[0m\n",
      "\u001b[34m[21:51:57] src/tree/updater_prune.cc:74: tree pruning end, 1 roots, 46 extra nodes, 92 pruned nodes, max_depth=10\u001b[0m\n",
      "\u001b[34m[6]#011train-merror:0.1966#011validation-merror:0.2273\u001b[0m\n",
      "\u001b[34m[21:52:00] src/tree/updater_prune.cc:74: tree pruning end, 1 roots, 52 extra nodes, 96 pruned nodes, max_depth=10\u001b[0m\n",
      "\u001b[34m[21:52:02] src/tree/updater_prune.cc:74: tree pruning end, 1 roots, 100 extra nodes, 146 pruned nodes, max_depth=10\u001b[0m\n",
      "\u001b[34m[7]#011train-merror:0.1906#011validation-merror:0.2242\u001b[0m\n",
      "\u001b[34m[21:52:05] src/tree/updater_prune.cc:74: tree pruning end, 1 roots, 52 extra nodes, 106 pruned nodes, max_depth=10\u001b[0m\n",
      "\u001b[34m[21:52:07] src/tree/updater_prune.cc:74: tree pruning end, 1 roots, 56 extra nodes, 102 pruned nodes, max_depth=10\u001b[0m\n",
      "\u001b[34m[8]#011train-merror:0.1876#011validation-merror:0.2205\u001b[0m\n",
      "\u001b[34m[21:52:10] src/tree/updater_prune.cc:74: tree pruning end, 1 roots, 48 extra nodes, 94 pruned nodes, max_depth=10\u001b[0m\n",
      "\u001b[34m[21:52:12] src/tree/updater_prune.cc:74: tree pruning end, 1 roots, 62 extra nodes, 106 pruned nodes, max_depth=10\u001b[0m\n",
      "\u001b[34m[9]#011train-merror:0.1818#011validation-merror:0.2164\u001b[0m\n",
      "\u001b[34m[21:52:15] src/tree/updater_prune.cc:74: tree pruning end, 1 roots, 42 extra nodes, 100 pruned nodes, max_depth=10\u001b[0m\n",
      "\u001b[34m[21:52:17] src/tree/updater_prune.cc:74: tree pruning end, 1 roots, 52 extra nodes, 120 pruned nodes, max_depth=10\u001b[0m\n",
      "\u001b[34m[10]#011train-merror:0.174667#011validation-merror:0.2114\u001b[0m\n",
      "\u001b[34m[21:52:19] src/tree/updater_prune.cc:74: tree pruning end, 1 roots, 46 extra nodes, 82 pruned nodes, max_depth=10\u001b[0m\n",
      "\u001b[34m[21:52:22] src/tree/updater_prune.cc:74: tree pruning end, 1 roots, 52 extra nodes, 110 pruned nodes, max_depth=10\u001b[0m\n",
      "\u001b[34m[11]#011train-merror:0.1716#011validation-merror:0.2081\u001b[0m\n",
      "\u001b[34m[21:52:24] src/tree/updater_prune.cc:74: tree pruning end, 1 roots, 46 extra nodes, 104 pruned nodes, max_depth=10\u001b[0m\n",
      "\u001b[34m[21:52:27] src/tree/updater_prune.cc:74: tree pruning end, 1 roots, 68 extra nodes, 112 pruned nodes, max_depth=10\u001b[0m\n",
      "\u001b[34m[12]#011train-merror:0.167867#011validation-merror:0.2073\u001b[0m\n",
      "\u001b[34m[21:52:29] src/tree/updater_prune.cc:74: tree pruning end, 1 roots, 56 extra nodes, 106 pruned nodes, max_depth=10\u001b[0m\n",
      "\u001b[34m[21:52:32] src/tree/updater_prune.cc:74: tree pruning end, 1 roots, 46 extra nodes, 106 pruned nodes, max_depth=10\u001b[0m\n",
      "\u001b[34m[13]#011train-merror:0.165667#011validation-merror:0.2021\u001b[0m\n",
      "\u001b[34m[21:52:34] src/tree/updater_prune.cc:74: tree pruning end, 1 roots, 60 extra nodes, 112 pruned nodes, max_depth=10\u001b[0m\n",
      "\u001b[34m[21:52:36] src/tree/updater_prune.cc:74: tree pruning end, 1 roots, 68 extra nodes, 98 pruned nodes, max_depth=10\u001b[0m\n",
      "\u001b[34m[14]#011train-merror:0.161067#011validation-merror:0.2002\u001b[0m\n",
      "\u001b[34m[21:52:39] src/tree/updater_prune.cc:74: tree pruning end, 1 roots, 44 extra nodes, 114 pruned nodes, max_depth=10\u001b[0m\n",
      "\u001b[34m[21:52:41] src/tree/updater_prune.cc:74: tree pruning end, 1 roots, 40 extra nodes, 88 pruned nodes, max_depth=10\u001b[0m\n",
      "\u001b[34m[15]#011train-merror:0.158467#011validation-merror:0.196\u001b[0m\n",
      "\u001b[34m[21:52:44] src/tree/updater_prune.cc:74: tree pruning end, 1 roots, 48 extra nodes, 128 pruned nodes, max_depth=10\u001b[0m\n",
      "\u001b[34m[21:52:46] src/tree/updater_prune.cc:74: tree pruning end, 1 roots, 34 extra nodes, 96 pruned nodes, max_depth=10\u001b[0m\n",
      "\u001b[34m[16]#011train-merror:0.154467#011validation-merror:0.1927\u001b[0m\n",
      "\u001b[34m[21:52:49] src/tree/updater_prune.cc:74: tree pruning end, 1 roots, 58 extra nodes, 150 pruned nodes, max_depth=10\u001b[0m\n",
      "\u001b[34m[21:52:51] src/tree/updater_prune.cc:74: tree pruning end, 1 roots, 48 extra nodes, 76 pruned nodes, max_depth=10\u001b[0m\n",
      "\u001b[34m[17]#011train-merror:0.152733#011validation-merror:0.1938\u001b[0m\n",
      "\u001b[34m[21:52:54] src/tree/updater_prune.cc:74: tree pruning end, 1 roots, 22 extra nodes, 90 pruned nodes, max_depth=10\u001b[0m\n",
      "\u001b[34m[21:52:56] src/tree/updater_prune.cc:74: tree pruning end, 1 roots, 26 extra nodes, 86 pruned nodes, max_depth=10\u001b[0m\n",
      "\u001b[34m[18]#011train-merror:0.1508#011validation-merror:0.1919\u001b[0m\n",
      "\u001b[34m[21:52:59] src/tree/updater_prune.cc:74: tree pruning end, 1 roots, 24 extra nodes, 92 pruned nodes, max_depth=10\u001b[0m\n",
      "\u001b[34m[21:53:01] src/tree/updater_prune.cc:74: tree pruning end, 1 roots, 46 extra nodes, 118 pruned nodes, max_depth=10\u001b[0m\n",
      "\u001b[34m[19]#011train-merror:0.148#011validation-merror:0.1894\u001b[0m\n",
      "\u001b[34m[21:53:03] src/tree/updater_prune.cc:74: tree pruning end, 1 roots, 34 extra nodes, 94 pruned nodes, max_depth=10\u001b[0m\n",
      "\u001b[34m[21:53:06] src/tree/updater_prune.cc:74: tree pruning end, 1 roots, 40 extra nodes, 78 pruned nodes, max_depth=10\u001b[0m\n",
      "\u001b[34m[20]#011train-merror:0.1466#011validation-merror:0.1871\u001b[0m\n",
      "\u001b[34m[21:53:08] src/tree/updater_prune.cc:74: tree pruning end, 1 roots, 48 extra nodes, 74 pruned nodes, max_depth=10\u001b[0m\n",
      "\u001b[34m[21:53:11] src/tree/updater_prune.cc:74: tree pruning end, 1 roots, 32 extra nodes, 74 pruned nodes, max_depth=10\u001b[0m\n",
      "\u001b[34m[21]#011train-merror:0.144#011validation-merror:0.1856\u001b[0m\n",
      "\u001b[34m[21:53:13] src/tree/updater_prune.cc:74: tree pruning end, 1 roots, 36 extra nodes, 112 pruned nodes, max_depth=10\u001b[0m\n",
      "\u001b[34m[21:53:16] src/tree/updater_prune.cc:74: tree pruning end, 1 roots, 24 extra nodes, 118 pruned nodes, max_depth=10\u001b[0m\n",
      "\u001b[34m[22]#011train-merror:0.141533#011validation-merror:0.1838\u001b[0m\n",
      "\u001b[34m[21:53:18] src/tree/updater_prune.cc:74: tree pruning end, 1 roots, 46 extra nodes, 132 pruned nodes, max_depth=10\u001b[0m\n"
     ]
    },
    {
     "name": "stdout",
     "output_type": "stream",
     "text": [
      "\u001b[34m[21:53:21] src/tree/updater_prune.cc:74: tree pruning end, 1 roots, 30 extra nodes, 84 pruned nodes, max_depth=10\u001b[0m\n",
      "\u001b[34m[23]#011train-merror:0.139067#011validation-merror:0.1824\u001b[0m\n",
      "\u001b[34m[21:53:23] src/tree/updater_prune.cc:74: tree pruning end, 1 roots, 30 extra nodes, 112 pruned nodes, max_depth=10\u001b[0m\n",
      "\u001b[34m[21:53:26] src/tree/updater_prune.cc:74: tree pruning end, 1 roots, 48 extra nodes, 92 pruned nodes, max_depth=10\u001b[0m\n",
      "\u001b[34m[24]#011train-merror:0.137467#011validation-merror:0.1801\u001b[0m\n",
      "\u001b[34m[21:53:28] src/tree/updater_prune.cc:74: tree pruning end, 1 roots, 42 extra nodes, 74 pruned nodes, max_depth=10\u001b[0m\n",
      "\u001b[34m[21:53:30] src/tree/updater_prune.cc:74: tree pruning end, 1 roots, 32 extra nodes, 126 pruned nodes, max_depth=10\u001b[0m\n",
      "\u001b[34m[25]#011train-merror:0.135667#011validation-merror:0.1786\u001b[0m\n",
      "\u001b[34m[21:53:33] src/tree/updater_prune.cc:74: tree pruning end, 1 roots, 36 extra nodes, 104 pruned nodes, max_depth=10\u001b[0m\n",
      "\u001b[34m[21:53:35] src/tree/updater_prune.cc:74: tree pruning end, 1 roots, 42 extra nodes, 102 pruned nodes, max_depth=10\u001b[0m\n",
      "\u001b[34m[26]#011train-merror:0.133733#011validation-merror:0.1778\u001b[0m\n",
      "\u001b[34m[21:53:38] src/tree/updater_prune.cc:74: tree pruning end, 1 roots, 44 extra nodes, 84 pruned nodes, max_depth=10\u001b[0m\n",
      "\u001b[34m[21:53:40] src/tree/updater_prune.cc:74: tree pruning end, 1 roots, 30 extra nodes, 120 pruned nodes, max_depth=10\u001b[0m\n",
      "\u001b[34m[27]#011train-merror:0.1316#011validation-merror:0.1761\u001b[0m\n",
      "\u001b[34m[21:53:43] src/tree/updater_prune.cc:74: tree pruning end, 1 roots, 22 extra nodes, 70 pruned nodes, max_depth=10\u001b[0m\n",
      "\u001b[34m[21:53:45] src/tree/updater_prune.cc:74: tree pruning end, 1 roots, 36 extra nodes, 80 pruned nodes, max_depth=10\u001b[0m\n",
      "\u001b[34m[28]#011train-merror:0.1304#011validation-merror:0.1757\u001b[0m\n",
      "\u001b[34m[21:53:48] src/tree/updater_prune.cc:74: tree pruning end, 1 roots, 22 extra nodes, 68 pruned nodes, max_depth=10\u001b[0m\n",
      "\u001b[34m[21:53:50] src/tree/updater_prune.cc:74: tree pruning end, 1 roots, 28 extra nodes, 86 pruned nodes, max_depth=10\u001b[0m\n",
      "\u001b[34m[29]#011train-merror:0.128933#011validation-merror:0.175\u001b[0m\n",
      "\u001b[34m[21:53:53] src/tree/updater_prune.cc:74: tree pruning end, 1 roots, 26 extra nodes, 76 pruned nodes, max_depth=10\u001b[0m\n",
      "\u001b[34m[21:53:55] src/tree/updater_prune.cc:74: tree pruning end, 1 roots, 26 extra nodes, 72 pruned nodes, max_depth=10\u001b[0m\n",
      "\u001b[34m[30]#011train-merror:0.127333#011validation-merror:0.1749\u001b[0m\n",
      "\u001b[34m[21:53:58] src/tree/updater_prune.cc:74: tree pruning end, 1 roots, 22 extra nodes, 118 pruned nodes, max_depth=10\u001b[0m\n",
      "\u001b[34m[21:54:00] src/tree/updater_prune.cc:74: tree pruning end, 1 roots, 28 extra nodes, 78 pruned nodes, max_depth=10\u001b[0m\n",
      "\u001b[34m[31]#011train-merror:0.1262#011validation-merror:0.174\u001b[0m\n",
      "\u001b[34m[21:54:03] src/tree/updater_prune.cc:74: tree pruning end, 1 roots, 20 extra nodes, 68 pruned nodes, max_depth=10\u001b[0m\n",
      "\u001b[34m[21:54:05] src/tree/updater_prune.cc:74: tree pruning end, 1 roots, 26 extra nodes, 82 pruned nodes, max_depth=10\u001b[0m\n",
      "\u001b[34m[32]#011train-merror:0.125133#011validation-merror:0.1729\u001b[0m\n",
      "\u001b[34m[21:54:07] src/tree/updater_prune.cc:74: tree pruning end, 1 roots, 38 extra nodes, 130 pruned nodes, max_depth=10\u001b[0m\n",
      "\u001b[34m[21:54:10] src/tree/updater_prune.cc:74: tree pruning end, 1 roots, 28 extra nodes, 70 pruned nodes, max_depth=10\u001b[0m\n",
      "\u001b[34m[33]#011train-merror:0.124#011validation-merror:0.1737\u001b[0m\n",
      "\u001b[34m[21:54:12] src/tree/updater_prune.cc:74: tree pruning end, 1 roots, 32 extra nodes, 56 pruned nodes, max_depth=10\u001b[0m\n",
      "\u001b[34m[21:54:15] src/tree/updater_prune.cc:74: tree pruning end, 1 roots, 24 extra nodes, 94 pruned nodes, max_depth=10\u001b[0m\n",
      "\u001b[34m[34]#011train-merror:0.123533#011validation-merror:0.1722\u001b[0m\n",
      "\u001b[34m[21:54:17] src/tree/updater_prune.cc:74: tree pruning end, 1 roots, 38 extra nodes, 98 pruned nodes, max_depth=10\u001b[0m\n",
      "\u001b[34m[21:54:20] src/tree/updater_prune.cc:74: tree pruning end, 1 roots, 22 extra nodes, 70 pruned nodes, max_depth=10\u001b[0m\n",
      "\u001b[34m[35]#011train-merror:0.122933#011validation-merror:0.1718\u001b[0m\n",
      "\u001b[34m[21:54:22] src/tree/updater_prune.cc:74: tree pruning end, 1 roots, 24 extra nodes, 84 pruned nodes, max_depth=10\u001b[0m\n",
      "\u001b[34m[21:54:25] src/tree/updater_prune.cc:74: tree pruning end, 1 roots, 40 extra nodes, 108 pruned nodes, max_depth=10\u001b[0m\n",
      "\u001b[34m[36]#011train-merror:0.1214#011validation-merror:0.17\u001b[0m\n",
      "\u001b[34m[21:54:27] src/tree/updater_prune.cc:74: tree pruning end, 1 roots, 38 extra nodes, 134 pruned nodes, max_depth=10\u001b[0m\n",
      "\u001b[34m[21:54:30] src/tree/updater_prune.cc:74: tree pruning end, 1 roots, 38 extra nodes, 104 pruned nodes, max_depth=10\u001b[0m\n",
      "\u001b[34m[37]#011train-merror:0.119933#011validation-merror:0.1697\u001b[0m\n",
      "\u001b[34m[21:54:32] src/tree/updater_prune.cc:74: tree pruning end, 1 roots, 36 extra nodes, 72 pruned nodes, max_depth=10\u001b[0m\n",
      "\u001b[34m[21:54:34] src/tree/updater_prune.cc:74: tree pruning end, 1 roots, 24 extra nodes, 86 pruned nodes, max_depth=10\u001b[0m\n",
      "\u001b[34m[38]#011train-merror:0.1182#011validation-merror:0.169\u001b[0m\n",
      "\u001b[34m[21:54:37] src/tree/updater_prune.cc:74: tree pruning end, 1 roots, 30 extra nodes, 54 pruned nodes, max_depth=10\u001b[0m\n",
      "\u001b[34m[21:54:39] src/tree/updater_prune.cc:74: tree pruning end, 1 roots, 26 extra nodes, 92 pruned nodes, max_depth=10\u001b[0m\n",
      "\u001b[34m[39]#011train-merror:0.116667#011validation-merror:0.1671\u001b[0m\n",
      "\u001b[34m[21:54:42] src/tree/updater_prune.cc:74: tree pruning end, 1 roots, 24 extra nodes, 82 pruned nodes, max_depth=10\u001b[0m\n",
      "\u001b[34m[21:54:44] src/tree/updater_prune.cc:74: tree pruning end, 1 roots, 24 extra nodes, 84 pruned nodes, max_depth=10\u001b[0m\n",
      "\u001b[34m[40]#011train-merror:0.116067#011validation-merror:0.1663\u001b[0m\n",
      "\u001b[34m[21:54:47] src/tree/updater_prune.cc:74: tree pruning end, 1 roots, 22 extra nodes, 46 pruned nodes, max_depth=10\u001b[0m\n",
      "\u001b[34m[21:54:49] src/tree/updater_prune.cc:74: tree pruning end, 1 roots, 20 extra nodes, 62 pruned nodes, max_depth=10\u001b[0m\n",
      "\u001b[34m[41]#011train-merror:0.115467#011validation-merror:0.1661\u001b[0m\n",
      "\u001b[34m[21:54:52] src/tree/updater_prune.cc:74: tree pruning end, 1 roots, 22 extra nodes, 82 pruned nodes, max_depth=10\u001b[0m\n",
      "\u001b[34m[21:54:54] src/tree/updater_prune.cc:74: tree pruning end, 1 roots, 20 extra nodes, 98 pruned nodes, max_depth=10\u001b[0m\n",
      "\u001b[34m[42]#011train-merror:0.1144#011validation-merror:0.1651\u001b[0m\n",
      "\u001b[34m[21:54:57] src/tree/updater_prune.cc:74: tree pruning end, 1 roots, 22 extra nodes, 74 pruned nodes, max_depth=10\u001b[0m\n",
      "\u001b[34m[21:54:59] src/tree/updater_prune.cc:74: tree pruning end, 1 roots, 32 extra nodes, 64 pruned nodes, max_depth=10\u001b[0m\n",
      "\u001b[34m[43]#011train-merror:0.1142#011validation-merror:0.1632\u001b[0m\n",
      "\u001b[34m[21:55:02] src/tree/updater_prune.cc:74: tree pruning end, 1 roots, 34 extra nodes, 72 pruned nodes, max_depth=10\u001b[0m\n",
      "\u001b[34m[21:55:04] src/tree/updater_prune.cc:74: tree pruning end, 1 roots, 20 extra nodes, 90 pruned nodes, max_depth=10\u001b[0m\n",
      "\u001b[34m[44]#011train-merror:0.112267#011validation-merror:0.1626\u001b[0m\n",
      "\u001b[34m[21:55:06] src/tree/updater_prune.cc:74: tree pruning end, 1 roots, 22 extra nodes, 66 pruned nodes, max_depth=10\u001b[0m\n",
      "\u001b[34m[21:55:09] src/tree/updater_prune.cc:74: tree pruning end, 1 roots, 20 extra nodes, 48 pruned nodes, max_depth=10\u001b[0m\n",
      "\u001b[34m[45]#011train-merror:0.111867#011validation-merror:0.1619\u001b[0m\n",
      "\u001b[34m[21:55:11] src/tree/updater_prune.cc:74: tree pruning end, 1 roots, 22 extra nodes, 50 pruned nodes, max_depth=10\u001b[0m\n",
      "\u001b[34m[21:55:14] src/tree/updater_prune.cc:74: tree pruning end, 1 roots, 20 extra nodes, 76 pruned nodes, max_depth=10\u001b[0m\n",
      "\u001b[34m[46]#011train-merror:0.110733#011validation-merror:0.1621\u001b[0m\n",
      "\u001b[34m[21:55:16] src/tree/updater_prune.cc:74: tree pruning end, 1 roots, 22 extra nodes, 90 pruned nodes, max_depth=10\u001b[0m\n",
      "\u001b[34m[21:55:19] src/tree/updater_prune.cc:74: tree pruning end, 1 roots, 30 extra nodes, 60 pruned nodes, max_depth=10\u001b[0m\n",
      "\u001b[34m[47]#011train-merror:0.11#011validation-merror:0.1606\u001b[0m\n",
      "\u001b[34m[21:55:21] src/tree/updater_prune.cc:74: tree pruning end, 1 roots, 22 extra nodes, 102 pruned nodes, max_depth=10\u001b[0m\n",
      "\u001b[34m[21:55:24] src/tree/updater_prune.cc:74: tree pruning end, 1 roots, 28 extra nodes, 76 pruned nodes, max_depth=10\u001b[0m\n",
      "\u001b[34m[48]#011train-merror:0.109133#011validation-merror:0.1601\u001b[0m\n",
      "\u001b[34m[21:55:26] src/tree/updater_prune.cc:74: tree pruning end, 1 roots, 24 extra nodes, 70 pruned nodes, max_depth=10\u001b[0m\n",
      "\u001b[34m[21:55:28] src/tree/updater_prune.cc:74: tree pruning end, 1 roots, 20 extra nodes, 64 pruned nodes, max_depth=10\u001b[0m\n",
      "\u001b[34m[49]#011train-merror:0.109#011validation-merror:0.1594\u001b[0m\n"
     ]
    },
    {
     "name": "stdout",
     "output_type": "stream",
     "text": [
      "\u001b[34m[21:55:31] src/tree/updater_prune.cc:74: tree pruning end, 1 roots, 20 extra nodes, 56 pruned nodes, max_depth=10\u001b[0m\n",
      "\u001b[34m[21:55:33] src/tree/updater_prune.cc:74: tree pruning end, 1 roots, 20 extra nodes, 68 pruned nodes, max_depth=10\u001b[0m\n",
      "\u001b[34m[50]#011train-merror:0.108067#011validation-merror:0.1594\u001b[0m\n",
      "\u001b[34m[21:55:36] src/tree/updater_prune.cc:74: tree pruning end, 1 roots, 22 extra nodes, 54 pruned nodes, max_depth=10\u001b[0m\n",
      "\u001b[34m[21:55:38] src/tree/updater_prune.cc:74: tree pruning end, 1 roots, 26 extra nodes, 58 pruned nodes, max_depth=10\u001b[0m\n",
      "\u001b[34m[51]#011train-merror:0.107533#011validation-merror:0.159\u001b[0m\n",
      "\u001b[34m[21:55:41] src/tree/updater_prune.cc:74: tree pruning end, 1 roots, 22 extra nodes, 82 pruned nodes, max_depth=10\u001b[0m\n",
      "\u001b[34m[21:55:43] src/tree/updater_prune.cc:74: tree pruning end, 1 roots, 22 extra nodes, 60 pruned nodes, max_depth=10\u001b[0m\n",
      "\u001b[34m[52]#011train-merror:0.106933#011validation-merror:0.1585\u001b[0m\n",
      "\u001b[34m[21:55:46] src/tree/updater_prune.cc:74: tree pruning end, 1 roots, 22 extra nodes, 70 pruned nodes, max_depth=10\u001b[0m\n",
      "\u001b[34m[21:55:48] src/tree/updater_prune.cc:74: tree pruning end, 1 roots, 22 extra nodes, 62 pruned nodes, max_depth=10\u001b[0m\n",
      "\u001b[34m[53]#011train-merror:0.105733#011validation-merror:0.157\u001b[0m\n",
      "\u001b[34m[21:55:50] src/tree/updater_prune.cc:74: tree pruning end, 1 roots, 26 extra nodes, 68 pruned nodes, max_depth=10\u001b[0m\n",
      "\u001b[34m[21:55:53] src/tree/updater_prune.cc:74: tree pruning end, 1 roots, 30 extra nodes, 80 pruned nodes, max_depth=10\u001b[0m\n",
      "\u001b[34m[54]#011train-merror:0.1048#011validation-merror:0.1564\u001b[0m\n",
      "\u001b[34m[21:55:55] src/tree/updater_prune.cc:74: tree pruning end, 1 roots, 20 extra nodes, 80 pruned nodes, max_depth=10\u001b[0m\n",
      "\u001b[34m[21:55:58] src/tree/updater_prune.cc:74: tree pruning end, 1 roots, 20 extra nodes, 50 pruned nodes, max_depth=10\u001b[0m\n",
      "\u001b[34m[55]#011train-merror:0.1044#011validation-merror:0.1553\u001b[0m\n",
      "\u001b[34m[21:56:00] src/tree/updater_prune.cc:74: tree pruning end, 1 roots, 24 extra nodes, 66 pruned nodes, max_depth=10\u001b[0m\n",
      "\u001b[34m[21:56:03] src/tree/updater_prune.cc:74: tree pruning end, 1 roots, 20 extra nodes, 34 pruned nodes, max_depth=10\u001b[0m\n",
      "\u001b[34m[56]#011train-merror:0.103667#011validation-merror:0.1551\u001b[0m\n",
      "\u001b[34m[21:56:05] src/tree/updater_prune.cc:74: tree pruning end, 1 roots, 22 extra nodes, 94 pruned nodes, max_depth=10\u001b[0m\n",
      "\u001b[34m[21:56:07] src/tree/updater_prune.cc:74: tree pruning end, 1 roots, 24 extra nodes, 82 pruned nodes, max_depth=10\u001b[0m\n",
      "\u001b[34m[57]#011train-merror:0.103533#011validation-merror:0.1548\u001b[0m\n",
      "\u001b[34m[21:56:10] src/tree/updater_prune.cc:74: tree pruning end, 1 roots, 20 extra nodes, 80 pruned nodes, max_depth=10\u001b[0m\n",
      "\u001b[34m[21:56:12] src/tree/updater_prune.cc:74: tree pruning end, 1 roots, 20 extra nodes, 54 pruned nodes, max_depth=10\u001b[0m\n",
      "\u001b[34m[58]#011train-merror:0.1024#011validation-merror:0.1542\u001b[0m\n",
      "\u001b[34m[21:56:15] src/tree/updater_prune.cc:74: tree pruning end, 1 roots, 22 extra nodes, 54 pruned nodes, max_depth=10\u001b[0m\n",
      "\u001b[34m[21:56:17] src/tree/updater_prune.cc:74: tree pruning end, 1 roots, 20 extra nodes, 54 pruned nodes, max_depth=10\u001b[0m\n",
      "\u001b[34m[59]#011train-merror:0.102133#011validation-merror:0.1541\u001b[0m\n",
      "\u001b[34m[21:56:20] src/tree/updater_prune.cc:74: tree pruning end, 1 roots, 24 extra nodes, 28 pruned nodes, max_depth=10\u001b[0m\n",
      "\u001b[34m[21:56:22] src/tree/updater_prune.cc:74: tree pruning end, 1 roots, 20 extra nodes, 54 pruned nodes, max_depth=10\u001b[0m\n",
      "\u001b[34m[60]#011train-merror:0.100733#011validation-merror:0.1536\u001b[0m\n",
      "\u001b[34m[21:56:25] src/tree/updater_prune.cc:74: tree pruning end, 1 roots, 20 extra nodes, 108 pruned nodes, max_depth=10\u001b[0m\n",
      "\u001b[34m[21:56:27] src/tree/updater_prune.cc:74: tree pruning end, 1 roots, 20 extra nodes, 60 pruned nodes, max_depth=10\u001b[0m\n",
      "\u001b[34m[61]#011train-merror:0.1#011validation-merror:0.1533\u001b[0m\n",
      "\u001b[34m[21:56:30] src/tree/updater_prune.cc:74: tree pruning end, 1 roots, 20 extra nodes, 80 pruned nodes, max_depth=10\u001b[0m\n",
      "\u001b[34m[21:56:32] src/tree/updater_prune.cc:74: tree pruning end, 1 roots, 20 extra nodes, 86 pruned nodes, max_depth=10\u001b[0m\n",
      "\u001b[34m[62]#011train-merror:0.099733#011validation-merror:0.1521\u001b[0m\n",
      "\u001b[34m[21:56:34] src/tree/updater_prune.cc:74: tree pruning end, 1 roots, 20 extra nodes, 82 pruned nodes, max_depth=10\u001b[0m\n",
      "\u001b[34m[21:56:37] src/tree/updater_prune.cc:74: tree pruning end, 1 roots, 28 extra nodes, 84 pruned nodes, max_depth=10\u001b[0m\n",
      "\u001b[34m[63]#011train-merror:0.099467#011validation-merror:0.1509\u001b[0m\n",
      "\u001b[34m[21:56:39] src/tree/updater_prune.cc:74: tree pruning end, 1 roots, 20 extra nodes, 54 pruned nodes, max_depth=10\u001b[0m\n",
      "\u001b[34m[21:56:42] src/tree/updater_prune.cc:74: tree pruning end, 1 roots, 22 extra nodes, 80 pruned nodes, max_depth=10\u001b[0m\n",
      "\u001b[34m[64]#011train-merror:0.098333#011validation-merror:0.1508\u001b[0m\n",
      "\u001b[34m[21:56:44] src/tree/updater_prune.cc:74: tree pruning end, 1 roots, 20 extra nodes, 54 pruned nodes, max_depth=10\u001b[0m\n",
      "\u001b[34m[21:56:47] src/tree/updater_prune.cc:74: tree pruning end, 1 roots, 34 extra nodes, 62 pruned nodes, max_depth=10\u001b[0m\n",
      "\u001b[34m[65]#011train-merror:0.097467#011validation-merror:0.151\u001b[0m\n",
      "\u001b[34m[21:56:49] src/tree/updater_prune.cc:74: tree pruning end, 1 roots, 22 extra nodes, 48 pruned nodes, max_depth=10\u001b[0m\n",
      "\u001b[34m[21:56:51] src/tree/updater_prune.cc:74: tree pruning end, 1 roots, 20 extra nodes, 84 pruned nodes, max_depth=10\u001b[0m\n",
      "\u001b[34m[66]#011train-merror:0.097133#011validation-merror:0.1505\u001b[0m\n",
      "\u001b[34m[21:56:54] src/tree/updater_prune.cc:74: tree pruning end, 1 roots, 20 extra nodes, 60 pruned nodes, max_depth=10\u001b[0m\n",
      "\u001b[34m[21:56:56] src/tree/updater_prune.cc:74: tree pruning end, 1 roots, 20 extra nodes, 94 pruned nodes, max_depth=10\u001b[0m\n",
      "\u001b[34m[67]#011train-merror:0.097267#011validation-merror:0.1496\u001b[0m\n",
      "\u001b[34m[21:56:59] src/tree/updater_prune.cc:74: tree pruning end, 1 roots, 16 extra nodes, 36 pruned nodes, max_depth=8\u001b[0m\n",
      "\u001b[34m[21:57:01] src/tree/updater_prune.cc:74: tree pruning end, 1 roots, 20 extra nodes, 96 pruned nodes, max_depth=10\u001b[0m\n",
      "\u001b[34m[68]#011train-merror:0.0964#011validation-merror:0.1504\u001b[0m\n",
      "\u001b[34m[21:57:04] src/tree/updater_prune.cc:74: tree pruning end, 1 roots, 20 extra nodes, 68 pruned nodes, max_depth=10\u001b[0m\n",
      "\u001b[34m[21:57:06] src/tree/updater_prune.cc:74: tree pruning end, 1 roots, 20 extra nodes, 38 pruned nodes, max_depth=10\u001b[0m\n",
      "\u001b[34m[69]#011train-merror:0.095667#011validation-merror:0.1504\u001b[0m\n",
      "\u001b[34m[21:57:09] src/tree/updater_prune.cc:74: tree pruning end, 1 roots, 20 extra nodes, 48 pruned nodes, max_depth=10\u001b[0m\n",
      "\u001b[34m[21:57:11] src/tree/updater_prune.cc:74: tree pruning end, 1 roots, 18 extra nodes, 74 pruned nodes, max_depth=9\u001b[0m\n",
      "\u001b[34m[70]#011train-merror:0.094733#011validation-merror:0.1495\u001b[0m\n",
      "\u001b[34m[21:57:14] src/tree/updater_prune.cc:74: tree pruning end, 1 roots, 20 extra nodes, 36 pruned nodes, max_depth=10\u001b[0m\n",
      "\u001b[34m[21:57:16] src/tree/updater_prune.cc:74: tree pruning end, 1 roots, 20 extra nodes, 96 pruned nodes, max_depth=9\u001b[0m\n",
      "\u001b[34m[71]#011train-merror:0.095067#011validation-merror:0.1497\u001b[0m\n",
      "\u001b[34m[21:57:18] src/tree/updater_prune.cc:74: tree pruning end, 1 roots, 18 extra nodes, 56 pruned nodes, max_depth=9\u001b[0m\n",
      "\u001b[34m[21:57:21] src/tree/updater_prune.cc:74: tree pruning end, 1 roots, 16 extra nodes, 72 pruned nodes, max_depth=7\u001b[0m\n",
      "\u001b[34m[72]#011train-merror:0.094467#011validation-merror:0.1484\u001b[0m\n",
      "\u001b[34m[21:57:23] src/tree/updater_prune.cc:74: tree pruning end, 1 roots, 20 extra nodes, 60 pruned nodes, max_depth=10\u001b[0m\n",
      "\u001b[34m[21:57:26] src/tree/updater_prune.cc:74: tree pruning end, 1 roots, 10 extra nodes, 34 pruned nodes, max_depth=5\u001b[0m\n",
      "\u001b[34m[73]#011train-merror:0.094533#011validation-merror:0.1488\u001b[0m\n",
      "\u001b[34m[21:57:28] src/tree/updater_prune.cc:74: tree pruning end, 1 roots, 20 extra nodes, 46 pruned nodes, max_depth=10\u001b[0m\n",
      "\u001b[34m[21:57:31] src/tree/updater_prune.cc:74: tree pruning end, 1 roots, 20 extra nodes, 110 pruned nodes, max_depth=10\u001b[0m\n",
      "\u001b[34m[74]#011train-merror:0.093933#011validation-merror:0.1491\u001b[0m\n",
      "\u001b[34m[21:57:33] src/tree/updater_prune.cc:74: tree pruning end, 1 roots, 14 extra nodes, 88 pruned nodes, max_depth=7\u001b[0m\n",
      "\u001b[34m[21:57:36] src/tree/updater_prune.cc:74: tree pruning end, 1 roots, 20 extra nodes, 38 pruned nodes, max_depth=10\u001b[0m\n",
      "\u001b[34m[75]#011train-merror:0.093#011validation-merror:0.1486\u001b[0m\n",
      "\u001b[34m[21:57:38] src/tree/updater_prune.cc:74: tree pruning end, 1 roots, 18 extra nodes, 72 pruned nodes, max_depth=9\u001b[0m\n",
      "\u001b[34m[21:57:41] src/tree/updater_prune.cc:74: tree pruning end, 1 roots, 22 extra nodes, 42 pruned nodes, max_depth=10\u001b[0m\n",
      "\u001b[34m[76]#011train-merror:0.092067#011validation-merror:0.1478\u001b[0m\n",
      "\u001b[34m[21:57:43] src/tree/updater_prune.cc:74: tree pruning end, 1 roots, 22 extra nodes, 82 pruned nodes, max_depth=10\u001b[0m\n",
      "\u001b[34m[21:57:45] src/tree/updater_prune.cc:74: tree pruning end, 1 roots, 18 extra nodes, 54 pruned nodes, max_depth=9\u001b[0m\n",
      "\u001b[34m[77]#011train-merror:0.092067#011validation-merror:0.1484\u001b[0m\n"
     ]
    },
    {
     "name": "stdout",
     "output_type": "stream",
     "text": [
      "\u001b[34m[21:57:48] src/tree/updater_prune.cc:74: tree pruning end, 1 roots, 18 extra nodes, 26 pruned nodes, max_depth=9\u001b[0m\n",
      "\u001b[34m[21:57:50] src/tree/updater_prune.cc:74: tree pruning end, 1 roots, 16 extra nodes, 80 pruned nodes, max_depth=8\u001b[0m\n",
      "\u001b[34m[78]#011train-merror:0.0918#011validation-merror:0.1472\u001b[0m\n",
      "\u001b[34m[21:57:53] src/tree/updater_prune.cc:74: tree pruning end, 1 roots, 18 extra nodes, 42 pruned nodes, max_depth=9\u001b[0m\n",
      "\u001b[34m[21:57:55] src/tree/updater_prune.cc:74: tree pruning end, 1 roots, 18 extra nodes, 30 pruned nodes, max_depth=9\u001b[0m\n",
      "\u001b[34m[79]#011train-merror:0.091#011validation-merror:0.1468\u001b[0m\n",
      "\u001b[34m[21:57:58] src/tree/updater_prune.cc:74: tree pruning end, 1 roots, 16 extra nodes, 130 pruned nodes, max_depth=7\u001b[0m\n",
      "\u001b[34m[21:58:00] src/tree/updater_prune.cc:74: tree pruning end, 1 roots, 16 extra nodes, 60 pruned nodes, max_depth=8\u001b[0m\n",
      "\u001b[34m[80]#011train-merror:0.090667#011validation-merror:0.1467\u001b[0m\n",
      "\u001b[34m[21:58:03] src/tree/updater_prune.cc:74: tree pruning end, 1 roots, 26 extra nodes, 94 pruned nodes, max_depth=10\u001b[0m\n",
      "\u001b[34m[21:58:05] src/tree/updater_prune.cc:74: tree pruning end, 1 roots, 18 extra nodes, 58 pruned nodes, max_depth=9\u001b[0m\n",
      "\u001b[34m[81]#011train-merror:0.0902#011validation-merror:0.147\u001b[0m\n",
      "\u001b[34m[21:58:08] src/tree/updater_prune.cc:74: tree pruning end, 1 roots, 20 extra nodes, 22 pruned nodes, max_depth=10\u001b[0m\n",
      "\u001b[34m[21:58:10] src/tree/updater_prune.cc:74: tree pruning end, 1 roots, 20 extra nodes, 72 pruned nodes, max_depth=10\u001b[0m\n",
      "\u001b[34m[82]#011train-merror:0.0896#011validation-merror:0.1473\u001b[0m\n",
      "\u001b[34m[21:58:13] src/tree/updater_prune.cc:74: tree pruning end, 1 roots, 18 extra nodes, 36 pruned nodes, max_depth=9\u001b[0m\n",
      "\u001b[34m[21:58:15] src/tree/updater_prune.cc:74: tree pruning end, 1 roots, 0 extra nodes, 52 pruned nodes, max_depth=0\u001b[0m\n",
      "\u001b[34m[83]#011train-merror:0.089667#011validation-merror:0.147\u001b[0m\n",
      "\u001b[34m[21:58:17] src/tree/updater_prune.cc:74: tree pruning end, 1 roots, 20 extra nodes, 68 pruned nodes, max_depth=10\u001b[0m\n",
      "\u001b[34m[21:58:20] src/tree/updater_prune.cc:74: tree pruning end, 1 roots, 18 extra nodes, 104 pruned nodes, max_depth=6\u001b[0m\n",
      "\u001b[34m[84]#011train-merror:0.089333#011validation-merror:0.1461\u001b[0m\n",
      "\u001b[34m[21:58:22] src/tree/updater_prune.cc:74: tree pruning end, 1 roots, 0 extra nodes, 38 pruned nodes, max_depth=0\u001b[0m\n",
      "\u001b[34m[21:58:25] src/tree/updater_prune.cc:74: tree pruning end, 1 roots, 4 extra nodes, 100 pruned nodes, max_depth=2\u001b[0m\n",
      "\u001b[34m[85]#011train-merror:0.089467#011validation-merror:0.1461\u001b[0m\n",
      "\u001b[34m[21:58:27] src/tree/updater_prune.cc:74: tree pruning end, 1 roots, 12 extra nodes, 58 pruned nodes, max_depth=6\u001b[0m\n",
      "\u001b[34m[21:58:29] src/tree/updater_prune.cc:74: tree pruning end, 1 roots, 2 extra nodes, 36 pruned nodes, max_depth=1\u001b[0m\n",
      "\u001b[34m[86]#011train-merror:0.089133#011validation-merror:0.1455\u001b[0m\n",
      "\u001b[34m[21:58:32] src/tree/updater_prune.cc:74: tree pruning end, 1 roots, 20 extra nodes, 44 pruned nodes, max_depth=10\u001b[0m\n",
      "\u001b[34m[21:58:34] src/tree/updater_prune.cc:74: tree pruning end, 1 roots, 2 extra nodes, 82 pruned nodes, max_depth=1\u001b[0m\n",
      "\u001b[34m[87]#011train-merror:0.088933#011validation-merror:0.145\u001b[0m\n",
      "\u001b[34m[21:58:37] src/tree/updater_prune.cc:74: tree pruning end, 1 roots, 14 extra nodes, 52 pruned nodes, max_depth=7\u001b[0m\n",
      "\u001b[34m[21:58:39] src/tree/updater_prune.cc:74: tree pruning end, 1 roots, 0 extra nodes, 32 pruned nodes, max_depth=0\u001b[0m\n",
      "\u001b[34m[88]#011train-merror:0.088533#011validation-merror:0.1453\u001b[0m\n",
      "\u001b[34m[21:58:42] src/tree/updater_prune.cc:74: tree pruning end, 1 roots, 20 extra nodes, 60 pruned nodes, max_depth=10\u001b[0m\n",
      "\u001b[34m[21:58:44] src/tree/updater_prune.cc:74: tree pruning end, 1 roots, 20 extra nodes, 34 pruned nodes, max_depth=10\u001b[0m\n",
      "\u001b[34m[89]#011train-merror:0.087933#011validation-merror:0.1445\u001b[0m\n",
      "\u001b[34m[21:58:47] src/tree/updater_prune.cc:74: tree pruning end, 1 roots, 6 extra nodes, 30 pruned nodes, max_depth=3\u001b[0m\n",
      "\u001b[34m[21:58:49] src/tree/updater_prune.cc:74: tree pruning end, 1 roots, 2 extra nodes, 52 pruned nodes, max_depth=1\u001b[0m\n",
      "\u001b[34m[90]#011train-merror:0.0878#011validation-merror:0.1445\u001b[0m\n",
      "\u001b[34m[21:58:52] src/tree/updater_prune.cc:74: tree pruning end, 1 roots, 24 extra nodes, 66 pruned nodes, max_depth=9\u001b[0m\n",
      "\u001b[34m[21:58:54] src/tree/updater_prune.cc:74: tree pruning end, 1 roots, 2 extra nodes, 94 pruned nodes, max_depth=1\u001b[0m\n",
      "\u001b[34m[91]#011train-merror:0.086933#011validation-merror:0.1443\u001b[0m\n",
      "\u001b[34m[21:58:56] src/tree/updater_prune.cc:74: tree pruning end, 1 roots, 10 extra nodes, 72 pruned nodes, max_depth=5\u001b[0m\n",
      "\u001b[34m[21:58:59] src/tree/updater_prune.cc:74: tree pruning end, 1 roots, 2 extra nodes, 52 pruned nodes, max_depth=1\u001b[0m\n",
      "\u001b[34m[92]#011train-merror:0.087133#011validation-merror:0.1445\u001b[0m\n",
      "\u001b[34m[21:59:01] src/tree/updater_prune.cc:74: tree pruning end, 1 roots, 18 extra nodes, 48 pruned nodes, max_depth=8\u001b[0m\n",
      "\u001b[34m[21:59:04] src/tree/updater_prune.cc:74: tree pruning end, 1 roots, 12 extra nodes, 38 pruned nodes, max_depth=6\u001b[0m\n",
      "\u001b[34m[93]#011train-merror:0.087#011validation-merror:0.1445\u001b[0m\n",
      "\u001b[34m[21:59:06] src/tree/updater_prune.cc:74: tree pruning end, 1 roots, 22 extra nodes, 44 pruned nodes, max_depth=10\u001b[0m\n",
      "\u001b[34m[21:59:09] src/tree/updater_prune.cc:74: tree pruning end, 1 roots, 2 extra nodes, 46 pruned nodes, max_depth=1\u001b[0m\n",
      "\u001b[34m[94]#011train-merror:0.087#011validation-merror:0.1439\u001b[0m\n",
      "\u001b[34m[21:59:11] src/tree/updater_prune.cc:74: tree pruning end, 1 roots, 0 extra nodes, 74 pruned nodes, max_depth=0\u001b[0m\n",
      "\u001b[34m[21:59:13] src/tree/updater_prune.cc:74: tree pruning end, 1 roots, 0 extra nodes, 92 pruned nodes, max_depth=0\u001b[0m\n",
      "\u001b[34m[95]#011train-merror:0.087#011validation-merror:0.1439\u001b[0m\n",
      "\u001b[34m[21:59:16] src/tree/updater_prune.cc:74: tree pruning end, 1 roots, 0 extra nodes, 42 pruned nodes, max_depth=0\u001b[0m\n",
      "\u001b[34m[21:59:18] src/tree/updater_prune.cc:74: tree pruning end, 1 roots, 20 extra nodes, 56 pruned nodes, max_depth=10\u001b[0m\n",
      "\u001b[34m[96]#011train-merror:0.086333#011validation-merror:0.1439\u001b[0m\n",
      "\u001b[34m[21:59:21] src/tree/updater_prune.cc:74: tree pruning end, 1 roots, 0 extra nodes, 56 pruned nodes, max_depth=0\u001b[0m\n",
      "\u001b[34m[21:59:23] src/tree/updater_prune.cc:74: tree pruning end, 1 roots, 0 extra nodes, 46 pruned nodes, max_depth=0\u001b[0m\n",
      "\u001b[34m[97]#011train-merror:0.086333#011validation-merror:0.1441\u001b[0m\n",
      "\u001b[34m[21:59:26] src/tree/updater_prune.cc:74: tree pruning end, 1 roots, 12 extra nodes, 68 pruned nodes, max_depth=6\u001b[0m\n",
      "\u001b[34m[21:59:28] src/tree/updater_prune.cc:74: tree pruning end, 1 roots, 14 extra nodes, 56 pruned nodes, max_depth=7\u001b[0m\n",
      "\u001b[34m[98]#011train-merror:0.086333#011validation-merror:0.1442\u001b[0m\n",
      "\u001b[34m[21:59:31] src/tree/updater_prune.cc:74: tree pruning end, 1 roots, 20 extra nodes, 64 pruned nodes, max_depth=10\u001b[0m\n",
      "\u001b[34m[21:59:33] src/tree/updater_prune.cc:74: tree pruning end, 1 roots, 18 extra nodes, 36 pruned nodes, max_depth=9\u001b[0m\n",
      "\u001b[34m[99]#011train-merror:0.086333#011validation-merror:0.1446\u001b[0m\n",
      "\u001b[34m[21:59:35] src/tree/updater_prune.cc:74: tree pruning end, 1 roots, 0 extra nodes, 72 pruned nodes, max_depth=0\u001b[0m\n",
      "\u001b[34m[21:59:38] src/tree/updater_prune.cc:74: tree pruning end, 1 roots, 6 extra nodes, 50 pruned nodes, max_depth=3\u001b[0m\n",
      "\u001b[34m[100]#011train-merror:0.086067#011validation-merror:0.1445\u001b[0m\n",
      "\u001b[34m[21:59:40] src/tree/updater_prune.cc:74: tree pruning end, 1 roots, 16 extra nodes, 52 pruned nodes, max_depth=8\u001b[0m\n",
      "\u001b[34m[21:59:43] src/tree/updater_prune.cc:74: tree pruning end, 1 roots, 2 extra nodes, 38 pruned nodes, max_depth=1\u001b[0m\n",
      "\u001b[34m[101]#011train-merror:0.0862#011validation-merror:0.1446\u001b[0m\n",
      "\u001b[34m[21:59:45] src/tree/updater_prune.cc:74: tree pruning end, 1 roots, 16 extra nodes, 24 pruned nodes, max_depth=8\u001b[0m\n",
      "\u001b[34m[21:59:48] src/tree/updater_prune.cc:74: tree pruning end, 1 roots, 0 extra nodes, 68 pruned nodes, max_depth=0\u001b[0m\n",
      "\u001b[34m[102]#011train-merror:0.085933#011validation-merror:0.1446\u001b[0m\n",
      "\u001b[34m[21:59:50] src/tree/updater_prune.cc:74: tree pruning end, 1 roots, 22 extra nodes, 44 pruned nodes, max_depth=10\u001b[0m\n",
      "\u001b[34m[21:59:53] src/tree/updater_prune.cc:74: tree pruning end, 1 roots, 0 extra nodes, 68 pruned nodes, max_depth=0\u001b[0m\n",
      "\u001b[34m[103]#011train-merror:0.085333#011validation-merror:0.1436\u001b[0m\n",
      "\u001b[34m[21:59:55] src/tree/updater_prune.cc:74: tree pruning end, 1 roots, 12 extra nodes, 102 pruned nodes, max_depth=6\u001b[0m\n",
      "\u001b[34m[21:59:57] src/tree/updater_prune.cc:74: tree pruning end, 1 roots, 2 extra nodes, 42 pruned nodes, max_depth=1\u001b[0m\n",
      "\u001b[34m[104]#011train-merror:0.0852#011validation-merror:0.1441\u001b[0m\n",
      "\u001b[34m[22:00:00] src/tree/updater_prune.cc:74: tree pruning end, 1 roots, 0 extra nodes, 54 pruned nodes, max_depth=0\u001b[0m\n",
      "\u001b[34m[22:00:02] src/tree/updater_prune.cc:74: tree pruning end, 1 roots, 0 extra nodes, 68 pruned nodes, max_depth=0\u001b[0m\n",
      "\u001b[34m[105]#011train-merror:0.0852#011validation-merror:0.1441\u001b[0m\n"
     ]
    },
    {
     "name": "stdout",
     "output_type": "stream",
     "text": [
      "\u001b[34m[22:00:05] src/tree/updater_prune.cc:74: tree pruning end, 1 roots, 0 extra nodes, 60 pruned nodes, max_depth=0\u001b[0m\n",
      "\u001b[34m[22:00:07] src/tree/updater_prune.cc:74: tree pruning end, 1 roots, 18 extra nodes, 38 pruned nodes, max_depth=9\u001b[0m\n",
      "\u001b[34m[106]#011train-merror:0.085133#011validation-merror:0.1438\u001b[0m\n",
      "\u001b[34m[22:00:10] src/tree/updater_prune.cc:74: tree pruning end, 1 roots, 2 extra nodes, 114 pruned nodes, max_depth=1\u001b[0m\n",
      "\u001b[34m[22:00:12] src/tree/updater_prune.cc:74: tree pruning end, 1 roots, 0 extra nodes, 48 pruned nodes, max_depth=0\u001b[0m\n",
      "\u001b[34m[107]#011train-merror:0.085067#011validation-merror:0.1436\u001b[0m\n",
      "\u001b[34m[22:00:15] src/tree/updater_prune.cc:74: tree pruning end, 1 roots, 0 extra nodes, 52 pruned nodes, max_depth=0\u001b[0m\n",
      "\u001b[34m[22:00:17] src/tree/updater_prune.cc:74: tree pruning end, 1 roots, 14 extra nodes, 54 pruned nodes, max_depth=7\u001b[0m\n",
      "\u001b[34m[108]#011train-merror:0.085267#011validation-merror:0.1437\u001b[0m\n",
      "\u001b[34m[22:00:20] src/tree/updater_prune.cc:74: tree pruning end, 1 roots, 22 extra nodes, 18 pruned nodes, max_depth=10\u001b[0m\n",
      "\u001b[34m[22:00:22] src/tree/updater_prune.cc:74: tree pruning end, 1 roots, 0 extra nodes, 44 pruned nodes, max_depth=0\u001b[0m\n",
      "\u001b[34m[109]#011train-merror:0.085267#011validation-merror:0.1436\u001b[0m\n",
      "\u001b[34m[22:00:25] src/tree/updater_prune.cc:74: tree pruning end, 1 roots, 16 extra nodes, 46 pruned nodes, max_depth=8\u001b[0m\n",
      "\u001b[34m[22:00:27] src/tree/updater_prune.cc:74: tree pruning end, 1 roots, 2 extra nodes, 34 pruned nodes, max_depth=1\u001b[0m\n",
      "\u001b[34m[110]#011train-merror:0.085267#011validation-merror:0.1436\u001b[0m\n",
      "\u001b[34m[22:00:29] src/tree/updater_prune.cc:74: tree pruning end, 1 roots, 20 extra nodes, 80 pruned nodes, max_depth=10\u001b[0m\n",
      "\u001b[34m[22:00:32] src/tree/updater_prune.cc:74: tree pruning end, 1 roots, 0 extra nodes, 34 pruned nodes, max_depth=0\u001b[0m\n",
      "\u001b[34m[111]#011train-merror:0.085067#011validation-merror:0.143\u001b[0m\n",
      "\u001b[34m[22:00:34] src/tree/updater_prune.cc:74: tree pruning end, 1 roots, 0 extra nodes, 60 pruned nodes, max_depth=0\u001b[0m\n",
      "\u001b[34m[22:00:37] src/tree/updater_prune.cc:74: tree pruning end, 1 roots, 0 extra nodes, 106 pruned nodes, max_depth=0\u001b[0m\n",
      "\u001b[34m[112]#011train-merror:0.085067#011validation-merror:0.143\u001b[0m\n",
      "\u001b[34m[22:00:39] src/tree/updater_prune.cc:74: tree pruning end, 1 roots, 0 extra nodes, 50 pruned nodes, max_depth=0\u001b[0m\n",
      "\u001b[34m[22:00:42] src/tree/updater_prune.cc:74: tree pruning end, 1 roots, 14 extra nodes, 74 pruned nodes, max_depth=7\u001b[0m\n",
      "\u001b[34m[113]#011train-merror:0.0854#011validation-merror:0.1425\u001b[0m\n",
      "\u001b[34m[22:00:44] src/tree/updater_prune.cc:74: tree pruning end, 1 roots, 14 extra nodes, 92 pruned nodes, max_depth=7\u001b[0m\n",
      "\u001b[34m[22:00:46] src/tree/updater_prune.cc:74: tree pruning end, 1 roots, 16 extra nodes, 60 pruned nodes, max_depth=8\u001b[0m\n",
      "\u001b[34m[114]#011train-merror:0.084933#011validation-merror:0.1429\u001b[0m\n",
      "\u001b[34m[22:00:49] src/tree/updater_prune.cc:74: tree pruning end, 1 roots, 0 extra nodes, 44 pruned nodes, max_depth=0\u001b[0m\n",
      "\u001b[34m[22:00:51] src/tree/updater_prune.cc:74: tree pruning end, 1 roots, 16 extra nodes, 106 pruned nodes, max_depth=8\u001b[0m\n",
      "\u001b[34m[115]#011train-merror:0.084933#011validation-merror:0.1429\u001b[0m\n",
      "\u001b[34m[22:00:54] src/tree/updater_prune.cc:74: tree pruning end, 1 roots, 0 extra nodes, 42 pruned nodes, max_depth=0\u001b[0m\n",
      "\u001b[34m[22:00:56] src/tree/updater_prune.cc:74: tree pruning end, 1 roots, 0 extra nodes, 36 pruned nodes, max_depth=0\u001b[0m\n",
      "\u001b[34m[116]#011train-merror:0.084933#011validation-merror:0.143\u001b[0m\n",
      "\u001b[34m[22:00:59] src/tree/updater_prune.cc:74: tree pruning end, 1 roots, 0 extra nodes, 64 pruned nodes, max_depth=0\u001b[0m\n",
      "\u001b[34m[22:01:01] src/tree/updater_prune.cc:74: tree pruning end, 1 roots, 10 extra nodes, 74 pruned nodes, max_depth=5\u001b[0m\n",
      "\u001b[34m[117]#011train-merror:0.085#011validation-merror:0.1435\u001b[0m\n",
      "\u001b[34m[22:01:04] src/tree/updater_prune.cc:74: tree pruning end, 1 roots, 0 extra nodes, 32 pruned nodes, max_depth=0\u001b[0m\n",
      "\u001b[34m[22:01:06] src/tree/updater_prune.cc:74: tree pruning end, 1 roots, 0 extra nodes, 62 pruned nodes, max_depth=0\u001b[0m\n",
      "\u001b[34m[118]#011train-merror:0.085#011validation-merror:0.1435\u001b[0m\n",
      "\u001b[34m[22:01:08] src/tree/updater_prune.cc:74: tree pruning end, 1 roots, 0 extra nodes, 24 pruned nodes, max_depth=0\u001b[0m\n",
      "\u001b[34m[22:01:11] src/tree/updater_prune.cc:74: tree pruning end, 1 roots, 0 extra nodes, 92 pruned nodes, max_depth=0\u001b[0m\n",
      "\u001b[34m[119]#011train-merror:0.085#011validation-merror:0.1435\u001b[0m\n",
      "\u001b[34m[22:01:13] src/tree/updater_prune.cc:74: tree pruning end, 1 roots, 0 extra nodes, 60 pruned nodes, max_depth=0\u001b[0m\n",
      "\u001b[34m[22:01:16] src/tree/updater_prune.cc:74: tree pruning end, 1 roots, 0 extra nodes, 42 pruned nodes, max_depth=0\u001b[0m\n",
      "\u001b[34m[120]#011train-merror:0.084933#011validation-merror:0.1435\u001b[0m\n",
      "\u001b[34m[22:01:18] src/tree/updater_prune.cc:74: tree pruning end, 1 roots, 0 extra nodes, 52 pruned nodes, max_depth=0\u001b[0m\n",
      "\u001b[34m[22:01:20] src/tree/updater_prune.cc:74: tree pruning end, 1 roots, 0 extra nodes, 38 pruned nodes, max_depth=0\u001b[0m\n",
      "\u001b[34m[121]#011train-merror:0.084867#011validation-merror:0.1434\u001b[0m\n",
      "\u001b[34m[22:01:23] src/tree/updater_prune.cc:74: tree pruning end, 1 roots, 14 extra nodes, 46 pruned nodes, max_depth=7\u001b[0m\n",
      "\u001b[34m[22:01:25] src/tree/updater_prune.cc:74: tree pruning end, 1 roots, 0 extra nodes, 58 pruned nodes, max_depth=0\u001b[0m\n",
      "\u001b[34m[122]#011train-merror:0.084733#011validation-merror:0.143\u001b[0m\n",
      "\u001b[34m[22:01:28] src/tree/updater_prune.cc:74: tree pruning end, 1 roots, 14 extra nodes, 50 pruned nodes, max_depth=7\u001b[0m\n",
      "\u001b[34m[22:01:30] src/tree/updater_prune.cc:74: tree pruning end, 1 roots, 0 extra nodes, 46 pruned nodes, max_depth=0\u001b[0m\n",
      "\u001b[34m[123]#011train-merror:0.0842#011validation-merror:0.1427\u001b[0m\n",
      "\u001b[34mStopping. Best iteration:\u001b[0m\n",
      "\u001b[34m[113]#011train-merror:0.0854#011validation-merror:0.1425\n",
      "\u001b[0m\n",
      "\n",
      "2020-05-02 22:01:40 Uploading - Uploading generated training model\n",
      "2020-05-02 22:01:40 Completed - Training job completed\n",
      "Training seconds: 662\n",
      "Billable seconds: 662\n"
     ]
    }
   ],
   "source": [
    "xgb.fit({'train': s3_input_train, 'validation': s3_input_validation})"
   ]
  },
  {
   "cell_type": "markdown",
   "metadata": {},
   "source": [
    "### (TODO) Testing the model\n",
    "\n",
    "Now that we've fit our XGBoost model, it's time to see how well it performs. To do this we will use SageMakers Batch Transform functionality. Batch Transform is a convenient way to perform inference on a large dataset in a way that is not realtime. That is, we don't necessarily need to use our model's results immediately and instead we can peform inference on a large number of samples. An example of this in industry might be peforming an end of month report. This method of inference can also be useful to us as it means to can perform inference on our entire test set. \n",
    "\n",
    "To perform a Batch Transformation we need to first create a transformer objects from our trained estimator object."
   ]
  },
  {
   "cell_type": "code",
   "execution_count": 27,
   "metadata": {},
   "outputs": [],
   "source": [
    "# TODO: Create a transformer object from the trained model. Using an instance count of 1 and an instance type of ml.m4.xlarge\n",
    "#       should be more than enough.\n",
    "xgb_transformer = xgb.transformer(instance_count = 1, instance_type = 'ml.m4.xlarge')"
   ]
  },
  {
   "cell_type": "markdown",
   "metadata": {},
   "source": [
    "Next we actually perform the transform job. When doing so we need to make sure to specify the type of data we are sending so that it is serialized correctly in the background. In our case we are providing our model with csv data so we specify `text/csv`. Also, if the test data that we have provided is too large to process all at once then we need to specify how the data file should be split up. Since each line is a single entry in our data set we tell SageMaker that it can split the input on each line."
   ]
  },
  {
   "cell_type": "code",
   "execution_count": 33,
   "metadata": {},
   "outputs": [],
   "source": [
    "# TODO: Start the transform job. Make sure to specify the content type and the split type of the test data.\n",
    "xgb_transformer.transform(test_location,content_type='text/csv',split_type='Line')"
   ]
  },
  {
   "cell_type": "markdown",
   "metadata": {},
   "source": [
    "Currently the transform job is running but it is doing so in the background. Since we wish to wait until the transform job is done and we would like a bit of feedback we can run the `wait()` method."
   ]
  },
  {
   "cell_type": "code",
   "execution_count": 34,
   "metadata": {
    "scrolled": false
   },
   "outputs": [
    {
     "name": "stdout",
     "output_type": "stream",
     "text": [
      ".....................\u001b[34mArguments: serve\u001b[0m\n",
      "\u001b[34m[2020-05-02 22:21:35 +0000] [1] [INFO] Starting gunicorn 19.7.1\u001b[0m\n",
      "\u001b[34m[2020-05-02 22:21:35 +0000] [1] [INFO] Listening at: http://0.0.0.0:8080 (1)\u001b[0m\n",
      "\u001b[34m[2020-05-02 22:21:35 +0000] [1] [INFO] Using worker: gevent\u001b[0m\n",
      "\u001b[34m[2020-05-02 22:21:35 +0000] [37] [INFO] Booting worker with pid: 37\u001b[0m\n",
      "\u001b[34m[2020-05-02 22:21:35 +0000] [38] [INFO] Booting worker with pid: 38\u001b[0m\n",
      "\u001b[34m[2020-05-02 22:21:35 +0000] [39] [INFO] Booting worker with pid: 39\u001b[0m\n",
      "\u001b[34m[2020-05-02 22:21:35 +0000] [40] [INFO] Booting worker with pid: 40\u001b[0m\n",
      "\u001b[34m[2020-05-02:22:21:35:INFO] Model loaded successfully for worker : 37\u001b[0m\n",
      "\u001b[34m[2020-05-02:22:21:35:INFO] Model loaded successfully for worker : 38\u001b[0m\n",
      "\u001b[34m[2020-05-02:22:21:35:INFO] Model loaded successfully for worker : 39\u001b[0m\n",
      "\u001b[34m[2020-05-02:22:21:35:INFO] Model loaded successfully for worker : 40\u001b[0m\n",
      "\u001b[32m2020-05-02T22:21:54.276:[sagemaker logs]: MaxConcurrentTransforms=4, MaxPayloadInMB=6, BatchStrategy=MULTI_RECORD\u001b[0m\n",
      "\u001b[34m[2020-05-02:22:21:56:INFO] Sniff delimiter as ','\u001b[0m\n",
      "\u001b[34m[2020-05-02:22:21:56:INFO] Determined delimiter of CSV input is ','\u001b[0m\n",
      "\u001b[34m[2020-05-02:22:21:56:INFO] Sniff delimiter as ','\u001b[0m\n",
      "\u001b[34m[2020-05-02:22:21:56:INFO] Determined delimiter of CSV input is ','\u001b[0m\n",
      "\u001b[35m[2020-05-02:22:21:56:INFO] Sniff delimiter as ','\u001b[0m\n",
      "\u001b[35m[2020-05-02:22:21:56:INFO] Determined delimiter of CSV input is ','\u001b[0m\n",
      "\u001b[35m[2020-05-02:22:21:56:INFO] Sniff delimiter as ','\u001b[0m\n",
      "\u001b[35m[2020-05-02:22:21:56:INFO] Determined delimiter of CSV input is ','\u001b[0m\n",
      "\u001b[34m[2020-05-02:22:21:57:INFO] Sniff delimiter as ','\u001b[0m\n",
      "\u001b[34m[2020-05-02:22:21:57:INFO] Determined delimiter of CSV input is ','\u001b[0m\n",
      "\u001b[34m[2020-05-02:22:21:57:INFO] Sniff delimiter as ','\u001b[0m\n",
      "\u001b[34m[2020-05-02:22:21:57:INFO] Determined delimiter of CSV input is ','\u001b[0m\n",
      "\u001b[35m[2020-05-02:22:21:57:INFO] Sniff delimiter as ','\u001b[0m\n",
      "\u001b[35m[2020-05-02:22:21:57:INFO] Determined delimiter of CSV input is ','\u001b[0m\n",
      "\u001b[35m[2020-05-02:22:21:57:INFO] Sniff delimiter as ','\u001b[0m\n",
      "\u001b[35m[2020-05-02:22:21:57:INFO] Determined delimiter of CSV input is ','\u001b[0m\n",
      "\u001b[34m[2020-05-02:22:21:59:INFO] Sniff delimiter as ','\u001b[0m\n",
      "\u001b[34m[2020-05-02:22:21:59:INFO] Determined delimiter of CSV input is ','\u001b[0m\n",
      "\u001b[35m[2020-05-02:22:21:59:INFO] Sniff delimiter as ','\u001b[0m\n",
      "\u001b[35m[2020-05-02:22:21:59:INFO] Determined delimiter of CSV input is ','\u001b[0m\n",
      "\u001b[34m[2020-05-02:22:21:59:INFO] Sniff delimiter as ','\u001b[0m\n",
      "\u001b[34m[2020-05-02:22:21:59:INFO] Determined delimiter of CSV input is ','\u001b[0m\n",
      "\u001b[34m[2020-05-02:22:21:59:INFO] Sniff delimiter as ','\u001b[0m\n",
      "\u001b[34m[2020-05-02:22:21:59:INFO] Determined delimiter of CSV input is ','\u001b[0m\n",
      "\u001b[34m[2020-05-02:22:21:59:INFO] Sniff delimiter as ','\u001b[0m\n",
      "\u001b[34m[2020-05-02:22:21:59:INFO] Determined delimiter of CSV input is ','\u001b[0m\n",
      "\u001b[35m[2020-05-02:22:21:59:INFO] Sniff delimiter as ','\u001b[0m\n",
      "\u001b[35m[2020-05-02:22:21:59:INFO] Determined delimiter of CSV input is ','\u001b[0m\n",
      "\u001b[35m[2020-05-02:22:21:59:INFO] Sniff delimiter as ','\u001b[0m\n",
      "\u001b[35m[2020-05-02:22:21:59:INFO] Determined delimiter of CSV input is ','\u001b[0m\n",
      "\u001b[35m[2020-05-02:22:21:59:INFO] Sniff delimiter as ','\u001b[0m\n",
      "\u001b[35m[2020-05-02:22:21:59:INFO] Determined delimiter of CSV input is ','\u001b[0m\n",
      "\u001b[34m[2020-05-02:22:22:01:INFO] Sniff delimiter as ','\u001b[0m\n",
      "\u001b[34m[2020-05-02:22:22:01:INFO] Determined delimiter of CSV input is ','\u001b[0m\n",
      "\u001b[34m[2020-05-02:22:22:01:INFO] Sniff delimiter as ','\u001b[0m\n",
      "\u001b[34m[2020-05-02:22:22:01:INFO] Determined delimiter of CSV input is ','\u001b[0m\n",
      "\u001b[34m[2020-05-02:22:22:02:INFO] Sniff delimiter as ','\u001b[0m\n",
      "\u001b[34m[2020-05-02:22:22:02:INFO] Determined delimiter of CSV input is ','\u001b[0m\n",
      "\u001b[34m[2020-05-02:22:22:02:INFO] Sniff delimiter as ','\u001b[0m\n",
      "\u001b[34m[2020-05-02:22:22:02:INFO] Determined delimiter of CSV input is ','\u001b[0m\n",
      "\u001b[35m[2020-05-02:22:22:01:INFO] Sniff delimiter as ','\u001b[0m\n",
      "\u001b[35m[2020-05-02:22:22:01:INFO] Determined delimiter of CSV input is ','\u001b[0m\n",
      "\u001b[35m[2020-05-02:22:22:01:INFO] Sniff delimiter as ','\u001b[0m\n",
      "\u001b[35m[2020-05-02:22:22:01:INFO] Determined delimiter of CSV input is ','\u001b[0m\n",
      "\u001b[35m[2020-05-02:22:22:02:INFO] Sniff delimiter as ','\u001b[0m\n",
      "\u001b[35m[2020-05-02:22:22:02:INFO] Determined delimiter of CSV input is ','\u001b[0m\n",
      "\u001b[35m[2020-05-02:22:22:02:INFO] Sniff delimiter as ','\u001b[0m\n",
      "\u001b[35m[2020-05-02:22:22:02:INFO] Determined delimiter of CSV input is ','\u001b[0m\n",
      "\u001b[34m[2020-05-02:22:22:04:INFO] Sniff delimiter as ','\u001b[0m\n",
      "\u001b[34m[2020-05-02:22:22:04:INFO] Determined delimiter of CSV input is ','\u001b[0m\n",
      "\u001b[34m[2020-05-02:22:22:04:INFO] Sniff delimiter as ','\u001b[0m\n",
      "\u001b[34m[2020-05-02:22:22:04:INFO] Determined delimiter of CSV input is ','\u001b[0m\n",
      "\u001b[35m[2020-05-02:22:22:04:INFO] Sniff delimiter as ','\u001b[0m\n",
      "\u001b[35m[2020-05-02:22:22:04:INFO] Determined delimiter of CSV input is ','\u001b[0m\n",
      "\u001b[35m[2020-05-02:22:22:04:INFO] Sniff delimiter as ','\u001b[0m\n",
      "\u001b[35m[2020-05-02:22:22:04:INFO] Determined delimiter of CSV input is ','\u001b[0m\n",
      "\u001b[34m[2020-05-02:22:22:04:INFO] Sniff delimiter as ','\u001b[0m\n",
      "\u001b[34m[2020-05-02:22:22:04:INFO] Determined delimiter of CSV input is ','\u001b[0m\n",
      "\u001b[34m[2020-05-02:22:22:04:INFO] Sniff delimiter as ','\u001b[0m\n",
      "\u001b[34m[2020-05-02:22:22:04:INFO] Determined delimiter of CSV input is ','\u001b[0m\n",
      "\u001b[35m[2020-05-02:22:22:04:INFO] Sniff delimiter as ','\u001b[0m\n",
      "\u001b[35m[2020-05-02:22:22:04:INFO] Determined delimiter of CSV input is ','\u001b[0m\n",
      "\u001b[35m[2020-05-02:22:22:04:INFO] Sniff delimiter as ','\u001b[0m\n",
      "\u001b[35m[2020-05-02:22:22:04:INFO] Determined delimiter of CSV input is ','\u001b[0m\n",
      "\n",
      "\u001b[34m[2020-05-02:22:22:06:INFO] Sniff delimiter as ','\u001b[0m\n",
      "\u001b[34m[2020-05-02:22:22:06:INFO] Determined delimiter of CSV input is ','\u001b[0m\n",
      "\u001b[34m[2020-05-02:22:22:07:INFO] Sniff delimiter as ','\u001b[0m\n",
      "\u001b[34m[2020-05-02:22:22:07:INFO] Determined delimiter of CSV input is ','\u001b[0m\n",
      "\u001b[35m[2020-05-02:22:22:06:INFO] Sniff delimiter as ','\u001b[0m\n",
      "\u001b[35m[2020-05-02:22:22:06:INFO] Determined delimiter of CSV input is ','\u001b[0m\n",
      "\u001b[35m[2020-05-02:22:22:07:INFO] Sniff delimiter as ','\u001b[0m\n",
      "\u001b[35m[2020-05-02:22:22:07:INFO] Determined delimiter of CSV input is ','\u001b[0m\n",
      "\u001b[34m[2020-05-02:22:22:09:INFO] Sniff delimiter as ','\u001b[0m\n",
      "\u001b[34m[2020-05-02:22:22:09:INFO] Determined delimiter of CSV input is ','\u001b[0m\n",
      "\u001b[34m[2020-05-02:22:22:09:INFO] Sniff delimiter as ','\u001b[0m\n",
      "\u001b[34m[2020-05-02:22:22:09:INFO] Determined delimiter of CSV input is ','\u001b[0m\n",
      "\u001b[34m[2020-05-02:22:22:09:INFO] Sniff delimiter as ','\u001b[0m\n",
      "\u001b[34m[2020-05-02:22:22:09:INFO] Determined delimiter of CSV input is ','\u001b[0m\n",
      "\u001b[35m[2020-05-02:22:22:09:INFO] Sniff delimiter as ','\u001b[0m\n",
      "\u001b[35m[2020-05-02:22:22:09:INFO] Determined delimiter of CSV input is ','\u001b[0m\n",
      "\u001b[35m[2020-05-02:22:22:09:INFO] Sniff delimiter as ','\u001b[0m\n",
      "\u001b[35m[2020-05-02:22:22:09:INFO] Determined delimiter of CSV input is ','\u001b[0m\n",
      "\u001b[35m[2020-05-02:22:22:09:INFO] Sniff delimiter as ','\u001b[0m\n",
      "\u001b[35m[2020-05-02:22:22:09:INFO] Determined delimiter of CSV input is ','\u001b[0m\n",
      "\u001b[34m[2020-05-02:22:22:09:INFO] Sniff delimiter as ','\u001b[0m\n",
      "\u001b[34m[2020-05-02:22:22:09:INFO] Determined delimiter of CSV input is ','\u001b[0m\n",
      "\u001b[35m[2020-05-02:22:22:09:INFO] Sniff delimiter as ','\u001b[0m\n",
      "\u001b[35m[2020-05-02:22:22:09:INFO] Determined delimiter of CSV input is ','\u001b[0m\n",
      "\u001b[34m[2020-05-02:22:22:11:INFO] Sniff delimiter as ','\u001b[0m\n",
      "\u001b[34m[2020-05-02:22:22:11:INFO] Determined delimiter of CSV input is ','\u001b[0m\n",
      "\u001b[34m[2020-05-02:22:22:11:INFO] Sniff delimiter as ','\u001b[0m\n",
      "\u001b[34m[2020-05-02:22:22:11:INFO] Determined delimiter of CSV input is ','\u001b[0m\n",
      "\u001b[34m[2020-05-02:22:22:11:INFO] Sniff delimiter as ','\u001b[0m\n",
      "\u001b[34m[2020-05-02:22:22:11:INFO] Determined delimiter of CSV input is ','\u001b[0m\n",
      "\u001b[34m[2020-05-02:22:22:12:INFO] Sniff delimiter as ','\u001b[0m\n",
      "\u001b[34m[2020-05-02:22:22:12:INFO] Determined delimiter of CSV input is ','\u001b[0m\n",
      "\u001b[35m[2020-05-02:22:22:11:INFO] Sniff delimiter as ','\u001b[0m\n",
      "\u001b[35m[2020-05-02:22:22:11:INFO] Determined delimiter of CSV input is ','\u001b[0m\n",
      "\u001b[35m[2020-05-02:22:22:11:INFO] Sniff delimiter as ','\u001b[0m\n",
      "\u001b[35m[2020-05-02:22:22:11:INFO] Determined delimiter of CSV input is ','\u001b[0m\n",
      "\u001b[35m[2020-05-02:22:22:11:INFO] Sniff delimiter as ','\u001b[0m\n",
      "\u001b[35m[2020-05-02:22:22:11:INFO] Determined delimiter of CSV input is ','\u001b[0m\n",
      "\u001b[35m[2020-05-02:22:22:12:INFO] Sniff delimiter as ','\u001b[0m\n",
      "\u001b[35m[2020-05-02:22:22:12:INFO] Determined delimiter of CSV input is ','\u001b[0m\n",
      "\u001b[34m[2020-05-02:22:22:14:INFO] Sniff delimiter as ','\u001b[0m\n",
      "\u001b[34m[2020-05-02:22:22:14:INFO] Determined delimiter of CSV input is ','\u001b[0m\n",
      "\u001b[34m[2020-05-02:22:22:14:INFO] Sniff delimiter as ','\u001b[0m\n",
      "\u001b[34m[2020-05-02:22:22:14:INFO] Determined delimiter of CSV input is ','\u001b[0m\n",
      "\u001b[34m[2020-05-02:22:22:14:INFO] Sniff delimiter as ','\u001b[0m\n",
      "\u001b[34m[2020-05-02:22:22:14:INFO] Determined delimiter of CSV input is ','\u001b[0m\n",
      "\u001b[35m[2020-05-02:22:22:14:INFO] Sniff delimiter as ','\u001b[0m\n",
      "\u001b[35m[2020-05-02:22:22:14:INFO] Determined delimiter of CSV input is ','\u001b[0m\n",
      "\u001b[35m[2020-05-02:22:22:14:INFO] Sniff delimiter as ','\u001b[0m\n",
      "\u001b[35m[2020-05-02:22:22:14:INFO] Determined delimiter of CSV input is ','\u001b[0m\n",
      "\u001b[35m[2020-05-02:22:22:14:INFO] Sniff delimiter as ','\u001b[0m\n",
      "\u001b[35m[2020-05-02:22:22:14:INFO] Determined delimiter of CSV input is ','\u001b[0m\n",
      "\u001b[34m[2020-05-02:22:22:14:INFO] Sniff delimiter as ','\u001b[0m\n",
      "\u001b[34m[2020-05-02:22:22:14:INFO] Determined delimiter of CSV input is ','\u001b[0m\n",
      "\u001b[35m[2020-05-02:22:22:14:INFO] Sniff delimiter as ','\u001b[0m\n",
      "\u001b[35m[2020-05-02:22:22:14:INFO] Determined delimiter of CSV input is ','\u001b[0m\n"
     ]
    },
    {
     "name": "stdout",
     "output_type": "stream",
     "text": [
      "\u001b[34m[2020-05-02:22:22:16:INFO] Sniff delimiter as ','\u001b[0m\n",
      "\u001b[34m[2020-05-02:22:22:16:INFO] Determined delimiter of CSV input is ','\u001b[0m\n",
      "\u001b[34m[2020-05-02:22:22:16:INFO] Sniff delimiter as ','\u001b[0m\n",
      "\u001b[34m[2020-05-02:22:22:16:INFO] Determined delimiter of CSV input is ','\u001b[0m\n",
      "\u001b[34m[2020-05-02:22:22:17:INFO] Sniff delimiter as ','\u001b[0m\n",
      "\u001b[34m[2020-05-02:22:22:17:INFO] Determined delimiter of CSV input is ','\u001b[0m\n",
      "\u001b[35m[2020-05-02:22:22:16:INFO] Sniff delimiter as ','\u001b[0m\n",
      "\u001b[35m[2020-05-02:22:22:16:INFO] Determined delimiter of CSV input is ','\u001b[0m\n",
      "\u001b[35m[2020-05-02:22:22:16:INFO] Sniff delimiter as ','\u001b[0m\n",
      "\u001b[35m[2020-05-02:22:22:16:INFO] Determined delimiter of CSV input is ','\u001b[0m\n",
      "\u001b[35m[2020-05-02:22:22:17:INFO] Sniff delimiter as ','\u001b[0m\n",
      "\u001b[35m[2020-05-02:22:22:17:INFO] Determined delimiter of CSV input is ','\u001b[0m\n",
      "\u001b[34m[2020-05-02:22:22:19:INFO] Sniff delimiter as ','\u001b[0m\n",
      "\u001b[34m[2020-05-02:22:22:19:INFO] Determined delimiter of CSV input is ','\u001b[0m\n",
      "\u001b[34m[2020-05-02:22:22:19:INFO] Sniff delimiter as ','\u001b[0m\n",
      "\u001b[34m[2020-05-02:22:22:19:INFO] Determined delimiter of CSV input is ','\u001b[0m\n",
      "\u001b[34m[2020-05-02:22:22:19:INFO] Sniff delimiter as ','\u001b[0m\n",
      "\u001b[34m[2020-05-02:22:22:19:INFO] Determined delimiter of CSV input is ','\u001b[0m\n",
      "\u001b[35m[2020-05-02:22:22:19:INFO] Sniff delimiter as ','\u001b[0m\n",
      "\u001b[35m[2020-05-02:22:22:19:INFO] Determined delimiter of CSV input is ','\u001b[0m\n",
      "\u001b[35m[2020-05-02:22:22:19:INFO] Sniff delimiter as ','\u001b[0m\n",
      "\u001b[35m[2020-05-02:22:22:19:INFO] Determined delimiter of CSV input is ','\u001b[0m\n",
      "\u001b[35m[2020-05-02:22:22:19:INFO] Sniff delimiter as ','\u001b[0m\n",
      "\u001b[35m[2020-05-02:22:22:19:INFO] Determined delimiter of CSV input is ','\u001b[0m\n",
      "\u001b[34m[2020-05-02:22:22:19:INFO] Sniff delimiter as ','\u001b[0m\n",
      "\u001b[34m[2020-05-02:22:22:19:INFO] Determined delimiter of CSV input is ','\u001b[0m\n",
      "\u001b[35m[2020-05-02:22:22:19:INFO] Sniff delimiter as ','\u001b[0m\n",
      "\u001b[35m[2020-05-02:22:22:19:INFO] Determined delimiter of CSV input is ','\u001b[0m\n"
     ]
    }
   ],
   "source": [
    "xgb_transformer.wait()"
   ]
  },
  {
   "cell_type": "markdown",
   "metadata": {},
   "source": [
    "Now the transform job has executed and the result, the estimated sentiment of each review, has been saved on S3. Since we would rather work on this file locally we can perform a bit of notebook magic to copy the file to the `data_dir`."
   ]
  },
  {
   "cell_type": "code",
   "execution_count": 35,
   "metadata": {},
   "outputs": [
    {
     "ename": "OSError",
     "evalue": "[Errno 12] Cannot allocate memory",
     "output_type": "error",
     "traceback": [
      "\u001b[0;31m---------------------------------------------------------------------------\u001b[0m",
      "\u001b[0;31mOSError\u001b[0m                                   Traceback (most recent call last)",
      "\u001b[0;32m<ipython-input-35-97993f446af4>\u001b[0m in \u001b[0;36m<module>\u001b[0;34m()\u001b[0m\n\u001b[0;32m----> 1\u001b[0;31m \u001b[0mget_ipython\u001b[0m\u001b[0;34m(\u001b[0m\u001b[0;34m)\u001b[0m\u001b[0;34m.\u001b[0m\u001b[0msystem\u001b[0m\u001b[0;34m(\u001b[0m\u001b[0;34m'aws s3 cp --recursive $xgb_transformer.output_path $data_dir'\u001b[0m\u001b[0;34m)\u001b[0m\u001b[0;34m\u001b[0m\u001b[0m\n\u001b[0m",
      "\u001b[0;32m~/anaconda3/envs/python3/lib/python3.6/site-packages/IPython/core/interactiveshell.py\u001b[0m in \u001b[0;36msystem_piped\u001b[0;34m(self, cmd)\u001b[0m\n\u001b[1;32m   2259\u001b[0m         \u001b[0;31m# a non-None value would trigger :func:`sys.displayhook` calls.\u001b[0m\u001b[0;34m\u001b[0m\u001b[0;34m\u001b[0m\u001b[0m\n\u001b[1;32m   2260\u001b[0m         \u001b[0;31m# Instead, we store the exit_code in user_ns.\u001b[0m\u001b[0;34m\u001b[0m\u001b[0;34m\u001b[0m\u001b[0m\n\u001b[0;32m-> 2261\u001b[0;31m         \u001b[0mself\u001b[0m\u001b[0;34m.\u001b[0m\u001b[0muser_ns\u001b[0m\u001b[0;34m[\u001b[0m\u001b[0;34m'_exit_code'\u001b[0m\u001b[0;34m]\u001b[0m \u001b[0;34m=\u001b[0m \u001b[0msystem\u001b[0m\u001b[0;34m(\u001b[0m\u001b[0mself\u001b[0m\u001b[0;34m.\u001b[0m\u001b[0mvar_expand\u001b[0m\u001b[0;34m(\u001b[0m\u001b[0mcmd\u001b[0m\u001b[0;34m,\u001b[0m \u001b[0mdepth\u001b[0m\u001b[0;34m=\u001b[0m\u001b[0;36m1\u001b[0m\u001b[0;34m)\u001b[0m\u001b[0;34m)\u001b[0m\u001b[0;34m\u001b[0m\u001b[0m\n\u001b[0m\u001b[1;32m   2262\u001b[0m \u001b[0;34m\u001b[0m\u001b[0m\n\u001b[1;32m   2263\u001b[0m     \u001b[0;32mdef\u001b[0m \u001b[0msystem_raw\u001b[0m\u001b[0;34m(\u001b[0m\u001b[0mself\u001b[0m\u001b[0;34m,\u001b[0m \u001b[0mcmd\u001b[0m\u001b[0;34m)\u001b[0m\u001b[0;34m:\u001b[0m\u001b[0;34m\u001b[0m\u001b[0m\n",
      "\u001b[0;32m~/anaconda3/envs/python3/lib/python3.6/site-packages/IPython/utils/_process_posix.py\u001b[0m in \u001b[0;36msystem\u001b[0;34m(self, cmd)\u001b[0m\n\u001b[1;32m    154\u001b[0m                 \u001b[0mchild\u001b[0m \u001b[0;34m=\u001b[0m \u001b[0mpexpect\u001b[0m\u001b[0;34m.\u001b[0m\u001b[0mspawnb\u001b[0m\u001b[0;34m(\u001b[0m\u001b[0mself\u001b[0m\u001b[0;34m.\u001b[0m\u001b[0msh\u001b[0m\u001b[0;34m,\u001b[0m \u001b[0margs\u001b[0m\u001b[0;34m=\u001b[0m\u001b[0;34m[\u001b[0m\u001b[0;34m'-c'\u001b[0m\u001b[0;34m,\u001b[0m \u001b[0mcmd\u001b[0m\u001b[0;34m]\u001b[0m\u001b[0;34m)\u001b[0m \u001b[0;31m# Pexpect-U\u001b[0m\u001b[0;34m\u001b[0m\u001b[0m\n\u001b[1;32m    155\u001b[0m             \u001b[0;32melse\u001b[0m\u001b[0;34m:\u001b[0m\u001b[0;34m\u001b[0m\u001b[0m\n\u001b[0;32m--> 156\u001b[0;31m                 \u001b[0mchild\u001b[0m \u001b[0;34m=\u001b[0m \u001b[0mpexpect\u001b[0m\u001b[0;34m.\u001b[0m\u001b[0mspawn\u001b[0m\u001b[0;34m(\u001b[0m\u001b[0mself\u001b[0m\u001b[0;34m.\u001b[0m\u001b[0msh\u001b[0m\u001b[0;34m,\u001b[0m \u001b[0margs\u001b[0m\u001b[0;34m=\u001b[0m\u001b[0;34m[\u001b[0m\u001b[0;34m'-c'\u001b[0m\u001b[0;34m,\u001b[0m \u001b[0mcmd\u001b[0m\u001b[0;34m]\u001b[0m\u001b[0;34m)\u001b[0m  \u001b[0;31m# Vanilla Pexpect\u001b[0m\u001b[0;34m\u001b[0m\u001b[0m\n\u001b[0m\u001b[1;32m    157\u001b[0m             \u001b[0mflush\u001b[0m \u001b[0;34m=\u001b[0m \u001b[0msys\u001b[0m\u001b[0;34m.\u001b[0m\u001b[0mstdout\u001b[0m\u001b[0;34m.\u001b[0m\u001b[0mflush\u001b[0m\u001b[0;34m\u001b[0m\u001b[0m\n\u001b[1;32m    158\u001b[0m             \u001b[0;32mwhile\u001b[0m \u001b[0;32mTrue\u001b[0m\u001b[0;34m:\u001b[0m\u001b[0;34m\u001b[0m\u001b[0m\n",
      "\u001b[0;32m~/anaconda3/envs/python3/lib/python3.6/site-packages/pexpect/pty_spawn.py\u001b[0m in \u001b[0;36m__init__\u001b[0;34m(self, command, args, timeout, maxread, searchwindowsize, logfile, cwd, env, ignore_sighup, echo, preexec_fn, encoding, codec_errors, dimensions, use_poll)\u001b[0m\n\u001b[1;32m    202\u001b[0m             \u001b[0mself\u001b[0m\u001b[0;34m.\u001b[0m\u001b[0mname\u001b[0m \u001b[0;34m=\u001b[0m \u001b[0;34m'<pexpect factory incomplete>'\u001b[0m\u001b[0;34m\u001b[0m\u001b[0m\n\u001b[1;32m    203\u001b[0m         \u001b[0;32melse\u001b[0m\u001b[0;34m:\u001b[0m\u001b[0;34m\u001b[0m\u001b[0m\n\u001b[0;32m--> 204\u001b[0;31m             \u001b[0mself\u001b[0m\u001b[0;34m.\u001b[0m\u001b[0m_spawn\u001b[0m\u001b[0;34m(\u001b[0m\u001b[0mcommand\u001b[0m\u001b[0;34m,\u001b[0m \u001b[0margs\u001b[0m\u001b[0;34m,\u001b[0m \u001b[0mpreexec_fn\u001b[0m\u001b[0;34m,\u001b[0m \u001b[0mdimensions\u001b[0m\u001b[0;34m)\u001b[0m\u001b[0;34m\u001b[0m\u001b[0m\n\u001b[0m\u001b[1;32m    205\u001b[0m         \u001b[0mself\u001b[0m\u001b[0;34m.\u001b[0m\u001b[0muse_poll\u001b[0m \u001b[0;34m=\u001b[0m \u001b[0muse_poll\u001b[0m\u001b[0;34m\u001b[0m\u001b[0m\n\u001b[1;32m    206\u001b[0m \u001b[0;34m\u001b[0m\u001b[0m\n",
      "\u001b[0;32m~/anaconda3/envs/python3/lib/python3.6/site-packages/pexpect/pty_spawn.py\u001b[0m in \u001b[0;36m_spawn\u001b[0;34m(self, command, args, preexec_fn, dimensions)\u001b[0m\n\u001b[1;32m    301\u001b[0m \u001b[0;34m\u001b[0m\u001b[0m\n\u001b[1;32m    302\u001b[0m         self.ptyproc = self._spawnpty(self.args, env=self.env,\n\u001b[0;32m--> 303\u001b[0;31m                                      cwd=self.cwd, **kwargs)\n\u001b[0m\u001b[1;32m    304\u001b[0m \u001b[0;34m\u001b[0m\u001b[0m\n\u001b[1;32m    305\u001b[0m         \u001b[0mself\u001b[0m\u001b[0;34m.\u001b[0m\u001b[0mpid\u001b[0m \u001b[0;34m=\u001b[0m \u001b[0mself\u001b[0m\u001b[0;34m.\u001b[0m\u001b[0mptyproc\u001b[0m\u001b[0;34m.\u001b[0m\u001b[0mpid\u001b[0m\u001b[0;34m\u001b[0m\u001b[0m\n",
      "\u001b[0;32m~/anaconda3/envs/python3/lib/python3.6/site-packages/pexpect/pty_spawn.py\u001b[0m in \u001b[0;36m_spawnpty\u001b[0;34m(self, args, **kwargs)\u001b[0m\n\u001b[1;32m    312\u001b[0m     \u001b[0;32mdef\u001b[0m \u001b[0m_spawnpty\u001b[0m\u001b[0;34m(\u001b[0m\u001b[0mself\u001b[0m\u001b[0;34m,\u001b[0m \u001b[0margs\u001b[0m\u001b[0;34m,\u001b[0m \u001b[0;34m**\u001b[0m\u001b[0mkwargs\u001b[0m\u001b[0;34m)\u001b[0m\u001b[0;34m:\u001b[0m\u001b[0;34m\u001b[0m\u001b[0m\n\u001b[1;32m    313\u001b[0m         \u001b[0;34m'''Spawn a pty and return an instance of PtyProcess.'''\u001b[0m\u001b[0;34m\u001b[0m\u001b[0m\n\u001b[0;32m--> 314\u001b[0;31m         \u001b[0;32mreturn\u001b[0m \u001b[0mptyprocess\u001b[0m\u001b[0;34m.\u001b[0m\u001b[0mPtyProcess\u001b[0m\u001b[0;34m.\u001b[0m\u001b[0mspawn\u001b[0m\u001b[0;34m(\u001b[0m\u001b[0margs\u001b[0m\u001b[0;34m,\u001b[0m \u001b[0;34m**\u001b[0m\u001b[0mkwargs\u001b[0m\u001b[0;34m)\u001b[0m\u001b[0;34m\u001b[0m\u001b[0m\n\u001b[0m\u001b[1;32m    315\u001b[0m \u001b[0;34m\u001b[0m\u001b[0m\n\u001b[1;32m    316\u001b[0m     \u001b[0;32mdef\u001b[0m \u001b[0mclose\u001b[0m\u001b[0;34m(\u001b[0m\u001b[0mself\u001b[0m\u001b[0;34m,\u001b[0m \u001b[0mforce\u001b[0m\u001b[0;34m=\u001b[0m\u001b[0;32mTrue\u001b[0m\u001b[0;34m)\u001b[0m\u001b[0;34m:\u001b[0m\u001b[0;34m\u001b[0m\u001b[0m\n",
      "\u001b[0;32m~/anaconda3/envs/python3/lib/python3.6/site-packages/ptyprocess/ptyprocess.py\u001b[0m in \u001b[0;36mspawn\u001b[0;34m(cls, argv, cwd, env, echo, preexec_fn, dimensions)\u001b[0m\n\u001b[1;32m    220\u001b[0m \u001b[0;34m\u001b[0m\u001b[0m\n\u001b[1;32m    221\u001b[0m         \u001b[0;32mif\u001b[0m \u001b[0muse_native_pty_fork\u001b[0m\u001b[0;34m:\u001b[0m\u001b[0;34m\u001b[0m\u001b[0m\n\u001b[0;32m--> 222\u001b[0;31m             \u001b[0mpid\u001b[0m\u001b[0;34m,\u001b[0m \u001b[0mfd\u001b[0m \u001b[0;34m=\u001b[0m \u001b[0mpty\u001b[0m\u001b[0;34m.\u001b[0m\u001b[0mfork\u001b[0m\u001b[0;34m(\u001b[0m\u001b[0;34m)\u001b[0m\u001b[0;34m\u001b[0m\u001b[0m\n\u001b[0m\u001b[1;32m    223\u001b[0m         \u001b[0;32melse\u001b[0m\u001b[0;34m:\u001b[0m\u001b[0;34m\u001b[0m\u001b[0m\n\u001b[1;32m    224\u001b[0m             \u001b[0;31m# Use internal fork_pty, for Solaris\u001b[0m\u001b[0;34m\u001b[0m\u001b[0;34m\u001b[0m\u001b[0m\n",
      "\u001b[0;32m~/anaconda3/envs/python3/lib/python3.6/pty.py\u001b[0m in \u001b[0;36mfork\u001b[0;34m()\u001b[0m\n\u001b[1;32m     95\u001b[0m \u001b[0;34m\u001b[0m\u001b[0m\n\u001b[1;32m     96\u001b[0m     \u001b[0mmaster_fd\u001b[0m\u001b[0;34m,\u001b[0m \u001b[0mslave_fd\u001b[0m \u001b[0;34m=\u001b[0m \u001b[0mopenpty\u001b[0m\u001b[0;34m(\u001b[0m\u001b[0;34m)\u001b[0m\u001b[0;34m\u001b[0m\u001b[0m\n\u001b[0;32m---> 97\u001b[0;31m     \u001b[0mpid\u001b[0m \u001b[0;34m=\u001b[0m \u001b[0mos\u001b[0m\u001b[0;34m.\u001b[0m\u001b[0mfork\u001b[0m\u001b[0;34m(\u001b[0m\u001b[0;34m)\u001b[0m\u001b[0;34m\u001b[0m\u001b[0m\n\u001b[0m\u001b[1;32m     98\u001b[0m     \u001b[0;32mif\u001b[0m \u001b[0mpid\u001b[0m \u001b[0;34m==\u001b[0m \u001b[0mCHILD\u001b[0m\u001b[0;34m:\u001b[0m\u001b[0;34m\u001b[0m\u001b[0m\n\u001b[1;32m     99\u001b[0m         \u001b[0;31m# Establish a new session.\u001b[0m\u001b[0;34m\u001b[0m\u001b[0;34m\u001b[0m\u001b[0m\n",
      "\u001b[0;31mOSError\u001b[0m: [Errno 12] Cannot allocate memory"
     ]
    }
   ],
   "source": [
    "!aws s3 cp --recursive $xgb_transformer.output_path $data_dir"
   ]
  },
  {
   "cell_type": "markdown",
   "metadata": {},
   "source": [
    "The last step is now to read in the output from our model, convert the output to something a little more usable, in this case we want the sentiment to be either `1` (positive) or `0` (negative), and then compare to the ground truth labels."
   ]
  },
  {
   "cell_type": "code",
   "execution_count": 36,
   "metadata": {},
   "outputs": [],
   "source": [
    "predictions = pd.read_csv(os.path.join(data_dir, 'test.csv.out'), header=None)\n",
    "predictions = [round(num) for num in predictions.squeeze().values]"
   ]
  },
  {
   "cell_type": "code",
   "execution_count": 37,
   "metadata": {},
   "outputs": [
    {
     "data": {
      "text/plain": [
       "0.86324"
      ]
     },
     "execution_count": 37,
     "metadata": {},
     "output_type": "execute_result"
    }
   ],
   "source": [
    "from sklearn.metrics import accuracy_score\n",
    "accuracy_score(test_y, predictions)"
   ]
  },
  {
   "cell_type": "markdown",
   "metadata": {},
   "source": [
    "## Optional: Clean up\n",
    "\n",
    "The default notebook instance on SageMaker doesn't have a lot of excess disk space available. As you continue to complete and execute notebooks you will eventually fill up this disk space, leading to errors which can be difficult to diagnose. Once you are completely finished using a notebook it is a good idea to remove the files that you created along the way. Of course, you can do this from the terminal or from the notebook hub if you would like. The cell below contains some commands to clean up the created files from within the notebook."
   ]
  },
  {
   "cell_type": "code",
   "execution_count": null,
   "metadata": {},
   "outputs": [],
   "source": [
    "# First we will remove all of the files contained in the data_dir directory\n",
    "!rm $data_dir/*\n",
    "\n",
    "# And then we delete the directory itself\n",
    "!rmdir $data_dir\n",
    "\n",
    "# Similarly we will remove the files in the cache_dir directory and the directory itself\n",
    "!rm $cache_dir/*\n",
    "!rmdir $cache_dir"
   ]
  },
  {
   "cell_type": "code",
   "execution_count": null,
   "metadata": {},
   "outputs": [],
   "source": []
  }
 ],
 "metadata": {
  "kernelspec": {
   "display_name": "conda_python3",
   "language": "python",
   "name": "conda_python3"
  },
  "language_info": {
   "codemirror_mode": {
    "name": "ipython",
    "version": 3
   },
   "file_extension": ".py",
   "mimetype": "text/x-python",
   "name": "python",
   "nbconvert_exporter": "python",
   "pygments_lexer": "ipython3",
   "version": "3.6.5"
  }
 },
 "nbformat": 4,
 "nbformat_minor": 2
}
