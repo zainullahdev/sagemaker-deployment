{
 "cells": [
  {
   "cell_type": "markdown",
   "metadata": {},
   "source": [
    "# Sentiment Analysis\n",
    "\n",
    "## Updating a Model in SageMaker\n",
    "\n",
    "_Deep Learning Nanodegree Program | Deployment_\n",
    "\n",
    "---\n",
    "\n",
    "In this notebook we will consider a situation in which a model that we constructed is no longer working as we intended. In particular, we will look at the XGBoost sentiment analysis model that we constructed earlier. In this case, however, we have some new data that our model doesn't seem to perform very well on. As a result, we will re-train our model and update an existing endpoint so that it uses our new model.\n",
    "\n",
    "This notebook starts by re-creating the XGBoost sentiment analysis model that was created in earlier notebooks. This means that you will have already seen the cells up to the end of Step 4. The new content in this notebook begins at Step 5.\n",
    "\n",
    "## Instructions\n",
    "\n",
    "Some template code has already been provided for you, and you will need to implement additional functionality to successfully complete this notebook. You will not need to modify the included code beyond what is requested. Sections that begin with '**TODO**' in the header indicate that you need to complete or implement some portion within them. Instructions will be provided for each section and the specifics of the implementation are marked in the code block with a `# TODO: ...` comment. Please be sure to read the instructions carefully!\n",
    "\n",
    "In addition to implementing code, there will be questions for you to answer which relate to the task and your implementation. Each section where you will answer a question is preceded by a '**Question:**' header. Carefully read each question and provide your answer below the '**Answer:**' header by editing the Markdown cell.\n",
    "\n",
    "> **Note**: Code and Markdown cells can be executed using the **Shift+Enter** keyboard shortcut. In addition, a cell can be edited by typically clicking it (double-click for Markdown cells) or by pressing **Enter** while it is highlighted."
   ]
  },
  {
   "cell_type": "markdown",
   "metadata": {},
   "source": [
    "## Step 1: Downloading the data\n",
    "\n",
    "The dataset we are going to use is very popular among researchers in Natural Language Processing, usually referred to as the [IMDb dataset](http://ai.stanford.edu/~amaas/data/sentiment/). It consists of movie reviews from the website [imdb.com](http://www.imdb.com/), each labeled as either '**pos**itive', if the reviewer enjoyed the film, or '**neg**ative' otherwise.\n",
    "\n",
    "> Maas, Andrew L., et al. [Learning Word Vectors for Sentiment Analysis](http://ai.stanford.edu/~amaas/data/sentiment/). In _Proceedings of the 49th Annual Meeting of the Association for Computational Linguistics: Human Language Technologies_. Association for Computational Linguistics, 2011.\n",
    "\n",
    "We begin by using some Jupyter Notebook magic to download and extract the dataset."
   ]
  },
  {
   "cell_type": "code",
   "execution_count": 1,
   "metadata": {},
   "outputs": [
    {
     "name": "stdout",
     "output_type": "stream",
     "text": [
      "mkdir: cannot create directory ‘../data’: File exists\n",
      "--2020-05-16 18:30:59--  http://ai.stanford.edu/~amaas/data/sentiment/aclImdb_v1.tar.gz\n",
      "Resolving ai.stanford.edu (ai.stanford.edu)... 171.64.68.10\n",
      "Connecting to ai.stanford.edu (ai.stanford.edu)|171.64.68.10|:80... connected.\n",
      "HTTP request sent, awaiting response... 200 OK\n",
      "Length: 84125825 (80M) [application/x-gzip]\n",
      "Saving to: ‘../data/aclImdb_v1.tar.gz’\n",
      "\n",
      "../data/aclImdb_v1. 100%[===================>]  80.23M  24.4MB/s    in 4.2s    \n",
      "\n",
      "2020-05-16 18:31:03 (19.0 MB/s) - ‘../data/aclImdb_v1.tar.gz’ saved [84125825/84125825]\n",
      "\n"
     ]
    }
   ],
   "source": [
    "%mkdir ../data\n",
    "!wget -O ../data/aclImdb_v1.tar.gz http://ai.stanford.edu/~amaas/data/sentiment/aclImdb_v1.tar.gz\n",
    "!tar -zxf ../data/aclImdb_v1.tar.gz -C ../data"
   ]
  },
  {
   "cell_type": "markdown",
   "metadata": {},
   "source": [
    "## Step 2: Preparing the data\n",
    "\n",
    "The data we have downloaded is split into various files, each of which contains a single review. It will be much easier going forward if we combine these individual files into two large files, one for training and one for testing."
   ]
  },
  {
   "cell_type": "code",
   "execution_count": 2,
   "metadata": {},
   "outputs": [],
   "source": [
    "import os\n",
    "import glob\n",
    "\n",
    "def read_imdb_data(data_dir='../data/aclImdb'):\n",
    "    data = {}\n",
    "    labels = {}\n",
    "    \n",
    "    for data_type in ['train', 'test']:\n",
    "        data[data_type] = {}\n",
    "        labels[data_type] = {}\n",
    "        \n",
    "        for sentiment in ['pos', 'neg']:\n",
    "            data[data_type][sentiment] = []\n",
    "            labels[data_type][sentiment] = []\n",
    "            \n",
    "            path = os.path.join(data_dir, data_type, sentiment, '*.txt')\n",
    "            files = glob.glob(path)\n",
    "            \n",
    "            for f in files:\n",
    "                with open(f) as review:\n",
    "                    data[data_type][sentiment].append(review.read())\n",
    "                    # Here we represent a positive review by '1' and a negative review by '0'\n",
    "                    labels[data_type][sentiment].append(1 if sentiment == 'pos' else 0)\n",
    "                    \n",
    "            assert len(data[data_type][sentiment]) == len(labels[data_type][sentiment]), \\\n",
    "                    \"{}/{} data size does not match labels size\".format(data_type, sentiment)\n",
    "                \n",
    "    return data, labels"
   ]
  },
  {
   "cell_type": "code",
   "execution_count": 3,
   "metadata": {},
   "outputs": [
    {
     "name": "stdout",
     "output_type": "stream",
     "text": [
      "IMDB reviews: train = 12500 pos / 12500 neg, test = 12500 pos / 12500 neg\n"
     ]
    }
   ],
   "source": [
    "data, labels = read_imdb_data()\n",
    "print(\"IMDB reviews: train = {} pos / {} neg, test = {} pos / {} neg\".format(\n",
    "            len(data['train']['pos']), len(data['train']['neg']),\n",
    "            len(data['test']['pos']), len(data['test']['neg'])))"
   ]
  },
  {
   "cell_type": "code",
   "execution_count": 4,
   "metadata": {},
   "outputs": [],
   "source": [
    "from sklearn.utils import shuffle\n",
    "\n",
    "def prepare_imdb_data(data, labels):\n",
    "    \"\"\"Prepare training and test sets from IMDb movie reviews.\"\"\"\n",
    "    \n",
    "    #Combine positive and negative reviews and labels\n",
    "    data_train = data['train']['pos'] + data['train']['neg']\n",
    "    data_test = data['test']['pos'] + data['test']['neg']\n",
    "    labels_train = labels['train']['pos'] + labels['train']['neg']\n",
    "    labels_test = labels['test']['pos'] + labels['test']['neg']\n",
    "    \n",
    "    #Shuffle reviews and corresponding labels within training and test sets\n",
    "    data_train, labels_train = shuffle(data_train, labels_train)\n",
    "    data_test, labels_test = shuffle(data_test, labels_test)\n",
    "    \n",
    "    # Return a unified training data, test data, training labels, test labets\n",
    "    return data_train, data_test, labels_train, labels_test"
   ]
  },
  {
   "cell_type": "code",
   "execution_count": 5,
   "metadata": {},
   "outputs": [
    {
     "name": "stdout",
     "output_type": "stream",
     "text": [
      "IMDb reviews (combined): train = 25000, test = 25000\n"
     ]
    }
   ],
   "source": [
    "train_X, test_X, train_y, test_y = prepare_imdb_data(data, labels)\n",
    "print(\"IMDb reviews (combined): train = {}, test = {}\".format(len(train_X), len(test_X)))"
   ]
  },
  {
   "cell_type": "code",
   "execution_count": 6,
   "metadata": {},
   "outputs": [
    {
     "data": {
      "text/plain": [
       "'I know that this is an unpopular position concerning Zabriskie Point, but I LOVED this film. I know, I know - I can legitimately be called an Antonioni fanatic. I love L\\'Avventura, I love La Notte, I love L\\'Eclisse, I love Red Desert, I love Blowup, and I love Professione: Reporter (aka The Passenger). The only Antonioni film that I don\\'t love, the only one I\\'ve ever given less than an 8/10 (and one of only three that I have given less than a 10/10, La Notte and L\\'Eclisse being the other two, though I fully acknowledge that I have to see both of them again), is Beyond the Clouds, which can fairly be called an awful film. However, there is not better awful film, if you catch my drift. So if you\\'re NOT an Antonioni fan, you should only logically ignore me. If you are even a casual fan, though, and you are wondering whether this particular film, whose name, when spoken, is often followed by<br /><br />a spit, which is generally despised by even Antonioni\\'s admirers, is at all worth seeing, the answer is YES.<br /><br />Okay, the reason that people tend to hate it is because 99% of film watchers care ONLY for the narrative of a film. Well, that\\'s not exactly true. If a film is amazing in a particular aspect, say acting or cinematography or direction, and just decent in its narrative, film watchers might very well love it. But a film can be the most amazing visual masterpiece and have a lame or illogical story - that\\'s another thing that has ruined the cinema over the years: logic - then they absolutely hate the film. I will actually agree with that in some ways. As much as I may dislike it and want to change my view, it really is difficult to love a film whose narrative I perceive as poor. However, other people tend to get annoyed at a loose narrative. This is certainly what must drive viewers away from Zabriskie Point. I could relate the story to you, but you probably would just think it was nonsensical. It is, actually, but, to me, that just made the whole endeavor more fantastic and beautiful. I\\'d actually compare it favorably to 2001, which is my favorite film. However, 2001 is perfectly coherent compared to the rambling narrative of this film.<br /><br />What Zabriskie Point has in spades is mood. The music helps a lot; the score includes a lot of acts of the day, including Pink Floyd. The mood is kind of similar to the moods of Antonioni\\'s other masterpieces, filled with loneliness and desolation. Also the freedom that comes from that. The best sequence in the film is when the lead man and woman (her name is Daria, I know, but I don\\'t remember his name) pull over in their vehicle next to a historic marker on a desert highway. There is, beyond the stone wall that has been erected to keep cars from flying off, an ancient lakebed. It\\'s basically a rocky desert, and the two go to play in it. The setting is enormously beautiful. The woman says: \"This is such a beautiful place. What do you think?\" The man: \"I think it\\'s dead.\" There\\'s no inclination to whether that\\'s a good thing or a bad thing. This is a lot like sentiments expressed in other Antonioni films - characters are constantly wanting to disappear or become invisible. Instead of David Locke, the protagonist of The Passenger, fed up with journalism, we have the young hippie sick of his friends\\' politics - he thinks they talk too much and don\\'t act out what they feel is right, or at least he says he does. It seems to me more like he just wanted out of the situation.<br /><br />The film is also simply amazing visually. Antonioni\\'s films are all identifiable by just a few frames, but his visual style was always building. I like The Passenger more than I do Zabriskie Point, but Zabriskie Point might be his ultimate accomplishment in that aspect. Well, that might sound odd - L\\'Avventura and Red Desert are amazing pictorially. I think it\\'s the camera movements that are particularly amazing here. He obviously made a ton of money on Blowup, which was the biggest arthouse hit of its day, the biggest ever at that point. He spends it well here, especially with his aerial shots. One of the film\\'s greatest sequences involves the man, who has stolen a man\\'s private airplane, dive-bombing Daria in her car.<br /><br />The one thing that can be fairly criticized is the film\\'s politics. They\\'re certainly facile. Not that hippies were facile, but that Antonioni\\'s vision of hippies - there weren\\'t any in Italy, of course - are bizarre and, well, filtered through a foreigner\\'s eyes. There\\'s a rather childish criticism of advertising, but it\\'s a criticism that still exists today. I say, can\\'t you people just ignore it? What does it hurt? Are you walking around buying things you don\\'t want because of billboards? Or there is also the criticism against capitalism. Daria, a secretary, works for a company that is stealing the land in the desert - the land that she and the man enjoyed to themselves - in order to make cheap, suburban homes for families. Rod Taylor, a very underrated actor whose most famous roles were in The Time Machine and The Birds, plays her boss. The ending, which I won\\'t ruin - you\\'ve got to see it - is almost offensively cheap. I can, though, understand the treatment of police officers. Not that I disdain them generally, but they were awful at the time. They can still be awful now. They\\'ve always had too much power.<br /><br />These trite arguments against the American way of life still don\\'t effect my opinion of the film much. I find this filtered view of America extremely interesting. I really don\\'t think a hippie would have disagreed with Antonioni. 10/10.'"
      ]
     },
     "execution_count": 6,
     "metadata": {},
     "output_type": "execute_result"
    }
   ],
   "source": [
    "train_X[100]"
   ]
  },
  {
   "cell_type": "markdown",
   "metadata": {},
   "source": [
    "## Step 3: Processing the data\n",
    "\n",
    "Now that we have our training and testing datasets merged and ready to use, we need to start processing the raw data into something that will be useable by our machine learning algorithm. To begin with, we remove any html formatting that may appear in the reviews and perform some standard natural language processing in order to homogenize the data."
   ]
  },
  {
   "cell_type": "code",
   "execution_count": 7,
   "metadata": {},
   "outputs": [
    {
     "name": "stderr",
     "output_type": "stream",
     "text": [
      "[nltk_data] Downloading package stopwords to\n",
      "[nltk_data]     /home/ec2-user/nltk_data...\n",
      "[nltk_data]   Unzipping corpora/stopwords.zip.\n"
     ]
    }
   ],
   "source": [
    "import nltk\n",
    "nltk.download(\"stopwords\")\n",
    "from nltk.corpus import stopwords\n",
    "from nltk.stem.porter import *\n",
    "stemmer = PorterStemmer()"
   ]
  },
  {
   "cell_type": "code",
   "execution_count": 8,
   "metadata": {},
   "outputs": [],
   "source": [
    "import re\n",
    "from bs4 import BeautifulSoup\n",
    "\n",
    "def review_to_words(review):\n",
    "    text = BeautifulSoup(review, \"html.parser\").get_text() # Remove HTML tags\n",
    "    text = re.sub(r\"[^a-zA-Z0-9]\", \" \", text.lower()) # Convert to lower case\n",
    "    words = text.split() # Split string into words\n",
    "    words = [w for w in words if w not in stopwords.words(\"english\")] # Remove stopwords\n",
    "    words = [PorterStemmer().stem(w) for w in words] # stem\n",
    "    \n",
    "    return words"
   ]
  },
  {
   "cell_type": "code",
   "execution_count": 9,
   "metadata": {},
   "outputs": [
    {
     "data": {
      "text/plain": [
       "['know',\n",
       " 'unpopular',\n",
       " 'posit',\n",
       " 'concern',\n",
       " 'zabriski',\n",
       " 'point',\n",
       " 'love',\n",
       " 'film',\n",
       " 'know',\n",
       " 'know',\n",
       " 'legitim',\n",
       " 'call',\n",
       " 'antonioni',\n",
       " 'fanat',\n",
       " 'love',\n",
       " 'l',\n",
       " 'avventura',\n",
       " 'love',\n",
       " 'la',\n",
       " 'nott',\n",
       " 'love',\n",
       " 'l',\n",
       " 'ecliss',\n",
       " 'love',\n",
       " 'red',\n",
       " 'desert',\n",
       " 'love',\n",
       " 'blowup',\n",
       " 'love',\n",
       " 'profession',\n",
       " 'report',\n",
       " 'aka',\n",
       " 'passeng',\n",
       " 'antonioni',\n",
       " 'film',\n",
       " 'love',\n",
       " 'one',\n",
       " 'ever',\n",
       " 'given',\n",
       " 'less',\n",
       " '8',\n",
       " '10',\n",
       " 'one',\n",
       " 'three',\n",
       " 'given',\n",
       " 'less',\n",
       " '10',\n",
       " '10',\n",
       " 'la',\n",
       " 'nott',\n",
       " 'l',\n",
       " 'ecliss',\n",
       " 'two',\n",
       " 'though',\n",
       " 'fulli',\n",
       " 'acknowledg',\n",
       " 'see',\n",
       " 'beyond',\n",
       " 'cloud',\n",
       " 'fairli',\n",
       " 'call',\n",
       " 'aw',\n",
       " 'film',\n",
       " 'howev',\n",
       " 'better',\n",
       " 'aw',\n",
       " 'film',\n",
       " 'catch',\n",
       " 'drift',\n",
       " 'antonioni',\n",
       " 'fan',\n",
       " 'logic',\n",
       " 'ignor',\n",
       " 'even',\n",
       " 'casual',\n",
       " 'fan',\n",
       " 'though',\n",
       " 'wonder',\n",
       " 'whether',\n",
       " 'particular',\n",
       " 'film',\n",
       " 'whose',\n",
       " 'name',\n",
       " 'spoken',\n",
       " 'often',\n",
       " 'follow',\n",
       " 'bya',\n",
       " 'spit',\n",
       " 'gener',\n",
       " 'despis',\n",
       " 'even',\n",
       " 'antonioni',\n",
       " 'admir',\n",
       " 'worth',\n",
       " 'see',\n",
       " 'answer',\n",
       " 'ye',\n",
       " 'okay',\n",
       " 'reason',\n",
       " 'peopl',\n",
       " 'tend',\n",
       " 'hate',\n",
       " '99',\n",
       " 'film',\n",
       " 'watcher',\n",
       " 'care',\n",
       " 'narr',\n",
       " 'film',\n",
       " 'well',\n",
       " 'exactli',\n",
       " 'true',\n",
       " 'film',\n",
       " 'amaz',\n",
       " 'particular',\n",
       " 'aspect',\n",
       " 'say',\n",
       " 'act',\n",
       " 'cinematographi',\n",
       " 'direct',\n",
       " 'decent',\n",
       " 'narr',\n",
       " 'film',\n",
       " 'watcher',\n",
       " 'might',\n",
       " 'well',\n",
       " 'love',\n",
       " 'film',\n",
       " 'amaz',\n",
       " 'visual',\n",
       " 'masterpiec',\n",
       " 'lame',\n",
       " 'illog',\n",
       " 'stori',\n",
       " 'anoth',\n",
       " 'thing',\n",
       " 'ruin',\n",
       " 'cinema',\n",
       " 'year',\n",
       " 'logic',\n",
       " 'absolut',\n",
       " 'hate',\n",
       " 'film',\n",
       " 'actual',\n",
       " 'agre',\n",
       " 'way',\n",
       " 'much',\n",
       " 'may',\n",
       " 'dislik',\n",
       " 'want',\n",
       " 'chang',\n",
       " 'view',\n",
       " 'realli',\n",
       " 'difficult',\n",
       " 'love',\n",
       " 'film',\n",
       " 'whose',\n",
       " 'narr',\n",
       " 'perceiv',\n",
       " 'poor',\n",
       " 'howev',\n",
       " 'peopl',\n",
       " 'tend',\n",
       " 'get',\n",
       " 'annoy',\n",
       " 'loos',\n",
       " 'narr',\n",
       " 'certainli',\n",
       " 'must',\n",
       " 'drive',\n",
       " 'viewer',\n",
       " 'away',\n",
       " 'zabriski',\n",
       " 'point',\n",
       " 'could',\n",
       " 'relat',\n",
       " 'stori',\n",
       " 'probabl',\n",
       " 'would',\n",
       " 'think',\n",
       " 'nonsens',\n",
       " 'actual',\n",
       " 'made',\n",
       " 'whole',\n",
       " 'endeavor',\n",
       " 'fantast',\n",
       " 'beauti',\n",
       " 'actual',\n",
       " 'compar',\n",
       " 'favor',\n",
       " '2001',\n",
       " 'favorit',\n",
       " 'film',\n",
       " 'howev',\n",
       " '2001',\n",
       " 'perfectli',\n",
       " 'coher',\n",
       " 'compar',\n",
       " 'rambl',\n",
       " 'narr',\n",
       " 'film',\n",
       " 'zabriski',\n",
       " 'point',\n",
       " 'spade',\n",
       " 'mood',\n",
       " 'music',\n",
       " 'help',\n",
       " 'lot',\n",
       " 'score',\n",
       " 'includ',\n",
       " 'lot',\n",
       " 'act',\n",
       " 'day',\n",
       " 'includ',\n",
       " 'pink',\n",
       " 'floyd',\n",
       " 'mood',\n",
       " 'kind',\n",
       " 'similar',\n",
       " 'mood',\n",
       " 'antonioni',\n",
       " 'masterpiec',\n",
       " 'fill',\n",
       " 'loneli',\n",
       " 'desol',\n",
       " 'also',\n",
       " 'freedom',\n",
       " 'come',\n",
       " 'best',\n",
       " 'sequenc',\n",
       " 'film',\n",
       " 'lead',\n",
       " 'man',\n",
       " 'woman',\n",
       " 'name',\n",
       " 'daria',\n",
       " 'know',\n",
       " 'rememb',\n",
       " 'name',\n",
       " 'pull',\n",
       " 'vehicl',\n",
       " 'next',\n",
       " 'histor',\n",
       " 'marker',\n",
       " 'desert',\n",
       " 'highway',\n",
       " 'beyond',\n",
       " 'stone',\n",
       " 'wall',\n",
       " 'erect',\n",
       " 'keep',\n",
       " 'car',\n",
       " 'fli',\n",
       " 'ancient',\n",
       " 'lakeb',\n",
       " 'basic',\n",
       " 'rocki',\n",
       " 'desert',\n",
       " 'two',\n",
       " 'go',\n",
       " 'play',\n",
       " 'set',\n",
       " 'enorm',\n",
       " 'beauti',\n",
       " 'woman',\n",
       " 'say',\n",
       " 'beauti',\n",
       " 'place',\n",
       " 'think',\n",
       " 'man',\n",
       " 'think',\n",
       " 'dead',\n",
       " 'inclin',\n",
       " 'whether',\n",
       " 'good',\n",
       " 'thing',\n",
       " 'bad',\n",
       " 'thing',\n",
       " 'lot',\n",
       " 'like',\n",
       " 'sentiment',\n",
       " 'express',\n",
       " 'antonioni',\n",
       " 'film',\n",
       " 'charact',\n",
       " 'constantli',\n",
       " 'want',\n",
       " 'disappear',\n",
       " 'becom',\n",
       " 'invis',\n",
       " 'instead',\n",
       " 'david',\n",
       " 'lock',\n",
       " 'protagonist',\n",
       " 'passeng',\n",
       " 'fed',\n",
       " 'journal',\n",
       " 'young',\n",
       " 'hippi',\n",
       " 'sick',\n",
       " 'friend',\n",
       " 'polit',\n",
       " 'think',\n",
       " 'talk',\n",
       " 'much',\n",
       " 'act',\n",
       " 'feel',\n",
       " 'right',\n",
       " 'least',\n",
       " 'say',\n",
       " 'seem',\n",
       " 'like',\n",
       " 'want',\n",
       " 'situat',\n",
       " 'film',\n",
       " 'also',\n",
       " 'simpli',\n",
       " 'amaz',\n",
       " 'visual',\n",
       " 'antonioni',\n",
       " 'film',\n",
       " 'identifi',\n",
       " 'frame',\n",
       " 'visual',\n",
       " 'style',\n",
       " 'alway',\n",
       " 'build',\n",
       " 'like',\n",
       " 'passeng',\n",
       " 'zabriski',\n",
       " 'point',\n",
       " 'zabriski',\n",
       " 'point',\n",
       " 'might',\n",
       " 'ultim',\n",
       " 'accomplish',\n",
       " 'aspect',\n",
       " 'well',\n",
       " 'might',\n",
       " 'sound',\n",
       " 'odd',\n",
       " 'l',\n",
       " 'avventura',\n",
       " 'red',\n",
       " 'desert',\n",
       " 'amaz',\n",
       " 'pictori',\n",
       " 'think',\n",
       " 'camera',\n",
       " 'movement',\n",
       " 'particularli',\n",
       " 'amaz',\n",
       " 'obvious',\n",
       " 'made',\n",
       " 'ton',\n",
       " 'money',\n",
       " 'blowup',\n",
       " 'biggest',\n",
       " 'arthous',\n",
       " 'hit',\n",
       " 'day',\n",
       " 'biggest',\n",
       " 'ever',\n",
       " 'point',\n",
       " 'spend',\n",
       " 'well',\n",
       " 'especi',\n",
       " 'aerial',\n",
       " 'shot',\n",
       " 'one',\n",
       " 'film',\n",
       " 'greatest',\n",
       " 'sequenc',\n",
       " 'involv',\n",
       " 'man',\n",
       " 'stolen',\n",
       " 'man',\n",
       " 'privat',\n",
       " 'airplan',\n",
       " 'dive',\n",
       " 'bomb',\n",
       " 'daria',\n",
       " 'car',\n",
       " 'one',\n",
       " 'thing',\n",
       " 'fairli',\n",
       " 'critic',\n",
       " 'film',\n",
       " 'polit',\n",
       " 'certainli',\n",
       " 'facil',\n",
       " 'hippi',\n",
       " 'facil',\n",
       " 'antonioni',\n",
       " 'vision',\n",
       " 'hippi',\n",
       " 'itali',\n",
       " 'cours',\n",
       " 'bizarr',\n",
       " 'well',\n",
       " 'filter',\n",
       " 'foreign',\n",
       " 'eye',\n",
       " 'rather',\n",
       " 'childish',\n",
       " 'critic',\n",
       " 'advertis',\n",
       " 'critic',\n",
       " 'still',\n",
       " 'exist',\n",
       " 'today',\n",
       " 'say',\n",
       " 'peopl',\n",
       " 'ignor',\n",
       " 'hurt',\n",
       " 'walk',\n",
       " 'around',\n",
       " 'buy',\n",
       " 'thing',\n",
       " 'want',\n",
       " 'billboard',\n",
       " 'also',\n",
       " 'critic',\n",
       " 'capit',\n",
       " 'daria',\n",
       " 'secretari',\n",
       " 'work',\n",
       " 'compani',\n",
       " 'steal',\n",
       " 'land',\n",
       " 'desert',\n",
       " 'land',\n",
       " 'man',\n",
       " 'enjoy',\n",
       " 'order',\n",
       " 'make',\n",
       " 'cheap',\n",
       " 'suburban',\n",
       " 'home',\n",
       " 'famili',\n",
       " 'rod',\n",
       " 'taylor',\n",
       " 'underr',\n",
       " 'actor',\n",
       " 'whose',\n",
       " 'famou',\n",
       " 'role',\n",
       " 'time',\n",
       " 'machin',\n",
       " 'bird',\n",
       " 'play',\n",
       " 'boss',\n",
       " 'end',\n",
       " 'ruin',\n",
       " 'got',\n",
       " 'see',\n",
       " 'almost',\n",
       " 'offens',\n",
       " 'cheap',\n",
       " 'though',\n",
       " 'understand',\n",
       " 'treatment',\n",
       " 'polic',\n",
       " 'offic',\n",
       " 'disdain',\n",
       " 'gener',\n",
       " 'aw',\n",
       " 'time',\n",
       " 'still',\n",
       " 'aw',\n",
       " 'alway',\n",
       " 'much',\n",
       " 'power',\n",
       " 'trite',\n",
       " 'argument',\n",
       " 'american',\n",
       " 'way',\n",
       " 'life',\n",
       " 'still',\n",
       " 'effect',\n",
       " 'opinion',\n",
       " 'film',\n",
       " 'much',\n",
       " 'find',\n",
       " 'filter',\n",
       " 'view',\n",
       " 'america',\n",
       " 'extrem',\n",
       " 'interest',\n",
       " 'realli',\n",
       " 'think',\n",
       " 'hippi',\n",
       " 'would',\n",
       " 'disagre',\n",
       " 'antonioni',\n",
       " '10',\n",
       " '10']"
      ]
     },
     "execution_count": 9,
     "metadata": {},
     "output_type": "execute_result"
    }
   ],
   "source": [
    "review_to_words(train_X[100])"
   ]
  },
  {
   "cell_type": "code",
   "execution_count": 10,
   "metadata": {},
   "outputs": [],
   "source": [
    "import pickle\n",
    "\n",
    "cache_dir = os.path.join(\"../cache\", \"sentiment_analysis\")  # where to store cache files\n",
    "os.makedirs(cache_dir, exist_ok=True)  # ensure cache directory exists\n",
    "\n",
    "def preprocess_data(data_train, data_test, labels_train, labels_test,\n",
    "                    cache_dir=cache_dir, cache_file=\"preprocessed_data.pkl\"):\n",
    "    \"\"\"Convert each review to words; read from cache if available.\"\"\"\n",
    "\n",
    "    # If cache_file is not None, try to read from it first\n",
    "    cache_data = None\n",
    "    if cache_file is not None:\n",
    "        try:\n",
    "            with open(os.path.join(cache_dir, cache_file), \"rb\") as f:\n",
    "                cache_data = pickle.load(f)\n",
    "            print(\"Read preprocessed data from cache file:\", cache_file)\n",
    "        except:\n",
    "            pass  # unable to read from cache, but that's okay\n",
    "    \n",
    "    # If cache is missing, then do the heavy lifting\n",
    "    if cache_data is None:\n",
    "        # Preprocess training and test data to obtain words for each review\n",
    "        #words_train = list(map(review_to_words, data_train))\n",
    "        #words_test = list(map(review_to_words, data_test))\n",
    "        words_train = [review_to_words(review) for review in data_train]\n",
    "        words_test = [review_to_words(review) for review in data_test]\n",
    "        \n",
    "        # Write to cache file for future runs\n",
    "        if cache_file is not None:\n",
    "            cache_data = dict(words_train=words_train, words_test=words_test,\n",
    "                              labels_train=labels_train, labels_test=labels_test)\n",
    "            with open(os.path.join(cache_dir, cache_file), \"wb\") as f:\n",
    "                pickle.dump(cache_data, f)\n",
    "            print(\"Wrote preprocessed data to cache file:\", cache_file)\n",
    "    else:\n",
    "        # Unpack data loaded from cache file\n",
    "        words_train, words_test, labels_train, labels_test = (cache_data['words_train'],\n",
    "                cache_data['words_test'], cache_data['labels_train'], cache_data['labels_test'])\n",
    "    \n",
    "    return words_train, words_test, labels_train, labels_test"
   ]
  },
  {
   "cell_type": "code",
   "execution_count": 11,
   "metadata": {},
   "outputs": [
    {
     "name": "stdout",
     "output_type": "stream",
     "text": [
      "Wrote preprocessed data to cache file: preprocessed_data.pkl\n"
     ]
    }
   ],
   "source": [
    "# Preprocess data\n",
    "train_X, test_X, train_y, test_y = preprocess_data(train_X, test_X, train_y, test_y)"
   ]
  },
  {
   "cell_type": "markdown",
   "metadata": {},
   "source": [
    "### Extract Bag-of-Words features\n",
    "\n",
    "For the model we will be implementing, rather than using the reviews directly, we are going to transform each review into a Bag-of-Words feature representation. Keep in mind that 'in the wild' we will only have access to the training set so our transformer can only use the training set to construct a representation."
   ]
  },
  {
   "cell_type": "code",
   "execution_count": 12,
   "metadata": {},
   "outputs": [
    {
     "name": "stderr",
     "output_type": "stream",
     "text": [
      "/home/ec2-user/anaconda3/envs/pytorch_p36/lib/python3.6/site-packages/sklearn/externals/joblib/__init__.py:15: FutureWarning: sklearn.externals.joblib is deprecated in 0.21 and will be removed in 0.23. Please import this functionality directly from joblib, which can be installed with: pip install joblib. If this warning is raised when loading pickled models, you may need to re-serialize those models with scikit-learn 0.21+.\n",
      "  warnings.warn(msg, category=FutureWarning)\n"
     ]
    }
   ],
   "source": [
    "import numpy as np\n",
    "from sklearn.feature_extraction.text import CountVectorizer\n",
    "from sklearn.externals import joblib\n",
    "# joblib is an enhanced version of pickle that is more efficient for storing NumPy arrays\n",
    "\n",
    "def extract_BoW_features(words_train, words_test, vocabulary_size=5000,\n",
    "                         cache_dir=cache_dir, cache_file=\"bow_features.pkl\"):\n",
    "    \"\"\"Extract Bag-of-Words for a given set of documents, already preprocessed into words.\"\"\"\n",
    "    \n",
    "    # If cache_file is not None, try to read from it first\n",
    "    cache_data = None\n",
    "    if cache_file is not None:\n",
    "        try:\n",
    "            with open(os.path.join(cache_dir, cache_file), \"rb\") as f:\n",
    "                cache_data = joblib.load(f)\n",
    "            print(\"Read features from cache file:\", cache_file)\n",
    "        except:\n",
    "            pass  # unable to read from cache, but that's okay\n",
    "    \n",
    "    # If cache is missing, then do the heavy lifting\n",
    "    if cache_data is None:\n",
    "        # Fit a vectorizer to training documents and use it to transform them\n",
    "        # NOTE: Training documents have already been preprocessed and tokenized into words;\n",
    "        #       pass in dummy functions to skip those steps, e.g. preprocessor=lambda x: x\n",
    "        vectorizer = CountVectorizer(max_features=vocabulary_size,\n",
    "                preprocessor=lambda x: x, tokenizer=lambda x: x)  # already preprocessed\n",
    "        features_train = vectorizer.fit_transform(words_train).toarray()\n",
    "\n",
    "        # Apply the same vectorizer to transform the test documents (ignore unknown words)\n",
    "        features_test = vectorizer.transform(words_test).toarray()\n",
    "        \n",
    "        # NOTE: Remember to convert the features using .toarray() for a compact representation\n",
    "        \n",
    "        # Write to cache file for future runs (store vocabulary as well)\n",
    "        if cache_file is not None:\n",
    "            vocabulary = vectorizer.vocabulary_\n",
    "            cache_data = dict(features_train=features_train, features_test=features_test,\n",
    "                             vocabulary=vocabulary)\n",
    "            with open(os.path.join(cache_dir, cache_file), \"wb\") as f:\n",
    "                joblib.dump(cache_data, f)\n",
    "            print(\"Wrote features to cache file:\", cache_file)\n",
    "    else:\n",
    "        # Unpack data loaded from cache file\n",
    "        features_train, features_test, vocabulary = (cache_data['features_train'],\n",
    "                cache_data['features_test'], cache_data['vocabulary'])\n",
    "    \n",
    "    # Return both the extracted features as well as the vocabulary\n",
    "    return features_train, features_test, vocabulary"
   ]
  },
  {
   "cell_type": "code",
   "execution_count": 13,
   "metadata": {},
   "outputs": [
    {
     "name": "stdout",
     "output_type": "stream",
     "text": [
      "Wrote features to cache file: bow_features.pkl\n"
     ]
    }
   ],
   "source": [
    "# Extract Bag of Words features for both training and test datasets\n",
    "train_X, test_X, vocabulary = extract_BoW_features(train_X, test_X)"
   ]
  },
  {
   "cell_type": "code",
   "execution_count": 14,
   "metadata": {},
   "outputs": [
    {
     "data": {
      "text/plain": [
       "5000"
      ]
     },
     "execution_count": 14,
     "metadata": {},
     "output_type": "execute_result"
    }
   ],
   "source": [
    "len(train_X[100])"
   ]
  },
  {
   "cell_type": "markdown",
   "metadata": {},
   "source": [
    "## Step 4: Classification using XGBoost\n",
    "\n",
    "Now that we have created the feature representation of our training (and testing) data, it is time to start setting up and using the XGBoost classifier provided by SageMaker.\n",
    "\n",
    "### Writing the dataset\n",
    "\n",
    "The XGBoost classifier that we will be using requires the dataset to be written to a file and stored using Amazon S3. To do this, we will start by splitting the training dataset into two parts, the data we will train the model with and a validation set. Then, we will write those datasets to a file and upload the files to S3. In addition, we will write the test set input to a file and upload the file to S3. This is so that we can use SageMakers Batch Transform functionality to test our model once we've fit it."
   ]
  },
  {
   "cell_type": "code",
   "execution_count": 15,
   "metadata": {},
   "outputs": [],
   "source": [
    "import pandas as pd\n",
    "\n",
    "# Earlier we shuffled the training dataset so to make things simple we can just assign\n",
    "# the first 10 000 reviews to the validation set and use the remaining reviews for training.\n",
    "val_X = pd.DataFrame(train_X[:10000])\n",
    "train_X = pd.DataFrame(train_X[10000:])\n",
    "\n",
    "val_y = pd.DataFrame(train_y[:10000])\n",
    "train_y = pd.DataFrame(train_y[10000:])"
   ]
  },
  {
   "cell_type": "markdown",
   "metadata": {},
   "source": [
    "The documentation for the XGBoost algorithm in SageMaker requires that the saved datasets should contain no headers or index and that for the training and validation data, the label should occur first for each sample.\n",
    "\n",
    "For more information about this and other algorithms, the SageMaker developer documentation can be found on __[Amazon's website.](https://docs.aws.amazon.com/sagemaker/latest/dg/)__"
   ]
  },
  {
   "cell_type": "code",
   "execution_count": 16,
   "metadata": {},
   "outputs": [],
   "source": [
    "# First we make sure that the local directory in which we'd like to store the training and validation csv files exists.\n",
    "data_dir = '../data/sentiment_update'\n",
    "if not os.path.exists(data_dir):\n",
    "    os.makedirs(data_dir)"
   ]
  },
  {
   "cell_type": "code",
   "execution_count": 17,
   "metadata": {},
   "outputs": [],
   "source": [
    "pd.DataFrame(test_X).to_csv(os.path.join(data_dir, 'test.csv'), header=False, index=False)\n",
    "\n",
    "pd.concat([val_y, val_X], axis=1).to_csv(os.path.join(data_dir, 'validation.csv'), header=False, index=False)\n",
    "pd.concat([train_y, train_X], axis=1).to_csv(os.path.join(data_dir, 'train.csv'), header=False, index=False)"
   ]
  },
  {
   "cell_type": "code",
   "execution_count": 18,
   "metadata": {},
   "outputs": [],
   "source": [
    "# To save a bit of memory we can set text_X, train_X, val_X, train_y and val_y to None.\n",
    "\n",
    "test_X = train_X = val_X = train_y = val_y = None"
   ]
  },
  {
   "cell_type": "markdown",
   "metadata": {},
   "source": [
    "### Uploading Training / Validation files to S3\n",
    "\n",
    "Amazon's S3 service allows us to store files that can be access by both the built-in training models such as the XGBoost model we will be using as well as custom models such as the one we will see a little later.\n",
    "\n",
    "For this, and most other tasks we will be doing using SageMaker, there are two methods we could use. The first is to use the low level functionality of SageMaker which requires knowing each of the objects involved in the SageMaker environment. The second is to use the high level functionality in which certain choices have been made on the user's behalf. The low level approach benefits from allowing the user a great deal of flexibility while the high level approach makes development much quicker. For our purposes we will opt to use the high level approach although using the low-level approach is certainly an option.\n",
    "\n",
    "Recall the method `upload_data()` which is a member of object representing our current SageMaker session. What this method does is upload the data to the default bucket (which is created if it does not exist) into the path described by the key_prefix variable. To see this for yourself, once you have uploaded the data files, go to the S3 console and look to see where the files have been uploaded.\n",
    "\n",
    "For additional resources, see the __[SageMaker API documentation](http://sagemaker.readthedocs.io/en/latest/)__ and in addition the __[SageMaker Developer Guide.](https://docs.aws.amazon.com/sagemaker/latest/dg/)__"
   ]
  },
  {
   "cell_type": "code",
   "execution_count": 19,
   "metadata": {},
   "outputs": [],
   "source": [
    "import sagemaker\n",
    "\n",
    "session = sagemaker.Session() # Store the current SageMaker session\n",
    "\n",
    "# S3 prefix (which folder will we use)\n",
    "prefix = 'sentiment-update'\n",
    "\n",
    "test_location = session.upload_data(os.path.join(data_dir, 'test.csv'), key_prefix=prefix)\n",
    "val_location = session.upload_data(os.path.join(data_dir, 'validation.csv'), key_prefix=prefix)\n",
    "train_location = session.upload_data(os.path.join(data_dir, 'train.csv'), key_prefix=prefix)"
   ]
  },
  {
   "cell_type": "markdown",
   "metadata": {},
   "source": [
    "### Creating the XGBoost model\n",
    "\n",
    "Now that the data has been uploaded it is time to create the XGBoost model. To begin with, we need to do some setup. At this point it is worth discussing what a model is in SageMaker. It is easiest to think of a model of comprising three different objects in the SageMaker ecosystem, which interact with one another.\n",
    "\n",
    "- Model Artifacts\n",
    "- Training Code (Container)\n",
    "- Inference Code (Container)\n",
    "\n",
    "The Model Artifacts are what you might think of as the actual model itself. For example, if you were building a neural network, the model artifacts would be the weights of the various layers. In our case, for an XGBoost model, the artifacts are the actual trees that are created during training.\n",
    "\n",
    "The other two objects, the training code and the inference code are then used the manipulate the training artifacts. More precisely, the training code uses the training data that is provided and creates the model artifacts, while the inference code uses the model artifacts to make predictions on new data.\n",
    "\n",
    "The way that SageMaker runs the training and inference code is by making use of Docker containers. For now, think of a container as being a way of packaging code up so that dependencies aren't an issue."
   ]
  },
  {
   "cell_type": "code",
   "execution_count": 20,
   "metadata": {},
   "outputs": [],
   "source": [
    "from sagemaker import get_execution_role\n",
    "\n",
    "# Our current execution role is require when creating the model as the training\n",
    "# and inference code will need to access the model artifacts.\n",
    "role = get_execution_role()"
   ]
  },
  {
   "cell_type": "code",
   "execution_count": 21,
   "metadata": {},
   "outputs": [
    {
     "name": "stderr",
     "output_type": "stream",
     "text": [
      "WARNING:root:There is a more up to date SageMaker XGBoost image. To use the newer image, please set 'repo_version'='1.0-1'. For example:\n",
      "\tget_image_uri(region, 'xgboost', '1.0-1').\n"
     ]
    }
   ],
   "source": [
    "# We need to retrieve the location of the container which is provided by Amazon for using XGBoost.\n",
    "# As a matter of convenience, the training and inference code both use the same container.\n",
    "from sagemaker.amazon.amazon_estimator import get_image_uri\n",
    "\n",
    "container = get_image_uri(session.boto_region_name, 'xgboost')"
   ]
  },
  {
   "cell_type": "code",
   "execution_count": 22,
   "metadata": {},
   "outputs": [],
   "source": [
    "# First we create a SageMaker estimator object for our model.\n",
    "xgb = sagemaker.estimator.Estimator(container, # The location of the container we wish to use\n",
    "                                    role,                                    # What is our current IAM Role\n",
    "                                    train_instance_count=1,                  # How many compute instances\n",
    "                                    train_instance_type='ml.m4.xlarge',      # What kind of compute instances\n",
    "                                    output_path='s3://{}/{}/output'.format(session.default_bucket(), prefix),\n",
    "                                    sagemaker_session=session)\n",
    "\n",
    "# And then set the algorithm specific parameters.\n",
    "xgb.set_hyperparameters(max_depth=5,\n",
    "                        eta=0.2,\n",
    "                        gamma=4,\n",
    "                        min_child_weight=6,\n",
    "                        subsample=0.8,\n",
    "                        silent=0,\n",
    "                        objective='binary:logistic',\n",
    "                        early_stopping_rounds=10,\n",
    "                        num_round=500)"
   ]
  },
  {
   "cell_type": "markdown",
   "metadata": {},
   "source": [
    "### Fit the XGBoost model\n",
    "\n",
    "Now that our model has been set up we simply need to attach the training and validation datasets and then ask SageMaker to set up the computation."
   ]
  },
  {
   "cell_type": "code",
   "execution_count": 23,
   "metadata": {},
   "outputs": [],
   "source": [
    "s3_input_train = sagemaker.s3_input(s3_data=train_location, content_type='csv')\n",
    "s3_input_validation = sagemaker.s3_input(s3_data=val_location, content_type='csv')"
   ]
  },
  {
   "cell_type": "code",
   "execution_count": 24,
   "metadata": {},
   "outputs": [
    {
     "name": "stdout",
     "output_type": "stream",
     "text": [
      "2020-05-16 19:16:45 Starting - Starting the training job...\n",
      "2020-05-16 19:16:46 Starting - Launching requested ML instances......\n",
      "2020-05-16 19:17:46 Starting - Preparing the instances for training......\n",
      "2020-05-16 19:19:00 Downloading - Downloading input data...\n",
      "2020-05-16 19:19:37 Training - Training image download completed. Training in progress.\u001b[34mArguments: train\u001b[0m\n",
      "\u001b[34m[2020-05-16:19:19:38:INFO] Running standalone xgboost training.\u001b[0m\n",
      "\u001b[34m[2020-05-16:19:19:38:INFO] File size need to be processed in the node: 238.47mb. Available memory size in the node: 8462.78mb\u001b[0m\n",
      "\u001b[34m[2020-05-16:19:19:38:INFO] Determined delimiter of CSV input is ','\u001b[0m\n",
      "\u001b[34m[19:19:38] S3DistributionType set as FullyReplicated\u001b[0m\n",
      "\u001b[34m[19:19:40] 15000x5000 matrix with 75000000 entries loaded from /opt/ml/input/data/train?format=csv&label_column=0&delimiter=,\u001b[0m\n",
      "\u001b[34m[2020-05-16:19:19:40:INFO] Determined delimiter of CSV input is ','\u001b[0m\n",
      "\u001b[34m[19:19:40] S3DistributionType set as FullyReplicated\u001b[0m\n",
      "\u001b[34m[19:19:41] 10000x5000 matrix with 50000000 entries loaded from /opt/ml/input/data/validation?format=csv&label_column=0&delimiter=,\u001b[0m\n",
      "\u001b[34m[19:19:44] src/tree/updater_prune.cc:74: tree pruning end, 1 roots, 38 extra nodes, 4 pruned nodes, max_depth=5\u001b[0m\n",
      "\u001b[34m[0]#011train-error:0.2966#011validation-error:0.3055\u001b[0m\n",
      "\u001b[34mMultiple eval metrics have been passed: 'validation-error' will be used for early stopping.\n",
      "\u001b[0m\n",
      "\u001b[34mWill train until validation-error hasn't improved in 10 rounds.\u001b[0m\n",
      "\u001b[34m[19:19:46] src/tree/updater_prune.cc:74: tree pruning end, 1 roots, 44 extra nodes, 4 pruned nodes, max_depth=5\u001b[0m\n",
      "\u001b[34m[1]#011train-error:0.2824#011validation-error:0.2865\u001b[0m\n",
      "\u001b[34m[19:19:47] src/tree/updater_prune.cc:74: tree pruning end, 1 roots, 36 extra nodes, 8 pruned nodes, max_depth=5\u001b[0m\n",
      "\u001b[34m[2]#011train-error:0.279133#011validation-error:0.2834\u001b[0m\n",
      "\u001b[34m[19:19:49] src/tree/updater_prune.cc:74: tree pruning end, 1 roots, 32 extra nodes, 4 pruned nodes, max_depth=5\u001b[0m\n",
      "\u001b[34m[3]#011train-error:0.2708#011validation-error:0.273\u001b[0m\n",
      "\u001b[34m[19:19:50] src/tree/updater_prune.cc:74: tree pruning end, 1 roots, 40 extra nodes, 4 pruned nodes, max_depth=5\u001b[0m\n",
      "\u001b[34m[4]#011train-error:0.259133#011validation-error:0.2653\u001b[0m\n",
      "\u001b[34m[19:19:51] src/tree/updater_prune.cc:74: tree pruning end, 1 roots, 38 extra nodes, 6 pruned nodes, max_depth=5\u001b[0m\n",
      "\u001b[34m[5]#011train-error:0.254667#011validation-error:0.2619\u001b[0m\n",
      "\u001b[34m[19:19:53] src/tree/updater_prune.cc:74: tree pruning end, 1 roots, 30 extra nodes, 4 pruned nodes, max_depth=5\u001b[0m\n",
      "\u001b[34m[6]#011train-error:0.247733#011validation-error:0.2552\u001b[0m\n",
      "\u001b[34m[19:19:54] src/tree/updater_prune.cc:74: tree pruning end, 1 roots, 28 extra nodes, 14 pruned nodes, max_depth=5\u001b[0m\n",
      "\u001b[34m[7]#011train-error:0.244467#011validation-error:0.2483\u001b[0m\n",
      "\u001b[34m[19:19:55] src/tree/updater_prune.cc:74: tree pruning end, 1 roots, 24 extra nodes, 2 pruned nodes, max_depth=5\u001b[0m\n",
      "\u001b[34m[8]#011train-error:0.232#011validation-error:0.2405\u001b[0m\n",
      "\u001b[34m[19:19:57] src/tree/updater_prune.cc:74: tree pruning end, 1 roots, 36 extra nodes, 4 pruned nodes, max_depth=5\u001b[0m\n",
      "\u001b[34m[9]#011train-error:0.229#011validation-error:0.2386\u001b[0m\n",
      "\u001b[34m[19:19:58] src/tree/updater_prune.cc:74: tree pruning end, 1 roots, 32 extra nodes, 8 pruned nodes, max_depth=5\u001b[0m\n",
      "\u001b[34m[10]#011train-error:0.222933#011validation-error:0.2325\u001b[0m\n",
      "\u001b[34m[19:19:59] src/tree/updater_prune.cc:74: tree pruning end, 1 roots, 32 extra nodes, 4 pruned nodes, max_depth=5\u001b[0m\n",
      "\u001b[34m[11]#011train-error:0.2176#011validation-error:0.2301\u001b[0m\n",
      "\u001b[34m[19:20:01] src/tree/updater_prune.cc:74: tree pruning end, 1 roots, 32 extra nodes, 6 pruned nodes, max_depth=5\u001b[0m\n",
      "\u001b[34m[12]#011train-error:0.2134#011validation-error:0.2284\u001b[0m\n",
      "\u001b[34m[19:20:02] src/tree/updater_prune.cc:74: tree pruning end, 1 roots, 28 extra nodes, 6 pruned nodes, max_depth=5\u001b[0m\n",
      "\u001b[34m[13]#011train-error:0.207067#011validation-error:0.2227\u001b[0m\n",
      "\u001b[34m[19:20:03] src/tree/updater_prune.cc:74: tree pruning end, 1 roots, 24 extra nodes, 12 pruned nodes, max_depth=5\u001b[0m\n",
      "\u001b[34m[14]#011train-error:0.203333#011validation-error:0.2194\u001b[0m\n",
      "\u001b[34m[19:20:05] src/tree/updater_prune.cc:74: tree pruning end, 1 roots, 18 extra nodes, 14 pruned nodes, max_depth=5\u001b[0m\n",
      "\u001b[34m[15]#011train-error:0.199533#011validation-error:0.2155\u001b[0m\n",
      "\u001b[34m[19:20:06] src/tree/updater_prune.cc:74: tree pruning end, 1 roots, 38 extra nodes, 6 pruned nodes, max_depth=5\u001b[0m\n",
      "\u001b[34m[16]#011train-error:0.1944#011validation-error:0.2098\u001b[0m\n",
      "\u001b[34m[19:20:07] src/tree/updater_prune.cc:74: tree pruning end, 1 roots, 32 extra nodes, 2 pruned nodes, max_depth=5\u001b[0m\n",
      "\u001b[34m[17]#011train-error:0.192667#011validation-error:0.2088\u001b[0m\n",
      "\u001b[34m[19:20:09] src/tree/updater_prune.cc:74: tree pruning end, 1 roots, 30 extra nodes, 6 pruned nodes, max_depth=5\u001b[0m\n",
      "\u001b[34m[18]#011train-error:0.189867#011validation-error:0.2082\u001b[0m\n",
      "\u001b[34m[19:20:10] src/tree/updater_prune.cc:74: tree pruning end, 1 roots, 26 extra nodes, 4 pruned nodes, max_depth=5\u001b[0m\n",
      "\u001b[34m[19]#011train-error:0.1856#011validation-error:0.2036\u001b[0m\n",
      "\u001b[34m[19:20:11] src/tree/updater_prune.cc:74: tree pruning end, 1 roots, 26 extra nodes, 10 pruned nodes, max_depth=5\u001b[0m\n",
      "\u001b[34m[20]#011train-error:0.185#011validation-error:0.202\u001b[0m\n",
      "\u001b[34m[19:20:12] src/tree/updater_prune.cc:74: tree pruning end, 1 roots, 26 extra nodes, 8 pruned nodes, max_depth=5\u001b[0m\n",
      "\u001b[34m[21]#011train-error:0.181533#011validation-error:0.2001\u001b[0m\n",
      "\u001b[34m[19:20:14] src/tree/updater_prune.cc:74: tree pruning end, 1 roots, 26 extra nodes, 12 pruned nodes, max_depth=5\u001b[0m\n",
      "\u001b[34m[22]#011train-error:0.178667#011validation-error:0.1972\u001b[0m\n",
      "\u001b[34m[19:20:15] src/tree/updater_prune.cc:74: tree pruning end, 1 roots, 22 extra nodes, 8 pruned nodes, max_depth=5\u001b[0m\n",
      "\u001b[34m[23]#011train-error:0.176333#011validation-error:0.1955\u001b[0m\n",
      "\u001b[34m[19:20:16] src/tree/updater_prune.cc:74: tree pruning end, 1 roots, 24 extra nodes, 8 pruned nodes, max_depth=5\u001b[0m\n",
      "\u001b[34m[24]#011train-error:0.173667#011validation-error:0.1931\u001b[0m\n",
      "\u001b[34m[19:20:18] src/tree/updater_prune.cc:74: tree pruning end, 1 roots, 22 extra nodes, 10 pruned nodes, max_depth=5\u001b[0m\n",
      "\u001b[34m[25]#011train-error:0.1726#011validation-error:0.1914\u001b[0m\n",
      "\u001b[34m[19:20:19] src/tree/updater_prune.cc:74: tree pruning end, 1 roots, 28 extra nodes, 4 pruned nodes, max_depth=5\u001b[0m\n",
      "\u001b[34m[26]#011train-error:0.172333#011validation-error:0.1912\u001b[0m\n",
      "\u001b[34m[19:20:20] src/tree/updater_prune.cc:74: tree pruning end, 1 roots, 20 extra nodes, 8 pruned nodes, max_depth=5\u001b[0m\n",
      "\u001b[34m[27]#011train-error:0.171467#011validation-error:0.189\u001b[0m\n",
      "\u001b[34m[19:20:21] src/tree/updater_prune.cc:74: tree pruning end, 1 roots, 36 extra nodes, 6 pruned nodes, max_depth=5\u001b[0m\n",
      "\u001b[34m[28]#011train-error:0.170867#011validation-error:0.1882\u001b[0m\n",
      "\u001b[34m[19:20:23] src/tree/updater_prune.cc:74: tree pruning end, 1 roots, 22 extra nodes, 14 pruned nodes, max_depth=5\u001b[0m\n",
      "\u001b[34m[29]#011train-error:0.1692#011validation-error:0.1889\u001b[0m\n",
      "\u001b[34m[19:20:24] src/tree/updater_prune.cc:74: tree pruning end, 1 roots, 24 extra nodes, 14 pruned nodes, max_depth=5\u001b[0m\n",
      "\u001b[34m[30]#011train-error:0.168#011validation-error:0.1881\u001b[0m\n",
      "\u001b[34m[19:20:25] src/tree/updater_prune.cc:74: tree pruning end, 1 roots, 32 extra nodes, 8 pruned nodes, max_depth=5\u001b[0m\n",
      "\u001b[34m[31]#011train-error:0.1666#011validation-error:0.1857\u001b[0m\n",
      "\u001b[34m[19:20:27] src/tree/updater_prune.cc:74: tree pruning end, 1 roots, 28 extra nodes, 10 pruned nodes, max_depth=5\u001b[0m\n",
      "\u001b[34m[32]#011train-error:0.164933#011validation-error:0.1852\u001b[0m\n",
      "\u001b[34m[19:20:28] src/tree/updater_prune.cc:74: tree pruning end, 1 roots, 30 extra nodes, 8 pruned nodes, max_depth=5\u001b[0m\n",
      "\u001b[34m[33]#011train-error:0.1626#011validation-error:0.1824\u001b[0m\n",
      "\u001b[34m[19:20:29] src/tree/updater_prune.cc:74: tree pruning end, 1 roots, 18 extra nodes, 10 pruned nodes, max_depth=5\u001b[0m\n",
      "\u001b[34m[34]#011train-error:0.161933#011validation-error:0.1821\u001b[0m\n",
      "\u001b[34m[19:20:30] src/tree/updater_prune.cc:74: tree pruning end, 1 roots, 20 extra nodes, 10 pruned nodes, max_depth=5\u001b[0m\n",
      "\u001b[34m[35]#011train-error:0.161067#011validation-error:0.1817\u001b[0m\n",
      "\u001b[34m[19:20:32] src/tree/updater_prune.cc:74: tree pruning end, 1 roots, 20 extra nodes, 12 pruned nodes, max_depth=5\u001b[0m\n",
      "\u001b[34m[36]#011train-error:0.1596#011validation-error:0.1797\u001b[0m\n",
      "\u001b[34m[19:20:33] src/tree/updater_prune.cc:74: tree pruning end, 1 roots, 32 extra nodes, 4 pruned nodes, max_depth=5\u001b[0m\n",
      "\u001b[34m[37]#011train-error:0.1568#011validation-error:0.1785\u001b[0m\n",
      "\u001b[34m[19:20:34] src/tree/updater_prune.cc:74: tree pruning end, 1 roots, 20 extra nodes, 12 pruned nodes, max_depth=5\u001b[0m\n",
      "\u001b[34m[38]#011train-error:0.1548#011validation-error:0.1786\u001b[0m\n",
      "\u001b[34m[19:20:35] src/tree/updater_prune.cc:74: tree pruning end, 1 roots, 26 extra nodes, 6 pruned nodes, max_depth=5\u001b[0m\n",
      "\u001b[34m[39]#011train-error:0.153267#011validation-error:0.1778\u001b[0m\n",
      "\u001b[34m[19:20:37] src/tree/updater_prune.cc:74: tree pruning end, 1 roots, 28 extra nodes, 12 pruned nodes, max_depth=5\u001b[0m\n",
      "\u001b[34m[40]#011train-error:0.1528#011validation-error:0.1756\u001b[0m\n",
      "\u001b[34m[19:20:38] src/tree/updater_prune.cc:74: tree pruning end, 1 roots, 24 extra nodes, 6 pruned nodes, max_depth=5\u001b[0m\n",
      "\u001b[34m[41]#011train-error:0.1512#011validation-error:0.1744\u001b[0m\n",
      "\u001b[34m[19:20:39] src/tree/updater_prune.cc:74: tree pruning end, 1 roots, 28 extra nodes, 6 pruned nodes, max_depth=5\u001b[0m\n",
      "\u001b[34m[42]#011train-error:0.148933#011validation-error:0.1739\u001b[0m\n",
      "\u001b[34m[19:20:41] src/tree/updater_prune.cc:74: tree pruning end, 1 roots, 10 extra nodes, 6 pruned nodes, max_depth=5\u001b[0m\n",
      "\u001b[34m[43]#011train-error:0.148733#011validation-error:0.1738\u001b[0m\n"
     ]
    },
    {
     "name": "stdout",
     "output_type": "stream",
     "text": [
      "\u001b[34m[19:20:42] src/tree/updater_prune.cc:74: tree pruning end, 1 roots, 24 extra nodes, 12 pruned nodes, max_depth=5\u001b[0m\n",
      "\u001b[34m[44]#011train-error:0.148067#011validation-error:0.172\u001b[0m\n",
      "\u001b[34m[19:20:43] src/tree/updater_prune.cc:74: tree pruning end, 1 roots, 22 extra nodes, 10 pruned nodes, max_depth=5\u001b[0m\n",
      "\u001b[34m[45]#011train-error:0.146267#011validation-error:0.1716\u001b[0m\n",
      "\u001b[34m[19:20:44] src/tree/updater_prune.cc:74: tree pruning end, 1 roots, 16 extra nodes, 4 pruned nodes, max_depth=5\u001b[0m\n",
      "\u001b[34m[46]#011train-error:0.145133#011validation-error:0.171\u001b[0m\n",
      "\u001b[34m[19:20:46] src/tree/updater_prune.cc:74: tree pruning end, 1 roots, 16 extra nodes, 16 pruned nodes, max_depth=5\u001b[0m\n",
      "\u001b[34m[47]#011train-error:0.145#011validation-error:0.1694\u001b[0m\n",
      "\u001b[34m[19:20:47] src/tree/updater_prune.cc:74: tree pruning end, 1 roots, 16 extra nodes, 16 pruned nodes, max_depth=5\u001b[0m\n",
      "\u001b[34m[48]#011train-error:0.144067#011validation-error:0.1684\u001b[0m\n",
      "\u001b[34m[19:20:48] src/tree/updater_prune.cc:74: tree pruning end, 1 roots, 18 extra nodes, 10 pruned nodes, max_depth=5\u001b[0m\n",
      "\u001b[34m[49]#011train-error:0.143133#011validation-error:0.1682\u001b[0m\n",
      "\u001b[34m[19:20:49] src/tree/updater_prune.cc:74: tree pruning end, 1 roots, 36 extra nodes, 4 pruned nodes, max_depth=5\u001b[0m\n",
      "\u001b[34m[50]#011train-error:0.141267#011validation-error:0.1661\u001b[0m\n",
      "\u001b[34m[19:20:51] src/tree/updater_prune.cc:74: tree pruning end, 1 roots, 12 extra nodes, 8 pruned nodes, max_depth=5\u001b[0m\n",
      "\u001b[34m[51]#011train-error:0.139867#011validation-error:0.1656\u001b[0m\n",
      "\u001b[34m[19:20:52] src/tree/updater_prune.cc:74: tree pruning end, 1 roots, 22 extra nodes, 4 pruned nodes, max_depth=5\u001b[0m\n",
      "\u001b[34m[52]#011train-error:0.138933#011validation-error:0.1665\u001b[0m\n",
      "\u001b[34m[19:20:53] src/tree/updater_prune.cc:74: tree pruning end, 1 roots, 28 extra nodes, 4 pruned nodes, max_depth=5\u001b[0m\n",
      "\u001b[34m[53]#011train-error:0.136933#011validation-error:0.1655\u001b[0m\n",
      "\u001b[34m[19:20:54] src/tree/updater_prune.cc:74: tree pruning end, 1 roots, 18 extra nodes, 10 pruned nodes, max_depth=5\u001b[0m\n",
      "\u001b[34m[54]#011train-error:0.135667#011validation-error:0.1659\u001b[0m\n",
      "\u001b[34m[19:20:56] src/tree/updater_prune.cc:74: tree pruning end, 1 roots, 22 extra nodes, 14 pruned nodes, max_depth=5\u001b[0m\n",
      "\u001b[34m[55]#011train-error:0.1348#011validation-error:0.1655\u001b[0m\n",
      "\u001b[34m[19:20:57] src/tree/updater_prune.cc:74: tree pruning end, 1 roots, 18 extra nodes, 6 pruned nodes, max_depth=5\u001b[0m\n",
      "\u001b[34m[56]#011train-error:0.133867#011validation-error:0.1652\u001b[0m\n",
      "\u001b[34m[19:20:58] src/tree/updater_prune.cc:74: tree pruning end, 1 roots, 14 extra nodes, 12 pruned nodes, max_depth=5\u001b[0m\n",
      "\u001b[34m[57]#011train-error:0.133267#011validation-error:0.165\u001b[0m\n",
      "\u001b[34m[19:21:00] src/tree/updater_prune.cc:74: tree pruning end, 1 roots, 14 extra nodes, 10 pruned nodes, max_depth=5\u001b[0m\n",
      "\u001b[34m[58]#011train-error:0.132133#011validation-error:0.1651\u001b[0m\n",
      "\u001b[34m[19:21:01] src/tree/updater_prune.cc:74: tree pruning end, 1 roots, 30 extra nodes, 14 pruned nodes, max_depth=5\u001b[0m\n",
      "\u001b[34m[59]#011train-error:0.131467#011validation-error:0.1644\u001b[0m\n",
      "\u001b[34m[19:21:02] src/tree/updater_prune.cc:74: tree pruning end, 1 roots, 14 extra nodes, 16 pruned nodes, max_depth=5\u001b[0m\n",
      "\u001b[34m[60]#011train-error:0.130867#011validation-error:0.1631\u001b[0m\n",
      "\u001b[34m[19:21:03] src/tree/updater_prune.cc:74: tree pruning end, 1 roots, 20 extra nodes, 6 pruned nodes, max_depth=5\u001b[0m\n",
      "\u001b[34m[61]#011train-error:0.129933#011validation-error:0.164\u001b[0m\n",
      "\u001b[34m[19:21:05] src/tree/updater_prune.cc:74: tree pruning end, 1 roots, 16 extra nodes, 6 pruned nodes, max_depth=5\u001b[0m\n",
      "\u001b[34m[62]#011train-error:0.128867#011validation-error:0.1631\u001b[0m\n",
      "\u001b[34m[19:21:06] src/tree/updater_prune.cc:74: tree pruning end, 1 roots, 26 extra nodes, 6 pruned nodes, max_depth=5\u001b[0m\n",
      "\u001b[34m[63]#011train-error:0.127533#011validation-error:0.1626\u001b[0m\n",
      "\u001b[34m[19:21:07] src/tree/updater_prune.cc:74: tree pruning end, 1 roots, 20 extra nodes, 6 pruned nodes, max_depth=5\u001b[0m\n",
      "\u001b[34m[64]#011train-error:0.126933#011validation-error:0.1626\u001b[0m\n",
      "\u001b[34m[19:21:08] src/tree/updater_prune.cc:74: tree pruning end, 1 roots, 22 extra nodes, 8 pruned nodes, max_depth=5\u001b[0m\n",
      "\u001b[34m[65]#011train-error:0.126667#011validation-error:0.1613\u001b[0m\n",
      "\u001b[34m[19:21:10] src/tree/updater_prune.cc:74: tree pruning end, 1 roots, 18 extra nodes, 6 pruned nodes, max_depth=5\u001b[0m\n",
      "\u001b[34m[66]#011train-error:0.126#011validation-error:0.1609\u001b[0m\n",
      "\u001b[34m[19:21:11] src/tree/updater_prune.cc:74: tree pruning end, 1 roots, 22 extra nodes, 12 pruned nodes, max_depth=5\u001b[0m\n",
      "\u001b[34m[67]#011train-error:0.124267#011validation-error:0.1604\u001b[0m\n",
      "\u001b[34m[19:21:12] src/tree/updater_prune.cc:74: tree pruning end, 1 roots, 12 extra nodes, 12 pruned nodes, max_depth=5\u001b[0m\n",
      "\u001b[34m[68]#011train-error:0.1236#011validation-error:0.16\u001b[0m\n",
      "\u001b[34m[19:21:14] src/tree/updater_prune.cc:74: tree pruning end, 1 roots, 18 extra nodes, 6 pruned nodes, max_depth=5\u001b[0m\n",
      "\u001b[34m[69]#011train-error:0.123533#011validation-error:0.1593\u001b[0m\n",
      "\u001b[34m[19:21:15] src/tree/updater_prune.cc:74: tree pruning end, 1 roots, 30 extra nodes, 6 pruned nodes, max_depth=5\u001b[0m\n",
      "\u001b[34m[70]#011train-error:0.122933#011validation-error:0.1596\u001b[0m\n",
      "\u001b[34m[19:21:16] src/tree/updater_prune.cc:74: tree pruning end, 1 roots, 16 extra nodes, 6 pruned nodes, max_depth=5\u001b[0m\n",
      "\u001b[34m[71]#011train-error:0.1222#011validation-error:0.1596\u001b[0m\n",
      "\u001b[34m[19:21:17] src/tree/updater_prune.cc:74: tree pruning end, 1 roots, 24 extra nodes, 6 pruned nodes, max_depth=5\u001b[0m\n",
      "\u001b[34m[72]#011train-error:0.121#011validation-error:0.1599\u001b[0m\n",
      "\u001b[34m[19:21:19] src/tree/updater_prune.cc:74: tree pruning end, 1 roots, 20 extra nodes, 10 pruned nodes, max_depth=5\u001b[0m\n",
      "\u001b[34m[73]#011train-error:0.120333#011validation-error:0.1594\u001b[0m\n",
      "\u001b[34m[19:21:20] src/tree/updater_prune.cc:74: tree pruning end, 1 roots, 20 extra nodes, 8 pruned nodes, max_depth=5\u001b[0m\n",
      "\u001b[34m[74]#011train-error:0.120333#011validation-error:0.1597\u001b[0m\n",
      "\u001b[34m[19:21:21] src/tree/updater_prune.cc:74: tree pruning end, 1 roots, 14 extra nodes, 12 pruned nodes, max_depth=5\u001b[0m\n",
      "\u001b[34m[75]#011train-error:0.1198#011validation-error:0.1596\u001b[0m\n",
      "\u001b[34m[19:21:22] src/tree/updater_prune.cc:74: tree pruning end, 1 roots, 16 extra nodes, 6 pruned nodes, max_depth=5\u001b[0m\n",
      "\u001b[34m[76]#011train-error:0.119933#011validation-error:0.1595\u001b[0m\n",
      "\u001b[34m[19:21:24] src/tree/updater_prune.cc:74: tree pruning end, 1 roots, 14 extra nodes, 10 pruned nodes, max_depth=5\u001b[0m\n",
      "\u001b[34m[77]#011train-error:0.1194#011validation-error:0.1596\u001b[0m\n",
      "\u001b[34m[19:21:25] src/tree/updater_prune.cc:74: tree pruning end, 1 roots, 14 extra nodes, 8 pruned nodes, max_depth=5\u001b[0m\n",
      "\u001b[34m[78]#011train-error:0.119#011validation-error:0.1594\u001b[0m\n",
      "\u001b[34m[19:21:26] src/tree/updater_prune.cc:74: tree pruning end, 1 roots, 18 extra nodes, 18 pruned nodes, max_depth=5\u001b[0m\n",
      "\u001b[34m[79]#011train-error:0.118933#011validation-error:0.1592\u001b[0m\n",
      "\u001b[34m[19:21:27] src/tree/updater_prune.cc:74: tree pruning end, 1 roots, 18 extra nodes, 10 pruned nodes, max_depth=5\u001b[0m\n",
      "\u001b[34m[80]#011train-error:0.117533#011validation-error:0.1598\u001b[0m\n",
      "\u001b[34m[19:21:29] src/tree/updater_prune.cc:74: tree pruning end, 1 roots, 28 extra nodes, 2 pruned nodes, max_depth=5\u001b[0m\n",
      "\u001b[34m[81]#011train-error:0.115867#011validation-error:0.1588\u001b[0m\n",
      "\u001b[34m[19:21:30] src/tree/updater_prune.cc:74: tree pruning end, 1 roots, 12 extra nodes, 12 pruned nodes, max_depth=5\u001b[0m\n",
      "\u001b[34m[82]#011train-error:0.1152#011validation-error:0.1591\u001b[0m\n",
      "\u001b[34m[19:21:31] src/tree/updater_prune.cc:74: tree pruning end, 1 roots, 20 extra nodes, 12 pruned nodes, max_depth=5\u001b[0m\n",
      "\u001b[34m[83]#011train-error:0.115067#011validation-error:0.1588\u001b[0m\n",
      "\u001b[34m[19:21:33] src/tree/updater_prune.cc:74: tree pruning end, 1 roots, 28 extra nodes, 16 pruned nodes, max_depth=5\u001b[0m\n",
      "\u001b[34m[84]#011train-error:0.113733#011validation-error:0.1583\u001b[0m\n",
      "\u001b[34m[19:21:34] src/tree/updater_prune.cc:74: tree pruning end, 1 roots, 14 extra nodes, 10 pruned nodes, max_depth=5\u001b[0m\n",
      "\u001b[34m[85]#011train-error:0.112933#011validation-error:0.1577\u001b[0m\n",
      "\u001b[34m[19:21:35] src/tree/updater_prune.cc:74: tree pruning end, 1 roots, 16 extra nodes, 18 pruned nodes, max_depth=5\u001b[0m\n",
      "\u001b[34m[86]#011train-error:0.1122#011validation-error:0.1575\u001b[0m\n",
      "\u001b[34m[19:21:36] src/tree/updater_prune.cc:74: tree pruning end, 1 roots, 26 extra nodes, 16 pruned nodes, max_depth=5\u001b[0m\n",
      "\u001b[34m[87]#011train-error:0.111333#011validation-error:0.1566\u001b[0m\n",
      "\u001b[34m[19:21:38] src/tree/updater_prune.cc:74: tree pruning end, 1 roots, 10 extra nodes, 6 pruned nodes, max_depth=5\u001b[0m\n",
      "\u001b[34m[88]#011train-error:0.110933#011validation-error:0.1567\u001b[0m\n",
      "\u001b[34m[19:21:39] src/tree/updater_prune.cc:74: tree pruning end, 1 roots, 14 extra nodes, 10 pruned nodes, max_depth=5\u001b[0m\n",
      "\u001b[34m[89]#011train-error:0.110467#011validation-error:0.1558\u001b[0m\n",
      "\u001b[34m[19:21:40] src/tree/updater_prune.cc:74: tree pruning end, 1 roots, 18 extra nodes, 10 pruned nodes, max_depth=5\u001b[0m\n",
      "\u001b[34m[90]#011train-error:0.1102#011validation-error:0.1556\u001b[0m\n",
      "\u001b[34m[19:21:41] src/tree/updater_prune.cc:74: tree pruning end, 1 roots, 16 extra nodes, 6 pruned nodes, max_depth=5\u001b[0m\n",
      "\u001b[34m[91]#011train-error:0.1096#011validation-error:0.1557\u001b[0m\n"
     ]
    },
    {
     "name": "stdout",
     "output_type": "stream",
     "text": [
      "\u001b[34m[19:21:43] src/tree/updater_prune.cc:74: tree pruning end, 1 roots, 12 extra nodes, 6 pruned nodes, max_depth=5\u001b[0m\n",
      "\u001b[34m[92]#011train-error:0.109133#011validation-error:0.1551\u001b[0m\n",
      "\u001b[34m[19:21:44] src/tree/updater_prune.cc:74: tree pruning end, 1 roots, 14 extra nodes, 6 pruned nodes, max_depth=5\u001b[0m\n",
      "\u001b[34m[93]#011train-error:0.109333#011validation-error:0.1547\u001b[0m\n",
      "\u001b[34m[19:21:45] src/tree/updater_prune.cc:74: tree pruning end, 1 roots, 18 extra nodes, 6 pruned nodes, max_depth=5\u001b[0m\n",
      "\u001b[34m[94]#011train-error:0.109533#011validation-error:0.1553\u001b[0m\n",
      "\u001b[34m[19:21:46] src/tree/updater_prune.cc:74: tree pruning end, 1 roots, 16 extra nodes, 8 pruned nodes, max_depth=5\u001b[0m\n",
      "\u001b[34m[95]#011train-error:0.1092#011validation-error:0.1548\u001b[0m\n",
      "\u001b[34m[19:21:48] src/tree/updater_prune.cc:74: tree pruning end, 1 roots, 20 extra nodes, 10 pruned nodes, max_depth=5\u001b[0m\n",
      "\u001b[34m[96]#011train-error:0.1078#011validation-error:0.154\u001b[0m\n",
      "\u001b[34m[19:21:49] src/tree/updater_prune.cc:74: tree pruning end, 1 roots, 24 extra nodes, 12 pruned nodes, max_depth=5\u001b[0m\n",
      "\u001b[34m[97]#011train-error:0.107667#011validation-error:0.1546\u001b[0m\n",
      "\u001b[34m[19:21:50] src/tree/updater_prune.cc:74: tree pruning end, 1 roots, 14 extra nodes, 10 pruned nodes, max_depth=5\u001b[0m\n",
      "\u001b[34m[98]#011train-error:0.1076#011validation-error:0.153\u001b[0m\n",
      "\u001b[34m[19:21:52] src/tree/updater_prune.cc:74: tree pruning end, 1 roots, 30 extra nodes, 4 pruned nodes, max_depth=5\u001b[0m\n",
      "\u001b[34m[99]#011train-error:0.106333#011validation-error:0.1531\u001b[0m\n",
      "\u001b[34m[19:21:53] src/tree/updater_prune.cc:74: tree pruning end, 1 roots, 16 extra nodes, 10 pruned nodes, max_depth=5\u001b[0m\n",
      "\u001b[34m[100]#011train-error:0.106#011validation-error:0.1522\u001b[0m\n",
      "\u001b[34m[19:21:54] src/tree/updater_prune.cc:74: tree pruning end, 1 roots, 16 extra nodes, 2 pruned nodes, max_depth=5\u001b[0m\n",
      "\u001b[34m[101]#011train-error:0.105333#011validation-error:0.1512\u001b[0m\n",
      "\u001b[34m[19:21:55] src/tree/updater_prune.cc:74: tree pruning end, 1 roots, 18 extra nodes, 12 pruned nodes, max_depth=5\u001b[0m\n",
      "\u001b[34m[102]#011train-error:0.104933#011validation-error:0.151\u001b[0m\n",
      "\u001b[34m[19:21:57] src/tree/updater_prune.cc:74: tree pruning end, 1 roots, 12 extra nodes, 8 pruned nodes, max_depth=5\u001b[0m\n",
      "\u001b[34m[103]#011train-error:0.104533#011validation-error:0.1507\u001b[0m\n",
      "\u001b[34m[19:21:58] src/tree/updater_prune.cc:74: tree pruning end, 1 roots, 16 extra nodes, 12 pruned nodes, max_depth=5\u001b[0m\n",
      "\u001b[34m[104]#011train-error:0.104467#011validation-error:0.1493\u001b[0m\n",
      "\u001b[34m[19:21:59] src/tree/updater_prune.cc:74: tree pruning end, 1 roots, 16 extra nodes, 6 pruned nodes, max_depth=5\u001b[0m\n",
      "\u001b[34m[105]#011train-error:0.104533#011validation-error:0.1484\u001b[0m\n",
      "\u001b[34m[19:22:01] src/tree/updater_prune.cc:74: tree pruning end, 1 roots, 18 extra nodes, 4 pruned nodes, max_depth=5\u001b[0m\n",
      "\u001b[34m[106]#011train-error:0.104333#011validation-error:0.1487\u001b[0m\n",
      "\u001b[34m[19:22:02] src/tree/updater_prune.cc:74: tree pruning end, 1 roots, 14 extra nodes, 8 pruned nodes, max_depth=5\u001b[0m\n",
      "\u001b[34m[107]#011train-error:0.104#011validation-error:0.1484\u001b[0m\n",
      "\u001b[34m[19:22:03] src/tree/updater_prune.cc:74: tree pruning end, 1 roots, 10 extra nodes, 8 pruned nodes, max_depth=5\u001b[0m\n",
      "\u001b[34m[108]#011train-error:0.1042#011validation-error:0.1484\u001b[0m\n",
      "\u001b[34m[19:22:04] src/tree/updater_prune.cc:74: tree pruning end, 1 roots, 16 extra nodes, 8 pruned nodes, max_depth=5\u001b[0m\n",
      "\u001b[34m[109]#011train-error:0.103067#011validation-error:0.1488\u001b[0m\n",
      "\u001b[34m[19:22:06] src/tree/updater_prune.cc:74: tree pruning end, 1 roots, 10 extra nodes, 6 pruned nodes, max_depth=5\u001b[0m\n",
      "\u001b[34m[110]#011train-error:0.1028#011validation-error:0.1486\u001b[0m\n",
      "\u001b[34m[19:22:07] src/tree/updater_prune.cc:74: tree pruning end, 1 roots, 12 extra nodes, 8 pruned nodes, max_depth=5\u001b[0m\n",
      "\u001b[34m[111]#011train-error:0.102733#011validation-error:0.148\u001b[0m\n",
      "\u001b[34m[19:22:08] src/tree/updater_prune.cc:74: tree pruning end, 1 roots, 14 extra nodes, 12 pruned nodes, max_depth=5\u001b[0m\n",
      "\u001b[34m[112]#011train-error:0.1024#011validation-error:0.1485\u001b[0m\n",
      "\u001b[34m[19:22:10] src/tree/updater_prune.cc:74: tree pruning end, 1 roots, 24 extra nodes, 8 pruned nodes, max_depth=5\u001b[0m\n",
      "\u001b[34m[113]#011train-error:0.100667#011validation-error:0.1476\u001b[0m\n",
      "\u001b[34m[19:22:11] src/tree/updater_prune.cc:74: tree pruning end, 1 roots, 12 extra nodes, 6 pruned nodes, max_depth=5\u001b[0m\n",
      "\u001b[34m[114]#011train-error:0.1002#011validation-error:0.1479\u001b[0m\n",
      "\u001b[34m[19:22:12] src/tree/updater_prune.cc:74: tree pruning end, 1 roots, 20 extra nodes, 12 pruned nodes, max_depth=5\u001b[0m\n",
      "\u001b[34m[115]#011train-error:0.099533#011validation-error:0.1468\u001b[0m\n",
      "\u001b[34m[19:22:13] src/tree/updater_prune.cc:74: tree pruning end, 1 roots, 20 extra nodes, 10 pruned nodes, max_depth=5\u001b[0m\n",
      "\u001b[34m[116]#011train-error:0.099267#011validation-error:0.1465\u001b[0m\n",
      "\u001b[34m[19:22:15] src/tree/updater_prune.cc:74: tree pruning end, 1 roots, 24 extra nodes, 6 pruned nodes, max_depth=5\u001b[0m\n",
      "\u001b[34m[117]#011train-error:0.0986#011validation-error:0.1469\u001b[0m\n",
      "\u001b[34m[19:22:16] src/tree/updater_prune.cc:74: tree pruning end, 1 roots, 20 extra nodes, 2 pruned nodes, max_depth=5\u001b[0m\n",
      "\u001b[34m[118]#011train-error:0.098667#011validation-error:0.1454\u001b[0m\n",
      "\u001b[34m[19:22:17] src/tree/updater_prune.cc:74: tree pruning end, 1 roots, 22 extra nodes, 0 pruned nodes, max_depth=5\u001b[0m\n",
      "\u001b[34m[119]#011train-error:0.098733#011validation-error:0.1455\u001b[0m\n",
      "\u001b[34m[19:22:19] src/tree/updater_prune.cc:74: tree pruning end, 1 roots, 10 extra nodes, 10 pruned nodes, max_depth=5\u001b[0m\n",
      "\u001b[34m[120]#011train-error:0.0982#011validation-error:0.1451\u001b[0m\n",
      "\u001b[34m[19:22:20] src/tree/updater_prune.cc:74: tree pruning end, 1 roots, 10 extra nodes, 14 pruned nodes, max_depth=5\u001b[0m\n",
      "\u001b[34m[121]#011train-error:0.0974#011validation-error:0.1454\u001b[0m\n",
      "\u001b[34m[19:22:21] src/tree/updater_prune.cc:74: tree pruning end, 1 roots, 12 extra nodes, 10 pruned nodes, max_depth=5\u001b[0m\n",
      "\u001b[34m[122]#011train-error:0.097133#011validation-error:0.1458\u001b[0m\n",
      "\u001b[34m[19:22:22] src/tree/updater_prune.cc:74: tree pruning end, 1 roots, 12 extra nodes, 4 pruned nodes, max_depth=5\u001b[0m\n",
      "\u001b[34m[123]#011train-error:0.096533#011validation-error:0.1464\u001b[0m\n",
      "\u001b[34m[19:22:24] src/tree/updater_prune.cc:74: tree pruning end, 1 roots, 20 extra nodes, 8 pruned nodes, max_depth=5\u001b[0m\n",
      "\u001b[34m[124]#011train-error:0.0962#011validation-error:0.1459\u001b[0m\n",
      "\u001b[34m[19:22:25] src/tree/updater_prune.cc:74: tree pruning end, 1 roots, 16 extra nodes, 12 pruned nodes, max_depth=5\u001b[0m\n",
      "\u001b[34m[125]#011train-error:0.0958#011validation-error:0.1455\u001b[0m\n",
      "\u001b[34m[19:22:26] src/tree/updater_prune.cc:74: tree pruning end, 1 roots, 24 extra nodes, 10 pruned nodes, max_depth=5\u001b[0m\n",
      "\u001b[34m[126]#011train-error:0.095333#011validation-error:0.1457\u001b[0m\n",
      "\u001b[34m[19:22:28] src/tree/updater_prune.cc:74: tree pruning end, 1 roots, 18 extra nodes, 2 pruned nodes, max_depth=5\u001b[0m\n",
      "\u001b[34m[127]#011train-error:0.0948#011validation-error:0.1451\u001b[0m\n",
      "\u001b[34m[19:22:29] src/tree/updater_prune.cc:74: tree pruning end, 1 roots, 14 extra nodes, 6 pruned nodes, max_depth=5\u001b[0m\n",
      "\u001b[34m[128]#011train-error:0.094533#011validation-error:0.1447\u001b[0m\n",
      "\u001b[34m[19:22:30] src/tree/updater_prune.cc:74: tree pruning end, 1 roots, 16 extra nodes, 16 pruned nodes, max_depth=5\u001b[0m\n",
      "\u001b[34m[129]#011train-error:0.094267#011validation-error:0.1449\u001b[0m\n",
      "\u001b[34m[19:22:31] src/tree/updater_prune.cc:74: tree pruning end, 1 roots, 14 extra nodes, 14 pruned nodes, max_depth=5\u001b[0m\n",
      "\u001b[34m[130]#011train-error:0.0942#011validation-error:0.145\u001b[0m\n",
      "\u001b[34m[19:22:33] src/tree/updater_prune.cc:74: tree pruning end, 1 roots, 18 extra nodes, 4 pruned nodes, max_depth=5\u001b[0m\n",
      "\u001b[34m[131]#011train-error:0.094#011validation-error:0.1454\u001b[0m\n",
      "\n",
      "2020-05-16 19:22:45 Uploading - Uploading generated training model\u001b[34m[19:22:34] src/tree/updater_prune.cc:74: tree pruning end, 1 roots, 18 extra nodes, 6 pruned nodes, max_depth=5\u001b[0m\n",
      "\u001b[34m[132]#011train-error:0.094#011validation-error:0.1458\u001b[0m\n",
      "\u001b[34m[19:22:35] src/tree/updater_prune.cc:74: tree pruning end, 1 roots, 12 extra nodes, 6 pruned nodes, max_depth=5\u001b[0m\n",
      "\u001b[34m[133]#011train-error:0.093733#011validation-error:0.1461\u001b[0m\n",
      "\u001b[34m[19:22:37] src/tree/updater_prune.cc:74: tree pruning end, 1 roots, 16 extra nodes, 16 pruned nodes, max_depth=5\u001b[0m\n",
      "\u001b[34m[134]#011train-error:0.0932#011validation-error:0.1457\u001b[0m\n",
      "\u001b[34m[19:22:38] src/tree/updater_prune.cc:74: tree pruning end, 1 roots, 10 extra nodes, 14 pruned nodes, max_depth=5\u001b[0m\n",
      "\u001b[34m[135]#011train-error:0.092933#011validation-error:0.145\u001b[0m\n",
      "\u001b[34m[19:22:39] src/tree/updater_prune.cc:74: tree pruning end, 1 roots, 16 extra nodes, 10 pruned nodes, max_depth=5\u001b[0m\n",
      "\u001b[34m[136]#011train-error:0.092933#011validation-error:0.145\u001b[0m\n",
      "\u001b[34m[19:22:41] src/tree/updater_prune.cc:74: tree pruning end, 1 roots, 10 extra nodes, 12 pruned nodes, max_depth=5\u001b[0m\n",
      "\u001b[34m[137]#011train-error:0.093067#011validation-error:0.1455\u001b[0m\n",
      "\u001b[34m[19:22:42] src/tree/updater_prune.cc:74: tree pruning end, 1 roots, 10 extra nodes, 14 pruned nodes, max_depth=5\u001b[0m\n",
      "\u001b[34m[138]#011train-error:0.092933#011validation-error:0.1455\u001b[0m\n",
      "\u001b[34mStopping. Best iteration:\u001b[0m\n",
      "\u001b[34m[128]#011train-error:0.094533#011validation-error:0.1447\n",
      "\u001b[0m\n"
     ]
    },
    {
     "name": "stdout",
     "output_type": "stream",
     "text": [
      "\n",
      "2020-05-16 19:22:52 Completed - Training job completed\n",
      "Training seconds: 232\n",
      "Billable seconds: 232\n"
     ]
    }
   ],
   "source": [
    "xgb.fit({'train': s3_input_train, 'validation': s3_input_validation})"
   ]
  },
  {
   "cell_type": "markdown",
   "metadata": {},
   "source": [
    "### Testing the model\n",
    "\n",
    "Now that we've fit our XGBoost model, it's time to see how well it performs. To do this we will use SageMakers Batch Transform functionality. Batch Transform is a convenient way to perform inference on a large dataset in a way that is not realtime. That is, we don't necessarily need to use our model's results immediately and instead we can peform inference on a large number of samples. An example of this in industry might be peforming an end of month report. This method of inference can also be useful to us as it means to can perform inference on our entire test set. \n",
    "\n",
    "To perform a Batch Transformation we need to first create a transformer objects from our trained estimator object."
   ]
  },
  {
   "cell_type": "code",
   "execution_count": 25,
   "metadata": {},
   "outputs": [],
   "source": [
    "xgb_transformer = xgb.transformer(instance_count = 1, instance_type = 'ml.m4.xlarge')"
   ]
  },
  {
   "cell_type": "markdown",
   "metadata": {},
   "source": [
    "Next we actually perform the transform job. When doing so we need to make sure to specify the type of data we are sending so that it is serialized correctly in the background. In our case we are providing our model with csv data so we specify `text/csv`. Also, if the test data that we have provided is too large to process all at once then we need to specify how the data file should be split up. Since each line is a single entry in our data set we tell SageMaker that it can split the input on each line."
   ]
  },
  {
   "cell_type": "code",
   "execution_count": 26,
   "metadata": {},
   "outputs": [],
   "source": [
    "xgb_transformer.transform(test_location, content_type='text/csv', split_type='Line')"
   ]
  },
  {
   "cell_type": "markdown",
   "metadata": {},
   "source": [
    "Currently the transform job is running but it is doing so in the background. Since we wish to wait until the transform job is done and we would like a bit of feedback we can run the `wait()` method."
   ]
  },
  {
   "cell_type": "code",
   "execution_count": 27,
   "metadata": {},
   "outputs": [
    {
     "name": "stdout",
     "output_type": "stream",
     "text": [
      "....................\u001b[34mArguments: serve\u001b[0m\n",
      "\u001b[34m[2020-05-16 19:26:31 +0000] [1] [INFO] Starting gunicorn 19.7.1\u001b[0m\n",
      "\u001b[34m[2020-05-16 19:26:31 +0000] [1] [INFO] Listening at: http://0.0.0.0:8080 (1)\u001b[0m\n",
      "\u001b[34m[2020-05-16 19:26:31 +0000] [1] [INFO] Using worker: gevent\u001b[0m\n",
      "\u001b[34m[2020-05-16 19:26:31 +0000] [37] [INFO] Booting worker with pid: 37\u001b[0m\n",
      "\u001b[34m[2020-05-16 19:26:31 +0000] [38] [INFO] Booting worker with pid: 38\u001b[0m\n",
      "\u001b[34m[2020-05-16 19:26:31 +0000] [39] [INFO] Booting worker with pid: 39\u001b[0m\n",
      "\u001b[34m[2020-05-16 19:26:31 +0000] [40] [INFO] Booting worker with pid: 40\u001b[0m\n",
      "\u001b[34m[2020-05-16:19:26:31:INFO] Model loaded successfully for worker : 38\u001b[0m\n",
      "\u001b[34m[2020-05-16:19:26:31:INFO] Model loaded successfully for worker : 37\u001b[0m\n",
      "\u001b[34m[2020-05-16:19:26:31:INFO] Model loaded successfully for worker : 39\u001b[0m\n",
      "\u001b[34m[2020-05-16:19:26:31:INFO] Model loaded successfully for worker : 40\u001b[0m\n",
      "\u001b[32m2020-05-16T19:26:50.670:[sagemaker logs]: MaxConcurrentTransforms=4, MaxPayloadInMB=6, BatchStrategy=MULTI_RECORD\u001b[0m\n",
      "\u001b[34m[2020-05-16:19:26:53:INFO] Sniff delimiter as ','\u001b[0m\n",
      "\u001b[34m[2020-05-16:19:26:53:INFO] Determined delimiter of CSV input is ','\u001b[0m\n",
      "\u001b[34m[2020-05-16:19:26:53:INFO] Sniff delimiter as ','\u001b[0m\n",
      "\u001b[34m[2020-05-16:19:26:53:INFO] Determined delimiter of CSV input is ','\u001b[0m\n",
      "\u001b[34m[2020-05-16:19:26:53:INFO] Sniff delimiter as ','\u001b[0m\n",
      "\u001b[34m[2020-05-16:19:26:53:INFO] Determined delimiter of CSV input is ','\u001b[0m\n",
      "\u001b[35m[2020-05-16:19:26:53:INFO] Sniff delimiter as ','\u001b[0m\n",
      "\u001b[35m[2020-05-16:19:26:53:INFO] Determined delimiter of CSV input is ','\u001b[0m\n",
      "\u001b[35m[2020-05-16:19:26:53:INFO] Sniff delimiter as ','\u001b[0m\n",
      "\u001b[35m[2020-05-16:19:26:53:INFO] Determined delimiter of CSV input is ','\u001b[0m\n",
      "\u001b[35m[2020-05-16:19:26:53:INFO] Sniff delimiter as ','\u001b[0m\n",
      "\u001b[35m[2020-05-16:19:26:53:INFO] Determined delimiter of CSV input is ','\u001b[0m\n",
      "\u001b[34m[2020-05-16:19:26:54:INFO] Sniff delimiter as ','\u001b[0m\n",
      "\u001b[34m[2020-05-16:19:26:54:INFO] Determined delimiter of CSV input is ','\u001b[0m\n",
      "\u001b[35m[2020-05-16:19:26:54:INFO] Sniff delimiter as ','\u001b[0m\n",
      "\u001b[35m[2020-05-16:19:26:54:INFO] Determined delimiter of CSV input is ','\u001b[0m\n",
      "\u001b[34m[2020-05-16:19:26:55:INFO] Sniff delimiter as ','\u001b[0m\n",
      "\u001b[34m[2020-05-16:19:26:55:INFO] Determined delimiter of CSV input is ','\u001b[0m\n",
      "\u001b[35m[2020-05-16:19:26:55:INFO] Sniff delimiter as ','\u001b[0m\n",
      "\u001b[35m[2020-05-16:19:26:55:INFO] Determined delimiter of CSV input is ','\u001b[0m\n",
      "\u001b[34m[2020-05-16:19:26:56:INFO] Sniff delimiter as ','\u001b[0m\n",
      "\u001b[34m[2020-05-16:19:26:56:INFO] Determined delimiter of CSV input is ','\u001b[0m\n",
      "\u001b[34m[2020-05-16:19:26:56:INFO] Sniff delimiter as ','\u001b[0m\n",
      "\u001b[34m[2020-05-16:19:26:56:INFO] Determined delimiter of CSV input is ','\u001b[0m\n",
      "\u001b[34m[2020-05-16:19:26:56:INFO] Sniff delimiter as ','\u001b[0m\n",
      "\u001b[34m[2020-05-16:19:26:56:INFO] Determined delimiter of CSV input is ','\u001b[0m\n",
      "\u001b[35m[2020-05-16:19:26:56:INFO] Sniff delimiter as ','\u001b[0m\n",
      "\u001b[35m[2020-05-16:19:26:56:INFO] Determined delimiter of CSV input is ','\u001b[0m\n",
      "\u001b[35m[2020-05-16:19:26:56:INFO] Sniff delimiter as ','\u001b[0m\n",
      "\u001b[35m[2020-05-16:19:26:56:INFO] Determined delimiter of CSV input is ','\u001b[0m\n",
      "\u001b[35m[2020-05-16:19:26:56:INFO] Sniff delimiter as ','\u001b[0m\n",
      "\u001b[35m[2020-05-16:19:26:56:INFO] Determined delimiter of CSV input is ','\u001b[0m\n",
      "\u001b[34m[2020-05-16:19:26:58:INFO] Sniff delimiter as ','\u001b[0m\n",
      "\u001b[34m[2020-05-16:19:26:58:INFO] Determined delimiter of CSV input is ','\u001b[0m\n",
      "\u001b[35m[2020-05-16:19:26:58:INFO] Sniff delimiter as ','\u001b[0m\n",
      "\u001b[35m[2020-05-16:19:26:58:INFO] Determined delimiter of CSV input is ','\u001b[0m\n",
      "\u001b[34m[2020-05-16:19:27:00:INFO] Sniff delimiter as ','\u001b[0m\n",
      "\u001b[34m[2020-05-16:19:27:00:INFO] Determined delimiter of CSV input is ','\u001b[0m\n",
      "\u001b[35m[2020-05-16:19:27:00:INFO] Sniff delimiter as ','\u001b[0m\n",
      "\u001b[35m[2020-05-16:19:27:00:INFO] Determined delimiter of CSV input is ','\u001b[0m\n",
      "\u001b[34m[2020-05-16:19:27:01:INFO] Sniff delimiter as ','\u001b[0m\n",
      "\u001b[34m[2020-05-16:19:27:01:INFO] Determined delimiter of CSV input is ','\u001b[0m\n",
      "\u001b[34m[2020-05-16:19:27:01:INFO] Sniff delimiter as ','\u001b[0m\n",
      "\u001b[34m[2020-05-16:19:27:01:INFO] Determined delimiter of CSV input is ','\u001b[0m\n",
      "\u001b[34m[2020-05-16:19:27:01:INFO] Sniff delimiter as ','\u001b[0m\n",
      "\u001b[34m[2020-05-16:19:27:01:INFO] Determined delimiter of CSV input is ','\u001b[0m\n",
      "\u001b[35m[2020-05-16:19:27:01:INFO] Sniff delimiter as ','\u001b[0m\n",
      "\u001b[35m[2020-05-16:19:27:01:INFO] Determined delimiter of CSV input is ','\u001b[0m\n",
      "\u001b[35m[2020-05-16:19:27:01:INFO] Sniff delimiter as ','\u001b[0m\n",
      "\u001b[35m[2020-05-16:19:27:01:INFO] Determined delimiter of CSV input is ','\u001b[0m\n",
      "\u001b[35m[2020-05-16:19:27:01:INFO] Sniff delimiter as ','\u001b[0m\n",
      "\u001b[35m[2020-05-16:19:27:01:INFO] Determined delimiter of CSV input is ','\u001b[0m\n",
      "\u001b[34m[2020-05-16:19:27:03:INFO] Sniff delimiter as ','\u001b[0m\n",
      "\u001b[34m[2020-05-16:19:27:03:INFO] Determined delimiter of CSV input is ','\u001b[0m\n",
      "\u001b[34m[2020-05-16:19:27:03:INFO] Sniff delimiter as ','\u001b[0m\n",
      "\u001b[35m[2020-05-16:19:27:03:INFO] Sniff delimiter as ','\u001b[0m\n",
      "\u001b[35m[2020-05-16:19:27:03:INFO] Determined delimiter of CSV input is ','\u001b[0m\n",
      "\u001b[35m[2020-05-16:19:27:03:INFO] Sniff delimiter as ','\u001b[0m\n",
      "\u001b[34m[2020-05-16:19:27:03:INFO] Determined delimiter of CSV input is ','\u001b[0m\n",
      "\u001b[34m[2020-05-16:19:27:03:INFO] Sniff delimiter as ','\u001b[0m\n",
      "\u001b[34m[2020-05-16:19:27:03:INFO] Determined delimiter of CSV input is ','\u001b[0m\n",
      "\u001b[35m[2020-05-16:19:27:03:INFO] Determined delimiter of CSV input is ','\u001b[0m\n",
      "\u001b[35m[2020-05-16:19:27:03:INFO] Sniff delimiter as ','\u001b[0m\n",
      "\u001b[35m[2020-05-16:19:27:03:INFO] Determined delimiter of CSV input is ','\u001b[0m\n",
      "\u001b[34m[2020-05-16:19:27:04:INFO] Sniff delimiter as ','\u001b[0m\n",
      "\u001b[34m[2020-05-16:19:27:04:INFO] Determined delimiter of CSV input is ','\u001b[0m\n",
      "\u001b[35m[2020-05-16:19:27:04:INFO] Sniff delimiter as ','\u001b[0m\n",
      "\u001b[35m[2020-05-16:19:27:04:INFO] Determined delimiter of CSV input is ','\u001b[0m\n",
      "\u001b[34m[2020-05-16:19:27:05:INFO] Sniff delimiter as ','\u001b[0m\n",
      "\u001b[34m[2020-05-16:19:27:05:INFO] Determined delimiter of CSV input is ','\u001b[0m\n",
      "\u001b[35m[2020-05-16:19:27:05:INFO] Sniff delimiter as ','\u001b[0m\n",
      "\u001b[35m[2020-05-16:19:27:05:INFO] Determined delimiter of CSV input is ','\u001b[0m\n",
      "\u001b[34m[2020-05-16:19:27:05:INFO] Sniff delimiter as ','\u001b[0m\n",
      "\u001b[34m[2020-05-16:19:27:05:INFO] Determined delimiter of CSV input is ','\u001b[0m\n",
      "\u001b[35m[2020-05-16:19:27:05:INFO] Sniff delimiter as ','\u001b[0m\n",
      "\u001b[35m[2020-05-16:19:27:05:INFO] Determined delimiter of CSV input is ','\u001b[0m\n",
      "\u001b[34m[2020-05-16:19:27:06:INFO] Sniff delimiter as ','\u001b[0m\n",
      "\u001b[34m[2020-05-16:19:27:06:INFO] Determined delimiter of CSV input is ','\u001b[0m\n",
      "\u001b[34m[2020-05-16:19:27:06:INFO] Sniff delimiter as ','\u001b[0m\n",
      "\u001b[34m[2020-05-16:19:27:06:INFO] Determined delimiter of CSV input is ','\u001b[0m\n",
      "\u001b[35m[2020-05-16:19:27:06:INFO] Sniff delimiter as ','\u001b[0m\n",
      "\u001b[35m[2020-05-16:19:27:06:INFO] Determined delimiter of CSV input is ','\u001b[0m\n",
      "\u001b[35m[2020-05-16:19:27:06:INFO] Sniff delimiter as ','\u001b[0m\n",
      "\u001b[35m[2020-05-16:19:27:06:INFO] Determined delimiter of CSV input is ','\u001b[0m\n",
      "\u001b[34m[2020-05-16:19:27:08:INFO] Sniff delimiter as ','\u001b[0m\n",
      "\u001b[34m[2020-05-16:19:27:08:INFO] Determined delimiter of CSV input is ','\u001b[0m\n",
      "\u001b[34m[2020-05-16:19:27:08:INFO] Sniff delimiter as ','\u001b[0m\n",
      "\u001b[34m[2020-05-16:19:27:08:INFO] Determined delimiter of CSV input is ','\u001b[0m\n",
      "\u001b[35m[2020-05-16:19:27:08:INFO] Sniff delimiter as ','\u001b[0m\n",
      "\u001b[35m[2020-05-16:19:27:08:INFO] Determined delimiter of CSV input is ','\u001b[0m\n",
      "\u001b[35m[2020-05-16:19:27:08:INFO] Sniff delimiter as ','\u001b[0m\n",
      "\u001b[35m[2020-05-16:19:27:08:INFO] Determined delimiter of CSV input is ','\u001b[0m\n",
      "\u001b[34m[2020-05-16:19:27:10:INFO] Sniff delimiter as ','\u001b[0m\n",
      "\u001b[34m[2020-05-16:19:27:10:INFO] Determined delimiter of CSV input is ','\u001b[0m\n",
      "\u001b[34m[2020-05-16:19:27:10:INFO] Sniff delimiter as ','\u001b[0m\n",
      "\u001b[34m[2020-05-16:19:27:10:INFO] Determined delimiter of CSV input is ','\u001b[0m\n",
      "\u001b[35m[2020-05-16:19:27:10:INFO] Sniff delimiter as ','\u001b[0m\n",
      "\u001b[35m[2020-05-16:19:27:10:INFO] Determined delimiter of CSV input is ','\u001b[0m\n",
      "\u001b[35m[2020-05-16:19:27:10:INFO] Sniff delimiter as ','\u001b[0m\n",
      "\u001b[35m[2020-05-16:19:27:10:INFO] Determined delimiter of CSV input is ','\u001b[0m\n",
      "\u001b[34m[2020-05-16:19:27:11:INFO] Sniff delimiter as ','\u001b[0m\n",
      "\u001b[34m[2020-05-16:19:27:11:INFO] Determined delimiter of CSV input is ','\u001b[0m\n",
      "\u001b[34m[2020-05-16:19:27:11:INFO] Sniff delimiter as ','\u001b[0m\n",
      "\u001b[34m[2020-05-16:19:27:11:INFO] Determined delimiter of CSV input is ','\u001b[0m\n",
      "\u001b[35m[2020-05-16:19:27:11:INFO] Sniff delimiter as ','\u001b[0m\n",
      "\u001b[35m[2020-05-16:19:27:11:INFO] Determined delimiter of CSV input is ','\u001b[0m\n",
      "\u001b[35m[2020-05-16:19:27:11:INFO] Sniff delimiter as ','\u001b[0m\n",
      "\u001b[35m[2020-05-16:19:27:11:INFO] Determined delimiter of CSV input is ','\u001b[0m\n",
      "\u001b[34m[2020-05-16:19:27:13:INFO] Sniff delimiter as ','\u001b[0m\n",
      "\u001b[34m[2020-05-16:19:27:13:INFO] Determined delimiter of CSV input is ','\u001b[0m\n",
      "\u001b[34m[2020-05-16:19:27:13:INFO] Sniff delimiter as ','\u001b[0m\n",
      "\u001b[35m[2020-05-16:19:27:13:INFO] Sniff delimiter as ','\u001b[0m\n",
      "\u001b[35m[2020-05-16:19:27:13:INFO] Determined delimiter of CSV input is ','\u001b[0m\n",
      "\u001b[35m[2020-05-16:19:27:13:INFO] Sniff delimiter as ','\u001b[0m\n",
      "\u001b[34m[2020-05-16:19:27:13:INFO] Determined delimiter of CSV input is ','\u001b[0m\n",
      "\u001b[34m[2020-05-16:19:27:13:INFO] Sniff delimiter as ','\u001b[0m\n",
      "\u001b[34m[2020-05-16:19:27:13:INFO] Determined delimiter of CSV input is ','\u001b[0m\n",
      "\u001b[34m[2020-05-16:19:27:13:INFO] Sniff delimiter as ','\u001b[0m\n",
      "\u001b[34m[2020-05-16:19:27:13:INFO] Determined delimiter of CSV input is ','\u001b[0m\n",
      "\u001b[35m[2020-05-16:19:27:13:INFO] Determined delimiter of CSV input is ','\u001b[0m\n",
      "\u001b[35m[2020-05-16:19:27:13:INFO] Sniff delimiter as ','\u001b[0m\n",
      "\u001b[35m[2020-05-16:19:27:13:INFO] Determined delimiter of CSV input is ','\u001b[0m\n",
      "\u001b[35m[2020-05-16:19:27:13:INFO] Sniff delimiter as ','\u001b[0m\n",
      "\u001b[35m[2020-05-16:19:27:13:INFO] Determined delimiter of CSV input is ','\u001b[0m\n",
      "\u001b[34m[2020-05-16:19:27:15:INFO] Sniff delimiter as ','\u001b[0m\n",
      "\u001b[34m[2020-05-16:19:27:15:INFO] Determined delimiter of CSV input is ','\u001b[0m\n",
      "\u001b[34m[2020-05-16:19:27:15:INFO] Sniff delimiter as ','\u001b[0m\n",
      "\u001b[34m[2020-05-16:19:27:15:INFO] Determined delimiter of CSV input is ','\u001b[0m\n",
      "\u001b[35m[2020-05-16:19:27:15:INFO] Sniff delimiter as ','\u001b[0m\n",
      "\u001b[35m[2020-05-16:19:27:15:INFO] Determined delimiter of CSV input is ','\u001b[0m\n",
      "\u001b[35m[2020-05-16:19:27:15:INFO] Sniff delimiter as ','\u001b[0m\n",
      "\u001b[35m[2020-05-16:19:27:15:INFO] Determined delimiter of CSV input is ','\u001b[0m\n",
      "\u001b[34m[2020-05-16:19:27:16:INFO] Sniff delimiter as ','\u001b[0m\n",
      "\u001b[34m[2020-05-16:19:27:16:INFO] Determined delimiter of CSV input is ','\u001b[0m\n",
      "\u001b[34m[2020-05-16:19:27:16:INFO] Sniff delimiter as ','\u001b[0m\n",
      "\u001b[34m[2020-05-16:19:27:16:INFO] Determined delimiter of CSV input is ','\u001b[0m\n",
      "\u001b[35m[2020-05-16:19:27:16:INFO] Sniff delimiter as ','\u001b[0m\n",
      "\u001b[35m[2020-05-16:19:27:16:INFO] Determined delimiter of CSV input is ','\u001b[0m\n",
      "\u001b[35m[2020-05-16:19:27:16:INFO] Sniff delimiter as ','\u001b[0m\n",
      "\u001b[35m[2020-05-16:19:27:16:INFO] Determined delimiter of CSV input is ','\u001b[0m\n"
     ]
    },
    {
     "name": "stdout",
     "output_type": "stream",
     "text": [
      "\n"
     ]
    }
   ],
   "source": [
    "xgb_transformer.wait()"
   ]
  },
  {
   "cell_type": "markdown",
   "metadata": {},
   "source": [
    "Now the transform job has executed and the result, the estimated sentiment of each review, has been saved on S3. Since we would rather work on this file locally we can perform a bit of notebook magic to copy the file to the `data_dir`."
   ]
  },
  {
   "cell_type": "code",
   "execution_count": 28,
   "metadata": {},
   "outputs": [
    {
     "name": "stdout",
     "output_type": "stream",
     "text": [
      "Completed 256.0 KiB/369.6 KiB (2.7 MiB/s) with 1 file(s) remaining\r",
      "Completed 369.6 KiB/369.6 KiB (3.8 MiB/s) with 1 file(s) remaining\r",
      "download: s3://sagemaker-us-east-2-525657442405/xgboost-2020-05-16-19-23-30-171/test.csv.out to ../data/sentiment_update/test.csv.out\r\n"
     ]
    }
   ],
   "source": [
    "!aws s3 cp --recursive $xgb_transformer.output_path $data_dir"
   ]
  },
  {
   "cell_type": "markdown",
   "metadata": {},
   "source": [
    "The last step is now to read in the output from our model, convert the output to something a little more usable, in this case we want the sentiment to be either `1` (positive) or `0` (negative), and then compare to the ground truth labels."
   ]
  },
  {
   "cell_type": "code",
   "execution_count": 29,
   "metadata": {},
   "outputs": [],
   "source": [
    "predictions = pd.read_csv(os.path.join(data_dir, 'test.csv.out'), header=None)\n",
    "predictions = [round(num) for num in predictions.squeeze().values]"
   ]
  },
  {
   "cell_type": "code",
   "execution_count": 30,
   "metadata": {},
   "outputs": [
    {
     "data": {
      "text/plain": [
       "0.85672"
      ]
     },
     "execution_count": 30,
     "metadata": {},
     "output_type": "execute_result"
    }
   ],
   "source": [
    "from sklearn.metrics import accuracy_score\n",
    "accuracy_score(test_y, predictions)"
   ]
  },
  {
   "cell_type": "markdown",
   "metadata": {},
   "source": [
    "## Step 5: Looking at New Data\n",
    "\n",
    "So now we have an XGBoost sentiment analysis model that we believe is working pretty well. As a result, we deployed it and we are using it in some sort of app.\n",
    "\n",
    "However, as we allow users to use our app we periodically record submitted movie reviews so that we can perform some quality control on our deployed model. Once we've accumulated enough reviews we go through them by hand and evaluate whether they are positive or negative (there are many ways you might do this in practice aside from by hand). The reason for doing this is so that we can check to see how well our model is doing."
   ]
  },
  {
   "cell_type": "code",
   "execution_count": 31,
   "metadata": {},
   "outputs": [],
   "source": [
    "import new_data\n",
    "\n",
    "new_X, new_Y = new_data.get_new_data()"
   ]
  },
  {
   "cell_type": "markdown",
   "metadata": {},
   "source": [
    "**NOTE:** Part of the fun in this notebook is trying to figure out what exactly is happening with the new data, so try not to cheat by looking in the `new_data` module. Also, the `new_data` module assumes that the cache created earlier in Step 3 is still stored in `../cache/sentiment_analysis`."
   ]
  },
  {
   "cell_type": "markdown",
   "metadata": {},
   "source": [
    "### (TODO) Testing the current model\n",
    "\n",
    "Now that we've loaded the new data, let's check to see how our current XGBoost model performs on it.\n",
    "\n",
    "First, note that the data that has been loaded has already been pre-processed so that each entry in `new_X` is a list of words that have been processed using `nltk`. However, we have not yet constructed the bag of words encoding, which we will do now.\n",
    "\n",
    "First, we use the vocabulary that we constructed earlier using the original training data to construct a `CountVectorizer` which we will use to transform our new data into its bag of words encoding.\n",
    "\n",
    "**TODO:** Create the CountVectorizer object using the vocabulary created earlier and use it to transform the new data."
   ]
  },
  {
   "cell_type": "code",
   "execution_count": 34,
   "metadata": {},
   "outputs": [
    {
     "data": {
      "text/plain": [
       "[['excel',\n",
       "  'film',\n",
       "  'great',\n",
       "  'perform',\n",
       "  'zack',\n",
       "  'lochley',\n",
       "  'much',\n",
       "  'displeasur',\n",
       "  'mine',\n",
       "  'garibaldi',\n",
       "  'arriv',\n",
       "  'station',\n",
       "  'due',\n",
       "  'respect',\n",
       "  'jerri',\n",
       "  'doyl',\n",
       "  'season',\n",
       "  '4',\n",
       "  '5',\n",
       "  'lost',\n",
       "  'sympathi',\n",
       "  'charact',\n",
       "  'take',\n",
       "  'long',\n",
       "  'start',\n",
       "  'critic',\n",
       "  'zack',\n",
       "  'love',\n",
       "  'best',\n",
       "  'show',\n",
       "  'take',\n",
       "  'charg',\n",
       "  'sure',\n",
       "  'zack',\n",
       "  'could',\n",
       "  'cope',\n",
       "  'soulhunt',\n",
       "  'plot',\n",
       "  'fascin',\n",
       "  'especi',\n",
       "  'believ',\n",
       "  'heaven',\n",
       "  'zack',\n",
       "  'humour',\n",
       "  'supplement',\n",
       "  'nice',\n",
       "  '10',\n",
       "  '10',\n",
       "  'banana'],\n",
       " ['kim',\n",
       "  'patricia',\n",
       "  'clarkson',\n",
       "  'georg',\n",
       "  'jake',\n",
       "  'weber',\n",
       "  'son',\n",
       "  'mile',\n",
       "  'erik',\n",
       "  'per',\n",
       "  'sullivan',\n",
       "  'head',\n",
       "  'countri',\n",
       "  'winter',\n",
       "  'weekend',\n",
       "  'relief',\n",
       "  'manhattan',\n",
       "  'bustl',\n",
       "  'metropoli',\n",
       "  'way',\n",
       "  'hit',\n",
       "  'buck',\n",
       "  'end',\n",
       "  'stuck',\n",
       "  'snow',\n",
       "  'group',\n",
       "  'hunter',\n",
       "  'track',\n",
       "  'buck',\n",
       "  'come',\n",
       "  'along',\n",
       "  'rather',\n",
       "  'help',\n",
       "  'least',\n",
       "  'one',\n",
       "  'hunter',\n",
       "  'oti',\n",
       "  'john',\n",
       "  'speredako',\n",
       "  'mad',\n",
       "  'accid',\n",
       "  'crack',\n",
       "  'buck',\n",
       "  'antler',\n",
       "  'georg',\n",
       "  'kim',\n",
       "  'mile',\n",
       "  'disturb',\n",
       "  'oti',\n",
       "  'even',\n",
       "  'wors',\n",
       "  'quickli',\n",
       "  'learn',\n",
       "  'oti',\n",
       "  'learn',\n",
       "  'stay',\n",
       "  'meanwhil',\n",
       "  'mile',\n",
       "  'given',\n",
       "  'wendigo',\n",
       "  'kind',\n",
       "  'indian',\n",
       "  'shape',\n",
       "  'shift',\n",
       "  'spirit',\n",
       "  'monster',\n",
       "  'token',\n",
       "  'indian',\n",
       "  'seen',\n",
       "  'oti',\n",
       "  'psycho',\n",
       "  'get',\n",
       "  'hero',\n",
       "  'wendigo',\n",
       "  'wood',\n",
       "  'see',\n",
       "  'wendigo',\n",
       "  'would',\n",
       "  'number',\n",
       "  'problem',\n",
       "  'appeal',\n",
       "  'viewer',\n",
       "  'fairli',\n",
       "  'low',\n",
       "  'budget',\n",
       "  'film',\n",
       "  'technic',\n",
       "  'limit',\n",
       "  'frequent',\n",
       "  'show',\n",
       "  'much',\n",
       "  'film',\n",
       "  'mayb',\n",
       "  'realli',\n",
       "  'titular',\n",
       "  'creatur',\n",
       "  'perhap',\n",
       "  'fatal',\n",
       "  'blow',\n",
       "  'mani',\n",
       "  'peopl',\n",
       "  'ambigu',\n",
       "  'end',\n",
       "  'number',\n",
       "  'question',\n",
       "  'left',\n",
       "  'unansw',\n",
       "  'discourag',\n",
       "  'end',\n",
       "  'like',\n",
       "  'film',\n",
       "  'aim',\n",
       "  'make',\n",
       "  'think',\n",
       "  'discuss',\n",
       "  'everyth',\n",
       "  'meant',\n",
       "  'favor',\n",
       "  'avoid',\n",
       "  'wendigo',\n",
       "  'person',\n",
       "  'like',\n",
       "  'film',\n",
       "  'like',\n",
       "  'usual',\n",
       "  'prefer',\n",
       "  'ambigu',\n",
       "  'market',\n",
       "  'wendigo',\n",
       "  'gear',\n",
       "  'toward',\n",
       "  'want',\n",
       "  'quick',\n",
       "  'scari',\n",
       "  'creatur',\n",
       "  'flick',\n",
       "  'expect',\n",
       "  'grand',\n",
       "  'battl',\n",
       "  'supernatur',\n",
       "  'monster',\n",
       "  'defeat',\n",
       "  'end',\n",
       "  'everyth',\n",
       "  'tie',\n",
       "  'neatli',\n",
       "  'except',\n",
       "  'open',\n",
       "  'wendigo',\n",
       "  '2',\n",
       "  'monster',\n",
       "  'return',\n",
       "  'film',\n",
       "  'wendigo',\n",
       "  'much',\n",
       "  'thought',\n",
       "  'poetic',\n",
       "  'surfac',\n",
       "  'creatur',\n",
       "  'flick',\n",
       "  'would',\n",
       "  'suggest',\n",
       "  'peopl',\n",
       "  'heck',\n",
       "  'writer',\n",
       "  'director',\n",
       "  'larri',\n",
       "  'fessenden',\n",
       "  'even',\n",
       "  'charact',\n",
       "  'georg',\n",
       "  'recit',\n",
       "  'robert',\n",
       "  'frost',\n",
       "  'frost',\n",
       "  'poem',\n",
       "  'georg',\n",
       "  'comment',\n",
       "  'frost',\n",
       "  'evok',\n",
       "  'complex',\n",
       "  'imageri',\n",
       "  'atmospher',\n",
       "  'seemingli',\n",
       "  'simpl',\n",
       "  'thing',\n",
       "  'key',\n",
       "  'film',\n",
       "  'one',\n",
       "  'best',\n",
       "  'thing',\n",
       "  'film',\n",
       "  'complex',\n",
       "  'way',\n",
       "  'four',\n",
       "  'differ',\n",
       "  'film',\n",
       "  'occur',\n",
       "  'time',\n",
       "  'thread',\n",
       "  'charact',\n",
       "  'georg',\n",
       "  'thread',\n",
       "  'exactli',\n",
       "  'happiest',\n",
       "  'pleasant',\n",
       "  'guy',\n",
       "  'world',\n",
       "  'parent',\n",
       "  'problem',\n",
       "  'film',\n",
       "  'realist',\n",
       "  'horrif',\n",
       "  'descent',\n",
       "  'life',\n",
       "  'go',\n",
       "  'bad',\n",
       "  'wors',\n",
       "  'patricia',\n",
       "  'thread',\n",
       "  'look',\n",
       "  'rejuven',\n",
       "  'life',\n",
       "  'famili',\n",
       "  'psychologist',\n",
       "  'mostli',\n",
       "  'deni',\n",
       "  'problem',\n",
       "  'around',\n",
       "  'hope',\n",
       "  'go',\n",
       "  'away',\n",
       "  'get',\n",
       "  'better',\n",
       "  'oti',\n",
       "  'thread',\n",
       "  'even',\n",
       "  'luck',\n",
       "  'georg',\n",
       "  'georg',\n",
       "  'arriv',\n",
       "  'life',\n",
       "  'symbol',\n",
       "  'final',\n",
       "  'crack',\n",
       "  'psycholog',\n",
       "  'armor',\n",
       "  'mile',\n",
       "  'thread',\n",
       "  'probabl',\n",
       "  'import',\n",
       "  'film',\n",
       "  'life',\n",
       "  'like',\n",
       "  'grand',\n",
       "  'poem',\n",
       "  'due',\n",
       "  'youth',\n",
       "  'innoc',\n",
       "  'interpret',\n",
       "  'world',\n",
       "  'horror',\n",
       "  'stori',\n",
       "  'albeit',\n",
       "  'one',\n",
       "  'glimmer',\n",
       "  'hope',\n",
       "  'event',\n",
       "  'film',\n",
       "  'give',\n",
       "  'mile',\n",
       "  'poetic',\n",
       "  'interpret',\n",
       "  'dark',\n",
       "  'turn',\n",
       "  'still',\n",
       "  'everyth',\n",
       "  'said',\n",
       "  'done',\n",
       "  'seem',\n",
       "  'one',\n",
       "  'retain',\n",
       "  'composur',\n",
       "  'due',\n",
       "  'poetic',\n",
       "  'outlook',\n",
       "  'even',\n",
       "  'though',\n",
       "  'film',\n",
       "  'low',\n",
       "  'budget',\n",
       "  'lot',\n",
       "  'well',\n",
       "  'execut',\n",
       "  'higher',\n",
       "  'budget',\n",
       "  'ambit',\n",
       "  'fessenden',\n",
       "  'director',\n",
       "  'photographi',\n",
       "  'terri',\n",
       "  'stacey',\n",
       "  'find',\n",
       "  'great',\n",
       "  'shot',\n",
       "  'beauti',\n",
       "  'locat',\n",
       "  'creat',\n",
       "  'interest',\n",
       "  'slide',\n",
       "  'show',\n",
       "  'like',\n",
       "  'montag',\n",
       "  'card',\n",
       "  'indian',\n",
       "  'wendigo',\n",
       "  'imag',\n",
       "  'book',\n",
       "  'also',\n",
       "  'interest',\n",
       "  'tradit',\n",
       "  'montag',\n",
       "  'mile',\n",
       "  'nightmar',\n",
       "  'wendigo',\n",
       "  'better',\n",
       "  'shot',\n",
       "  'edit',\n",
       "  'mani',\n",
       "  'big',\n",
       "  'budget',\n",
       "  'film',\n",
       "  'technic',\n",
       "  'aspect',\n",
       "  'good',\n",
       "  'budget',\n",
       "  'wendigo',\n",
       "  'appear',\n",
       "  'end',\n",
       "  'work',\n",
       "  'appropri',\n",
       "  'ambigu',\n",
       "  'light',\n",
       "  'usual',\n",
       "  'good',\n",
       "  'time',\n",
       "  'dark',\n",
       "  'scene',\n",
       "  'clear',\n",
       "  'could',\n",
       "  'seem',\n",
       "  'problem',\n",
       "  'film',\n",
       "  'stock',\n",
       "  'could',\n",
       "  'digit',\n",
       "  'instead',\n",
       "  'transfer',\n",
       "  'thought',\n",
       "  'perform',\n",
       "  'good',\n",
       "  'far',\n",
       "  'realist',\n",
       "  'valu',\n",
       "  'major',\n",
       "  'film',\n",
       "  'although',\n",
       "  'realli',\n",
       "  'notic',\n",
       "  'score',\n",
       "  'must',\n",
       "  'okay',\n",
       "  'would',\n",
       "  'notic',\n",
       "  'neg',\n",
       "  'judgment',\n",
       "  'overal',\n",
       "  'wendigo',\n",
       "  'good',\n",
       "  'film',\n",
       "  'deserv',\n",
       "  'watch',\n",
       "  'without',\n",
       "  'preconcept',\n",
       "  'long',\n",
       "  'mind',\n",
       "  'think',\n",
       "  'movi',\n",
       "  'watch'],\n",
       " ['warn',\n",
       "  'chose',\n",
       "  'believ',\n",
       "  'review',\n",
       "  'said',\n",
       "  'action',\n",
       "  'film',\n",
       "  'usual',\n",
       "  'sens',\n",
       "  'rather',\n",
       "  'psycholog',\n",
       "  'drama',\n",
       "  'appreci',\n",
       "  'basi',\n",
       "  'alright',\n",
       "  'tell',\n",
       "  'wrong',\n",
       "  'complet',\n",
       "  'wrong',\n",
       "  'well',\n",
       "  'complet',\n",
       "  'disappoint',\n",
       "  'look',\n",
       "  'action',\n",
       "  'flick',\n",
       "  'right',\n",
       "  'also',\n",
       "  'unsatisfi',\n",
       "  'level',\n",
       "  'well',\n",
       "  'tom',\n",
       "  'bering',\n",
       "  'bad',\n",
       "  'suppos',\n",
       "  'wors',\n",
       "  'usual',\n",
       "  'possess',\n",
       "  'cast',\n",
       "  'billi',\n",
       "  'zane',\n",
       "  'sort',\n",
       "  'death',\n",
       "  'wish',\n",
       "  'part',\n",
       "  'produc',\n",
       "  'way',\n",
       "  'made',\n",
       "  'film',\n",
       "  'guarante',\n",
       "  'flop',\n",
       "  'case',\n",
       "  'work',\n",
       "  'actual',\n",
       "  'aim',\n",
       "  'success',\n",
       "  'cast',\n",
       "  'somebodi',\n",
       "  'act',\n",
       "  'oh',\n",
       "  'might',\n",
       "  'well',\n",
       "  'go',\n",
       "  'screenwrit',\n",
       "  'know',\n",
       "  'write',\n",
       "  'ah',\n",
       "  'ye',\n",
       "  'director',\n",
       "  'know',\n",
       "  'direct',\n",
       "  'someon',\n",
       "  'sat',\n",
       "  'mess',\n",
       "  'actual',\n",
       "  'believ',\n",
       "  'would',\n",
       "  'shortli',\n",
       "  'redeem',\n",
       "  'assur',\n",
       "  'never',\n",
       "  'piti',\n",
       "  'could',\n",
       "  'good',\n",
       "  'film'],\n",
       " ['guinea',\n",
       "  'pig',\n",
       "  'devil',\n",
       "  'experi',\n",
       "  'without',\n",
       "  'doubt',\n",
       "  'star',\n",
       "  'first',\n",
       "  'view',\n",
       "  'raw',\n",
       "  'realist',\n",
       "  'creepi',\n",
       "  'disturb',\n",
       "  'look',\n",
       "  'dark',\n",
       "  'side',\n",
       "  'human',\n",
       "  'natur',\n",
       "  'movi',\n",
       "  'get',\n",
       "  'right',\n",
       "  'point',\n",
       "  'may',\n",
       "  'think',\n",
       "  'point',\n",
       "  'point',\n",
       "  'satisfi',\n",
       "  'fan',\n",
       "  'extrem',\n",
       "  'violenc',\n",
       "  'gore',\n",
       "  'movi',\n",
       "  'gore',\n",
       "  'less',\n",
       "  'tortur',\n",
       "  'women',\n",
       "  'violent',\n",
       "  'realli',\n",
       "  '3',\n",
       "  'scene',\n",
       "  'could',\n",
       "  'consid',\n",
       "  'gore',\n",
       "  'tell',\n",
       "  'one',\n",
       "  'thing',\n",
       "  'though',\n",
       "  'guinea',\n",
       "  'pig',\n",
       "  'devil',\n",
       "  'experi',\n",
       "  'make',\n",
       "  'hostil',\n",
       "  'look',\n",
       "  'like',\n",
       "  'sesam',\n",
       "  'street',\n",
       "  'thought',\n",
       "  'hostil',\n",
       "  'crazi',\n",
       "  'brutal',\n",
       "  'disturb',\n",
       "  'tortur',\n",
       "  'flick',\n",
       "  'seen',\n",
       "  'half',\n",
       "  'seen',\n",
       "  'guinea',\n",
       "  'pig',\n",
       "  'devil',\n",
       "  'experi',\n",
       "  'movi',\n",
       "  'rate',\n",
       "  '0',\n",
       "  '5',\n",
       "  'gore',\n",
       "  '0',\n",
       "  '10guinea',\n",
       "  'pig',\n",
       "  'devil',\n",
       "  'experi',\n",
       "  'uncut',\n",
       "  '7'],\n",
       " ['ben',\n",
       "  'red',\n",
       "  'foxx',\n",
       "  'discov',\n",
       "  'wife',\n",
       "  'beatric',\n",
       "  'pearl',\n",
       "  'bailey',\n",
       "  'run',\n",
       "  'brother',\n",
       "  'rush',\n",
       "  'son',\n",
       "  'norman',\n",
       "  'michael',\n",
       "  'warren',\n",
       "  'unload',\n",
       "  'tale',\n",
       "  'woe',\n",
       "  'discov',\n",
       "  'norman',\n",
       "  'secret',\n",
       "  'lover',\n",
       "  'effemin',\n",
       "  'garson',\n",
       "  'denni',\n",
       "  'dugan',\n",
       "  'needless',\n",
       "  'say',\n",
       "  'ben',\n",
       "  'take',\n",
       "  'well',\n",
       "  'numer',\n",
       "  'complic',\n",
       "  'follow',\n",
       "  'includ',\n",
       "  'ben',\n",
       "  'attempt',\n",
       "  'get',\n",
       "  'norman',\n",
       "  'homosexu',\n",
       "  'fix',\n",
       "  'hooker',\n",
       "  'tammi',\n",
       "  'dobson',\n",
       "  'unfortun',\n",
       "  'descript',\n",
       "  'movi',\n",
       "  'sound',\n",
       "  'great',\n",
       "  'deal',\n",
       "  'entertain',\n",
       "  'movi',\n",
       "  'origin',\n",
       "  'written',\n",
       "  'theatr',\n",
       "  'ron',\n",
       "  'clark',\n",
       "  'sam',\n",
       "  'bobrick',\n",
       "  'norman',\n",
       "  'absolut',\n",
       "  'disast',\n",
       "  'new',\n",
       "  'york',\n",
       "  'stage',\n",
       "  'give',\n",
       "  'play',\n",
       "  'due',\n",
       "  'actual',\n",
       "  'saw',\n",
       "  'stage',\n",
       "  '1970',\n",
       "  'commun',\n",
       "  'theatr',\n",
       "  'product',\n",
       "  'one',\n",
       "  'would',\n",
       "  'accus',\n",
       "  'anyth',\n",
       "  'shallow',\n",
       "  'farc',\n",
       "  'cast',\n",
       "  'play',\n",
       "  'broadli',\n",
       "  'drop',\n",
       "  'dead',\n",
       "  'manner',\n",
       "  'prove',\n",
       "  'quit',\n",
       "  'amus',\n",
       "  'piti',\n",
       "  'cast',\n",
       "  'film',\n",
       "  'atroci',\n",
       "  'perform',\n",
       "  'motion',\n",
       "  'pictur',\n",
       "  'red',\n",
       "  'foxx',\n",
       "  'one',\n",
       "  'hilari',\n",
       "  'comic',\n",
       "  '20th',\n",
       "  'centuri',\n",
       "  'funni',\n",
       "  'yesterday',\n",
       "  'wash',\n",
       "  'michael',\n",
       "  'warren',\n",
       "  'later',\n",
       "  'appear',\n",
       "  'televis',\n",
       "  'seri',\n",
       "  'hill',\n",
       "  'street',\n",
       "  'blue',\n",
       "  'much',\n",
       "  'better',\n",
       "  'effect',\n",
       "  'compet',\n",
       "  'foxx',\n",
       "  'see',\n",
       "  'give',\n",
       "  'worst',\n",
       "  'perform',\n",
       "  'pearl',\n",
       "  'bailey',\n",
       "  'far',\n",
       "  'behind',\n",
       "  'truth',\n",
       "  'told',\n",
       "  'denni',\n",
       "  'duggan',\n",
       "  'tammi',\n",
       "  'dobson',\n",
       "  'cameo',\n",
       "  'wayland',\n",
       "  'flower',\n",
       "  'spark',\n",
       "  'sadli',\n",
       "  'comparison',\n",
       "  'rest',\n",
       "  'cast',\n",
       "  'film',\n",
       "  'badli',\n",
       "  'perform',\n",
       "  'look',\n",
       "  'bad',\n",
       "  'accord',\n",
       "  'film',\n",
       "  'lore',\n",
       "  'first',\n",
       "  'big',\n",
       "  'screen',\n",
       "  'effort',\n",
       "  'film',\n",
       "  'videotap',\n",
       "  'transfer',\n",
       "  'celluloid',\n",
       "  'project',\n",
       "  'purpos',\n",
       "  'believ',\n",
       "  'show',\n",
       "  'film',\n",
       "  'look',\n",
       "  'bad',\n",
       "  '1970',\n",
       "  'sitcom',\n",
       "  'right',\n",
       "  'paint',\n",
       "  'skylin',\n",
       "  'seen',\n",
       "  'window',\n",
       "  'norman',\n",
       "  'garson',\n",
       "  'apart',\n",
       "  'film',\n",
       "  'bad',\n",
       "  'becom',\n",
       "  'funni',\n",
       "  'norman',\n",
       "  'one',\n",
       "  'sum',\n",
       "  'reaction',\n",
       "  'film',\n",
       "  'two',\n",
       "  'word',\n",
       "  'miss',\n",
       "  'buy',\n",
       "  'rent',\n",
       "  'touch',\n",
       "  'ten',\n",
       "  'foot',\n",
       "  'pole',\n",
       "  'back',\n",
       "  'away',\n",
       "  'slowli',\n",
       "  'run',\n",
       "  'like',\n",
       "  'hell',\n",
       "  'gari',\n",
       "  'f',\n",
       "  'taylor',\n",
       "  'aka',\n",
       "  'gft',\n",
       "  'amazon',\n",
       "  'review']]"
      ]
     },
     "execution_count": 34,
     "metadata": {},
     "output_type": "execute_result"
    }
   ],
   "source": [
    "new_X[:5]"
   ]
  },
  {
   "cell_type": "code",
   "execution_count": 45,
   "metadata": {},
   "outputs": [],
   "source": [
    "# TODO: Create the CountVectorizer using the previously constructed vocabulary\n",
    "vectorizer = CountVectorizer(vocabulary=vocabulary,\n",
    "                            preprocessor=lambda x:x,tokenizer=lambda x:x)\n",
    "\n",
    "# TODO: Transform our new data set and store the transformed data in the variable new_XV\n",
    "\n",
    "\n",
    "new_XV = vectorizer.transform(new_X).toarray()"
   ]
  },
  {
   "cell_type": "markdown",
   "metadata": {},
   "source": [
    "As a quick sanity check, we make sure that the length of each of our bag of words encoded reviews is correct. In particular, it must be the same size as the vocabulary which in our case is `5000`."
   ]
  },
  {
   "cell_type": "code",
   "execution_count": 46,
   "metadata": {},
   "outputs": [
    {
     "data": {
      "text/plain": [
       "5000"
      ]
     },
     "execution_count": 46,
     "metadata": {},
     "output_type": "execute_result"
    }
   ],
   "source": [
    "len(new_XV[100])"
   ]
  },
  {
   "cell_type": "markdown",
   "metadata": {},
   "source": [
    "Now that we've performed the data processing that is required by our model we can save it locally and then upload it to S3 so that we can construct a batch transform job in order to see how well our model is working.\n",
    "\n",
    "First, we save the data locally.\n",
    "\n",
    "**TODO:** Save the new data (after it has been transformed using the original vocabulary) to the local notebook instance."
   ]
  },
  {
   "cell_type": "code",
   "execution_count": 48,
   "metadata": {},
   "outputs": [],
   "source": [
    "# TODO: Save the data contained in new_XV locally in the data_dir with the file name new_data.csv\n",
    "new_data = pd.DataFrame(new_XV).to_csv(os.path.join(data_dir, 'new_data.csv'), header=False, index=False)"
   ]
  },
  {
   "cell_type": "markdown",
   "metadata": {},
   "source": [
    "Next, we upload the data to S3.\n",
    "\n",
    "**TODO:** Upload the csv file created above to S3."
   ]
  },
  {
   "cell_type": "code",
   "execution_count": 49,
   "metadata": {},
   "outputs": [],
   "source": [
    "# TODO: Upload the new_data.csv file contained in the data_dir folder to S3 and save the resulting\n",
    "#       URI as new_data_location\n",
    "\n",
    "\n",
    "prefix = 'sentiment-update'\n",
    "\n",
    "new_data_location = session.upload_data(os.path.join(data_dir,'new_data.csv'),key_prefix=prefix)"
   ]
  },
  {
   "cell_type": "markdown",
   "metadata": {},
   "source": [
    "Then, once the new data has been uploaded to S3, we create and run the batch transform job to get our model's predictions about the sentiment of the new movie reviews.\n",
    "\n",
    "**TODO:** Using the `xgb_transformer` object that was created earlier (at the end of Step 4 to test the XGBoost model), transform the data located at `new_data_location`."
   ]
  },
  {
   "cell_type": "code",
   "execution_count": 50,
   "metadata": {},
   "outputs": [
    {
     "name": "stdout",
     "output_type": "stream",
     "text": [
      ".......................\u001b[34mArguments: serve\u001b[0m\n",
      "\u001b[34m[2020-05-16 20:20:45 +0000] [1] [INFO] Starting gunicorn 19.7.1\u001b[0m\n",
      "\u001b[34m[2020-05-16 20:20:45 +0000] [1] [INFO] Listening at: http://0.0.0.0:8080 (1)\u001b[0m\n",
      "\u001b[34m[2020-05-16 20:20:45 +0000] [1] [INFO] Using worker: gevent\u001b[0m\n",
      "\u001b[34m[2020-05-16 20:20:45 +0000] [38] [INFO] Booting worker with pid: 38\u001b[0m\n",
      "\u001b[34m[2020-05-16 20:20:45 +0000] [39] [INFO] Booting worker with pid: 39\u001b[0m\n",
      "\u001b[34m[2020-05-16 20:20:45 +0000] [40] [INFO] Booting worker with pid: 40\u001b[0m\n",
      "\u001b[34m[2020-05-16:20:20:45:INFO] Model loaded successfully for worker : 38\u001b[0m\n",
      "\u001b[34m[2020-05-16 20:20:45 +0000] [41] [INFO] Booting worker with pid: 41\u001b[0m\n",
      "\u001b[34m[2020-05-16:20:20:45:INFO] Model loaded successfully for worker : 39\u001b[0m\n",
      "\u001b[34m[2020-05-16:20:20:45:INFO] Model loaded successfully for worker : 40\u001b[0m\n",
      "\u001b[34m[2020-05-16:20:20:45:INFO] Model loaded successfully for worker : 41\u001b[0m\n",
      "\u001b[32m2020-05-16T20:21:05.191:[sagemaker logs]: MaxConcurrentTransforms=4, MaxPayloadInMB=6, BatchStrategy=MULTI_RECORD\u001b[0m\n",
      "\u001b[34m[2020-05-16:20:21:07:INFO] Sniff delimiter as ','\u001b[0m\n",
      "\u001b[34m[2020-05-16:20:21:07:INFO] Determined delimiter of CSV input is ','\u001b[0m\n",
      "\u001b[34m[2020-05-16:20:21:07:INFO] Sniff delimiter as ','\u001b[0m\n",
      "\u001b[34m[2020-05-16:20:21:07:INFO] Determined delimiter of CSV input is ','\u001b[0m\n",
      "\u001b[34m[2020-05-16:20:21:08:INFO] Sniff delimiter as ','\u001b[0m\n",
      "\u001b[35m[2020-05-16:20:21:07:INFO] Sniff delimiter as ','\u001b[0m\n",
      "\u001b[35m[2020-05-16:20:21:07:INFO] Determined delimiter of CSV input is ','\u001b[0m\n",
      "\u001b[35m[2020-05-16:20:21:07:INFO] Sniff delimiter as ','\u001b[0m\n",
      "\u001b[35m[2020-05-16:20:21:07:INFO] Determined delimiter of CSV input is ','\u001b[0m\n",
      "\u001b[35m[2020-05-16:20:21:08:INFO] Sniff delimiter as ','\u001b[0m\n",
      "\u001b[34m[2020-05-16:20:21:08:INFO] Determined delimiter of CSV input is ','\u001b[0m\n",
      "\u001b[34m[2020-05-16:20:21:08:INFO] Sniff delimiter as ','\u001b[0m\n",
      "\u001b[34m[2020-05-16:20:21:08:INFO] Determined delimiter of CSV input is ','\u001b[0m\n",
      "\u001b[35m[2020-05-16:20:21:08:INFO] Determined delimiter of CSV input is ','\u001b[0m\n",
      "\u001b[35m[2020-05-16:20:21:08:INFO] Sniff delimiter as ','\u001b[0m\n",
      "\u001b[35m[2020-05-16:20:21:08:INFO] Determined delimiter of CSV input is ','\u001b[0m\n",
      "\u001b[34m[2020-05-16:20:21:10:INFO] Sniff delimiter as ','\u001b[0m\n",
      "\u001b[34m[2020-05-16:20:21:10:INFO] Determined delimiter of CSV input is ','\u001b[0m\n",
      "\u001b[34m[2020-05-16:20:21:10:INFO] Sniff delimiter as ','\u001b[0m\n",
      "\u001b[35m[2020-05-16:20:21:10:INFO] Sniff delimiter as ','\u001b[0m\n",
      "\u001b[35m[2020-05-16:20:21:10:INFO] Determined delimiter of CSV input is ','\u001b[0m\n",
      "\u001b[35m[2020-05-16:20:21:10:INFO] Sniff delimiter as ','\u001b[0m\n",
      "\u001b[34m[2020-05-16:20:21:10:INFO] Determined delimiter of CSV input is ','\u001b[0m\n",
      "\u001b[34m[2020-05-16:20:21:10:INFO] Sniff delimiter as ','\u001b[0m\n",
      "\u001b[34m[2020-05-16:20:21:10:INFO] Determined delimiter of CSV input is ','\u001b[0m\n",
      "\u001b[34m[2020-05-16:20:21:10:INFO] Sniff delimiter as ','\u001b[0m\n",
      "\u001b[34m[2020-05-16:20:21:10:INFO] Determined delimiter of CSV input is ','\u001b[0m\n",
      "\u001b[35m[2020-05-16:20:21:10:INFO] Determined delimiter of CSV input is ','\u001b[0m\n",
      "\u001b[35m[2020-05-16:20:21:10:INFO] Sniff delimiter as ','\u001b[0m\n",
      "\u001b[35m[2020-05-16:20:21:10:INFO] Determined delimiter of CSV input is ','\u001b[0m\n",
      "\u001b[35m[2020-05-16:20:21:10:INFO] Sniff delimiter as ','\u001b[0m\n",
      "\u001b[35m[2020-05-16:20:21:10:INFO] Determined delimiter of CSV input is ','\u001b[0m\n",
      "\u001b[34m[2020-05-16:20:21:12:INFO] Sniff delimiter as ','\u001b[0m\n",
      "\u001b[34m[2020-05-16:20:21:12:INFO] Determined delimiter of CSV input is ','\u001b[0m\n",
      "\u001b[35m[2020-05-16:20:21:12:INFO] Sniff delimiter as ','\u001b[0m\n",
      "\u001b[35m[2020-05-16:20:21:12:INFO] Determined delimiter of CSV input is ','\u001b[0m\n",
      "\u001b[34m[2020-05-16:20:21:13:INFO] Sniff delimiter as ','\u001b[0m\n",
      "\u001b[34m[2020-05-16:20:21:13:INFO] Determined delimiter of CSV input is ','\u001b[0m\n",
      "\u001b[34m[2020-05-16:20:21:13:INFO] Sniff delimiter as ','\u001b[0m\n",
      "\u001b[34m[2020-05-16:20:21:13:INFO] Determined delimiter of CSV input is ','\u001b[0m\n",
      "\u001b[35m[2020-05-16:20:21:13:INFO] Sniff delimiter as ','\u001b[0m\n",
      "\u001b[35m[2020-05-16:20:21:13:INFO] Determined delimiter of CSV input is ','\u001b[0m\n",
      "\u001b[35m[2020-05-16:20:21:13:INFO] Sniff delimiter as ','\u001b[0m\n",
      "\u001b[35m[2020-05-16:20:21:13:INFO] Determined delimiter of CSV input is ','\u001b[0m\n",
      "\u001b[34m[2020-05-16:20:21:15:INFO] Sniff delimiter as ','\u001b[0m\n",
      "\u001b[34m[2020-05-16:20:21:15:INFO] Determined delimiter of CSV input is ','\u001b[0m\n",
      "\u001b[34m[2020-05-16:20:21:15:INFO] Sniff delimiter as ','\u001b[0m\n",
      "\u001b[34m[2020-05-16:20:21:15:INFO] Determined delimiter of CSV input is ','\u001b[0m\n",
      "\u001b[34m[2020-05-16:20:21:15:INFO] Sniff delimiter as ','\u001b[0m\n",
      "\u001b[34m[2020-05-16:20:21:15:INFO] Determined delimiter of CSV input is ','\u001b[0m\n",
      "\u001b[34m[2020-05-16:20:21:15:INFO] Sniff delimiter as ','\u001b[0m\n",
      "\u001b[34m[2020-05-16:20:21:15:INFO] Determined delimiter of CSV input is ','\u001b[0m\n",
      "\u001b[35m[2020-05-16:20:21:15:INFO] Sniff delimiter as ','\u001b[0m\n",
      "\u001b[35m[2020-05-16:20:21:15:INFO] Determined delimiter of CSV input is ','\u001b[0m\n",
      "\u001b[35m[2020-05-16:20:21:15:INFO] Sniff delimiter as ','\u001b[0m\n",
      "\u001b[35m[2020-05-16:20:21:15:INFO] Determined delimiter of CSV input is ','\u001b[0m\n",
      "\u001b[35m[2020-05-16:20:21:15:INFO] Sniff delimiter as ','\u001b[0m\n",
      "\u001b[35m[2020-05-16:20:21:15:INFO] Determined delimiter of CSV input is ','\u001b[0m\n",
      "\u001b[35m[2020-05-16:20:21:15:INFO] Sniff delimiter as ','\u001b[0m\n",
      "\u001b[35m[2020-05-16:20:21:15:INFO] Determined delimiter of CSV input is ','\u001b[0m\n",
      "\u001b[34m[2020-05-16:20:21:17:INFO] Sniff delimiter as ','\u001b[0m\n",
      "\u001b[34m[2020-05-16:20:21:17:INFO] Determined delimiter of CSV input is ','\u001b[0m\n",
      "\u001b[34m[2020-05-16:20:21:17:INFO] Sniff delimiter as ','\u001b[0m\n",
      "\u001b[34m[2020-05-16:20:21:17:INFO] Determined delimiter of CSV input is ','\u001b[0m\n",
      "\u001b[35m[2020-05-16:20:21:17:INFO] Sniff delimiter as ','\u001b[0m\n",
      "\u001b[35m[2020-05-16:20:21:17:INFO] Determined delimiter of CSV input is ','\u001b[0m\n",
      "\u001b[35m[2020-05-16:20:21:17:INFO] Sniff delimiter as ','\u001b[0m\n",
      "\u001b[35m[2020-05-16:20:21:17:INFO] Determined delimiter of CSV input is ','\u001b[0m\n",
      "\u001b[34m[2020-05-16:20:21:18:INFO] Sniff delimiter as ','\u001b[0m\n",
      "\u001b[34m[2020-05-16:20:21:18:INFO] Determined delimiter of CSV input is ','\u001b[0m\n",
      "\u001b[34m[2020-05-16:20:21:18:INFO] Sniff delimiter as ','\u001b[0m\n",
      "\u001b[35m[2020-05-16:20:21:18:INFO] Sniff delimiter as ','\u001b[0m\n",
      "\u001b[35m[2020-05-16:20:21:18:INFO] Determined delimiter of CSV input is ','\u001b[0m\n",
      "\u001b[35m[2020-05-16:20:21:18:INFO] Sniff delimiter as ','\u001b[0m\n",
      "\u001b[34m[2020-05-16:20:21:18:INFO] Determined delimiter of CSV input is ','\u001b[0m\n",
      "\u001b[35m[2020-05-16:20:21:18:INFO] Determined delimiter of CSV input is ','\u001b[0m\n",
      "\u001b[34m[2020-05-16:20:21:20:INFO] Sniff delimiter as ','\u001b[0m\n",
      "\u001b[34m[2020-05-16:20:21:20:INFO] Determined delimiter of CSV input is ','\u001b[0m\n",
      "\u001b[34m[2020-05-16:20:21:20:INFO] Sniff delimiter as ','\u001b[0m\n",
      "\u001b[34m[2020-05-16:20:21:20:INFO] Determined delimiter of CSV input is ','\u001b[0m\n",
      "\u001b[34m[2020-05-16:20:21:20:INFO] Sniff delimiter as ','\u001b[0m\n",
      "\u001b[34m[2020-05-16:20:21:20:INFO] Determined delimiter of CSV input is ','\u001b[0m\n",
      "\u001b[34m[2020-05-16:20:21:20:INFO] Sniff delimiter as ','\u001b[0m\n",
      "\u001b[34m[2020-05-16:20:21:20:INFO] Determined delimiter of CSV input is ','\u001b[0m\n",
      "\u001b[35m[2020-05-16:20:21:20:INFO] Sniff delimiter as ','\u001b[0m\n",
      "\u001b[35m[2020-05-16:20:21:20:INFO] Determined delimiter of CSV input is ','\u001b[0m\n",
      "\u001b[35m[2020-05-16:20:21:20:INFO] Sniff delimiter as ','\u001b[0m\n",
      "\u001b[35m[2020-05-16:20:21:20:INFO] Determined delimiter of CSV input is ','\u001b[0m\n",
      "\u001b[35m[2020-05-16:20:21:20:INFO] Sniff delimiter as ','\u001b[0m\n",
      "\u001b[35m[2020-05-16:20:21:20:INFO] Determined delimiter of CSV input is ','\u001b[0m\n",
      "\u001b[35m[2020-05-16:20:21:20:INFO] Sniff delimiter as ','\u001b[0m\n",
      "\u001b[35m[2020-05-16:20:21:20:INFO] Determined delimiter of CSV input is ','\u001b[0m\n",
      "\u001b[34m[2020-05-16:20:21:22:INFO] Sniff delimiter as ','\u001b[0m\n",
      "\u001b[34m[2020-05-16:20:21:22:INFO] Determined delimiter of CSV input is ','\u001b[0m\n",
      "\u001b[34m[2020-05-16:20:21:22:INFO] Sniff delimiter as ','\u001b[0m\n",
      "\u001b[34m[2020-05-16:20:21:22:INFO] Determined delimiter of CSV input is ','\u001b[0m\n",
      "\u001b[35m[2020-05-16:20:21:22:INFO] Sniff delimiter as ','\u001b[0m\n",
      "\u001b[35m[2020-05-16:20:21:22:INFO] Determined delimiter of CSV input is ','\u001b[0m\n",
      "\u001b[35m[2020-05-16:20:21:22:INFO] Sniff delimiter as ','\u001b[0m\n",
      "\u001b[35m[2020-05-16:20:21:22:INFO] Determined delimiter of CSV input is ','\u001b[0m\n",
      "\u001b[34m[2020-05-16:20:21:25:INFO] Sniff delimiter as ','\u001b[0m\n",
      "\u001b[34m[2020-05-16:20:21:25:INFO] Determined delimiter of CSV input is ','\u001b[0m\n",
      "\u001b[35m[2020-05-16:20:21:25:INFO] Sniff delimiter as ','\u001b[0m\n",
      "\u001b[35m[2020-05-16:20:21:25:INFO] Determined delimiter of CSV input is ','\u001b[0m\n",
      "\u001b[34m[2020-05-16:20:21:25:INFO] Sniff delimiter as ','\u001b[0m\n",
      "\u001b[34m[2020-05-16:20:21:25:INFO] Determined delimiter of CSV input is ','\u001b[0m\n",
      "\u001b[34m[2020-05-16:20:21:25:INFO] Sniff delimiter as ','\u001b[0m\n",
      "\u001b[34m[2020-05-16:20:21:25:INFO] Determined delimiter of CSV input is ','\u001b[0m\n",
      "\u001b[34m[2020-05-16:20:21:25:INFO] Sniff delimiter as ','\u001b[0m\n",
      "\u001b[34m[2020-05-16:20:21:25:INFO] Determined delimiter of CSV input is ','\u001b[0m\n",
      "\u001b[35m[2020-05-16:20:21:25:INFO] Sniff delimiter as ','\u001b[0m\n",
      "\u001b[35m[2020-05-16:20:21:25:INFO] Determined delimiter of CSV input is ','\u001b[0m\n",
      "\u001b[35m[2020-05-16:20:21:25:INFO] Sniff delimiter as ','\u001b[0m\n",
      "\u001b[35m[2020-05-16:20:21:25:INFO] Determined delimiter of CSV input is ','\u001b[0m\n",
      "\u001b[35m[2020-05-16:20:21:25:INFO] Sniff delimiter as ','\u001b[0m\n",
      "\u001b[35m[2020-05-16:20:21:25:INFO] Determined delimiter of CSV input is ','\u001b[0m\n",
      "\u001b[34m[2020-05-16:20:21:27:INFO] Sniff delimiter as ','\u001b[0m\n",
      "\u001b[34m[2020-05-16:20:21:27:INFO] Determined delimiter of CSV input is ','\u001b[0m\n",
      "\u001b[35m[2020-05-16:20:21:27:INFO] Sniff delimiter as ','\u001b[0m\n",
      "\u001b[35m[2020-05-16:20:21:27:INFO] Determined delimiter of CSV input is ','\u001b[0m\n",
      "\u001b[34m[2020-05-16:20:21:27:INFO] Sniff delimiter as ','\u001b[0m\n",
      "\u001b[34m[2020-05-16:20:21:27:INFO] Determined delimiter of CSV input is ','\u001b[0m\n",
      "\u001b[34m[2020-05-16:20:21:27:INFO] Sniff delimiter as ','\u001b[0m\n",
      "\u001b[34m[2020-05-16:20:21:27:INFO] Determined delimiter of CSV input is ','\u001b[0m\n",
      "\u001b[34m[2020-05-16:20:21:27:INFO] Sniff delimiter as ','\u001b[0m\n",
      "\u001b[34m[2020-05-16:20:21:27:INFO] Determined delimiter of CSV input is ','\u001b[0m\n",
      "\u001b[35m[2020-05-16:20:21:27:INFO] Sniff delimiter as ','\u001b[0m\n",
      "\u001b[35m[2020-05-16:20:21:27:INFO] Determined delimiter of CSV input is ','\u001b[0m\n",
      "\u001b[35m[2020-05-16:20:21:27:INFO] Sniff delimiter as ','\u001b[0m\n",
      "\u001b[35m[2020-05-16:20:21:27:INFO] Determined delimiter of CSV input is ','\u001b[0m\n",
      "\u001b[35m[2020-05-16:20:21:27:INFO] Sniff delimiter as ','\u001b[0m\n",
      "\u001b[35m[2020-05-16:20:21:27:INFO] Determined delimiter of CSV input is ','\u001b[0m\n"
     ]
    },
    {
     "name": "stdout",
     "output_type": "stream",
     "text": [
      "\n",
      "\u001b[34m[2020-05-16:20:21:30:INFO] Sniff delimiter as ','\u001b[0m\n",
      "\u001b[34m[2020-05-16:20:21:30:INFO] Determined delimiter of CSV input is ','\u001b[0m\n",
      "\u001b[35m[2020-05-16:20:21:30:INFO] Sniff delimiter as ','\u001b[0m\n",
      "\u001b[35m[2020-05-16:20:21:30:INFO] Determined delimiter of CSV input is ','\u001b[0m\n",
      "\u001b[34m[2020-05-16:20:21:30:INFO] Sniff delimiter as ','\u001b[0m\n",
      "\u001b[34m[2020-05-16:20:21:30:INFO] Determined delimiter of CSV input is ','\u001b[0m\n",
      "\u001b[35m[2020-05-16:20:21:30:INFO] Sniff delimiter as ','\u001b[0m\n",
      "\u001b[35m[2020-05-16:20:21:30:INFO] Determined delimiter of CSV input is ','\u001b[0m\n"
     ]
    }
   ],
   "source": [
    "# TODO: Using xgb_transformer, transform the new_data_location data. You may wish to **wait** until\n",
    "#       the batch transform job has finished.\n",
    "\n",
    "xgb_transformer.transform(new_data_location,content_type='text/csv',split_type='Line')\n",
    "\n",
    "xgb_transformer.wait()"
   ]
  },
  {
   "cell_type": "markdown",
   "metadata": {},
   "source": [
    "As usual, we copy the results of the batch transform job to our local instance."
   ]
  },
  {
   "cell_type": "code",
   "execution_count": 51,
   "metadata": {},
   "outputs": [
    {
     "name": "stdout",
     "output_type": "stream",
     "text": [
      "Completed 256.0 KiB/363.5 KiB (4.2 MiB/s) with 1 file(s) remaining\r",
      "Completed 363.5 KiB/363.5 KiB (5.8 MiB/s) with 1 file(s) remaining\r",
      "download: s3://sagemaker-us-east-2-525657442405/xgboost-2020-05-16-20-17-13-751/new_data.csv.out to ../data/sentiment_update/new_data.csv.out\r\n"
     ]
    }
   ],
   "source": [
    "!aws s3 cp --recursive $xgb_transformer.output_path $data_dir"
   ]
  },
  {
   "cell_type": "markdown",
   "metadata": {},
   "source": [
    "Read in the results of the batch transform job."
   ]
  },
  {
   "cell_type": "code",
   "execution_count": 52,
   "metadata": {},
   "outputs": [],
   "source": [
    "predictions = pd.read_csv(os.path.join(data_dir, 'new_data.csv.out'), header=None)\n",
    "predictions = [round(num) for num in predictions.squeeze().values]"
   ]
  },
  {
   "cell_type": "markdown",
   "metadata": {},
   "source": [
    "And check the accuracy of our current model."
   ]
  },
  {
   "cell_type": "code",
   "execution_count": 53,
   "metadata": {},
   "outputs": [
    {
     "data": {
      "text/plain": [
       "0.51628"
      ]
     },
     "execution_count": 53,
     "metadata": {},
     "output_type": "execute_result"
    }
   ],
   "source": [
    "accuracy_score(new_Y, predictions)"
   ]
  },
  {
   "cell_type": "markdown",
   "metadata": {},
   "source": [
    "So it would appear that *something* has changed since our model is no longer (as) effective at determining the sentiment of a user provided review.\n",
    "\n",
    "In a real life scenario you would check a number of different things to see what exactly is going on. In our case, we are only going to check one and that is whether some aspect of the underlying distribution has changed. In other words, we want to see if the words that appear in our new collection of reviews matches the words that appear in the original training set. Of course, we want to narrow our scope a little bit so we will only look at the `5000` most frequently appearing words in each data set, or in other words, the vocabulary generated by each data set.\n",
    "\n",
    "Before doing that, however, let's take a look at some of the incorrectly classified reviews in the new data set.\n",
    "\n",
    "To start, we will deploy the original XGBoost model. We will then use the deployed model to infer the sentiment of some of the new reviews. This will also serve as a nice excuse to deploy our model so that we can mimic a real life scenario where we have a model that has been deployed and is being used in production.\n",
    "\n",
    "**TODO:** Deploy the XGBoost model."
   ]
  },
  {
   "cell_type": "code",
   "execution_count": 54,
   "metadata": {},
   "outputs": [
    {
     "name": "stderr",
     "output_type": "stream",
     "text": [
      "WARNING:sagemaker:Using already existing model: xgboost-2020-05-16-19-16-45-344\n"
     ]
    },
    {
     "name": "stdout",
     "output_type": "stream",
     "text": [
      "-------------!"
     ]
    }
   ],
   "source": [
    "# TODO: Deploy the model that was created earlier. Recall that the object name is 'xgb'.\n",
    "xgb_predictor = xgb.deploy(initial_instance_count=1,instance_type='ml.m4.xlarge')"
   ]
  },
  {
   "cell_type": "markdown",
   "metadata": {},
   "source": [
    "### Diagnose the problem\n",
    "\n",
    "Now that we have our deployed \"production\" model, we can send some of our new data to it and filter out some of the incorrectly classified reviews."
   ]
  },
  {
   "cell_type": "code",
   "execution_count": 55,
   "metadata": {},
   "outputs": [],
   "source": [
    "from sagemaker.predictor import csv_serializer\n",
    "\n",
    "# We need to tell the endpoint what format the data we are sending is in so that SageMaker can perform the serialization.\n",
    "xgb_predictor.content_type = 'text/csv'\n",
    "xgb_predictor.serializer = csv_serializer"
   ]
  },
  {
   "cell_type": "markdown",
   "metadata": {},
   "source": [
    "It will be useful to look at a few different examples of incorrectly classified reviews so we will start by creating a *generator* which we will use to iterate through some of the new reviews and find ones that are incorrect.\n",
    "\n",
    "**NOTE:** Understanding what Python generators are isn't really required for this module. The reason we use them here is so that we don't have to iterate through all of the new reviews, searching for incorrectly classified samples."
   ]
  },
  {
   "cell_type": "code",
   "execution_count": 56,
   "metadata": {},
   "outputs": [],
   "source": [
    "def get_sample(in_X, in_XV, in_Y):\n",
    "    for idx, smp in enumerate(in_X):\n",
    "        res = round(float(xgb_predictor.predict(in_XV[idx])))\n",
    "        if res != in_Y[idx]:\n",
    "            yield smp, in_Y[idx]"
   ]
  },
  {
   "cell_type": "code",
   "execution_count": 57,
   "metadata": {},
   "outputs": [],
   "source": [
    "gn = get_sample(new_X, new_XV, new_Y)"
   ]
  },
  {
   "cell_type": "markdown",
   "metadata": {},
   "source": [
    "At this point, `gn` is the *generator* which generates samples from the new data set which are not classified correctly. To get the *next* sample we simply call the `next` method on our generator."
   ]
  },
  {
   "cell_type": "code",
   "execution_count": 58,
   "metadata": {},
   "outputs": [
    {
     "name": "stdout",
     "output_type": "stream",
     "text": [
      "(\"['warn', 'chose', 'believ', 'review', 'said', 'action', 'film', 'usual', 'sens', 'rather', 'psycholog', 'drama', 'appreci', 'basi', 'alright', 'tell', 'wrong', 'complet', 'wrong', 'well', 'complet', 'disappoint', 'look', 'action', 'flick', 'right', 'also', 'unsatisfi', 'level', 'well', 'tom', 'bering', 'bad', 'suppos', 'wors', 'usual', 'possess', 'cast', 'billi', 'zane', 'sort', 'death', 'wish', 'part', 'produc', 'way', 'made', 'film', 'guarante', 'flop', 'case', 'work', 'actual', 'aim', 'success', 'cast', 'somebodi', 'act', 'oh', 'might', 'well', 'go', 'screenwrit', 'know', 'write', 'ah', 'ye', 'director', 'know', 'direct', 'someon', 'sat', 'mess', 'actual', 'believ', 'would', 'shortli', 'redeem', 'assur', 'never', 'piti', 'could', 'good', 'film']\", 0)\n"
     ]
    }
   ],
   "source": [
    "print(next(gn))"
   ]
  },
  {
   "cell_type": "markdown",
   "metadata": {},
   "source": [
    "After looking at a few examples, maybe we decide to look at the most frequently appearing `5000` words in each data set, the original training data set and the new data set. The reason for looking at this might be that we expect the frequency of use of different words to have changed, maybe there is some new slang that has been introduced or some other artifact of popular culture that has changed the way that people write movie reviews.\n",
    "\n",
    "To do this, we start by fitting a `CountVectorizer` to the new data."
   ]
  },
  {
   "cell_type": "code",
   "execution_count": 59,
   "metadata": {},
   "outputs": [
    {
     "name": "stderr",
     "output_type": "stream",
     "text": [
      "/home/ec2-user/anaconda3/envs/pytorch_p36/lib/python3.6/site-packages/sklearn/feature_extraction/text.py:507: UserWarning: The parameter 'token_pattern' will not be used since 'tokenizer' is not None'\n",
      "  warnings.warn(\"The parameter 'token_pattern' will not be used\"\n"
     ]
    },
    {
     "data": {
      "text/plain": [
       "CountVectorizer(analyzer='word', binary=False, decode_error='strict',\n",
       "                dtype=<class 'numpy.int64'>, encoding='utf-8', input='content',\n",
       "                lowercase=True, max_df=1.0, max_features=5000, min_df=1,\n",
       "                ngram_range=(1, 1),\n",
       "                preprocessor=<function <lambda> at 0x7fb6d0ad7b70>,\n",
       "                stop_words=None, strip_accents=None,\n",
       "                token_pattern='(?u)\\\\b\\\\w\\\\w+\\\\b',\n",
       "                tokenizer=<function <lambda> at 0x7fb6d0ad7d90>,\n",
       "                vocabulary=None)"
      ]
     },
     "execution_count": 59,
     "metadata": {},
     "output_type": "execute_result"
    }
   ],
   "source": [
    "new_vectorizer = CountVectorizer(max_features=5000,\n",
    "                preprocessor=lambda x: x, tokenizer=lambda x: x)\n",
    "new_vectorizer.fit(new_X)"
   ]
  },
  {
   "cell_type": "markdown",
   "metadata": {},
   "source": [
    "Now that we have this new `CountVectorizor` object, we can check to see if the corresponding vocabulary has changed between the two data sets."
   ]
  },
  {
   "cell_type": "code",
   "execution_count": 60,
   "metadata": {},
   "outputs": [],
   "source": [
    "original_vocabulary = set(vocabulary.keys())\n",
    "new_vocabulary = set(new_vectorizer.vocabulary_.keys())"
   ]
  },
  {
   "cell_type": "markdown",
   "metadata": {},
   "source": [
    "We can look at the words that were in the original vocabulary but not in the new vocabulary."
   ]
  },
  {
   "cell_type": "code",
   "execution_count": 61,
   "metadata": {},
   "outputs": [
    {
     "name": "stdout",
     "output_type": "stream",
     "text": [
      "{'bathroom', 'aunt', 'bourn', 'genuin', 'crook', 'lena', 'snake', 'singl', 'wide', 'critic', 'conscious', 'coher', 'sullivan', 'belushi', 'argument', 'carrey', 'hackman', 'christoph', 'absorb', 'dinner', 'novel', 'contribut', 'pleasant', 'ratso', 'devot', 'younger', 'cameron', 'cooper', 'assur', 'tie', 'toss', 'commerci', 'incompet', '1999', 'bay', 'catherin', 'priest', 'danish', 'amitabh', 'attitud', 'order', 'myth', 'jacket', 'potter', 'matthew', 'mobster', 'wife', 'jackson', 'hostil', 'sailor', 'blind', 'off', 'justifi', 'start', 'fade', 'wannab', 'opportun', 'sequenc', 'us', 'grew', 'polanski', 'adapt', 'apart', 'pale', 'forgett', 'gere', 'comprehens', 'flower', 'bernard', 'tax', 'appal', 'whatev', 'wwii', 'faint', 'serious', 'dri', 'kazan', 'babe', 'kolchak', 'sadli', 'addit', 'father', 'freak', 'occupi', 'sleepwalk', 'monologu', 'conan', 'scroog', 'confess', 'tragic', 'derang', 'hulk', 'vader', 'suffici', 'fonda', 'poe', 'warn', 'wax', 'great', 'bother', 'brad', 'outlaw', 'extens', 'sight', 'potenti', 'anim', 'row', 'asid', 'murphi', 'cycl', 'stun', 'futur', 'fourth', 'ross', 'know', 'split', 'offens', 'restrain', 'constant', 'van', 'screenwrit', 'priceless', 'type', 'alert', 'acquir', 'hint', 'imposs', 'hell', 'suggest', 'root', 'royal', 'despis', 'favor', 'star', 'bug', 'harvey', 'emphasi', 'behold', 'improvis', 'player', 'denni', 'thread', 'agenda', 'cabin', 'firstli', 'wish', 'intend', 'attorney', 'choic', 'bach', 'mental', 'black', 'uneven', 'couch', 'swept', 'tomato', 'treat', 'mayb', 'obviou', 'outfit', 'competit', 'phenomenon', 'core', 'usual', 'stack', 'atmospher', 'philosoph', 'strang', 'reev', 'sassi', 'victim', 'pitt', 'vomit', 'purpl', 'trick', 'ticket', 'descent', 'jr', 'win', 'secondli', 'valu', 'ms', 'stori', 'valid', 'trust', 'nick', 'kyle', 'kim', 'peer', 'featur', 'audienc', 'entir', 'cage', 'recogn', 'passabl', 'gentl', 'difficulti', 'weather', 'launch', 'astair', 'talki', 'choru', 'narr', 'bunch', 'sensibl', 'enforc', 'giant', 'absenc', 'look', 'nice', 'burt', 'goldsworthi', 'hepburn', 'calib', 'non', 'roof', 'parent', 'disagre', 'warm', 'guid', 'handl', 'psycho', 'born', 'album', 'brazil', 'improv', 'prefer', 'profil', 'godzilla', 'forgiven', 'blend', 'stare', 'dvd', 'charli', 'month', 'assembl', 'flight', '22', 'partial', 'impress', 'round', '1972', 'graphic', 'sharp', 'mortal', 'pirat', 'heck', 'empathi', 'stan', 'summar', 'lanc', 'florida', 'atroc', 'price', 'www', 'smell', 'aveng', 'improb', 'consider', 'amateurish', 'parker', 'roman', 'entri', 'unawar', 'seat', 'ill', 'outer', 'buy', 'tower', 'admir', 'amateur', 'naschi', 'courag', 'sensat', 'frame', 'porn', 'button', 'audrey', 'drawn', 'secondari', 'joey', 'discoveri', 'recreat', 'walt', 'simpli', 'honor', 'inde', 'sentiment', 'boat', 'gina', 'unimagin', 'christma', '1960', '1920', 'nearli', 'leather', 'congratul', 'everyon', 'fail', 'altogeth', 'talent', 'ordinari', 'wilson', 'dragon', 'dilemma', 'craig', 'sister', 'devil', 'crisi', 'nineti', 'word', 'rhythm', 'manag', 'peak', 'pair', 'war', 'trap', 'religion', 'offici', 'crawl', 'gloriou', 'forev', 'tank', 'stream', 'hopper', 'horrid', 'direct', 'twist', 'fish', 'bet', 'lay', 'carlito', 'teen', 'darn', 'toni', 'ideolog', 'agenc', 'legitim', 'ethnic', 'insan', 'intent', 'setup', 'lifetim', 'convert', 'side', 'tactic', 'profess', 'breathtak', 'marshal', 'undoubtedli', 'tokyo', 'somewher', 'scoop', 'new', 'violent', 'racist', 'assault', 'almost', 'return', 'wendi', 'pointless', 'sun', 'dicken', 'im', 'ignor', 'campbel', 'disturb', 'cd', 'got', 'kept', 'like', 'compass', 'aspect', 'tick', 'com', 'love', 'aristocrat', 'wrench', 'arrest', 'crown', 'spoil', 'individu', 'thrown', 'devoid', 'lean', 'applaud', 'realiz', 'persona', 'chamberlain', 'quot', 'foster', 'design', 'kay', 'trier', 'gabriel', 'ingredi', 'away', 'foot', 'omen', 'nude', 'perspect', 'mission', 'met', 'standard', 'edit', 'ol', 'mark', 'certainli', 'holocaust', 'wise', 'burton', 'shout', 'barn', 'amus', 'uncl', 'slave', 'phrase', 'springer', 'warren', 'von', 'build', 'conflict', 'uncut', 'russia', 'sing', 'helm', 'charisma', 'natur', 'conveni', 'confin', 'icon', 'mainli', 'oldest', 'jimmi', 'ken', 'flirt', 'lower', 'screw', 'paradis', 'flow', 'mindless', 'engross', '1989', 'ground', 'disord', 'alarm', 'convict', 'flop', 'contempt', 'kent', 'especi', 'superman', 'knew', 'battl', 'saw', 'high', 'nicola', 'chees', 'theme', 'chicken', 'carmen', 'consciou', 'medium', 'birthday', 'heartwarm', 'woodi', 'shoulder', 'yeah', 'southern', 'hour', 'pseudo', 'moor', 'samurai', 'instrument', 'dislik', 'felt', 'maggi', 'jame', 'barrel', 'shelley', 'compens', 'carter', 'rehash', 'rave', 'nut', 'soccer', 'arthur', '60', 'bate', 'kinda', 'semi', 'alan', 'wwe', 'mistaken', 'written', 'manipul', 'load', 'sent', 'readi', 'line', 'tyler', 'randolph', 'china', 'massiv', 'recal', 'acquaint', 'ii', 'salman', 'comprehend', 'lock', 'russel', 'basing', 'wit', 'sniper', 'mine', 'toward', 'hello', 'bastard', 'express', 'heartbreak', 'volum', 'whine', 'shatter', 'evan', 'announc', 'loi', 'doc', 'critiqu', 'back', 'behind', 'banter', 'girl', 'gestur', 'sorri', 'mechan', 'colonel', 'stiff', 'essenc', 'proof', 'falk', 'blake', 'reli', 'skull', 'lawrenc', 'crippl', 'respons', 'frog', 'dub', 'hack', 'size', 'piti', 'busi', 'bite', 'effect', 'europ', 'matt', 'fruit', 'underneath', 'luka', 'carel', 'sunni', 'difficult', 'guess', 'stereotyp', 'farm', 'includ', 'incoher', 'bro', 'phillip', 'outcom', 'preced', 'behavior', 'blown', 'deepli', 'min', 'welcom', 'push', 'ed', 'grief', 'caricatur', 'timothi', 'eager', 'judd', 'enthusiast', 'squar', 'shepherd', 'restrict', '73', 'bad', 'topless', 'actress', 'insult', 'neighborhood', 'endur', 'ash', 'convers', 'review', 'mom', 'ethan', 'approach', 'holm', 'join', 'result', 'abomin', 'jealou', 'tonight', 'twilight', 'metaphor', 'sens', 'shower', 'flee', 'ami', 'quick', 'came', 'gasp', 'loud', 'indiffer', 'thin', 'mirror', 'accept', 'airplan', 'vietnam', 'boyl', 'slash', 'gangster', 'detect', 'eleg', 'unrealist', 'princ', 'threat', 'effici', 'allow', 'composit', 'spock', 'section', 'trigger', 'bottom', 'ridden', 'vain', 'down', 'hous', 'acknowledg', 'editor', 'psychopath', 'visit', 'predat', 'imperson', 'restaur', 'categori', 'wet', 'honest', 'answer', 'kingdom', 'finish', 'pursuit', 'parad', 'sound', 'contract', 'diamond', 'beard', 'gone', 'schedul', 'blade', 'larger', '3rd', 'terribl', 'wive', 'bond', 'long', 'someth', 'headach', 'clown', 'helpless', 'purchas', 'red', 'specif', 'trek', 'energet', 'loss', 'aborigin', 'delici', 'sit', 'rumor', 'boo', 'teenag', 'hold', 'scariest', 'nathan', 'vision', 'jo', 'oliv', 'brood', 'deliver', 'resist', 'hill', 'fleet', 'spice', 'intrigu', 'buzz', 'arrog', 'championship', 'inject', 'mel', 'polici', 'perhap', 'energi', 'stab', 'cassidi', 'cow', 'solo', 'psychic', 'heart', 'window', 'nolt', 'financ', 'nightmar', 'tree', 'interest', 'imdb', 'gal', 'innov', 'bill', 'funnier', 'rubi', 'deed', 'distort', 'stuff', 'mgm', 'challeng', 'experienc', 'cgi', 'clock', 'gabl', 'flaw', 'parson', 'find', 'steve', 'bring', 'station', 'wast', 'enabl', 'rule', 'today', 'face', 'pursu', 'antholog', 'increas', 'tight', 'fan', 'stinker', 'gratuit', 'driver', 'whilst', 'jenni', 'salli', 'milk', 'landscap', 'nina', 'reveal', 'eastern', 'illus', 'alcohol', 'lush', 'whenev', 'mass', 'attent', 'arm', 'tea', 'secret', 'vehicl', 'profan', 'mccoy', 'capabl', 'silli', 'justic', 'hilari', 'pretens', 'genet', 'suck', 'brook', 'sudden', 'tiger', 'redeem', 'destin', 'exposit', 'excus', 'commentari', 'feed', 'articl', 'harrison', 'anna', 'dark', 'worship', 'whether', 'abrupt', 'doom', 'somebodi', 'lawyer', 'rod', 'jan', 'gadget', 'forti', 'prom', 'dread', 'militari', 'stimul', 'extrem', 'warrior', 'rental', 'thumb', 'treatment', 'offend', 'overwhelm', 'ebert', 'jerri', 'furiou', 'newspap', 'accid', 'vaniti', 'convincingli', 'einstein', 'subject', 'galaxi', 'erot', 'cartoonish', 'greed', 'theater', 'thing', 'wash', 'fantast', 'famili', 'helicopt', 'larri', 'ocean', 'unlik', 'shred', 'lift', 'stink', 'dandi', 'lacklust', 'propaganda', 'cup', 'hbo', 'incorpor', 'bath', 'attach', 'extra', 'ever', 'roll', 'showdown', 'asset', 'huh', 'ryan', 'sometim', 'industri', 'capit', 'tempt', 'susan', 'streisand', 'fellow', 'product', 'meat', 'seduc', 'contact', 'feet', 'bias', 'attack', 'suicid', 'band', 'wire', 'requir', 'fido', 'across', '14', 'explan', 'metal', 'tim', 'garden', 'shoe', 'pathet', 'lemmon', 'complet', 'intim', 'brought', 'begin', 'slight', 'lone', 'around', 'fed', 'cb', 'convent', 'irrit', 'chick', 'deni', 'martha', 'robberi', 'accus', 'wed', 'flashi', 'afternoon', 'disjoint', 'bridg', 'fifteen', 'set', 'wholli', 'luckili', 'fall', 'india', 'turn', 'curios', 'shown', 'barri', 'privat', 'embrac', 'appar', 'sourc', 'roth', 'verg', 'juli', 'dish', 'version', 'indulg', 'commit', 'meaningless', 'pop', 'dismiss', 'rubber', 'lincoln', 'stoog', 'render', 'con', 'rip', 'willi', 'repuls', 'raymond', 'danc', 'mob', 'decis', 'examin', 'prepar', 'among', 'blast', 'columbo', 'decapit', 'kumar', 'inabl', 'cover', 'hamilton', 'leg', 'fear', 'read', 'goer', 'dire', 'estrang', 'bird', 'harri', 'controversi', 'stunt', 'suspect', 'celluloid', 'tension', 'defeat', 'compromis', 'alex', 'peac', 'march', 'meander', 'spin', 'glori', 'crocodil', 'fli', 'human', 'armi', 'olli', 'seed', 'dead', 'henc', 'similarli', 'match', 'atroci', 'hood', 'mst3k', 'beast', 'abund', 'lesbian', 'evolv', 'affect', 'aliv', 'senseless', 'taboo', 'deliber', 'percept', 'cat', 'narrow', 'bull', 'stomach', 'hong', 'concept', 'prevent', '1970', 'basebal', 'winchest', 'hero', 'west', 'demis', 'minor', 'slasher', 'shoddi', 'anticip', 'nazi', 'babi', 'robot', 'prostitut', 'dim', 'bent', 'messag', 'wield', 'land', 'proceed', 'harder', '1939', 'pete', 'tap', 'suffer', 'clone', 'pat', 'shift', 'cush', 'serial', 'grip', 'brand', 'scarfac', 'onto', 'zero', 'fart', 'divid', 'italian', 'rochest', 'jone', 'characteris', 'blob', 'length', 'harmless', 'text', 'classic', 'undeni', 'watcher', 'alexand', 'grown', 'miik', 'spread', 'driven', 'stole', 'forbidden', 'kelli', 'dan', 'name', 'polish', 'slowli', 'matter', 'instead', 'aesthet', 'normal', 'maid', 'east', 'breakdown', 'blair', 'victoria', 'transport', 'sure', 'decid', 'door', 'conclud', 'circl', 'politician', 'signific', 'christ', 'implaus', 'profession', 'hang', 'footag', 'debt', 'alright', 'chosen', 'conserv', 'climact', 'support', 'bit', 'bell', 'secretari', 'leo', 'mildr', 'mcqueen', 'power', 'conclus', 'better', 'strand', 'luci', 'mini', 'marriag', 'feast', 'sloppi', 'exampl', 'magazin', 'el', 'realist', 'dougla', 'veteran', 'obstacl', 'whoever', 'abysm', 'morgan', 'joy', 'leader', 'regret', 'jack', 'boxer', 'accent', 'lundgren', 'viewpoint', 'style', 'still', 'campi', 'comb', 'damn', 'church', 'go', 'plausibl', 'center', '17', 'fragil', 'reveng', 'id', 'simplist', 'resort', 'franco', 'ritter', 'garbag', 'cancel', 'ugli', 'insight', 'care', 'code', 'rout', 'tragedi', 'ruth', 'khan', 'claim', 'understood', 'rhyme', 'rock', 'yawn', 'rescu', 'fabric', 'clara', 'australian', 'chase', 'peopl', 'bold', 'own', 'goldberg', 'farmer', 'disabl', 'feat', 'ridicul', 'dumb', 'monk', 'grotesqu', 'trilog', 'fought', 'drip', 'romero', 'tough', 'deer', 'japan', 'rooki', 'greek', 'therefor', 'buddi', 'poker', 'abound', 'korean', 'moodi', 'madonna', 'danger', 'luck', 'judg', 'sort', 'pour', 'comed', 'recent', 'bow', 'princess', 'clad', 'trial', 'invas', 'fair', 'disbelief', 'stupid', 'advanc', 'sad', 'hypnot', 'angst', 'quest', 'linda', 'logic', 'cooki', 'ring', '1990', 'heal', 'doo', 'admittedli', 'hung', 'witti', 'wors', 'concentr', 'poignant', 'cinema', 'holli', 'kitchen', 'fake', 'measur', 'punish', 'prais', '20', 'aid', 'happi', 'act', 'oppos', 'karl', 'lucki', 'smooth', 'bbc', 'punch', 'del', 'primarili', 'razor', 'miracul', 'tunnel', 'kirk', 'dollar', 'isra', 'tour', 'entertain', 'voight', 'satan', 'stick', 'expos', 'puppi', 'teeth', 'hungri', 'fortun', 'refresh', 'grandmoth', 'midnight', 'endless', 'bake', 'popcorn', 'consum', 'deeper', 'capot', 'smile', 'rest', 'intern', 'immedi', 'apolog', 'slaughter', 'wig', 'eighti', 'hate', 'devast', 'progress', '1986', 'blond', 'edgi', 'puzzl', 'mario', 'wont', 'jam', 'fresh', 'fare', 'rick', '1994', 'net', 'dynam', 'network', 'dispos', 'onlin', 'preview', 'cain', 'homosexu', 'grey', 'ingeni', 'dream', 'contradict', 'speech', 'lex', 'jail', 'exact', 'credibl', 'highli', 'cream', 'disregard', 'inappropri', 'rachel', 'pressur', 'fluff', 'leap', 'swear', 'bare', 'ariel', 'cheek', 'ancient', 'carey', 'casino', 'real', 'chew', 'bulk', 'introduct', 'wagner', 'ironi', 'clint', 'tape', 'resolv', 'luxuri', 'moe', 'colleagu', 'invis', 'latest', 'roller', 'favorit', 'santa', 'juvenil', 'german', 'finest', 'money', '1945', 'brooklyn', 'pervert', 'polit', 'label', 'popul', 'lee', 'whack', '2008', 'unravel', 'pound', 'bacon', 'reid', 'retir', 'anoth', 'preserv', 'depict', 'edward', 'bullet', 'devic', 'quietli', 'inconsist', 'barbara', 'ha', 'target', 'domest', 'pickford', 'jule', 'prove', 'assum', 'portion', 'wave', 'journey', 'attribut', 'toronto', 'cap', 'expert', 'soft', 'penni', 'london', 'packag', 'jerk', 'nelson', 'enter', 'earli', 'soprano', 'anton', 'newman', 'sneak', 'light', 'growth', 'demand', 'seduct', 'unit', 'communist', 'jake', 'trash', 'empir', 'ward', 'person', 'cheer', 'montag', 'independ', 'gem', 'artist', 'tremend', 'suit', 'scheme', 'presum', 'horrif', 'sharon', 'edi', 'cattl', 'nurs', 'sci', 'centr', 'absent', 'mitchel', 'wilder', 'becom', 'feel', 'second', 'store', 'convolut', 'nowaday', 'innoc', 'rent', 'cari', 'eat', 'relentless', '2006', 'rose', 'mute', 'proce', 'impact', 'kathryn', 'seldom', 'incid', 'els', 'bride', 'loretta', 'pun', 'romant', 'excess', 'union', 'brillianc', 'distanc', 'establish', 'smoke', 'lili', 'beverli', 'custom', 'weekend', 'unpredict', 'thunderbird', 'cypher', 'lake', 'highest', 'michel', 'saturday', 'william', 'remark', 'flash', 'knee', 'major', 'baldwin', 'well', 'anger', 'hot', 'memor', 'none', 'accur', 'agre', 'awe', 'slide', 'sustain', 'versu', 'hay', 'paus', 'kenneth', 'sutherland', 'pioneer', 'palanc', '1974', 'ad', 'washington', 'send', 'suitabl', 'recov', 'award', 'simon', 'underworld', 'russian', 'despit', 'meyer', 'societi', 'exist', 'surprisingli', 'basketbal', 'pool', 'anthoni', 'locat', 'seventi', 'number', 'plan', 'belong', 'dog', 'cruis', 'norm', 'analysi', 'dorothi', 'gold', 'parodi', 'lo', 'creepi', 'burn', 'simmon', 'climax', 'deal', 'infam', 'sammi', 'ya', 'bore', 'respond', 'warmth', 'drum', 'randomli', 'shock', 'term', 'ladi', 'traffic', 'halloween', 'lot', 'neglect', 'nicol', 'meet', 'languag', 'ago', 'bedroom', 'alter', '1996', 'virgin', 'formula', 'substanc', 'murray', 'usa', 'witch', 'cri', 'steer', 'bravo', 'share', 'chemistri', 'dee', 'inaccur', 'undermin', 'sue', 'cake', 'yellow', 'clash', 'dazzl', 'thank', 'given', 'importantli', 'literatur', 'observ', 'shadow', 'ramon', 'constitut', 'employ', 'hide', 'tad', 'elect', 'kennedi', 'york', 'joker', 'clear', 'eastwood', 'move', 'song', 'flynn', '15', 'drag', 'verhoeven', 'curs', 'minim', 'pixar', 'top', 'older', 'list', 'compani', 'annoy', 'chan', 'abraham', 'charl', 'crew', 'rich', 'teacher', 'broadway', 'await', 'romp', 'leigh', 'scorses', 'ben', 'identifi', 'novak', 'home', 'pure', 'ellen', 'rude', 'neatli', 'dude', 'peck', 'joe', 'eye', 'sandler', 'sacrific', 'surviv', 'trend', 'foxx', 'hook', 'drove', 'unfortun', 'funni', 'tommi', 'uninterest', 'two', 'reliabl', 'reynold', '1993', 'miss', 'poke', 'shootout', 'disguis', 'hokey', 'recognit', 'geniu', 'narrat', 'drain', 'sung', 'disney', 'kane', 'choppi', 'south', 'wreck', 'propos', 'said', 'lou', 'kill', 'mayhem', 'chip', 'pretenti', 'logan', 'day', 'dixon', 'nostalg', 'low', 'co', 'andi', 'le', 'lovabl', 'fill', 'posit', 'repres', 'sidekick', 'benefit', 'martin', 'shakespear', 'greatest', 'sexi', 'li', 'delv', 'counter', 'prior', 'dimens', 'boll', 'texa', 'satir', 'worth', 'eleven', 'lurk', 'slimi', 'gap', 'diari', 'constantli', 'angela', 'gilliam', 'come', 'save', 'richard', 'circumst', 'clan', 'behaviour', 'gene', 'proport', 'louis', 'lloyd', 'vari', 'elizabeth', 'molli', 'relat', 'unseen', 'option', 'separ', 'opera', 'dawn', 'physic', 'self', 'uh', 'legaci', 'worm', 'evelyn', 'confront', 'heston', 'give', 'medic', 'fun', 'candi', 'alli', 'secretli', 'speed', 'board', 'pro', 'debat', 'world', 'detract', 'sand', 'ninja', 'increasingli', 'radiat', 'der', 'beauti', 'ask', '3000', 'pc', 'english', 'hey', 'bash', 'filler', 'likewis', 'grin', 'futurist', 'linger', 'huge', 'poem', 'hollywood', 'costum', 'precis', 'surfac', 'nois', 'rivet', 'cook', 'run', 'guy', 'discern', 'info', 'sweet', 'probabl', 'similar', 'stretch', 'friendli', 'biko', 'sibl', 'alexandr', 'use', 'sport', 'canada', 'movement', 'whip', 'catch', '40', 'bu', 'clumsi', 'spirit', 'corrupt', 'function', 'virginia', 'occur', 'sweat', 'upset', 'thousand', 'june', 'strongli', 'bang', 'poetri', 'hurt', 'chief', 'da', 'depend', 'sox', 'grace', 'goof', 'tend', 'jeffrey', 'corner', 'gonna', 'misguid', 'swing', 'ten', 'tenant', 'unleash', 'interior', 'ensembl', 'howard', 'survivor', 'mummi', 'lavish', 'clearli', 'recycl', 'poetic', 'weav', 'defin', 'utterli', 'transform', 'imag', 'redneck', 'clau', 'ex', 'chill', 'uninspir', 'releas', 'useless', 'moreov', 'easier', 'previous', 'neil', 'junk', 'miniseri', 'creativ', 'bean', 'backdrop', 'occasion', 'archiv', 'choos', 'character', 'maci', 'pamela', 'eve', 'stephen', 'tongu', 'stage', 'incident', 'focus', 'passion', 'enchant', 'particularli', 'hype', '1930', 'barrymor', 'seriou', '1969', 'divers', 'static', 'schlock', 'biblic', 'fund', 'pal', 'food', 'obvious', 'failur', 'bloodi', 'mani', 'myer', 'abil', 'dig', 'swallow', 'sissi', 'subtleti', 'frankenstein', 'disappoint', 'conceiv', 'everyday', 'respect', 'spi', 'boot', 'caus', 'gruesom', 'nope', 'inform', 'berlin', 'isol', 'stanley', 'recognis', 'hoffman', 'firmli', 'close', '19th', 'qualiti', 'weight', 'cultur', 'addict', 'hopeless', 'idol', 'someon', 'robert', 'throat', 'leav', 'johnni', 'edg', 'mention', 'halfway', 'repli', 'essenti', 'belief', 'due', 'girlfriend', 'breath', 'walsh', 'remot', 'inan', 'illeg', 'dwarf', 'testament', 'artsi', 'cross', 'reed', 'dawson', 'broadcast', 'consequ', 'cell', 'drunken', 'chanc', 'christian', 'demon', 'border', 'nemesi', 'treasur', 'miseri', 'meanwhil', 'dose', 'diseas', 'address', 'countri', 'brother', 'joel', 'particular', 'oppon', 'era', 'cruel', 'broken', '1940', 'harsh', 'ruin', 'subtli', 'niro', 'tom', 'freeman', 'obnoxi', 'focu', 'smith', 'belt', 'amor', 'bowl', 'fever', 'histori', 'yearn', 'closest', 'gun', 'variou', 'nevertheless', 'escap', 'replay', 'digit', 'revel', 'fascist', 'alreadi', 'afford', 'eyr', 'control', 'gentleman', 'simpl', 'resembl', 'mum', 'jesu', 'shot', 'werewolf', 'phoni', 'alec', 'ran', 'park', 'error', 'deliveri', 'pierc', 'matrix', 'confirm', 'wooden', 'comput', 'shortcom', 'offic', 'ray', 'attend', 'forth', 'substitut', 'laughter', 'wear', 'harm', 'hapless', 'racial', 'climat', 'previou', 'primit', 'instinct', 'zizek', 'region', 'talk', 'dull', 'listen', 'melodi', 'termin', 'irish', 'subtitl', 'properli', 'drone', 'holi', 'time', 'sign', 'african', 'biker', 'realm', 'uniformli', 'franchis', 'coaster', 'wonder', 'paltrow', 'reson', 'neg', 'gay', 'misfortun', 'whore', 'duval', 'heavili', 'overlong', 'hippi', 'consist', 'shallow', 'twelv', 'impli', 'sensual', 'worthi', 'liu', 'guilti', 'cher', 'aspir', 'dash', 'everywher', 'oscar', 'phantom', 'pie', 'pay', 'predecessor', '1979', 'unexplain', 'morbid', 'life', 'vital', 'comedian', 'revolt', 'exclus', 'remain', 'repeatedli', 'strain', 'racism', 'meryl', 'recit', 'fond', 'interact', 'folk', 'stranger', 'period', 'graini', 'jump', 'lip', 'cheesi', 'viewer', 'music', 'bondag', 'ah', 'explicit', 'wood', 'block', 'half', 'skill', 'undertak', 'shaw', 'roger', 'complain', 'blah', 'maker', 'financi', 'paula', 'lindsay', 'modest', 'rank', 'astronaut', 'hope', 'cheap', 'plate', 'undead', 'interrupt', 'foolish', 'damm', 'clich', 'seal', 'friendship', 'cinematograph', 'exhibit', 'steven', 'sadist', 'sympathet', 'subtl', 'law', 'paper', 'scenario', 'fright', 'mutant', 'wretch', 'fatal', 'detail', 'develop', 'champion', 'enlighten', 'rather', 'least', 'area', 'hara', 'tradit', 'drown', 'frontal', 'dolph', 'circu', 'muddl', 'powel', 'cast', 'psycholog', 'sat', 'guin', 'bound', 'earlier', 'breed', 'skeptic', 'yeti', 'laughabl', 'creep', 'mild', 'actor', 'induc', 'relev', 'rot', 'flick', 'distinguish', 'ralph', 'tire', 'introduc', 'stargat', 'forc', 'drug', 'antwon', 'climb', 'teach', 'regardless', 'inhabit', 'avoid', 'buff', 'unless', 'wtf', 'coat', 'camcord', 'wayn', 'gag', 'let', 'extraordinari', 'expedit', 'retard', 'photograph', 'snatch', 'stylish', 'bigger', 'cave', 'copi', 'abus', 'owe', 'brenda', 'equival', 'ludicr', 'menac', 'marti', 'un', 'adolesc', 'throughout', 'knight', 'lauren', 'lengthi', 'outstand', 'arriv', 'premis', 'market', 'homag', 'see', 'lion', 'mother', 'earnest', 'surpris', 'victorian', 'made', 'mytholog', 'distract', 'fix', 'fanat', 'agent', 'child', 'dud', 'rise', 'plant', 'elit', 'spray', 'alien', 'uplift', 'ought', 'spoken', 'global', 'attenborough', 'creatur', 'bye', 'cliffhang', 'fulci', 'creek', 'trio', 'collabor', 'worthless', 'thought', 'mask', 'step', 'underr', 'empti', 'arnold', 'plod', 'pregnant', 'orphan', 'franci', 'connect', 'gener', 'josh', '2005', 'anyway', 'martial', 'spinal', 'angel', 'prize', 'carol', 'career', 'indian', 'legendari', 'supernatur', 'exit', 'differ', 'germani', 'equip', 'fuller', 'local', 'niec', 'rural', 'class', 'slick', 'would', 'candid', 'passag', 'sooner', 'print', 'dancer', 'item', 'succeed', 'goe', 'user', 'spawn', 'bunni', '28', 'obscur', 'script', 'burst', 'chri', 'lane', 'nostalgia', 'theori', 'bed', '20th', 'season', '50', 'lazi', 'rare', 'bought', 'never', 'scientist', 'captur', 'aforement', 'distinct', 'craft', 'femal', 'die', '1936', 'panic', 'glover', 'appropri', 'justin', 'cynic', 'fog', 'want', 'valuabl', 'engin', 'bump', 'arab', 'scriptwrit', 'san', 'gain', 'rob', 'septemb', 'brown', 'braveheart', 'vulgar', 'repris', 'grim', 'current', 'dust', 'startl', 'third', 'garbo', 'clever', 'shirt', 'wander', 'drop', 'slap', 'nativ', 'varieti', 'bear', 'beg', 'factori', 'declin', 'mighti', 'cia', 'gothic', 'glare', 'pictur', 'superior', 'famou', 'box', '18', 'mous', 'think', 'end', 'grand', 'stand', '30', 'america', 'eric', 'rebel', 'accord', 'pain', 'faster', 'passeng', 'moron', 'directori', 'countrysid', 'fx', 'possibl', 'iraq', 'profit', 'ton', 'chao', 'suffic', 'dentist', 'pretti', 'stuart', 'charlton', 'calm', 'spine', 'victor', 'phil', 'bridget', 'determin', 'tack', 'dad', 'slightli', 'renaiss', 'contempl', 'spree', 'redempt', 'dozen', 'say', 'meg', 'maniac', 'motiv', 'hard', 'nomin', 'demonstr', 'cartoon', 'contriv', 'crucial', 'audit', 'layer', 'awaken', 'strive', 'troubl', 'lab', 'laurel', '1968', 'er', 'invit', 'jess', 'cinemat', 'sinc', 'homeless', 'memori', 'member', 'caught', 'franc', 'desper', 'obligatori', 'appeal', 'itali', 'iii', 'et', 'approv', 'signal', 'monoton', 'groan', 'shelf', 'place', 'entranc', 'patienc', 'reserv', 'vocal', 'torment', 'togeth', 'sell', 'assign', 'hain', 'grave', 'sea', 'technicolor', 'overal', 'trite', 'hitchcock', 'briefli', 'forgiv', 'wow', 'bibl', 'pan', 'unconvinc', 'gang', 'sale', 'anybodi', 'plenti', 'inaccuraci', 'heat', 'trace', 'squad', 'spell', 'lang', 'shi', 'plot', 'unpleas', 'vote', 'deriv', 'tale', 'abl', 'break', 'kurosawa', 'legal', 'eleph', 'track', 'horrifi', 'unfair', 'outing', 'lighter', 'superfici', 'mix', 'impos', 'salt', 'author', 'alvin', 'rape', 'eugen', 'jami', 'nine', 'rampag', 'mexico', 'footbal', 'randi', 'rosemari', 'experiment', 'anni', 'inmat', 'robinson', 'graduat', 'freez', 'darren', '2000', 'pattern', 'bitch', 'belov', 'swedish', 'rubbish', 'latin', 'poster', 'serv', 'hamlet', 'monument', 'make', 'overlook', 'quarter', 'cute', 'liberti', 'roy', 'ginger', 'convinc', 'nichola', 'handsom', 'greet', 'chest', 'tourist', 'cusack', 'elabor', 'olivi', 'knock', 'magnific', 'eaten', 'air', 'awak', 'point', 'gundam', 'zombi', 'jedi', 'affleck', 'could', 'julian', 'revolut', 'elvi', 'hip', 'bag', 'post', 'snl', 'blackmail', 'troop', 'distribut', 'sexual', 'inspir', 'mr', 'concern', 'reput', 'nonetheless', 'comparison', 'etc', 'perfectli', 'modern', 'silenc', 'england', 'select', 'decad', 'borrow', 'declar', 'naiv', 'nasti', 'principl', 'death', 'dive', 'overr', 'dealt', 'farrel', 'institut', 'bakshi', 'compel', 'choke', 'enlist', '1987', 'even', 'hesit', 'companion', 'surreal', 'matthau', 'ear', 'donna', 'duke', 'manhattan', 'shame', 'excit', 'threw', 'limit', 'lucil', 'overdon', 'rukh', 'soup', 'compos', 'doubl', 'hear', 'vignett', 'ant', 'montana', 'sick', 'realis', 'doctor', 'glow', 'weaker', '1983', 'clerk', 'miyazaki', 'danni', 'tall', 'investig', 'rocki', 'iron', 'that', 'david', 'afterward', 'aggress', 'defens', 'larg', 'free', 'fundament', 'reviv', 'common', 'brilliantli', 'sub', 'laura', 'motion', 'jar', 'educ', 'gross', 'lewi', 'guest', 'provok', 'strongest', 'otherwis', 'resurrect', 'carri', 'coast', 'oppress', 'bobbi', 'lust', 'wild', 'mostli', 'amazingli', 'horrend', 'cecil', 'roar', 'help', 'spend', 'translat', 'fisher', 'within', 'garner', 'reign', 'began', '100', 'pulp', 'prejudic', 'seemingli', 'citi', 'letter', 'higher', 'wind', 'revolv', 'pick', 'flashback', 'risk', 'easili', 'professor', 'worst', 'nuanc', 'reluct', 'meal', 'dimension', 'charg', 'equal', 'voic', 'deem', 'sir', 'baker', 'european', 'beaten', 'craze', 'brave', 'averag', 'princip', 'hardcor', 'cancer', 'adult', 'grandfath', 'foul', 'artifici', 'moon', 'content', 'milo', 'complic', 'follow', 'keith', 'stanwyck', 'wrestler', 'owner', 'blockbust', 'live', 'jazz', 'fact', 'standout', 'arguabl', 'task', 'sever', 'greedi', 'transit', 'noth', 'ned', 'acid', 'nicholson', 'luca', 'prequel', 'japanes', 'assort', '45', 'reincarn', 'seller', 'dick', '12', 'total', 'suspend', 'system', 'practic', 'rope', 'raj', 'watch', 'margin', 'motorcycl', 'former', 'bend', 'showcas', 'soviet', 'unbear', 'connor', 'shoot', 'thru', 'retriev', 'chronicl', 'mainstream', 'antagonist', 'soon', 'effort', 'clark', 'bewar', 'stake', 'instanc', 'valley', 'seri', 'quit', 'mobil', 'kong', 'ensur', 'odd', 'behav', 'media', 'butler', 'flag', 'loser', 'conrad', 'statu', 'pitch', 'cuban', 'men', 'technic', 'likabl', 'festiv', 'screenplay', 'notabl', 'makeup', 'aris', 'holiday', 'hair', 'frontier', 'jennif', 'gerard', 'mad', 'assert', 'near', 'nerv', 'fist', 'thug', 'gandhi', 'notic', 'factor', '1977', 'staff', 'palac', 'inclus', 'rex', 'descript', 'timeless', 'influenc', 'widow', 'epic', 'maria', 'flawless', 'contemporari', 'brain', 'describ', 'castl', 'upon', 'labor', 'urban', 'forgot', 'commun', 'basement', 'suspicion', 'span', 'silent', 'hartley', 'moral', 'trait', 'cagney', 'stolen', 'dutch', 'worri', 'drink', 'descend', 'employe', 'esther', 'prop', 'wacki', 'rid', 'guarante', 'sympathi', 'hooker', 'margaret', 'crimin', 'en', 'healthi', 'organ', 'definit', 'budget', '3d', 'interpret', 'shine', 'grate', 'antonio', 'petti', 'vein', 'sublim', 'amanda', 'murder', 'carpent', 'captiv', 'basket', 'evid', 'vet', 'possess', 'balanc', 'rotten', 'found', 'nuclear', '1973', 'action', 'pet', 'yell', 'race', 'process', 'romanc', 'add', 'session', 'experi', 'familiar', 'provoc', 'tone', 'lie', 'attract', 'flesh', 'palm', 'wealth', 'shorter', 'ballet', 'wizard', 'foil', 'exquisit', 'soul', 'bomb', 'exposur', 'stone', 'elsewher', 'jim', 'deadli', 'filth', 'elimin', 'ted', 'giallo', 'beach', 'flavor', 'judgment', 'laid', 'supposedli', 'social', 'simpson', 'outright', 'che', 'heroin', 'biographi', 'coup', 'fight', 'recommend', 'pacif', 'ie', 'pauli', 'enhanc', 'pervers', 'backward', 'terrif', 'verbal', 'waitress', 'ultra', 'desir', 'monti', 'strength', 'thompson', 'avail', 'morn', 'journalist', 'debut', 'six', 'public', 'occas', 'melissa', 'muscl', 'howev', 'electron', 'mess', 'god', 'betray', 'indic', 'fals', 'ashley', 'california', 'anti', 'twin', 'vh', 'correctli', 'policeman', 'biggest', 'rome', 'captain', 'mere', 'photographi', 'corni', 'ruthless', 'funniest', 'vanc', 'entitl', 'complex', 'econom', 'went', 'relationship', 'sketch', 'shut', 'ideal', 'patient', 'mike', 'till', 'outsid', 'immatur', 'sleaz', 'per', 'kubrick', 'eventu', 'immigr', 'sinist', 'davi', 'jon', 'injuri', 'mislead', 'switch', 'musician', 'charismat', 'buck', 'emma', 'cassavet', 'tast', 'directli', 'necessarili', 'pad', 'resid', 'kansa', 'glenn', 'warrant', 'audio', 'integr', 'access', 'suppli', 'cg', 'husband', 'nail', 'mari', 'conquer', 'straightforward', 'marri', 'soldier', 'oper', 'dement', 'evil', 'spit', 'senior', 'role', 'ultim', 'ahead', 'forest', 'griffith', 'seagal', 'hospit', 'persuad', 'advertis', 'thick', 'relief', 'key', 'closer', 'trademark', 'reel', '90', 'hall', '13th', 'andr', 'mermaid', 'gari', 'camp', 'cowboy', 'grab', 'jonathan', 'yesterday', 'advantag', 'pronounc', '2004', 'laurenc', 'lui', 'pace', 'kapoor', 'vast', 'belli', 'knife', 'plu', 'truck', 'cerebr', 'planet', 'toy', 'torn', 'cuba', 'unwatch', 'obsess', 'mildli', 'tiresom', 'enough', 'presenc', 'seem', 'tech', 'exercis', 'dana', 'stalk', 'stale', 'asylum', 'flip', 'hammer', 'gritti', 'dear', 'gore', 'weak', 'wrote', '35', 'beer', 'riot', 'confid', 'case', 'dont', 'antonioni', 'fanci', 'axe', 'report', 'virtual', 'wanna', 'timberlak', 'writer', 'though', 'fairli', 'sentenc', 'carradin', 'publish', 'britain', 'ador', 'lame', 'clip', 'studio', 'fi', 'structur', 'splendid', 'happen', 'casper', 'ala', 'astonish', 'abandon', 'splatter', 'godfath', 'pearl', 'dress', 'emili', 'particip', 'suspici', 'touch', 'incorrect', 'exterior', 'hopkin', 'draw', 'skit', 'brit', 'young', 'insert', 'detach', 'health', 'reaction', 'mediocr', 'floor', 'condemn', 'other', 'gut', 'bleak', 'canadian', 'reason', 'homicid', 'truman', 'tediou', 'cash', 'drew', 'consid', 'intellig', 'funer', 'superbl', 'exploit', 'enjoy', 'club', 'imageri', 'forgotten', 'height', 'occup', 'walken', 'spare', 'la', 'blew', 'seedi', 'oil', 'grant', 'univers', 'humour', 'rambl', 'aw', 'flock', 'mill', 'element', 'despair', 'smaller', 'mail', 'unsettl', '1985', 'hugh', 'fine', 'endear', 'shop', 'bruce', 'sidney', 'eccentr', 'commend', 'chapter', 'choreographi', 'europa', 'gunga', 'unexpect', 'heard', 'housewif', 'flat', 'book', 'cathol', 'predict', 'hollow', 'channel', 'hunt', 'etern', 'scarecrow', 'alway', 'recruit', 'ventur', 'habit', 'tribe', 'gotta', 'radic', 'loyal', 'servant', 'gray', 'slug', 'lure', 'sincer', 'titl', 'strip', 'shade', 'regard', 'summari', 'wealthi', 'ga', 'alison', 'loos', 'liber', 'mall', 'vengeanc', 'gillian', 'fiction', 'characterist', 'react', 'disast', 'claud', 'condit', 'bottl', 'trauma', 'reunion', 'disgrac', 'steel', 'get', 'hundr', 'gregori', 'playboy', 'fri', 'what', 'built', 'tortur', 'trashi', 'dare', 'typic', 'swim', 'fire', 'embarrass', 'sheriff', 'revolutionari', 'africa', 'bett', 'blur', 'submit', 'divorc', 'bike', 'adopt', 'purpos', 'best', 'cannon', 'color', 'jet', 'mysteri', 'woo', 'adam', 'pen', 'fantasi', 'strong', 'freddi', 'mid', 'inherit', 'sunshin', 'downhil', 'brendan', 'rear', 'geni', 'knowledg', '2007', 'destroy', 'spacey', 'protest', 'clueless', 'extent', 'might', 'straight', 'degre', 'tell', 'shed', '13', 'albert', 'conscienc', 'eeri', 'popular', 'pleas', 'ident', 'basi', 'random', '1971', 'karloff', 'jason', 'stark', 'wait', 'grow', 'french', 'natali', 'notori', 'horn', 'nanci', 'celebr', '1988', 'restor', 'elm', 'stewart', 'advic', 'foreign', 'middl', 'timon', 'upper', 'villag', 'colleg', 'retain', 'shark', 'front', '000', 'format', 'explain', 'cardboard', 'float', 'synopsi', 'rocket', 'gimmick', 'par', 'woman', 'temper', 'beat', 'forward', '70', 'han', 'island', 'mile', 'pre', 'spider', 'call', 'ritual', 'hat', 'merit', 'crappi', 'pin', 'outlin', 'modesti', 'rain', 'geek', 'porno', 'crush', 'jew', 'malon', 'academi', 'btw', 'victori', 'vacat', 'nyc', 'sink', 'peter', 'bacal', 'anyon', 'nod', 'frequent', 'gender', 'snap', 'preciou', 'background', 'tune', 'damon', '1984', 'dracula', 'gordon', 'utter', 'rambo', 'pari', 'token', 'replac', 'visibl', 'satisfi', 'right', 'bread', 'palma', 'ball', 'corpor', 'tear', 'wing', 'unusu', 'realli', 'meaning', 'urg', 'irrelev', 'combat', 'theatric', 'altern', 'necessari', 'lesli', 'badli', 'decept', 'vanish', 'beneath', 'joan', 'minimum', 'expens', 'firm', 'exhaust', 'disgust', 'evolut', 'drive', 'wang', 'obtain', 'traci', 'state', 'infect', 'bodi', 'hotel', 'richardson', 'rabbit', 'understand', 'partner', 'ride', 'injur', 'alik', 'one', 'explos', 'instant', 'profound', 'henri', 'blank', 'big', 'coloni', 'routin', 'write', 'coincid', 'pit', 'host', 'absurd', 'spot', 'noir', 'acclaim', 'delight', 'collector', 'crack', 'explor', 'hug', 'automat', 'steadi', 'grayson', 'favour', 'distress', 'sappi', 'ego', 'refus', 'austen', 'bargain', 'melt', '4th', 'frank', '95', 'group', 'wisdom', 'fluid', 'asham', 'transfer', 'object', 'sword', 'nuditi', 'cold', 'neo', 'bachelor', 'cyborg', 'documentari', 'dialog', 'patriot', 'along', 'mistress', 'okay', 'lead', 'traumat', 'pant', 'protagonist', 'continu', 'unattract', 'voyag', 'true', 'illog', 'gotten', 'director', 'proclaim', 'charlott', 'bank', 'chaplin', 'miami', 'bounc', 'perri', 'issu', 'accomplish', 'lack', 'last', 'brief', 'topic', 'blunt', 'leonard', 'heel', 'baddi', 'display', 'sorrow', 'except', 'extend', 'spontan', 'part', 'gather', 'legend', 'paxton', 'st', 'mate', 'historian', 'hyde', 'chavez', 'taxi', 'screen', 'nobl', 'eddi', 'million', 'shortli', 'photo', 'doubt', 'epitom', 'initi', 'invad', 'sole', 'psych', 'alley', 'macarthur', 'throw', 'hitler', 'visitor', 'gift', '10', 'pot', 'diana', 'crude', 'unintent', 'buster', 'jeff', 'gambl', 'method', 'keep', 'sleazi', 'tip', 'wake', 'bumbl', 'shove', 'fighter', 'dalton', 'poor', 'much', 'may', 'parti', 'worn', 'wound', 'miracl', 'authent', 'craven', 'toe', 'tag', 'somewhat', 'nephew', 'tomorrow', 'correct', 'implic', 'immort', 'john', 'divin', 'magician', 'glamor', 'turkey', 'river', 'british', 'unsuspect', 'prime', 'massacr', 'painter', 'pretend', 'materi', '24', 'duti', 'chicago', 'town', 'killer', 'whatsoev', 'oblig', 'posey', 'gate', 'tara', 'white', 'preach', 'contrast', 'lose', 'struck', 'presid', 'cube', 'mesmer', 'tool', 'chose', 'helen', 'carlo', 'job', 'elvira', 'wherea', 'page', 'defend', 'hostag', 'grade', 'phenomen', 'emphas', 'viciou', 'exchang', 'slapstick', 'martian', 'wildli', 'sleep', 'domino', 'crime', 'todd', 'hors', 'paranoia', 'nose', 'macho', 'scream', 'govern', 'poorli', 'kind', 'cigarett', 'warner', 'open', 'kidman', 'homer', 'damag', 'offer', 'resourc', 'liner', 'string', 'quickli', 'quinn', 'crap', 'defi', 'cloth', 'blame', 'remov', 'oz', 'hyster', 'indi', 'nun', 'viru', 'bush', 'instal', 'search', 'scotland', 'rita', 'greatli', 'led', 'ustinov', 'pile', 'hopelessli', 'anywher', 'carl', 'jare', 'sin', 'drivel', 'pull', 'youngest', '1995', 'anyth', 'slow', 'derek', 'lord', 'invent', 'water', 'invest', 'unfold', 'accompani', 'ambiti', 'banal', 'melodramat', 'astound', 'remak', 'prey', 'often', 'hunter', 'inept', 'awesom', 'pink', 'overact', 'dr', 'put', 'jade', 'hire', 'speci', 'deliv', 'decor', 'friend', 'winner', 'repeat', 'cole', 'ram', 'ford', 'fifth', 'melodrama', 'show', 'sixti', 'electr', 'wall', 'desert', 'miller', 'piano', 'goofi', 'degrad', 'disc', 'shall', '1978', 'remad', 'weakest', 'centuri', 'terrorist', 'outrag', 'daughter', 'inevit', 'unhappi', 'lost', 'teas', 'mystic', 'preming', 'need', 'runner', 'discov', 'dictat', 'kurt', 'bait', 'doll', 'widescreen', '1976', 'ghost', 'level', 'model', 'tame', 'situat', 'rush', 'hammi', 'repetit', 'isabel', 'villain', 'worthwhil', 'streep', 'crystal', 'work', 'mountain', 'fault', 'everyth', 'vanessa', 'we', 'corbett', '1980', 'male', 'struggl', 'ian', 'peril', 'afraid', 'told', 'seek', 'akshay', 'clair', 'fetch', 'reflect', 'preachi', 'later', 'illustr', 'nerd', 'regular', 'dreck', 'stir', 'variat', 'curli', '2002', 'furthermor', 'cure', 'space', 'georg', 'duck', 'involv', 'portrait', 'hk', 'trailer', 'drake', 'decent', 'fishburn', 'humor', 'quirki', 'unreal', 'trade', 'ingrid', 'loneli', 'awhil', 'terror', 'chuckl', 'either', 'interview', 'unrel', 'cinematographi', 'eva', 'fulfil', 'oddli', 'util', 'mann', 'jodi', 'tackl', 'destruct', 'someday', 'senat', 'somehow', 'drunk', 'pleasur', 'paul', 'jacki', 'jessica', 'instruct', 'clue', 'underli', 'moder', 'littl', 'three', 'cohen', 'crazi', 'thirti', 'maintain', 'link', 'ambigu', 'exactli', 'student', 'crawford', 'scott', 'good', 'youth', 'goal', 'central', 'philip', 'pacino', 'visual', 'messi', 'tarzan', 'cannib', 'tabl', 'blow', 'mind', 'wipe', 'emerg', 'quiet', 'achiev', 'lugosi', '1st', 'fat', 'nightclub', 'heap', 'uniform', 'despic', 'beatti', 'bogu', 'hop', 'toler', 'spike', 'small', 'sold', 'perpetu', 'fashion', 'bsg', 'explod', 'learn', 'watson', 'neither', 'exagger', 'western', 'businessman', 'known', 'heavi', 'departur', 'highlight', 'scienc', 'spanish', 'clinic', 'fuel', 'mean', 'daisi', 'origin', 'advis', 'assist', 'mock', 'sheer', 'bob', 'asleep', 'wrong', 'spectacular', 'resum', 'preposter', 'blue', 'amazon', 'marin', 'venom', 'admit', 'beyond', 'qualifi', 'turtl', 'cape', 'widmark', 'movi', 'shape', 'north', 'ration', 'cring', 'creation', 'finger', 'rang', 'surgeri', 'steal', 'lynch', 'alic', 'merci', 'everi', 'walter', 'coupl', 'blatantli', 'lifeless', 'gilbert', 'inner', 'skin', 'rifl', 'phone', 'jaw', 'slip', 'nobodi', 'client', 'curtain', 'territori', 'collect', 'estat', 'glass', '1981', 'neck', 'sensit', 'titan', 'wheel', 'truli', 'tender', 'bollywood', 'hal', 'stiller', 'shake', 'virtu', 'scoobi', 'lisa', 'frankli', 'immens', 'ritchi', 'charm', 'suppos', 'triangl', 'sweep', 'breast', 'ensu', 'meant', 'spooki', 'toilet', 'hit', 'stair', 'sidewalk', 'present', 'reunit', 'depart', 'northern', '99', 'horribl', 'joke', 'construct', 'christi', 'judi', 'walker', 'glorifi', 'cue', 'interestingli', 'errol', 'chainsaw', 'statement', 'deaf', 'greg', 'sh', 'master', 'corps', 'cliff', 'saint', 'lumet', 'pokemon', 'past', 'oh', 'faith', 'horror', 'daddi', 'must', 'kate', 'thu', 'kid', 'sid', 'american', 'soderbergh', 'sinatra', 'repress', 'kline', 'candl', 'stress', 'nolan', 'notion', 'franki', 'mathieu', 'depth', 'lesson', 'ape', 'lend', 'angl', 'vulner', 'reach', 'albeit', 'simplic', 'sequel', 'lectur', 'resolut', 'wallac', 'document', 'ban', 'leagu', 'intric', 'technolog', 'savag', 'culmin', 'piec', 'hart', 'fulli', 'confus', 'bulli', 'outdat', 'fate', 'hole', 'unabl', 'breakfast', 'fell', 'bonu', 'head', 'unfunni', 'duel', 'daniel', 'path', 'grinch', 'ron', 'newer', 'dinosaur', 'dean', 'insist', 'athlet', 'dealer', 'reduc', 'fu', 'rais', 'depress', 'armstrong', 'protect', 'yet', 'cool', 'giggl', 'although', 'watchabl', 'al', 'unorigin', 'women', 'mar', 'test', 'marvel', 'angri', 'mol', 'figur', 'mickey', 'lol', 'kidnap', 'owen', 'durat', 'jill', 'birth', 'primari', 'rival', 'week', 'lousi', 'held', 'pole', 'dian', 'spain', 'broad', 'boom', 'wolf', 'exot', 'enemi', 'proud', 'glad', 'sacrif', 'assassin', 'em', 'delic', 'asian', 'crowd', 'childish', 'scope', 'sheet', 'http', 'ceremoni', 'heaven', 'unbeliev', 'linear', 'also', 'bone', 'basic', 'bland', 'art', 'inferior', 'done', 'scari', 'sake', '16', 'sky', 'brian', 'household', 'contain', 'boyer', 'news', 'regist', 'stuck', 'less', 'kiss', 'alon', 'patrick', 'bright', 'gave', 'ghetto', 'spoiler', 'jeremi', 'unexpectedli', 'compar', 'flair', 'pilot', 'twice', 'segment', 'scratch', 'hideou', 'neat', 'slice', 'facial', 'fianc', 'son', 'duo', 'multi', 'simultan', 'context', 'goldblum', 'counterpart', 'downright', 'frustrat', 'storylin', 'multipl', 'sceneri', 'prophet', 'threaten', 'whoopi', 'inher', 'accident', 'speak', 'unnecessari', 'man', 'prison', 'bela', 'contrari', 'appreci', 'newcom', 'provid', 'click', 'conspiraci', 'websit', 'sandra', 'cop', 'chain', 'uniqu', 'sabrina', 'will', 'bitter', 'arc', 'humili', 'plain', 'unknown', 'convey', 'promis', 'eli', 'robber', 'psychot', 'navi', 'stronger', 'vagu', 'street', 'taylor', 'anymor', 'coach', 'rate', 'sympath', 'fairi', 'vastli', 'site', 'check', 'portray', 'poverti', 'vice', 'far', 'court', 'puppet', 'adequ', 'bori', 'hallucin', 'wore', 'appl', 'radio', '1997', 'rendit', 'tendenc', 'unforgett', 'aka', 'pleasantli', 'dedic', 'unsatisfi', 'needless', 'sparkl', 'rub', 'rant', 'daili', 'lit', 'abort', 'closet', 'uma', 'nowher', 'old', 'disappear', 'chop', 'johnson', 'bradi', 'happili', 'thoma', 'incomprehens', 'field', 'tens', 'smash', 'mood', 'strictli', 'proper', 'broke', 'golden', 'certain', 'turner', 'karen', 'spent', 'betti', 'mason', 'jewish', 'short', 'enthral', 'children', 'fool', 'librari', '75', 'recogniz', '00', 'perman', 'ok', 'selfish', 'vampir', 'revers', 'special', 'analyz', 'project', 'partli', 'safeti', 'bless', 'sucker', 'comfort', 'sitcom', 'research', 'pocket', 'shield', 'dirti', 'represent', 'favourit', 'coffe', 'steam', 'machin', 'egg', 'jay', 'enorm', 'spade', 'anchor', 'artwork', 'sean', 'literari', 'trivia', 'age', 'absolut', 'templ', 'jordan', 'max', 'thriller', 'downey', 'insur', 'hardli', 'kiddi', 'perform', 'storytel', 'distant', 'programm', 'bitten', 'perceiv', 'sarah', 'transplant', 'took', 'ann', 'overli', 'nearbi', 'buri', 'stay', 'morri', 'ponder', 'besid', 'spring', 'surround', 'cope', 'thoroughli', 'tail', 'collaps', 'jean', 'account', 'cent', 'easi', 'appear', 'compet', 'censor', 'succe', 'settl', 'hardi', 'grudg', 'highway', 'heartfelt', 'internet', 'receiv', 'mutual', 'walk', 'mixtur', 'scottish', 'stellar', 'rat', 'gori', 'boast', 'colour', 'record', 'road', 'moment', 'compliment', 'expect', 'vs', 'brilliant', 'loyalti', 'whale', 'immers', 'whose', 'produc', 'sam', 'longer', 'believ', 'dudley', 'shirley', 'chang', 'cox', 'dirt', 'suprem', 'boss', 'pose', 'brutal', 'take', 'branagh', 'mankind', 'spiritu', 'remind', 'lampoon', 'ye', 'dave', 'deniro', 'full', 'creator', 'psychiatrist', 'program', 'akin', 'plagu', 'mansion', 'boston', 'environ', 'othello', 'arrow', 'stock', 'millionair', 'worker', 'enthusiasm', 'paint', '2nd', 'gorgeou', 'freedom', 'ladder', 'pig', 'manner', 'emperor', 'pass', 'de', 'tube', 'weapon', 'francisco', 'childhood', 'snow', 'abc', 'scare', 'notch', 'brush', 'hum', 'kitti', 'redund', 'crash', 'nervou', 'storm', 'dump', 'mouth', 'earth', 'lyric', 'cheat', 'jewel', 'sergeant', 'bud', 'conduct', 'yard', 'reject', 'laugh', 'fascin', 'miscast', 'soundtrack', 'glanc', 'spill', 'cost', '21st', 'butcher', 'becam', 'boredom', 'engag', 'actual', 'civil', 'four', 'zone', 'orang', 'antic', 'opinion', 'guard', 'andrew', 'fred', 'cousin', 'austin', 'perfect', 'friday', 'citizen', 'numb', 'feminin', 'slam', 'studi', 'philosophi', 'encourag', 'triumph', 'vivid', 'mayor', 'april', 'mistak', 'execut', 'slightest', 'luke', 'punk', 'left', 'superhero', 'leon', 'night', 'arrang', 'sentinel', 'elderli', 'blood', 'junior', 'surf', 'histor', 'delet', 'queen', 'vibrant', 'mount', 'incred', 'corn', 'stood', 'suspens', 'rider', 'combin', 'carla', 'success', 'edgar', 'ice', 'cant', 'hatr', 'alongsid', 'suddenli', 'superb', 'intens', 'australia', 'tacki', 'creat', 'plight', 'underground', 'eas', 'mafia', 'porter', 'team', '1991', 'grasp', 'bergman', 'argu', 'claustrophob', 'beatl', 'chuck', 'campaign', 'cloud', 'joseph', 'dramat', 'felix', 'din', 'pray', 'promot', 'ace', 'knightley', 'credit', 'cut', 'ambit', 'lowest', 'winter', 'appli', 'numer', 'question', 'valentin', 'fest', 'museum', 'aussi', 'alfr', 'promin', 'poison', 'curiou', 'video', 'symbol', 'shell', 'robin', 'camera', 'ireland', 'violenc', 'refer', 'awkward', 'hand', 'facil', 'jane', 'room', 'spectacl', 'minist', 'batman', 'sum', 'web', 'guitar', 'tasteless', 'rosario', 'wrestl', 'chair', 'vile', 'graham', 'wardrob', 'excel', 'spoke', 'stallon', 'catchi', 'iv', 'view', 'countless', 'elev', 'rough', 'scar', 'liter', 'sunday', 'missil', 'nation', 'smack', 'guilt', 'underst', 'paid', 'bizarr', 'propheci', 'spiral', 'vega', 'summer', 'glimps', 'wendigo', 'solut', 'event', 'charact', 'film', 'premier', 'wrap', 'atlanti', 'dylan', 'furi', '1933', '80', 'alicia', 'honestli', 'mexican', 'be', 'boob', 'bust', 'altman', 'seen', 'drama', 'sex', 'sicken', 'awar', 'uk', 'without', 'truth', 'pack', 'nonsens', 'weird', 'loui', 'play', 'up', 'paramount', 'smart', 'buffalo', 'hidden', 'way', 'fast', 'fontain', 'preston', 'digniti', 'feminist', 'spite', 'silver', 'drift', 'reminisc', 'anderson', 'scale', 'servic', 'patricia', 'fame', 'five', 'farc', 'insipid', 'mundan', 'domin', 'deserv', 'bubbl', 'quaid', 'contest', 'rememb', 'baffl', 'conneri', 'count', 'late', 'comedi', 'frantic', 'embark', 'brando', 'plane', 'miser', 'sirk', 'note', 'press', 'howl', 'muslim', 'genr', 'deep', 'theatr', 'televis', 'tv', 'lifestyl', 'naughti', 'cours', 'deceas', 'turd', 'styliz', 'rap', 'map', 'newli', 'dame', 'roommat', 'monster', 'concert', 'subsequ', 'mclaglen', 'alleg', 'rapidli', 'ass', 'cameo', 'butt', 'train', 'hudson', 'ish', 'rel', 'safe', 'bat', 'choreograph', 'neurot', 'transcend', 'pg', 'raw', 'whole', '11', 'main', 'instantli', 'comment', 'intellectu', 'file', 'thief', 'affair', 'fabul', 'rooney', '19', 'base', 'aim', 'complaint', 'bloom', 'adventur', 'next', 'weari', 'dane', 'ranger', 'neill', 'travel', 'minut', 'trip', 'card', 'huston', 'boil', 'religi', 'greater', 'disastr', 'brosnan', 'earl', 'strike', 'mtv', 'problem', 'green', 'kevin', 'scandal', 'amount', 'muppet', 'befriend', 'frighten', 'canyon', '25', 'terri', 'lover', 'solid', 'fit', 'rage', 'macabr', 'inspector', 'fifti', 'loath', 'date', 'israel', 'via', 'cabl', 'michael', 'uncomfort', 'fenc', 'realiti', 'nake', 'prank', 'idea', 'car', 'flame', 'enterpris', 'bo', 'inflict', 'billi', 'marc', 'dreari', 'denzel', 'heroic', 'reward', 'form', 'stop', 'zane', 'humbl', 'haunt', 'sugar', 'super', 'taught', 'tini', 'globe', 'solv', 'fbi', 'pepper', 'mitch', '2003', 'magic', 'techniqu', 'chines', 'ship', 'shaki', 'zoom', 'taken', 'activ', 'updat', 'travesti', 'episod', 'associ', 'dysfunct', 'command', 'properti', 'corman', 'stilt', 'tri', 'airport', 'stroke', 'spoof', 'uncov', 'darker', 'tierney', 'fox', 'orient', 'lesser', 'forget', 'scene', 'fallen', 'amaz', 'score', 'singer', 'allen', 'eight', 'hilar', 'hank', 'shanghai', 'stalker', 'opposit', 'filmmak', 'honesti', 'plastic', '1950', 'christin', 'iran', 'spark', 'bronson', 'rapist', 'penn', 'ham', 'king', 'mormon', 'cleverli', 'surpass', 'bikini', 'rehears', 'tripe', 'inexplic', 'earn', '2001', 'thrill', 'seven', 'bleed', 'monkey', 'game', 'mon', 'ho', 'kung', 'polic', 'hackney', 'hawk', 'terrifi', 'boyfriend', 'marlon', 'latter', 'year', 'tarantino', 'parallel', 'tribut', 'soap', 'fay', 'scientif', 'wick', 'emot', 'amongst', 'tripl', 'overcom', 'import', 'subplot', 'heist', 'keen', 'julia', 'imagin', 'dismal', 'relax', 'norman', 'dialogu', 'realism', 'discuss', 'vincent', 'final', 'lester', 'blatant', 'comic', 'jungl', 'colin', 'everybodi', 'expand', 'masterpiec', 'secur', 'school', 'bin', 'cannot', 'chess', 'matur', 'keaton', 'evok', 'trail', 'idiot', 'neighbor', 'attempt', 'marion', 'cinderella', 'gradual', 'casual', 'destini', 'spielberg', 'orlean', 'echo', 'sophist', 'cult', 'curti', 'robbin', 'boy', 'twenti', 'clean', 'kudo', 'handicap', 'compris', 'insid', 'cemeteri', 'encount', 'donald', 'mode', 'reader', 'stumbl', 'kick', 'saga', 'uwe', 'first', 'crow', 'pride', 'accuraci', 'minu', 'harold', 'sore', 'orson', 'gear', 'tooth', 'out', 'cruelti', 'femm', 'bar', 'imit', 'skip'}\n"
     ]
    }
   ],
   "source": [
    "print(original_vocabulary - new_vocabulary)"
   ]
  },
  {
   "cell_type": "markdown",
   "metadata": {},
   "source": [
    "And similarly, we can look at the words that are in the new vocabulary but which were not in the original vocabulary."
   ]
  },
  {
   "cell_type": "code",
   "execution_count": 62,
   "metadata": {},
   "outputs": [
    {
     "name": "stdout",
     "output_type": "stream",
     "text": [
      "{']', 'a', '[', ',', 'm', 'i', ' ', 'y', 'o', 's', \"'\", 't', 'd'}\n"
     ]
    }
   ],
   "source": [
    "print(new_vocabulary - original_vocabulary)"
   ]
  },
  {
   "cell_type": "markdown",
   "metadata": {},
   "source": [
    "These words themselves don't tell us much, however if one of these words occured with a large frequency, that might tell us something. In particular, we wouldn't really expect any of the words above to appear with too much frequency.\n",
    "\n",
    "**Question** What exactly is going on here. Not only what (if any) words appear with a larger than expected frequency but also, what does this mean? What has changed about the world that our original model no longer takes into account?\n",
    "\n",
    "**NOTE:** This is meant to be a very open ended question. To investigate you may need more cells than the one provided below. Also, there isn't really a *correct* answer, this is meant to be an opportunity to explore the data."
   ]
  },
  {
   "cell_type": "markdown",
   "metadata": {},
   "source": [
    "I think there are some new movies that have come out, also new genres that were not present previously so we have to include those key words related to new movies"
   ]
  },
  {
   "cell_type": "markdown",
   "metadata": {},
   "source": [
    "### (TODO) Build a new model\n",
    "\n",
    "Supposing that we believe something has changed about the underlying distribution of the words that our reviews are made up of, we need to create a new model. This way our new model will take into account whatever it is that has changed.\n",
    "\n",
    "To begin with, we will use the new vocabulary to create a bag of words encoding of the new data. We will then use this data to train a new XGBoost model.\n",
    "\n",
    "**NOTE:** Because we believe that the underlying distribution of words has changed it should follow that the original vocabulary that we used to construct a bag of words encoding of the reviews is no longer valid. This means that we need to be careful with our data. If we send an bag of words encoded review using the *original* vocabulary we should not expect any sort of meaningful results.\n",
    "\n",
    "In particular, this means that if we had deployed our XGBoost model like we did in the Web App notebook then we would need to implement this vocabulary change in the Lambda function as well."
   ]
  },
  {
   "cell_type": "code",
   "execution_count": 63,
   "metadata": {},
   "outputs": [],
   "source": [
    "new_XV = new_vectorizer.transform(new_X).toarray()"
   ]
  },
  {
   "cell_type": "markdown",
   "metadata": {},
   "source": [
    "And a quick check to make sure that the newly encoded reviews have the correct length, which should be the size of the new vocabulary which we created."
   ]
  },
  {
   "cell_type": "code",
   "execution_count": 64,
   "metadata": {},
   "outputs": [
    {
     "data": {
      "text/plain": [
       "41"
      ]
     },
     "execution_count": 64,
     "metadata": {},
     "output_type": "execute_result"
    }
   ],
   "source": [
    "len(new_XV[0])"
   ]
  },
  {
   "cell_type": "markdown",
   "metadata": {},
   "source": [
    "Now that we have our newly encoded, newly collected data, we can split it up into a training and validation set so that we can train a new XGBoost model. As usual, we first split up the data, then save it locally and then upload it to S3."
   ]
  },
  {
   "cell_type": "code",
   "execution_count": 65,
   "metadata": {},
   "outputs": [],
   "source": [
    "import pandas as pd\n",
    "\n",
    "# Earlier we shuffled the training dataset so to make things simple we can just assign\n",
    "# the first 10 000 reviews to the validation set and use the remaining reviews for training.\n",
    "new_val_X = pd.DataFrame(new_XV[:10000])\n",
    "new_train_X = pd.DataFrame(new_XV[10000:])\n",
    "\n",
    "new_val_y = pd.DataFrame(new_Y[:10000])\n",
    "new_train_y = pd.DataFrame(new_Y[10000:])"
   ]
  },
  {
   "cell_type": "markdown",
   "metadata": {},
   "source": [
    "In order to save some memory we will effectively delete the `new_X` variable. Remember that this contained a list of reviews and each review was a list of words. Note that once this cell has been executed you will need to read the new data in again if you want to work with it."
   ]
  },
  {
   "cell_type": "code",
   "execution_count": 66,
   "metadata": {},
   "outputs": [],
   "source": [
    "new_X = None"
   ]
  },
  {
   "cell_type": "markdown",
   "metadata": {},
   "source": [
    "Next we save the new training and validation sets locally. Note that we overwrite the training and validation sets used earlier. This is mostly because the amount of space that we have available on our notebook instance is limited. Of course, you can increase this if you'd like but to do so may increase the cost of running the notebook instance."
   ]
  },
  {
   "cell_type": "code",
   "execution_count": 67,
   "metadata": {},
   "outputs": [],
   "source": [
    "pd.DataFrame(new_XV).to_csv(os.path.join(data_dir, 'new_data.csv'), header=False, index=False)\n",
    "\n",
    "pd.concat([new_val_y, new_val_X], axis=1).to_csv(os.path.join(data_dir, 'new_validation.csv'), header=False, index=False)\n",
    "pd.concat([new_train_y, new_train_X], axis=1).to_csv(os.path.join(data_dir, 'new_train.csv'), header=False, index=False)"
   ]
  },
  {
   "cell_type": "markdown",
   "metadata": {},
   "source": [
    "Now that we've saved our data to the local instance, we can safely delete the variables to save on memory."
   ]
  },
  {
   "cell_type": "code",
   "execution_count": 68,
   "metadata": {},
   "outputs": [],
   "source": [
    "new_val_y = new_val_X = new_train_y = new_train_X = new_XV = None"
   ]
  },
  {
   "cell_type": "markdown",
   "metadata": {},
   "source": [
    "Lastly, we make sure to upload the new training and validation sets to S3.\n",
    "\n",
    "**TODO:** Upload the new data as well as the new training and validation data sets to S3."
   ]
  },
  {
   "cell_type": "code",
   "execution_count": 69,
   "metadata": {},
   "outputs": [],
   "source": [
    "# TODO: Upload the new data and the new validation.csv and train.csv files in the data_dir directory to S3.\n",
    "new_data_location = session.upload_data(os.path.join(data_dir,'new_data.csv'),key_prefix=prefix)\n",
    "new_val_location = session.upload_data(os.path.join(data_dir,'new_validation.csv'),key_prefix=prefix)\n",
    "new_train_location = session.upload_data(os.path.join(data_dir,'new_train.csv'),key_prefix=prefix)"
   ]
  },
  {
   "cell_type": "markdown",
   "metadata": {},
   "source": [
    "Once our new training data has been uploaded to S3, we can create a new XGBoost model that will take into account the changes that have occured in our data set.\n",
    "\n",
    "**TODO:** Create a new XGBoost estimator object."
   ]
  },
  {
   "cell_type": "code",
   "execution_count": 70,
   "metadata": {},
   "outputs": [],
   "source": [
    "# TODO: First, create a SageMaker estimator object for our model.\n",
    "new_xgb = sagemaker.estimator.Estimator(container, # The location of the container we wish to use\n",
    "                                    role,                                    # What is our current IAM Role\n",
    "                                    train_instance_count=1,                  # How many compute instances\n",
    "                                    train_instance_type='ml.m4.xlarge',      # What kind of compute instances\n",
    "                                    output_path='s3://{}/{}/output'.format(session.default_bucket(), prefix),\n",
    "                                    sagemaker_session=session)\n",
    "\n",
    "# And then set the algorithm specific parameters.\n",
    "new_xgb.set_hyperparameters(max_depth=5,\n",
    "                        eta=0.2,\n",
    "                        gamma=4,\n",
    "                        min_child_weight=6,\n",
    "                        subsample=0.8,\n",
    "                        silent=0,\n",
    "                        objective='binary:logistic',\n",
    "                        early_stopping_rounds=10,\n",
    "                        num_round=500)\n",
    "\n",
    "# TODO: Then set the algorithm specific parameters. You may wish to use the same parameters that were\n",
    "#       used when training the original model.\n"
   ]
  },
  {
   "cell_type": "markdown",
   "metadata": {},
   "source": [
    "Once the model has been created, we can train it with our new data.\n",
    "\n",
    "**TODO:** Train the new XGBoost model."
   ]
  },
  {
   "cell_type": "code",
   "execution_count": 71,
   "metadata": {},
   "outputs": [],
   "source": [
    "# TODO: First, make sure that you create s3 input objects so that SageMaker knows where to\n",
    "#       find the training and validation data.\n",
    "\n",
    "s3_new_input_train = sagemaker.s3_input(s3_data=new_train_location, content_type='csv')\n",
    "s3_new_input_validation = sagemaker.s3_input(s3_data=new_val_location, content_type='csv')"
   ]
  },
  {
   "cell_type": "code",
   "execution_count": 72,
   "metadata": {},
   "outputs": [
    {
     "name": "stdout",
     "output_type": "stream",
     "text": [
      "2020-05-16 20:56:07 Starting - Starting the training job...\n",
      "2020-05-16 20:56:09 Starting - Launching requested ML instances......\n",
      "2020-05-16 20:57:11 Starting - Preparing the instances for training......\n",
      "2020-05-16 20:58:15 Downloading - Downloading input data...\n",
      "2020-05-16 20:59:08 Training - Training image download completed. Training in progress..\u001b[34mArguments: train\u001b[0m\n",
      "\u001b[34m[2020-05-16:20:59:09:INFO] Running standalone xgboost training.\u001b[0m\n",
      "\u001b[34m[2020-05-16:20:59:09:INFO] File size need to be processed in the node: 2.52mb. Available memory size in the node: 8463.54mb\u001b[0m\n",
      "\u001b[34m[2020-05-16:20:59:09:INFO] Determined delimiter of CSV input is ','\u001b[0m\n",
      "\u001b[34m[20:59:09] S3DistributionType set as FullyReplicated\u001b[0m\n",
      "\u001b[34m[20:59:09] 15000x41 matrix with 615000 entries loaded from /opt/ml/input/data/train?format=csv&label_column=0&delimiter=,\u001b[0m\n",
      "\u001b[34m[2020-05-16:20:59:09:INFO] Determined delimiter of CSV input is ','\u001b[0m\n",
      "\u001b[34m[20:59:09] S3DistributionType set as FullyReplicated\u001b[0m\n",
      "\u001b[34m[20:59:09] 10000x41 matrix with 410000 entries loaded from /opt/ml/input/data/validation?format=csv&label_column=0&delimiter=,\u001b[0m\n",
      "\u001b[34m[20:59:09] src/tree/updater_prune.cc:74: tree pruning end, 1 roots, 56 extra nodes, 4 pruned nodes, max_depth=5\u001b[0m\n",
      "\u001b[34m[0]#011train-error:0.440333#011validation-error:0.475\u001b[0m\n",
      "\u001b[34mMultiple eval metrics have been passed: 'validation-error' will be used for early stopping.\n",
      "\u001b[0m\n",
      "\u001b[34mWill train until validation-error hasn't improved in 10 rounds.\u001b[0m\n",
      "\u001b[34m[20:59:09] src/tree/updater_prune.cc:74: tree pruning end, 1 roots, 56 extra nodes, 2 pruned nodes, max_depth=5\u001b[0m\n",
      "\u001b[34m[1]#011train-error:0.419267#011validation-error:0.4637\u001b[0m\n",
      "\u001b[34m[20:59:09] src/tree/updater_prune.cc:74: tree pruning end, 1 roots, 54 extra nodes, 2 pruned nodes, max_depth=5\u001b[0m\n",
      "\u001b[34m[2]#011train-error:0.414533#011validation-error:0.4603\u001b[0m\n",
      "\u001b[34m[20:59:09] src/tree/updater_prune.cc:74: tree pruning end, 1 roots, 46 extra nodes, 4 pruned nodes, max_depth=5\u001b[0m\n",
      "\u001b[34m[3]#011train-error:0.407533#011validation-error:0.4547\u001b[0m\n",
      "\u001b[34m[20:59:09] src/tree/updater_prune.cc:74: tree pruning end, 1 roots, 56 extra nodes, 2 pruned nodes, max_depth=5\u001b[0m\n",
      "\u001b[34m[4]#011train-error:0.4006#011validation-error:0.4515\u001b[0m\n",
      "\u001b[34m[20:59:09] src/tree/updater_prune.cc:74: tree pruning end, 1 roots, 52 extra nodes, 2 pruned nodes, max_depth=5\u001b[0m\n",
      "\u001b[34m[5]#011train-error:0.396133#011validation-error:0.4542\u001b[0m\n",
      "\u001b[34m[20:59:09] src/tree/updater_prune.cc:74: tree pruning end, 1 roots, 48 extra nodes, 4 pruned nodes, max_depth=5\u001b[0m\n",
      "\u001b[34m[6]#011train-error:0.390533#011validation-error:0.4516\u001b[0m\n",
      "\u001b[34m[20:59:09] src/tree/updater_prune.cc:74: tree pruning end, 1 roots, 52 extra nodes, 6 pruned nodes, max_depth=5\u001b[0m\n",
      "\u001b[34m[7]#011train-error:0.386267#011validation-error:0.4474\u001b[0m\n",
      "\u001b[34m[20:59:09] src/tree/updater_prune.cc:74: tree pruning end, 1 roots, 52 extra nodes, 4 pruned nodes, max_depth=5\u001b[0m\n",
      "\u001b[34m[8]#011train-error:0.380133#011validation-error:0.4486\u001b[0m\n",
      "\u001b[34m[20:59:09] src/tree/updater_prune.cc:74: tree pruning end, 1 roots, 40 extra nodes, 6 pruned nodes, max_depth=5\u001b[0m\n",
      "\u001b[34m[9]#011train-error:0.377067#011validation-error:0.4493\u001b[0m\n",
      "\u001b[34m[20:59:09] src/tree/updater_prune.cc:74: tree pruning end, 1 roots, 50 extra nodes, 6 pruned nodes, max_depth=5\u001b[0m\n",
      "\u001b[34m[10]#011train-error:0.3718#011validation-error:0.4486\u001b[0m\n",
      "\u001b[34m[20:59:09] src/tree/updater_prune.cc:74: tree pruning end, 1 roots, 44 extra nodes, 2 pruned nodes, max_depth=5\u001b[0m\n",
      "\u001b[34m[11]#011train-error:0.3724#011validation-error:0.4476\u001b[0m\n",
      "\u001b[34m[20:59:09] src/tree/updater_prune.cc:74: tree pruning end, 1 roots, 20 extra nodes, 4 pruned nodes, max_depth=5\u001b[0m\n",
      "\u001b[34m[12]#011train-error:0.370533#011validation-error:0.4471\u001b[0m\n",
      "\u001b[34m[20:59:09] src/tree/updater_prune.cc:74: tree pruning end, 1 roots, 48 extra nodes, 2 pruned nodes, max_depth=5\u001b[0m\n",
      "\u001b[34m[13]#011train-error:0.368#011validation-error:0.4457\u001b[0m\n",
      "\u001b[34m[20:59:09] src/tree/updater_prune.cc:74: tree pruning end, 1 roots, 46 extra nodes, 2 pruned nodes, max_depth=5\u001b[0m\n",
      "\u001b[34m[14]#011train-error:0.365133#011validation-error:0.4466\u001b[0m\n",
      "\u001b[34m[20:59:09] src/tree/updater_prune.cc:74: tree pruning end, 1 roots, 52 extra nodes, 4 pruned nodes, max_depth=5\u001b[0m\n",
      "\u001b[34m[15]#011train-error:0.359933#011validation-error:0.4417\u001b[0m\n",
      "\u001b[34m[20:59:09] src/tree/updater_prune.cc:74: tree pruning end, 1 roots, 30 extra nodes, 0 pruned nodes, max_depth=5\u001b[0m\n",
      "\u001b[34m[16]#011train-error:0.3578#011validation-error:0.4435\u001b[0m\n",
      "\u001b[34m[20:59:09] src/tree/updater_prune.cc:74: tree pruning end, 1 roots, 42 extra nodes, 6 pruned nodes, max_depth=5\u001b[0m\n",
      "\u001b[34m[17]#011train-error:0.3566#011validation-error:0.4421\u001b[0m\n",
      "\u001b[34m[20:59:09] src/tree/updater_prune.cc:74: tree pruning end, 1 roots, 54 extra nodes, 0 pruned nodes, max_depth=5\u001b[0m\n",
      "\u001b[34m[18]#011train-error:0.351667#011validation-error:0.4426\u001b[0m\n",
      "\u001b[34m[20:59:09] src/tree/updater_prune.cc:74: tree pruning end, 1 roots, 34 extra nodes, 6 pruned nodes, max_depth=5\u001b[0m\n",
      "\u001b[34m[19]#011train-error:0.351667#011validation-error:0.4411\u001b[0m\n",
      "\u001b[34m[20:59:09] src/tree/updater_prune.cc:74: tree pruning end, 1 roots, 44 extra nodes, 2 pruned nodes, max_depth=5\u001b[0m\n",
      "\u001b[34m[20]#011train-error:0.348267#011validation-error:0.4436\u001b[0m\n",
      "\u001b[34m[20:59:09] src/tree/updater_prune.cc:74: tree pruning end, 1 roots, 22 extra nodes, 2 pruned nodes, max_depth=5\u001b[0m\n",
      "\u001b[34m[21]#011train-error:0.347533#011validation-error:0.4444\u001b[0m\n",
      "\u001b[34m[20:59:09] src/tree/updater_prune.cc:74: tree pruning end, 1 roots, 28 extra nodes, 6 pruned nodes, max_depth=5\u001b[0m\n",
      "\u001b[34m[22]#011train-error:0.3452#011validation-error:0.4418\u001b[0m\n",
      "\u001b[34m[20:59:09] src/tree/updater_prune.cc:74: tree pruning end, 1 roots, 28 extra nodes, 8 pruned nodes, max_depth=5\u001b[0m\n",
      "\u001b[34m[23]#011train-error:0.344267#011validation-error:0.4403\u001b[0m\n",
      "\u001b[34m[20:59:09] src/tree/updater_prune.cc:74: tree pruning end, 1 roots, 14 extra nodes, 4 pruned nodes, max_depth=5\u001b[0m\n",
      "\u001b[34m[24]#011train-error:0.3426#011validation-error:0.4407\u001b[0m\n",
      "\u001b[34m[20:59:09] src/tree/updater_prune.cc:74: tree pruning end, 1 roots, 20 extra nodes, 4 pruned nodes, max_depth=5\u001b[0m\n",
      "\u001b[34m[25]#011train-error:0.341133#011validation-error:0.4408\u001b[0m\n",
      "\u001b[34m[20:59:09] src/tree/updater_prune.cc:74: tree pruning end, 1 roots, 56 extra nodes, 2 pruned nodes, max_depth=5\u001b[0m\n",
      "\u001b[34m[26]#011train-error:0.3396#011validation-error:0.4407\u001b[0m\n",
      "\u001b[34m[20:59:09] src/tree/updater_prune.cc:74: tree pruning end, 1 roots, 34 extra nodes, 2 pruned nodes, max_depth=5\u001b[0m\n",
      "\u001b[34m[27]#011train-error:0.3392#011validation-error:0.4396\u001b[0m\n",
      "\u001b[34m[20:59:09] src/tree/updater_prune.cc:74: tree pruning end, 1 roots, 20 extra nodes, 2 pruned nodes, max_depth=5\u001b[0m\n",
      "\u001b[34m[28]#011train-error:0.338333#011validation-error:0.4396\u001b[0m\n",
      "\u001b[34m[20:59:09] src/tree/updater_prune.cc:74: tree pruning end, 1 roots, 24 extra nodes, 2 pruned nodes, max_depth=5\u001b[0m\n",
      "\u001b[34m[29]#011train-error:0.337#011validation-error:0.4388\u001b[0m\n",
      "\u001b[34m[20:59:09] src/tree/updater_prune.cc:74: tree pruning end, 1 roots, 30 extra nodes, 2 pruned nodes, max_depth=5\u001b[0m\n",
      "\u001b[34m[30]#011train-error:0.3356#011validation-error:0.4411\u001b[0m\n",
      "\u001b[34m[20:59:09] src/tree/updater_prune.cc:74: tree pruning end, 1 roots, 24 extra nodes, 6 pruned nodes, max_depth=5\u001b[0m\n",
      "\u001b[34m[31]#011train-error:0.3366#011validation-error:0.4436\u001b[0m\n",
      "\u001b[34m[20:59:09] src/tree/updater_prune.cc:74: tree pruning end, 1 roots, 36 extra nodes, 2 pruned nodes, max_depth=5\u001b[0m\n",
      "\u001b[34m[32]#011train-error:0.334067#011validation-error:0.4463\u001b[0m\n",
      "\u001b[34m[20:59:09] src/tree/updater_prune.cc:74: tree pruning end, 1 roots, 38 extra nodes, 0 pruned nodes, max_depth=5\u001b[0m\n",
      "\u001b[34m[33]#011train-error:0.332533#011validation-error:0.4436\u001b[0m\n",
      "\u001b[34m[20:59:09] src/tree/updater_prune.cc:74: tree pruning end, 1 roots, 48 extra nodes, 4 pruned nodes, max_depth=5\u001b[0m\n",
      "\u001b[34m[34]#011train-error:0.328133#011validation-error:0.4435\u001b[0m\n",
      "\u001b[34m[20:59:09] src/tree/updater_prune.cc:74: tree pruning end, 1 roots, 24 extra nodes, 4 pruned nodes, max_depth=5\u001b[0m\n",
      "\u001b[34m[35]#011train-error:0.327267#011validation-error:0.4419\u001b[0m\n",
      "\u001b[34m[20:59:09] src/tree/updater_prune.cc:74: tree pruning end, 1 roots, 58 extra nodes, 0 pruned nodes, max_depth=5\u001b[0m\n",
      "\u001b[34m[36]#011train-error:0.322133#011validation-error:0.4419\u001b[0m\n",
      "\u001b[34m[20:59:09] src/tree/updater_prune.cc:74: tree pruning end, 1 roots, 40 extra nodes, 2 pruned nodes, max_depth=5\u001b[0m\n",
      "\u001b[34m[37]#011train-error:0.320667#011validation-error:0.4435\u001b[0m\n",
      "\u001b[34m[20:59:09] src/tree/updater_prune.cc:74: tree pruning end, 1 roots, 16 extra nodes, 2 pruned nodes, max_depth=5\u001b[0m\n",
      "\u001b[34m[38]#011train-error:0.320933#011validation-error:0.4439\u001b[0m\n",
      "\u001b[34m[20:59:09] src/tree/updater_prune.cc:74: tree pruning end, 1 roots, 42 extra nodes, 4 pruned nodes, max_depth=5\u001b[0m\n",
      "\u001b[34m[39]#011train-error:0.317467#011validation-error:0.4409\u001b[0m\n",
      "\u001b[34mStopping. Best iteration:\u001b[0m\n",
      "\u001b[34m[29]#011train-error:0.337#011validation-error:0.4388\n",
      "\u001b[0m\n"
     ]
    },
    {
     "name": "stdout",
     "output_type": "stream",
     "text": [
      "\n",
      "2020-05-16 20:59:21 Uploading - Uploading generated training model\n",
      "2020-05-16 20:59:21 Completed - Training job completed\n",
      "Training seconds: 66\n",
      "Billable seconds: 66\n"
     ]
    }
   ],
   "source": [
    "# TODO: Using the new validation and training data, 'fit' your new model.\n",
    "new_xgb.fit({'train': s3_new_input_train, 'validation': s3_new_input_validation})"
   ]
  },
  {
   "cell_type": "markdown",
   "metadata": {},
   "source": [
    "### (TODO) Check the new model\n",
    "\n",
    "So now we have a new XGBoost model that we believe more accurately represents the state of the world at this time, at least in how it relates to the sentiment analysis problem that we are working on. The next step is to double check that our model is performing reasonably.\n",
    "\n",
    "To do this, we will first test our model on the new data.\n",
    "\n",
    "**Note:** In practice this is a pretty bad idea. We already trained our model on the new data, so testing it shouldn't really tell us much. In fact, this is sort of a textbook example of leakage. We are only doing it here so that we have a numerical baseline.\n",
    "\n",
    "**Question:** How might you address the leakage problem?\n",
    "\n",
    "I might get a subset of the training data from the begining, which will not be used for training and then use it at this stage to perform the tests"
   ]
  },
  {
   "cell_type": "markdown",
   "metadata": {},
   "source": [
    "First, we create a new transformer based on our new XGBoost model.\n",
    "\n",
    "**TODO:** Create a transformer object from the newly created XGBoost model."
   ]
  },
  {
   "cell_type": "code",
   "execution_count": 73,
   "metadata": {},
   "outputs": [],
   "source": [
    "# TODO: Create a transformer object from the new_xgb model\n",
    "new_xgb_transformer = new_xgb.transformer(instance_count = 1, instance_type = 'ml.m4.xlarge')"
   ]
  },
  {
   "cell_type": "markdown",
   "metadata": {},
   "source": [
    "Next we test our model on the new data.\n",
    "\n",
    "**TODO:** Use the transformer object to transform the new data (stored in the `new_data_location` variable)"
   ]
  },
  {
   "cell_type": "code",
   "execution_count": 74,
   "metadata": {},
   "outputs": [
    {
     "name": "stdout",
     "output_type": "stream",
     "text": [
      "...................\u001b[34mArguments: serve\u001b[0m\n",
      "\u001b[34m[2020-05-16 21:04:15 +0000] [1] [INFO] Starting gunicorn 19.7.1\u001b[0m\n",
      "\u001b[34m[2020-05-16 21:04:15 +0000] [1] [INFO] Listening at: http://0.0.0.0:8080 (1)\u001b[0m\n",
      "\u001b[34m[2020-05-16 21:04:15 +0000] [1] [INFO] Using worker: gevent\u001b[0m\n",
      "\u001b[34m[2020-05-16 21:04:15 +0000] [38] [INFO] Booting worker with pid: 38\u001b[0m\n",
      "\u001b[34m[2020-05-16 21:04:15 +0000] [39] [INFO] Booting worker with pid: 39\u001b[0m\n",
      "\u001b[34m[2020-05-16:21:04:15:INFO] Model loaded successfully for worker : 38\u001b[0m\n",
      "\u001b[34m[2020-05-16:21:04:15:INFO] Model loaded successfully for worker : 39\u001b[0m\n",
      "\u001b[34m[2020-05-16 21:04:15 +0000] [40] [INFO] Booting worker with pid: 40\u001b[0m\n",
      "\u001b[34m[2020-05-16:21:04:15:INFO] Model loaded successfully for worker : 40\u001b[0m\n",
      "\u001b[34m[2020-05-16 21:04:15 +0000] [41] [INFO] Booting worker with pid: 41\u001b[0m\n",
      "\u001b[34m[2020-05-16:21:04:15:INFO] Model loaded successfully for worker : 41\u001b[0m\n",
      "\u001b[34m[2020-05-16:21:04:44:INFO] Sniff delimiter as ','\u001b[0m\n",
      "\u001b[34m[2020-05-16:21:04:44:INFO] Determined delimiter of CSV input is ','\u001b[0m\n",
      "\u001b[35m[2020-05-16:21:04:44:INFO] Sniff delimiter as ','\u001b[0m\n",
      "\u001b[35m[2020-05-16:21:04:44:INFO] Determined delimiter of CSV input is ','\u001b[0m\n",
      "\u001b[32m2020-05-16T21:04:44.021:[sagemaker logs]: MaxConcurrentTransforms=4, MaxPayloadInMB=6, BatchStrategy=MULTI_RECORD\u001b[0m\n",
      "\n"
     ]
    }
   ],
   "source": [
    "# TODO: Using new_xgb_transformer, transform the new_data_location data. You may wish to\n",
    "#       'wait' for the transform job to finish.\n",
    "new_xgb_transformer.transform(new_data_location,content_type='text/csv',split_type='Line')\n",
    "new_xgb_transformer.wait()"
   ]
  },
  {
   "cell_type": "markdown",
   "metadata": {},
   "source": [
    "Copy the results to our local instance."
   ]
  },
  {
   "cell_type": "code",
   "execution_count": 75,
   "metadata": {},
   "outputs": [
    {
     "name": "stdout",
     "output_type": "stream",
     "text": [
      "Completed 256.0 KiB/363.5 KiB (4.2 MiB/s) with 1 file(s) remaining\r",
      "Completed 363.5 KiB/363.5 KiB (5.8 MiB/s) with 1 file(s) remaining\r",
      "download: s3://sagemaker-us-east-2-525657442405/xgboost-2020-05-16-21-01-14-546/new_data.csv.out to ../data/sentiment_update/new_data.csv.out\r\n"
     ]
    }
   ],
   "source": [
    "!aws s3 cp --recursive $new_xgb_transformer.output_path $data_dir"
   ]
  },
  {
   "cell_type": "markdown",
   "metadata": {},
   "source": [
    "And see how well the model did."
   ]
  },
  {
   "cell_type": "code",
   "execution_count": 76,
   "metadata": {},
   "outputs": [],
   "source": [
    "predictions = pd.read_csv(os.path.join(data_dir, 'new_data.csv.out'), header=None)\n",
    "predictions = [round(num) for num in predictions.squeeze().values]"
   ]
  },
  {
   "cell_type": "code",
   "execution_count": 77,
   "metadata": {},
   "outputs": [
    {
     "data": {
      "text/plain": [
       "0.62228"
      ]
     },
     "execution_count": 77,
     "metadata": {},
     "output_type": "execute_result"
    }
   ],
   "source": [
    "accuracy_score(new_Y, predictions)"
   ]
  },
  {
   "cell_type": "markdown",
   "metadata": {},
   "source": [
    "As expected, since we trained the model on this data, our model performs pretty well. So, we have reason to believe that our new XGBoost model is a \"better\" model.\n",
    "\n",
    "However, before we start changing our deployed model, we should first make sure that our new model isn't too different. In other words, if our new model performed really poorly on the original test data then this might be an indication that something else has gone wrong.\n",
    "\n",
    "To start with, since we got rid of the variable that stored the original test reviews, we will read them in again from the cache that we created in Step 3. Note that we need to make sure that we read in the original test data after it has been pre-processed with `nltk` but before it has been bag of words encoded. This is because we need to use the new vocabulary instead of the original one."
   ]
  },
  {
   "cell_type": "code",
   "execution_count": 78,
   "metadata": {},
   "outputs": [
    {
     "name": "stdout",
     "output_type": "stream",
     "text": [
      "Read preprocessed data from cache file: preprocessed_data.pkl\n"
     ]
    }
   ],
   "source": [
    "cache_data = None\n",
    "with open(os.path.join(cache_dir, \"preprocessed_data.pkl\"), \"rb\") as f:\n",
    "            cache_data = pickle.load(f)\n",
    "            print(\"Read preprocessed data from cache file:\", \"preprocessed_data.pkl\")\n",
    "            \n",
    "test_X = cache_data['words_test']\n",
    "test_Y = cache_data['labels_test']\n",
    "\n",
    "# Here we set cache_data to None so that it doesn't occupy memory\n",
    "cache_data = None"
   ]
  },
  {
   "cell_type": "markdown",
   "metadata": {},
   "source": [
    "Once we've loaded the original test reviews, we need to create a bag of words encoding of them using the new vocabulary that we created, based on the new data.\n",
    "\n",
    "**TODO:** Transform the original test data using the new vocabulary."
   ]
  },
  {
   "cell_type": "code",
   "execution_count": 79,
   "metadata": {},
   "outputs": [],
   "source": [
    "# TODO: Use the new_vectorizer object that you created earlier to transform the test_X data.\n",
    "test_X = new_vectorizer.transform(test_X).toarray()"
   ]
  },
  {
   "cell_type": "markdown",
   "metadata": {},
   "source": [
    "Now that we have correctly encoded the original test data, we can write it to the local instance, upload it to S3 and test it."
   ]
  },
  {
   "cell_type": "code",
   "execution_count": 80,
   "metadata": {},
   "outputs": [],
   "source": [
    "pd.DataFrame(test_X).to_csv(os.path.join(data_dir, 'test.csv'), header=False, index=False)"
   ]
  },
  {
   "cell_type": "code",
   "execution_count": 81,
   "metadata": {},
   "outputs": [],
   "source": [
    "test_location = session.upload_data(os.path.join(data_dir, 'test.csv'), key_prefix=prefix)"
   ]
  },
  {
   "cell_type": "code",
   "execution_count": 82,
   "metadata": {},
   "outputs": [
    {
     "name": "stdout",
     "output_type": "stream",
     "text": [
      ".....................\u001b[34mArguments: serve\u001b[0m\n",
      "\u001b[34m[2020-05-16 21:12:12 +0000] [1] [INFO] Starting gunicorn 19.7.1\u001b[0m\n",
      "\u001b[34m[2020-05-16 21:12:12 +0000] [1] [INFO] Listening at: http://0.0.0.0:8080 (1)\u001b[0m\n",
      "\u001b[34m[2020-05-16 21:12:12 +0000] [1] [INFO] Using worker: gevent\u001b[0m\n",
      "\u001b[34m[2020-05-16 21:12:12 +0000] [37] [INFO] Booting worker with pid: 37\u001b[0m\n",
      "\u001b[34m[2020-05-16 21:12:12 +0000] [38] [INFO] Booting worker with pid: 38\u001b[0m\n",
      "\u001b[34m[2020-05-16 21:12:12 +0000] [39] [INFO] Booting worker with pid: 39\u001b[0m\n",
      "\u001b[34m[2020-05-16 21:12:12 +0000] [40] [INFO] Booting worker with pid: 40\u001b[0m\n",
      "\u001b[34m[2020-05-16:21:12:12:INFO] Model loaded successfully for worker : 37\u001b[0m\n",
      "\u001b[34m[2020-05-16:21:12:12:INFO] Model loaded successfully for worker : 38\u001b[0m\n",
      "\u001b[34m[2020-05-16:21:12:12:INFO] Model loaded successfully for worker : 39\u001b[0m\n",
      "\u001b[34m[2020-05-16:21:12:12:INFO] Model loaded successfully for worker : 40\u001b[0m\n",
      "\u001b[32m2020-05-16T21:12:31.501:[sagemaker logs]: MaxConcurrentTransforms=4, MaxPayloadInMB=6, BatchStrategy=MULTI_RECORD\u001b[0m\n",
      "\u001b[34m[2020-05-16:21:12:31:INFO] Sniff delimiter as ','\u001b[0m\n",
      "\u001b[34m[2020-05-16:21:12:31:INFO] Determined delimiter of CSV input is ','\u001b[0m\n",
      "\u001b[35m[2020-05-16:21:12:31:INFO] Sniff delimiter as ','\u001b[0m\n",
      "\u001b[35m[2020-05-16:21:12:31:INFO] Determined delimiter of CSV input is ','\u001b[0m\n",
      "\n"
     ]
    }
   ],
   "source": [
    "new_xgb_transformer.transform(test_location, content_type='text/csv', split_type='Line')\n",
    "new_xgb_transformer.wait()"
   ]
  },
  {
   "cell_type": "code",
   "execution_count": 83,
   "metadata": {},
   "outputs": [
    {
     "name": "stdout",
     "output_type": "stream",
     "text": [
      "Completed 256.0 KiB/365.2 KiB (3.9 MiB/s) with 1 file(s) remaining\r",
      "Completed 365.2 KiB/365.2 KiB (5.5 MiB/s) with 1 file(s) remaining\r",
      "download: s3://sagemaker-us-east-2-525657442405/xgboost-2020-05-16-21-08-57-772/test.csv.out to ../data/sentiment_update/test.csv.out\r\n"
     ]
    }
   ],
   "source": [
    "!aws s3 cp --recursive $new_xgb_transformer.output_path $data_dir"
   ]
  },
  {
   "cell_type": "code",
   "execution_count": 84,
   "metadata": {},
   "outputs": [],
   "source": [
    "predictions = pd.read_csv(os.path.join(data_dir, 'test.csv.out'), header=None)\n",
    "predictions = [round(num) for num in predictions.squeeze().values]"
   ]
  },
  {
   "cell_type": "code",
   "execution_count": 85,
   "metadata": {},
   "outputs": [
    {
     "data": {
      "text/plain": [
       "0.53588"
      ]
     },
     "execution_count": 85,
     "metadata": {},
     "output_type": "execute_result"
    }
   ],
   "source": [
    "accuracy_score(test_Y, predictions)"
   ]
  },
  {
   "cell_type": "markdown",
   "metadata": {},
   "source": [
    "It would appear that our new XGBoost model is performing quite well on the old test data. This gives us some indication that our new model should be put into production and replace our original model."
   ]
  },
  {
   "cell_type": "markdown",
   "metadata": {},
   "source": [
    "## Step 6: (TODO) Updating the Model\n",
    "\n",
    "So we have a new model that we'd like to use instead of one that is already deployed. Furthermore, we are assuming that the model that is already deployed is being used in some sort of application. As a result, what we want to do is update the existing endpoint so that it uses our new model.\n",
    "\n",
    "Of course, to do this we need to create an endpoint configuration for our newly created model.\n",
    "\n",
    "First, note that we can access the name of the model that we created above using the `model_name` property of the transformer. The reason for this is that in order for the transformer to create a batch transform job it needs to first create the model object inside of SageMaker. Since we've sort of already done this we should take advantage of it."
   ]
  },
  {
   "cell_type": "code",
   "execution_count": 86,
   "metadata": {},
   "outputs": [
    {
     "data": {
      "text/plain": [
       "'xgboost-2020-05-16-20-56-07-242'"
      ]
     },
     "execution_count": 86,
     "metadata": {},
     "output_type": "execute_result"
    }
   ],
   "source": [
    "new_xgb_transformer.model_name"
   ]
  },
  {
   "cell_type": "markdown",
   "metadata": {},
   "source": [
    "Next, we create an endpoint configuration using the low level approach of creating the dictionary object which describes the endpoint configuration we want.\n",
    "\n",
    "**TODO:** Using the low level approach, create a new endpoint configuration. Don't forget that it needs a name and that the name needs to be unique. If you get stuck, try looking at the Boston Housing Low Level Deployment tutorial notebook."
   ]
  },
  {
   "cell_type": "code",
   "execution_count": 89,
   "metadata": {},
   "outputs": [],
   "source": [
    "from time import gmtime, strftime\n",
    "\n",
    "\n",
    "# TODO: Give our endpoint configuration a name. Remember, it needs to be unique.\n",
    "new_xgb_endpoint_config_name = 'sentiment-update-xgboost-endpoint-config-' + strftime('%Y-%m-%d-%H-%M-%S')\n",
    "\n",
    "# TODO: Using the SageMaker Client, construct the endpoint configuration.\n",
    "new_xgb_endpoint_config_info = session.sagemaker_client.create_endpoint_config(\n",
    "    EndpointConfigName=new_xgb_endpoint_config_name,\n",
    "    ProductionVariants = [{\n",
    "        \"InstanceType\": \"ml.m4.xlarge\",\n",
    "        \"InitialVariantWeight\": 1,\n",
    "        \"InitialInstanceCount\": 1,\n",
    "        \"ModelName\": new_xgb_transformer.model_name,\n",
    "        \"VariantName\": \"XGB-Model\"\n",
    "    }]\n",
    ")"
   ]
  },
  {
   "cell_type": "markdown",
   "metadata": {},
   "source": [
    "Once the endpoint configuration has been constructed, it is a straightforward matter to ask SageMaker to update the existing endpoint so that it uses the new endpoint configuration.\n",
    "\n",
    "Of note here is that SageMaker does this in such a way that there is no downtime. Essentially, SageMaker deploys the new model and then updates the original endpoint so that it points to the newly deployed model. After that, the original model is shut down. This way, whatever app is using our endpoint won't notice that we've changed the model that is being used.\n",
    "\n",
    "**TODO:** Use the SageMaker Client to update the endpoint that you deployed earlier."
   ]
  },
  {
   "cell_type": "code",
   "execution_count": 90,
   "metadata": {},
   "outputs": [
    {
     "data": {
      "text/plain": [
       "{'EndpointArn': 'arn:aws:sagemaker:us-east-2:525657442405:endpoint/xgboost-2020-05-16-19-16-45-344',\n",
       " 'ResponseMetadata': {'RequestId': '01647baa-5683-4236-ad26-209d19be9bdb',\n",
       "  'HTTPStatusCode': 200,\n",
       "  'HTTPHeaders': {'x-amzn-requestid': '01647baa-5683-4236-ad26-209d19be9bdb',\n",
       "   'content-type': 'application/x-amz-json-1.1',\n",
       "   'content-length': '99',\n",
       "   'date': 'Sat, 16 May 2020 21:21:55 GMT'},\n",
       "  'RetryAttempts': 0}}"
      ]
     },
     "execution_count": 90,
     "metadata": {},
     "output_type": "execute_result"
    }
   ],
   "source": [
    "# TODO: Update the xgb_predictor.endpoint so that it uses new_xgb_endpoint_config_name.\n",
    "session.sagemaker_client.update_endpoint(EndpointName=xgb_predictor.endpoint,EndpointConfigName=new_xgb_endpoint_config_name)"
   ]
  },
  {
   "cell_type": "markdown",
   "metadata": {},
   "source": [
    "And, as is generally the case with SageMaker requests, this is being done in the background so if we want to wait for it to complete we need to call the appropriate method."
   ]
  },
  {
   "cell_type": "code",
   "execution_count": 91,
   "metadata": {},
   "outputs": [
    {
     "name": "stdout",
     "output_type": "stream",
     "text": [
      "-------------!"
     ]
    },
    {
     "data": {
      "text/plain": [
       "{'EndpointName': 'xgboost-2020-05-16-19-16-45-344',\n",
       " 'EndpointArn': 'arn:aws:sagemaker:us-east-2:525657442405:endpoint/xgboost-2020-05-16-19-16-45-344',\n",
       " 'EndpointConfigName': 'sentiment-update-xgboost-endpoint-config-2020-05-16-21-18-00',\n",
       " 'ProductionVariants': [{'VariantName': 'XGB-Model',\n",
       "   'DeployedImages': [{'SpecifiedImage': '825641698319.dkr.ecr.us-east-2.amazonaws.com/xgboost:1',\n",
       "     'ResolvedImage': '825641698319.dkr.ecr.us-east-2.amazonaws.com/xgboost@sha256:513e8442b35b9ecc9d326f85659f8e30b10e2cec096b863f04a9738baa9ebb57',\n",
       "     'ResolutionTime': datetime.datetime(2020, 5, 16, 21, 21, 58, 655000, tzinfo=tzlocal())}],\n",
       "   'CurrentWeight': 1.0,\n",
       "   'DesiredWeight': 1.0,\n",
       "   'CurrentInstanceCount': 1,\n",
       "   'DesiredInstanceCount': 1}],\n",
       " 'EndpointStatus': 'InService',\n",
       " 'CreationTime': datetime.datetime(2020, 5, 16, 20, 32, 58, 447000, tzinfo=tzlocal()),\n",
       " 'LastModifiedTime': datetime.datetime(2020, 5, 16, 21, 28, 5, 572000, tzinfo=tzlocal()),\n",
       " 'ResponseMetadata': {'RequestId': '59fc5bff-90d9-4a5a-b01f-fe769c977fdd',\n",
       "  'HTTPStatusCode': 200,\n",
       "  'HTTPHeaders': {'x-amzn-requestid': '59fc5bff-90d9-4a5a-b01f-fe769c977fdd',\n",
       "   'content-type': 'application/x-amz-json-1.1',\n",
       "   'content-length': '742',\n",
       "   'date': 'Sat, 16 May 2020 21:28:32 GMT'},\n",
       "  'RetryAttempts': 0}}"
      ]
     },
     "execution_count": 91,
     "metadata": {},
     "output_type": "execute_result"
    }
   ],
   "source": [
    "session.wait_for_endpoint(xgb_predictor.endpoint)"
   ]
  },
  {
   "cell_type": "markdown",
   "metadata": {},
   "source": [
    "## Step 7: Delete the Endpoint\n",
    "\n",
    "Of course, since we are done with the deployed endpoint we need to make sure to shut it down, otherwise we will continue to be charged for it."
   ]
  },
  {
   "cell_type": "code",
   "execution_count": 92,
   "metadata": {},
   "outputs": [],
   "source": [
    "xgb_predictor.delete_endpoint()"
   ]
  },
  {
   "cell_type": "markdown",
   "metadata": {},
   "source": [
    "## Some Additional Questions\n",
    "\n",
    "This notebook is a little different from the other notebooks in this module. In part, this is because it is meant to be a little bit closer to the type of problem you may face in a real world scenario. Of course, this problem is a very easy one with a prescribed solution, but there are many other interesting questions that we did not consider here and that you may wish to consider yourself.\n",
    "\n",
    "For example,\n",
    "- What other ways could the underlying distribution change?\n",
    "- Is it a good idea to re-train the model using only the new data?\n",
    "- What would change if the quantity of new data wasn't large. Say you only received 500 samples?\n"
   ]
  },
  {
   "cell_type": "markdown",
   "metadata": {},
   "source": [
    "## Optional: Clean up\n",
    "\n",
    "The default notebook instance on SageMaker doesn't have a lot of excess disk space available. As you continue to complete and execute notebooks you will eventually fill up this disk space, leading to errors which can be difficult to diagnose. Once you are completely finished using a notebook it is a good idea to remove the files that you created along the way. Of course, you can do this from the terminal or from the notebook hub if you would like. The cell below contains some commands to clean up the created files from within the notebook."
   ]
  },
  {
   "cell_type": "code",
   "execution_count": 93,
   "metadata": {},
   "outputs": [],
   "source": [
    "# First we will remove all of the files contained in the data_dir directory\n",
    "!rm $data_dir/*\n",
    "\n",
    "# And then we delete the directory itself\n",
    "!rmdir $data_dir\n",
    "\n",
    "# Similarly we will remove the files in the cache_dir directory and the directory itself\n",
    "!rm $cache_dir/*\n",
    "!rmdir $cache_dir"
   ]
  },
  {
   "cell_type": "code",
   "execution_count": null,
   "metadata": {},
   "outputs": [],
   "source": []
  }
 ],
 "metadata": {
  "kernelspec": {
   "display_name": "conda_pytorch_p36",
   "language": "python",
   "name": "conda_pytorch_p36"
  },
  "language_info": {
   "codemirror_mode": {
    "name": "ipython",
    "version": 3
   },
   "file_extension": ".py",
   "mimetype": "text/x-python",
   "name": "python",
   "nbconvert_exporter": "python",
   "pygments_lexer": "ipython3",
   "version": "3.6.10"
  }
 },
 "nbformat": 4,
 "nbformat_minor": 2
}
