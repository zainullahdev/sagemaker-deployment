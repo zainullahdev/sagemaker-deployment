{
 "cells": [
  {
   "cell_type": "markdown",
   "metadata": {},
   "source": [
    "# Sentiment Analysis Web App\n",
    "\n",
    "_Deep Learning Nanodegree Program | Deployment_\n",
    "\n",
    "---\n",
    "\n",
    "In this notebook we will use Amazon's SageMaker service to construct a random tree model to predict the sentiment of a movie review. In addition, we will deploy this model to an endpoint and construct a very simple web app which will interact with our model's deployed endpoint.\n",
    "\n",
    "## General Outline\n",
    "\n",
    "Typically, when using a notebook instance with SageMaker, you will proceed through the following steps. Of course, not every step will need to be done with each project. Also, there is quite a lot of room for variation in many of the steps, as you will see throughout these lessons.\n",
    "\n",
    "1. Download or otherwise retrieve the data.\n",
    "2. Process / Prepare the data.\n",
    "3. Upload the processed data to S3.\n",
    "4. Train a chosen model.\n",
    "5. Test the trained model (typically using a batch transform job).\n",
    "6. Deploy the trained model.\n",
    "7. Use the deployed model.\n",
    "\n",
    "In this notebook we will progress through each of the steps above. We will also see that the final step, using the deployed model, can be quite challenging."
   ]
  },
  {
   "cell_type": "markdown",
   "metadata": {},
   "source": [
    "## Step 1: Downloading the data\n",
    "\n",
    "The dataset we are going to use is very popular among researchers in Natural Language Processing, usually referred to as the [IMDb dataset](http://ai.stanford.edu/~amaas/data/sentiment/). It consists of movie reviews from the website [imdb.com](http://www.imdb.com/), each labeled as either '**pos**itive', if the reviewer enjoyed the film, or '**neg**ative' otherwise.\n",
    "\n",
    "> Maas, Andrew L., et al. [Learning Word Vectors for Sentiment Analysis](http://ai.stanford.edu/~amaas/data/sentiment/). In _Proceedings of the 49th Annual Meeting of the Association for Computational Linguistics: Human Language Technologies_. Association for Computational Linguistics, 2011.\n",
    "\n",
    "We begin by using some Jupyter Notebook magic to download and extract the dataset."
   ]
  },
  {
   "cell_type": "code",
   "execution_count": 1,
   "metadata": {},
   "outputs": [
    {
     "name": "stdout",
     "output_type": "stream",
     "text": [
      "mkdir: cannot create directory ‘../data’: File exists\n",
      "--2020-05-04 21:15:56--  http://ai.stanford.edu/~amaas/data/sentiment/aclImdb_v1.tar.gz\n",
      "Resolving ai.stanford.edu (ai.stanford.edu)... 171.64.68.10\n",
      "Connecting to ai.stanford.edu (ai.stanford.edu)|171.64.68.10|:80... connected.\n",
      "HTTP request sent, awaiting response... 200 OK\n",
      "Length: 84125825 (80M) [application/x-gzip]\n",
      "Saving to: ‘../data/aclImdb_v1.tar.gz’\n",
      "\n",
      "../data/aclImdb_v1. 100%[===================>]  80.23M  24.0MB/s    in 4.1s    \n",
      "\n",
      "2020-05-04 21:16:00 (19.5 MB/s) - ‘../data/aclImdb_v1.tar.gz’ saved [84125825/84125825]\n",
      "\n"
     ]
    }
   ],
   "source": [
    "%mkdir ../data\n",
    "!wget -O ../data/aclImdb_v1.tar.gz http://ai.stanford.edu/~amaas/data/sentiment/aclImdb_v1.tar.gz\n",
    "!tar -zxf ../data/aclImdb_v1.tar.gz -C ../data"
   ]
  },
  {
   "cell_type": "markdown",
   "metadata": {},
   "source": [
    "## Step 2: Preparing and Processing the data\n",
    "\n",
    "The data we have downloaded is split into various files, each of which contains a single review. It will be much easier going forward if we combine these individual files into two large files, one for training and one for testing."
   ]
  },
  {
   "cell_type": "code",
   "execution_count": 2,
   "metadata": {},
   "outputs": [],
   "source": [
    "import os\n",
    "import glob\n",
    "\n",
    "def read_imdb_data(data_dir='../data/aclImdb'):\n",
    "    data = {}\n",
    "    labels = {}\n",
    "    \n",
    "    for data_type in ['train', 'test']:\n",
    "        data[data_type] = {}\n",
    "        labels[data_type] = {}\n",
    "        \n",
    "        for sentiment in ['pos', 'neg']:\n",
    "            data[data_type][sentiment] = []\n",
    "            labels[data_type][sentiment] = []\n",
    "            \n",
    "            path = os.path.join(data_dir, data_type, sentiment, '*.txt')\n",
    "            files = glob.glob(path)\n",
    "            \n",
    "            for f in files:\n",
    "                with open(f) as review:\n",
    "                    data[data_type][sentiment].append(review.read())\n",
    "                    # Here we represent a positive review by '1' and a negative review by '0'\n",
    "                    labels[data_type][sentiment].append(1 if sentiment == 'pos' else 0)\n",
    "                    \n",
    "            assert len(data[data_type][sentiment]) == len(labels[data_type][sentiment]), \\\n",
    "                    \"{}/{} data size does not match labels size\".format(data_type, sentiment)\n",
    "                \n",
    "    return data, labels"
   ]
  },
  {
   "cell_type": "code",
   "execution_count": 3,
   "metadata": {},
   "outputs": [
    {
     "name": "stdout",
     "output_type": "stream",
     "text": [
      "IMDB reviews: train = 12500 pos / 12500 neg, test = 12500 pos / 12500 neg\n"
     ]
    }
   ],
   "source": [
    "data, labels = read_imdb_data()\n",
    "print(\"IMDB reviews: train = {} pos / {} neg, test = {} pos / {} neg\".format(\n",
    "            len(data['train']['pos']), len(data['train']['neg']),\n",
    "            len(data['test']['pos']), len(data['test']['neg'])))"
   ]
  },
  {
   "cell_type": "code",
   "execution_count": 4,
   "metadata": {},
   "outputs": [],
   "source": [
    "from sklearn.utils import shuffle\n",
    "\n",
    "def prepare_imdb_data(data, labels):\n",
    "    \"\"\"Prepare training and test sets from IMDb movie reviews.\"\"\"\n",
    "    \n",
    "    #Combine positive and negative reviews and labels\n",
    "    data_train = data['train']['pos'] + data['train']['neg']\n",
    "    data_test = data['test']['pos'] + data['test']['neg']\n",
    "    labels_train = labels['train']['pos'] + labels['train']['neg']\n",
    "    labels_test = labels['test']['pos'] + labels['test']['neg']\n",
    "    \n",
    "    #Shuffle reviews and corresponding labels within training and test sets\n",
    "    data_train, labels_train = shuffle(data_train, labels_train)\n",
    "    data_test, labels_test = shuffle(data_test, labels_test)\n",
    "    \n",
    "    # Return a unified training data, test data, training labels, test labets\n",
    "    return data_train, data_test, labels_train, labels_test"
   ]
  },
  {
   "cell_type": "code",
   "execution_count": 5,
   "metadata": {},
   "outputs": [
    {
     "name": "stdout",
     "output_type": "stream",
     "text": [
      "IMDb reviews (combined): train = 25000, test = 25000\n"
     ]
    }
   ],
   "source": [
    "train_X, test_X, train_y, test_y = prepare_imdb_data(data, labels)\n",
    "print(\"IMDb reviews (combined): train = {}, test = {}\".format(len(train_X), len(test_X)))"
   ]
  },
  {
   "cell_type": "code",
   "execution_count": 6,
   "metadata": {},
   "outputs": [
    {
     "data": {
      "text/plain": [
       "\"This movie is one of the most awful I've ever seen. Not only is the dialogue awful, it never ends. You'll think it's ending, but it's not. How long is it, 140, 160 minutes? I don't even know. I do know that I'll never watch it again. It's like someone took a romantic comedy, took out the comedy, then decided to downplay the romance, leaving us with the pile of crap that managed to make its way to the screen. But don't take my word for it, find out for yourself how terrible this film is.\""
      ]
     },
     "execution_count": 6,
     "metadata": {},
     "output_type": "execute_result"
    }
   ],
   "source": [
    "train_X[100]"
   ]
  },
  {
   "cell_type": "markdown",
   "metadata": {},
   "source": [
    "## Processing the data\n",
    "\n",
    "Now that we have our training and testing datasets merged and ready to use, we need to start processing the raw data into something that will be useable by our machine learning algorithm. To begin with, we remove any html formatting and any non-alpha numeric characters that may appear in the reviews. We will do this in a very simplistic way using Python's regular expression module. We will discuss the reason for this rather simplistic pre-processing later on."
   ]
  },
  {
   "cell_type": "code",
   "execution_count": 7,
   "metadata": {},
   "outputs": [],
   "source": [
    "import re\n",
    "\n",
    "REPLACE_NO_SPACE = re.compile(\"(\\.)|(\\;)|(\\:)|(\\!)|(\\')|(\\?)|(\\,)|(\\\")|(\\()|(\\))|(\\[)|(\\])\")\n",
    "REPLACE_WITH_SPACE = re.compile(\"(<br\\s*/><br\\s*/>)|(\\-)|(\\/)\")\n",
    "\n",
    "def review_to_words(review):\n",
    "    words = REPLACE_NO_SPACE.sub(\"\", review.lower())\n",
    "    words = REPLACE_WITH_SPACE.sub(\" \", words)\n",
    "    return words"
   ]
  },
  {
   "cell_type": "code",
   "execution_count": 8,
   "metadata": {},
   "outputs": [
    {
     "data": {
      "text/plain": [
       "'this movie is one of the most awful ive ever seen not only is the dialogue awful it never ends youll think its ending but its not how long is it 140 160 minutes i dont even know i do know that ill never watch it again its like someone took a romantic comedy took out the comedy then decided to downplay the romance leaving us with the pile of crap that managed to make its way to the screen but dont take my word for it find out for yourself how terrible this film is'"
      ]
     },
     "execution_count": 8,
     "metadata": {},
     "output_type": "execute_result"
    }
   ],
   "source": [
    "review_to_words(train_X[100])"
   ]
  },
  {
   "cell_type": "code",
   "execution_count": 9,
   "metadata": {},
   "outputs": [],
   "source": [
    "import pickle\n",
    "\n",
    "cache_dir = os.path.join(\"../cache\", \"sentiment_web_app\")  # where to store cache files\n",
    "os.makedirs(cache_dir, exist_ok=True)  # ensure cache directory exists\n",
    "\n",
    "def preprocess_data(data_train, data_test, labels_train, labels_test,\n",
    "                    cache_dir=cache_dir, cache_file=\"preprocessed_data.pkl\"):\n",
    "    \"\"\"Convert each review to words; read from cache if available.\"\"\"\n",
    "\n",
    "    # If cache_file is not None, try to read from it first\n",
    "    cache_data = None\n",
    "    if cache_file is not None:\n",
    "        try:\n",
    "            with open(os.path.join(cache_dir, cache_file), \"rb\") as f:\n",
    "                cache_data = pickle.load(f)\n",
    "            print(\"Read preprocessed data from cache file:\", cache_file)\n",
    "        except:\n",
    "            pass  # unable to read from cache, but that's okay\n",
    "    \n",
    "    # If cache is missing, then do the heavy lifting\n",
    "    if cache_data is None:\n",
    "        # Preprocess training and test data to obtain words for each review\n",
    "        #words_train = list(map(review_to_words, data_train))\n",
    "        #words_test = list(map(review_to_words, data_test))\n",
    "        words_train = [review_to_words(review) for review in data_train]\n",
    "        words_test = [review_to_words(review) for review in data_test]\n",
    "        \n",
    "        # Write to cache file for future runs\n",
    "        if cache_file is not None:\n",
    "            cache_data = dict(words_train=words_train, words_test=words_test,\n",
    "                              labels_train=labels_train, labels_test=labels_test)\n",
    "            with open(os.path.join(cache_dir, cache_file), \"wb\") as f:\n",
    "                pickle.dump(cache_data, f)\n",
    "            print(\"Wrote preprocessed data to cache file:\", cache_file)\n",
    "    else:\n",
    "        # Unpack data loaded from cache file\n",
    "        words_train, words_test, labels_train, labels_test = (cache_data['words_train'],\n",
    "                cache_data['words_test'], cache_data['labels_train'], cache_data['labels_test'])\n",
    "    \n",
    "    return words_train, words_test, labels_train, labels_test"
   ]
  },
  {
   "cell_type": "code",
   "execution_count": 10,
   "metadata": {},
   "outputs": [
    {
     "name": "stdout",
     "output_type": "stream",
     "text": [
      "Read preprocessed data from cache file: preprocessed_data.pkl\n"
     ]
    }
   ],
   "source": [
    "# Preprocess data\n",
    "train_X, test_X, train_y, test_y = preprocess_data(train_X, test_X, train_y, test_y)"
   ]
  },
  {
   "cell_type": "markdown",
   "metadata": {},
   "source": [
    "### Extract Bag-of-Words features\n",
    "\n",
    "For the model we will be implementing, rather than using the reviews directly, we are going to transform each review into a Bag-of-Words feature representation. Keep in mind that 'in the wild' we will only have access to the training set so our transformer can only use the training set to construct a representation."
   ]
  },
  {
   "cell_type": "code",
   "execution_count": 11,
   "metadata": {},
   "outputs": [],
   "source": [
    "import numpy as np\n",
    "from sklearn.feature_extraction.text import CountVectorizer\n",
    "from sklearn.externals import joblib\n",
    "# joblib is an enhanced version of pickle that is more efficient for storing NumPy arrays\n",
    "\n",
    "def extract_BoW_features(words_train, words_test, vocabulary_size=5000,\n",
    "                         cache_dir=cache_dir, cache_file=\"bow_features.pkl\"):\n",
    "    \"\"\"Extract Bag-of-Words for a given set of documents, already preprocessed into words.\"\"\"\n",
    "    \n",
    "    # If cache_file is not None, try to read from it first\n",
    "    cache_data = None\n",
    "    if cache_file is not None:\n",
    "        try:\n",
    "            with open(os.path.join(cache_dir, cache_file), \"rb\") as f:\n",
    "                cache_data = joblib.load(f)\n",
    "            print(\"Read features from cache file:\", cache_file)\n",
    "        except:\n",
    "            pass  # unable to read from cache, but that's okay\n",
    "    \n",
    "    # If cache is missing, then do the heavy lifting\n",
    "    if cache_data is None:\n",
    "        # Fit a vectorizer to training documents and use it to transform them\n",
    "        # NOTE: Training documents have already been preprocessed and tokenized into words;\n",
    "        #       pass in dummy functions to skip those steps, e.g. preprocessor=lambda x: x\n",
    "        vectorizer = CountVectorizer(max_features=vocabulary_size)\n",
    "        features_train = vectorizer.fit_transform(words_train).toarray()\n",
    "\n",
    "        # Apply the same vectorizer to transform the test documents (ignore unknown words)\n",
    "        features_test = vectorizer.transform(words_test).toarray()\n",
    "        \n",
    "        # NOTE: Remember to convert the features using .toarray() for a compact representation\n",
    "        \n",
    "        # Write to cache file for future runs (store vocabulary as well)\n",
    "        if cache_file is not None:\n",
    "            vocabulary = vectorizer.vocabulary_\n",
    "            cache_data = dict(features_train=features_train, features_test=features_test,\n",
    "                             vocabulary=vocabulary)\n",
    "            with open(os.path.join(cache_dir, cache_file), \"wb\") as f:\n",
    "                joblib.dump(cache_data, f)\n",
    "            print(\"Wrote features to cache file:\", cache_file)\n",
    "    else:\n",
    "        # Unpack data loaded from cache file\n",
    "        features_train, features_test, vocabulary = (cache_data['features_train'],\n",
    "                cache_data['features_test'], cache_data['vocabulary'])\n",
    "    \n",
    "    # Return both the extracted features as well as the vocabulary\n",
    "    return features_train, features_test, vocabulary"
   ]
  },
  {
   "cell_type": "code",
   "execution_count": 12,
   "metadata": {},
   "outputs": [
    {
     "name": "stdout",
     "output_type": "stream",
     "text": [
      "Wrote features to cache file: bow_features.pkl\n"
     ]
    }
   ],
   "source": [
    "# Extract Bag of Words features for both training and test datasets\n",
    "train_X, test_X, vocabulary = extract_BoW_features(train_X, test_X)"
   ]
  },
  {
   "cell_type": "code",
   "execution_count": 13,
   "metadata": {},
   "outputs": [
    {
     "data": {
      "text/plain": [
       "5000"
      ]
     },
     "execution_count": 13,
     "metadata": {},
     "output_type": "execute_result"
    }
   ],
   "source": [
    "len(train_X[100])"
   ]
  },
  {
   "cell_type": "markdown",
   "metadata": {},
   "source": [
    "## Step 3: Upload data to S3\n",
    "\n",
    "Now that we have created the feature representation of our training (and testing) data, it is time to start setting up and using the XGBoost classifier provided by SageMaker.\n",
    "\n",
    "### Writing the datasets\n",
    "\n",
    "The XGBoost classifier that we will be using requires the dataset to be written to a file and stored using Amazon S3. To do this, we will start by splitting the training dataset into two parts, the data we will train the model with and a validation set. Then, we will write those datasets to a file locally and then upload the files to S3. In addition, we will write the test set to a file and upload that file to S3. This is so that we can use SageMakers Batch Transform functionality to test our model once we've fit it."
   ]
  },
  {
   "cell_type": "code",
   "execution_count": 14,
   "metadata": {},
   "outputs": [],
   "source": [
    "import pandas as pd\n",
    "\n",
    "# Earlier we shuffled the training dataset so to make things simple we can just assign\n",
    "# the first 10 000 reviews to the validation set and use the remaining reviews for training.\n",
    "val_X = pd.DataFrame(train_X[:10000])\n",
    "train_X = pd.DataFrame(train_X[10000:])\n",
    "\n",
    "val_y = pd.DataFrame(train_y[:10000])\n",
    "train_y = pd.DataFrame(train_y[10000:])"
   ]
  },
  {
   "cell_type": "markdown",
   "metadata": {},
   "source": [
    "The documentation for the XGBoost algorithm in SageMaker requires that the training and validation datasets should contain no headers or index and that the label should occur first for each sample.\n",
    "\n",
    "For more information about this and other algorithms, the SageMaker developer documentation can be found on __[Amazon's website.](https://docs.aws.amazon.com/sagemaker/latest/dg/)__"
   ]
  },
  {
   "cell_type": "code",
   "execution_count": 15,
   "metadata": {},
   "outputs": [],
   "source": [
    "# First we make sure that the local directory in which we'd like to store the training and validation csv files exists.\n",
    "data_dir = '../data/sentiment_web_app'\n",
    "if not os.path.exists(data_dir):\n",
    "    os.makedirs(data_dir)"
   ]
  },
  {
   "cell_type": "code",
   "execution_count": 16,
   "metadata": {},
   "outputs": [],
   "source": [
    "pd.DataFrame(test_X).to_csv(os.path.join(data_dir, 'test.csv'), header=False, index=False)\n",
    "\n",
    "pd.concat([val_y, val_X], axis=1).to_csv(os.path.join(data_dir, 'validation.csv'), header=False, index=False)\n",
    "pd.concat([train_y, train_X], axis=1).to_csv(os.path.join(data_dir, 'train.csv'), header=False, index=False)"
   ]
  },
  {
   "cell_type": "code",
   "execution_count": 17,
   "metadata": {},
   "outputs": [],
   "source": [
    "# To save a bit of memory we can set text_X, train_X, val_X, train_y and val_y to None.\n",
    "\n",
    "test_X = train_X = val_X = train_y = val_y = None"
   ]
  },
  {
   "cell_type": "markdown",
   "metadata": {},
   "source": [
    "### Uploading Training / Validation files to S3\n",
    "\n",
    "Amazon's S3 service allows us to store files that can be accessed by both the built-in training models such as the XGBoost model we will be using as well as custom models such as the one we will see a little later.\n",
    "\n",
    "For this and most other tasks we will be doing using SageMaker, there are two methods we could use. The first is to use the low level functionality of SageMaker which requires knowing each of the objects involved in the SageMaker environment. The second is to use the high level functionality in which certain choices have been made on the user's behalf. The low level approach benefits from allowing the user a great deal of flexibility while the high level approach makes development much quicker. For our purposes we will opt to use the high level approach although using the low-level approach is certainly an option.\n",
    "\n",
    "Recall the method `upload_data()` which is a member of the object representing our current SageMaker session. What this method does is upload the data to the default bucket (which is created if it does not exist) into the path described by the key_prefix variable. To see this for yourself, once you have uploaded the data files, go to the S3 console and look to see where the files have been uploaded.\n",
    "\n",
    "For additional resources, see the __[SageMaker API documentation](http://sagemaker.readthedocs.io/en/latest/)__ and in addition the __[SageMaker Developer Guide.](https://docs.aws.amazon.com/sagemaker/latest/dg/)__"
   ]
  },
  {
   "cell_type": "code",
   "execution_count": 18,
   "metadata": {},
   "outputs": [],
   "source": [
    "import sagemaker\n",
    "\n",
    "session = sagemaker.Session() # Store the current SageMaker session\n",
    "\n",
    "# S3 prefix (which folder will we use)\n",
    "prefix = 'sentiment-web-app'\n",
    "\n",
    "test_location = session.upload_data(os.path.join(data_dir, 'test.csv'), key_prefix=prefix)\n",
    "val_location = session.upload_data(os.path.join(data_dir, 'validation.csv'), key_prefix=prefix)\n",
    "train_location = session.upload_data(os.path.join(data_dir, 'train.csv'), key_prefix=prefix)"
   ]
  },
  {
   "cell_type": "markdown",
   "metadata": {},
   "source": [
    "## Step 4: Creating the XGBoost model\n",
    "\n",
    "Now that the data has been uploaded it is time to create the XGBoost model. To begin with, we need to do some setup. At this point it is worth discussing what a model is in SageMaker. It is easiest to think of a model of comprising three different objects in the SageMaker ecosystem, which interact with one another.\n",
    "\n",
    "- Model Artifacts\n",
    "- Training Code (Container)\n",
    "- Inference Code (Container)\n",
    "\n",
    "The Model Artifacts are what you might think of as the actual model itself. For example, if you were building a neural network, the model artifacts would be the weights of the various layers. In our case, for an XGBoost model, the artifacts are the actual trees that are created during training.\n",
    "\n",
    "The other two objects, the training code and the inference code are then used to manipulate the training artifacts. More precisely, the training code uses the training data that is provided and creates the model artifacts, while the inference code uses the model artifacts to make predictions on new data.\n",
    "\n",
    "The way that SageMaker runs the training and inference code is by making use of Docker containers. For now, think of a container as being a way of packaging code up so that dependencies aren't an issue."
   ]
  },
  {
   "cell_type": "code",
   "execution_count": 19,
   "metadata": {},
   "outputs": [],
   "source": [
    "from sagemaker import get_execution_role\n",
    "\n",
    "# Our current execution role is required when creating the model as the training\n",
    "# and inference code will need to access the model artifacts.\n",
    "role = get_execution_role()"
   ]
  },
  {
   "cell_type": "code",
   "execution_count": 20,
   "metadata": {},
   "outputs": [
    {
     "name": "stderr",
     "output_type": "stream",
     "text": [
      "WARNING:root:There is a more up to date SageMaker XGBoost image. To use the newer image, please set 'repo_version'='0.90-2'. For example:\n",
      "\tget_image_uri(region, 'xgboost', '0.90-2').\n"
     ]
    }
   ],
   "source": [
    "# We need to retrieve the location of the container which is provided by Amazon for using XGBoost.\n",
    "# As a matter of convenience, the training and inference code both use the same container.\n",
    "from sagemaker.amazon.amazon_estimator import get_image_uri\n",
    "\n",
    "container = get_image_uri(session.boto_region_name, 'xgboost')"
   ]
  },
  {
   "cell_type": "code",
   "execution_count": 21,
   "metadata": {},
   "outputs": [],
   "source": [
    "# First we create a SageMaker estimator object for our model.\n",
    "xgb = sagemaker.estimator.Estimator(container, # The location of the container we wish to use\n",
    "                                    role,                                    # What is our current IAM Role\n",
    "                                    train_instance_count=1,                  # How many compute instances\n",
    "                                    train_instance_type='ml.m4.xlarge',      # What kind of compute instances\n",
    "                                    output_path='s3://{}/{}/output'.format(session.default_bucket(), prefix),\n",
    "                                    sagemaker_session=session)\n",
    "\n",
    "# And then set the algorithm specific parameters.\n",
    "xgb.set_hyperparameters(max_depth=5,\n",
    "                        eta=0.2,\n",
    "                        gamma=4,\n",
    "                        min_child_weight=6,\n",
    "                        subsample=0.8,\n",
    "                        silent=0,\n",
    "                        objective='binary:logistic',\n",
    "                        early_stopping_rounds=10,\n",
    "                        num_round=500)"
   ]
  },
  {
   "cell_type": "markdown",
   "metadata": {},
   "source": [
    "### Fit the XGBoost model\n",
    "\n",
    "Now that our model has been set up we simply need to attach the training and validation datasets and then ask SageMaker to set up the computation."
   ]
  },
  {
   "cell_type": "code",
   "execution_count": 22,
   "metadata": {},
   "outputs": [],
   "source": [
    "s3_input_train = sagemaker.s3_input(s3_data=train_location, content_type='csv')\n",
    "s3_input_validation = sagemaker.s3_input(s3_data=val_location, content_type='csv')"
   ]
  },
  {
   "cell_type": "code",
   "execution_count": 23,
   "metadata": {
    "scrolled": false
   },
   "outputs": [
    {
     "name": "stdout",
     "output_type": "stream",
     "text": [
      "2020-05-04 21:22:40 Starting - Starting the training job...\n",
      "2020-05-04 21:22:42 Starting - Launching requested ML instances...\n",
      "2020-05-04 21:23:37 Starting - Preparing the instances for training......\n",
      "2020-05-04 21:24:34 Downloading - Downloading input data...\n",
      "2020-05-04 21:25:04 Training - Downloading the training image..\n",
      "2020-05-04 21:25:24 Training - Training image download completed. Training in progress.\u001b[34mArguments: train\u001b[0m\n",
      "\u001b[34m[2020-05-04:21:25:25:INFO] Running standalone xgboost training.\u001b[0m\n",
      "\u001b[34m[2020-05-04:21:25:25:INFO] File size need to be processed in the node: 238.5mb. Available memory size in the node: 8480.7mb\u001b[0m\n",
      "\u001b[34m[2020-05-04:21:25:25:INFO] Determined delimiter of CSV input is ','\u001b[0m\n",
      "\u001b[34m[21:25:25] S3DistributionType set as FullyReplicated\u001b[0m\n",
      "\u001b[34m[21:25:27] 15000x5000 matrix with 75000000 entries loaded from /opt/ml/input/data/train?format=csv&label_column=0&delimiter=,\u001b[0m\n",
      "\u001b[34m[2020-05-04:21:25:27:INFO] Determined delimiter of CSV input is ','\u001b[0m\n",
      "\u001b[34m[21:25:27] S3DistributionType set as FullyReplicated\u001b[0m\n",
      "\u001b[34m[21:25:28] 10000x5000 matrix with 50000000 entries loaded from /opt/ml/input/data/validation?format=csv&label_column=0&delimiter=,\u001b[0m\n",
      "\u001b[34m[21:25:32] src/tree/updater_prune.cc:74: tree pruning end, 1 roots, 44 extra nodes, 8 pruned nodes, max_depth=5\u001b[0m\n",
      "\u001b[34m[0]#011train-error:0.3054#011validation-error:0.31\u001b[0m\n",
      "\u001b[34mMultiple eval metrics have been passed: 'validation-error' will be used for early stopping.\n",
      "\u001b[0m\n",
      "\u001b[34mWill train until validation-error hasn't improved in 10 rounds.\u001b[0m\n",
      "\u001b[34m[21:25:33] src/tree/updater_prune.cc:74: tree pruning end, 1 roots, 42 extra nodes, 6 pruned nodes, max_depth=5\u001b[0m\n",
      "\u001b[34m[1]#011train-error:0.2866#011validation-error:0.2976\u001b[0m\n",
      "\u001b[34m[21:25:34] src/tree/updater_prune.cc:74: tree pruning end, 1 roots, 46 extra nodes, 2 pruned nodes, max_depth=5\u001b[0m\n",
      "\u001b[34m[2]#011train-error:0.2876#011validation-error:0.2991\u001b[0m\n",
      "\u001b[34m[21:25:36] src/tree/updater_prune.cc:74: tree pruning end, 1 roots, 40 extra nodes, 8 pruned nodes, max_depth=5\u001b[0m\n",
      "\u001b[34m[3]#011train-error:0.266133#011validation-error:0.279\u001b[0m\n",
      "\u001b[34m[21:25:37] src/tree/updater_prune.cc:74: tree pruning end, 1 roots, 30 extra nodes, 12 pruned nodes, max_depth=5\u001b[0m\n",
      "\u001b[34m[4]#011train-error:0.264933#011validation-error:0.2779\u001b[0m\n",
      "\u001b[34m[21:25:38] src/tree/updater_prune.cc:74: tree pruning end, 1 roots, 30 extra nodes, 12 pruned nodes, max_depth=5\u001b[0m\n",
      "\u001b[34m[5]#011train-error:0.257867#011validation-error:0.2731\u001b[0m\n",
      "\u001b[34m[21:25:40] src/tree/updater_prune.cc:74: tree pruning end, 1 roots, 28 extra nodes, 12 pruned nodes, max_depth=5\u001b[0m\n",
      "\u001b[34m[6]#011train-error:0.249267#011validation-error:0.2653\u001b[0m\n",
      "\u001b[34m[21:25:41] src/tree/updater_prune.cc:74: tree pruning end, 1 roots, 40 extra nodes, 6 pruned nodes, max_depth=5\u001b[0m\n",
      "\u001b[34m[7]#011train-error:0.240933#011validation-error:0.2554\u001b[0m\n",
      "\u001b[34m[21:25:42] src/tree/updater_prune.cc:74: tree pruning end, 1 roots, 32 extra nodes, 4 pruned nodes, max_depth=5\u001b[0m\n",
      "\u001b[34m[8]#011train-error:0.235933#011validation-error:0.2479\u001b[0m\n",
      "\u001b[34m[21:25:44] src/tree/updater_prune.cc:74: tree pruning end, 1 roots, 34 extra nodes, 6 pruned nodes, max_depth=5\u001b[0m\n",
      "\u001b[34m[9]#011train-error:0.225#011validation-error:0.24\u001b[0m\n",
      "\u001b[34m[21:25:45] src/tree/updater_prune.cc:74: tree pruning end, 1 roots, 26 extra nodes, 14 pruned nodes, max_depth=5\u001b[0m\n",
      "\u001b[34m[10]#011train-error:0.219667#011validation-error:0.2348\u001b[0m\n",
      "\u001b[34m[21:25:46] src/tree/updater_prune.cc:74: tree pruning end, 1 roots, 22 extra nodes, 12 pruned nodes, max_depth=5\u001b[0m\n",
      "\u001b[34m[11]#011train-error:0.214733#011validation-error:0.2312\u001b[0m\n",
      "\u001b[34m[21:25:47] src/tree/updater_prune.cc:74: tree pruning end, 1 roots, 28 extra nodes, 6 pruned nodes, max_depth=5\u001b[0m\n",
      "\u001b[34m[12]#011train-error:0.210533#011validation-error:0.2287\u001b[0m\n",
      "\u001b[34m[21:25:49] src/tree/updater_prune.cc:74: tree pruning end, 1 roots, 36 extra nodes, 6 pruned nodes, max_depth=5\u001b[0m\n",
      "\u001b[34m[13]#011train-error:0.2054#011validation-error:0.2256\u001b[0m\n",
      "\u001b[34m[21:25:50] src/tree/updater_prune.cc:74: tree pruning end, 1 roots, 28 extra nodes, 8 pruned nodes, max_depth=5\u001b[0m\n",
      "\u001b[34m[14]#011train-error:0.204#011validation-error:0.2235\u001b[0m\n",
      "\u001b[34m[21:25:51] src/tree/updater_prune.cc:74: tree pruning end, 1 roots, 28 extra nodes, 8 pruned nodes, max_depth=5\u001b[0m\n",
      "\u001b[34m[15]#011train-error:0.2008#011validation-error:0.2199\u001b[0m\n",
      "\u001b[34m[21:25:52] src/tree/updater_prune.cc:74: tree pruning end, 1 roots, 30 extra nodes, 8 pruned nodes, max_depth=5\u001b[0m\n",
      "\u001b[34m[16]#011train-error:0.1998#011validation-error:0.2181\u001b[0m\n",
      "\u001b[34m[21:25:54] src/tree/updater_prune.cc:74: tree pruning end, 1 roots, 28 extra nodes, 12 pruned nodes, max_depth=5\u001b[0m\n",
      "\u001b[34m[17]#011train-error:0.196333#011validation-error:0.2164\u001b[0m\n",
      "\u001b[34m[21:25:55] src/tree/updater_prune.cc:74: tree pruning end, 1 roots, 28 extra nodes, 4 pruned nodes, max_depth=5\u001b[0m\n",
      "\u001b[34m[18]#011train-error:0.194467#011validation-error:0.2158\u001b[0m\n",
      "\u001b[34m[21:25:56] src/tree/updater_prune.cc:74: tree pruning end, 1 roots, 34 extra nodes, 6 pruned nodes, max_depth=5\u001b[0m\n",
      "\u001b[34m[19]#011train-error:0.1908#011validation-error:0.2145\u001b[0m\n",
      "\u001b[34m[21:25:57] src/tree/updater_prune.cc:74: tree pruning end, 1 roots, 38 extra nodes, 8 pruned nodes, max_depth=5\u001b[0m\n",
      "\u001b[34m[20]#011train-error:0.1874#011validation-error:0.2114\u001b[0m\n",
      "\u001b[34m[21:25:59] src/tree/updater_prune.cc:74: tree pruning end, 1 roots, 36 extra nodes, 2 pruned nodes, max_depth=5\u001b[0m\n",
      "\u001b[34m[21]#011train-error:0.185067#011validation-error:0.2078\u001b[0m\n",
      "\u001b[34m[21:26:00] src/tree/updater_prune.cc:74: tree pruning end, 1 roots, 24 extra nodes, 8 pruned nodes, max_depth=5\u001b[0m\n",
      "\u001b[34m[22]#011train-error:0.181667#011validation-error:0.2068\u001b[0m\n",
      "\u001b[34m[21:26:01] src/tree/updater_prune.cc:74: tree pruning end, 1 roots, 40 extra nodes, 4 pruned nodes, max_depth=5\u001b[0m\n",
      "\u001b[34m[23]#011train-error:0.180267#011validation-error:0.2058\u001b[0m\n",
      "\u001b[34m[21:26:03] src/tree/updater_prune.cc:74: tree pruning end, 1 roots, 30 extra nodes, 6 pruned nodes, max_depth=5\u001b[0m\n",
      "\u001b[34m[24]#011train-error:0.176733#011validation-error:0.2035\u001b[0m\n",
      "\u001b[34m[21:26:04] src/tree/updater_prune.cc:74: tree pruning end, 1 roots, 28 extra nodes, 8 pruned nodes, max_depth=5\u001b[0m\n",
      "\u001b[34m[25]#011train-error:0.1756#011validation-error:0.2014\u001b[0m\n",
      "\u001b[34m[21:26:05] src/tree/updater_prune.cc:74: tree pruning end, 1 roots, 24 extra nodes, 12 pruned nodes, max_depth=5\u001b[0m\n",
      "\u001b[34m[26]#011train-error:0.1742#011validation-error:0.1991\u001b[0m\n",
      "\u001b[34m[21:26:06] src/tree/updater_prune.cc:74: tree pruning end, 1 roots, 24 extra nodes, 2 pruned nodes, max_depth=5\u001b[0m\n",
      "\u001b[34m[27]#011train-error:0.172733#011validation-error:0.198\u001b[0m\n",
      "\u001b[34m[21:26:08] src/tree/updater_prune.cc:74: tree pruning end, 1 roots, 30 extra nodes, 10 pruned nodes, max_depth=5\u001b[0m\n",
      "\u001b[34m[28]#011train-error:0.169733#011validation-error:0.1965\u001b[0m\n",
      "\u001b[34m[21:26:09] src/tree/updater_prune.cc:74: tree pruning end, 1 roots, 40 extra nodes, 10 pruned nodes, max_depth=5\u001b[0m\n",
      "\u001b[34m[29]#011train-error:0.168467#011validation-error:0.1963\u001b[0m\n",
      "\u001b[34m[21:26:10] src/tree/updater_prune.cc:74: tree pruning end, 1 roots, 26 extra nodes, 10 pruned nodes, max_depth=5\u001b[0m\n",
      "\u001b[34m[30]#011train-error:0.1674#011validation-error:0.1962\u001b[0m\n",
      "\u001b[34m[21:26:11] src/tree/updater_prune.cc:74: tree pruning end, 1 roots, 22 extra nodes, 4 pruned nodes, max_depth=5\u001b[0m\n",
      "\u001b[34m[31]#011train-error:0.1646#011validation-error:0.1933\u001b[0m\n",
      "\u001b[34m[21:26:13] src/tree/updater_prune.cc:74: tree pruning end, 1 roots, 30 extra nodes, 12 pruned nodes, max_depth=5\u001b[0m\n",
      "\u001b[34m[32]#011train-error:0.161267#011validation-error:0.1916\u001b[0m\n",
      "\u001b[34m[21:26:14] src/tree/updater_prune.cc:74: tree pruning end, 1 roots, 16 extra nodes, 8 pruned nodes, max_depth=5\u001b[0m\n",
      "\u001b[34m[33]#011train-error:0.161133#011validation-error:0.1912\u001b[0m\n",
      "\u001b[34m[21:26:15] src/tree/updater_prune.cc:74: tree pruning end, 1 roots, 28 extra nodes, 2 pruned nodes, max_depth=5\u001b[0m\n",
      "\u001b[34m[34]#011train-error:0.159733#011validation-error:0.1892\u001b[0m\n",
      "\u001b[34m[21:26:17] src/tree/updater_prune.cc:74: tree pruning end, 1 roots, 24 extra nodes, 6 pruned nodes, max_depth=5\u001b[0m\n",
      "\u001b[34m[35]#011train-error:0.159467#011validation-error:0.188\u001b[0m\n",
      "\u001b[34m[21:26:18] src/tree/updater_prune.cc:74: tree pruning end, 1 roots, 32 extra nodes, 2 pruned nodes, max_depth=5\u001b[0m\n",
      "\u001b[34m[36]#011train-error:0.156933#011validation-error:0.1864\u001b[0m\n",
      "\u001b[34m[21:26:19] src/tree/updater_prune.cc:74: tree pruning end, 1 roots, 32 extra nodes, 8 pruned nodes, max_depth=5\u001b[0m\n",
      "\u001b[34m[37]#011train-error:0.155267#011validation-error:0.1852\u001b[0m\n",
      "\u001b[34m[21:26:20] src/tree/updater_prune.cc:74: tree pruning end, 1 roots, 48 extra nodes, 2 pruned nodes, max_depth=5\u001b[0m\n",
      "\u001b[34m[38]#011train-error:0.151867#011validation-error:0.1833\u001b[0m\n",
      "\u001b[34m[21:26:22] src/tree/updater_prune.cc:74: tree pruning end, 1 roots, 28 extra nodes, 2 pruned nodes, max_depth=5\u001b[0m\n",
      "\u001b[34m[39]#011train-error:0.150133#011validation-error:0.1829\u001b[0m\n",
      "\u001b[34m[21:26:23] src/tree/updater_prune.cc:74: tree pruning end, 1 roots, 24 extra nodes, 16 pruned nodes, max_depth=5\u001b[0m\n",
      "\u001b[34m[40]#011train-error:0.148133#011validation-error:0.1815\u001b[0m\n",
      "\u001b[34m[21:26:24] src/tree/updater_prune.cc:74: tree pruning end, 1 roots, 28 extra nodes, 4 pruned nodes, max_depth=5\u001b[0m\n",
      "\u001b[34m[41]#011train-error:0.147533#011validation-error:0.1798\u001b[0m\n",
      "\u001b[34m[21:26:25] src/tree/updater_prune.cc:74: tree pruning end, 1 roots, 26 extra nodes, 14 pruned nodes, max_depth=5\u001b[0m\n",
      "\u001b[34m[42]#011train-error:0.1474#011validation-error:0.1793\u001b[0m\n"
     ]
    },
    {
     "name": "stdout",
     "output_type": "stream",
     "text": [
      "\u001b[34m[21:26:27] src/tree/updater_prune.cc:74: tree pruning end, 1 roots, 18 extra nodes, 4 pruned nodes, max_depth=5\u001b[0m\n",
      "\u001b[34m[43]#011train-error:0.144333#011validation-error:0.1774\u001b[0m\n",
      "\u001b[34m[21:26:28] src/tree/updater_prune.cc:74: tree pruning end, 1 roots, 14 extra nodes, 10 pruned nodes, max_depth=5\u001b[0m\n",
      "\u001b[34m[44]#011train-error:0.143933#011validation-error:0.177\u001b[0m\n",
      "\u001b[34m[21:26:29] src/tree/updater_prune.cc:74: tree pruning end, 1 roots, 14 extra nodes, 14 pruned nodes, max_depth=5\u001b[0m\n",
      "\u001b[34m[45]#011train-error:0.143467#011validation-error:0.176\u001b[0m\n",
      "\u001b[34m[21:26:30] src/tree/updater_prune.cc:74: tree pruning end, 1 roots, 24 extra nodes, 8 pruned nodes, max_depth=5\u001b[0m\n",
      "\u001b[34m[46]#011train-error:0.142733#011validation-error:0.1752\u001b[0m\n",
      "\u001b[34m[21:26:32] src/tree/updater_prune.cc:74: tree pruning end, 1 roots, 38 extra nodes, 6 pruned nodes, max_depth=5\u001b[0m\n",
      "\u001b[34m[47]#011train-error:0.1408#011validation-error:0.1761\u001b[0m\n",
      "\u001b[34m[21:26:33] src/tree/updater_prune.cc:74: tree pruning end, 1 roots, 18 extra nodes, 14 pruned nodes, max_depth=5\u001b[0m\n",
      "\u001b[34m[48]#011train-error:0.139733#011validation-error:0.1755\u001b[0m\n",
      "\u001b[34m[21:26:34] src/tree/updater_prune.cc:74: tree pruning end, 1 roots, 16 extra nodes, 4 pruned nodes, max_depth=5\u001b[0m\n",
      "\u001b[34m[49]#011train-error:0.1394#011validation-error:0.1766\u001b[0m\n",
      "\u001b[34m[21:26:36] src/tree/updater_prune.cc:74: tree pruning end, 1 roots, 20 extra nodes, 12 pruned nodes, max_depth=5\u001b[0m\n",
      "\u001b[34m[50]#011train-error:0.138267#011validation-error:0.1755\u001b[0m\n",
      "\u001b[34m[21:26:37] src/tree/updater_prune.cc:74: tree pruning end, 1 roots, 28 extra nodes, 4 pruned nodes, max_depth=5\u001b[0m\n",
      "\u001b[34m[51]#011train-error:0.136#011validation-error:0.1741\u001b[0m\n",
      "\u001b[34m[21:26:38] src/tree/updater_prune.cc:74: tree pruning end, 1 roots, 30 extra nodes, 10 pruned nodes, max_depth=5\u001b[0m\n",
      "\u001b[34m[52]#011train-error:0.134#011validation-error:0.1721\u001b[0m\n",
      "\u001b[34m[21:26:39] src/tree/updater_prune.cc:74: tree pruning end, 1 roots, 14 extra nodes, 12 pruned nodes, max_depth=5\u001b[0m\n",
      "\u001b[34m[53]#011train-error:0.133#011validation-error:0.1722\u001b[0m\n",
      "\u001b[34m[21:26:41] src/tree/updater_prune.cc:74: tree pruning end, 1 roots, 30 extra nodes, 8 pruned nodes, max_depth=5\u001b[0m\n",
      "\u001b[34m[54]#011train-error:0.132533#011validation-error:0.1716\u001b[0m\n",
      "\u001b[34m[21:26:42] src/tree/updater_prune.cc:74: tree pruning end, 1 roots, 14 extra nodes, 10 pruned nodes, max_depth=5\u001b[0m\n",
      "\u001b[34m[55]#011train-error:0.1322#011validation-error:0.1713\u001b[0m\n",
      "\u001b[34m[21:26:43] src/tree/updater_prune.cc:74: tree pruning end, 1 roots, 34 extra nodes, 8 pruned nodes, max_depth=5\u001b[0m\n",
      "\u001b[34m[56]#011train-error:0.1292#011validation-error:0.1701\u001b[0m\n",
      "\u001b[34m[21:26:44] src/tree/updater_prune.cc:74: tree pruning end, 1 roots, 22 extra nodes, 8 pruned nodes, max_depth=5\u001b[0m\n",
      "\u001b[34m[57]#011train-error:0.129733#011validation-error:0.1706\u001b[0m\n",
      "\u001b[34m[21:26:46] src/tree/updater_prune.cc:74: tree pruning end, 1 roots, 26 extra nodes, 12 pruned nodes, max_depth=5\u001b[0m\n",
      "\u001b[34m[58]#011train-error:0.127933#011validation-error:0.1695\u001b[0m\n",
      "\u001b[34m[21:26:47] src/tree/updater_prune.cc:74: tree pruning end, 1 roots, 20 extra nodes, 10 pruned nodes, max_depth=5\u001b[0m\n",
      "\u001b[34m[59]#011train-error:0.128#011validation-error:0.1696\u001b[0m\n",
      "\u001b[34m[21:26:48] src/tree/updater_prune.cc:74: tree pruning end, 1 roots, 18 extra nodes, 8 pruned nodes, max_depth=5\u001b[0m\n",
      "\u001b[34m[60]#011train-error:0.128067#011validation-error:0.1688\u001b[0m\n",
      "\u001b[34m[21:26:49] src/tree/updater_prune.cc:74: tree pruning end, 1 roots, 16 extra nodes, 12 pruned nodes, max_depth=5\u001b[0m\n",
      "\u001b[34m[61]#011train-error:0.127333#011validation-error:0.1685\u001b[0m\n",
      "\u001b[34m[21:26:51] src/tree/updater_prune.cc:74: tree pruning end, 1 roots, 16 extra nodes, 12 pruned nodes, max_depth=5\u001b[0m\n",
      "\u001b[34m[62]#011train-error:0.1268#011validation-error:0.1681\u001b[0m\n",
      "\u001b[34m[21:26:52] src/tree/updater_prune.cc:74: tree pruning end, 1 roots, 28 extra nodes, 6 pruned nodes, max_depth=5\u001b[0m\n",
      "\u001b[34m[63]#011train-error:0.125667#011validation-error:0.1678\u001b[0m\n",
      "\u001b[34m[21:26:53] src/tree/updater_prune.cc:74: tree pruning end, 1 roots, 18 extra nodes, 0 pruned nodes, max_depth=5\u001b[0m\n",
      "\u001b[34m[64]#011train-error:0.125333#011validation-error:0.1673\u001b[0m\n",
      "\u001b[34m[21:26:54] src/tree/updater_prune.cc:74: tree pruning end, 1 roots, 12 extra nodes, 8 pruned nodes, max_depth=5\u001b[0m\n",
      "\u001b[34m[65]#011train-error:0.1252#011validation-error:0.1677\u001b[0m\n",
      "\u001b[34m[21:26:56] src/tree/updater_prune.cc:74: tree pruning end, 1 roots, 32 extra nodes, 4 pruned nodes, max_depth=5\u001b[0m\n",
      "\u001b[34m[66]#011train-error:0.1244#011validation-error:0.1675\u001b[0m\n",
      "\u001b[34m[21:26:57] src/tree/updater_prune.cc:74: tree pruning end, 1 roots, 12 extra nodes, 4 pruned nodes, max_depth=5\u001b[0m\n",
      "\u001b[34m[67]#011train-error:0.1242#011validation-error:0.1672\u001b[0m\n",
      "\u001b[34m[21:26:58] src/tree/updater_prune.cc:74: tree pruning end, 1 roots, 24 extra nodes, 8 pruned nodes, max_depth=5\u001b[0m\n",
      "\u001b[34m[68]#011train-error:0.122533#011validation-error:0.1663\u001b[0m\n",
      "\u001b[34m[21:27:00] src/tree/updater_prune.cc:74: tree pruning end, 1 roots, 14 extra nodes, 4 pruned nodes, max_depth=5\u001b[0m\n",
      "\u001b[34m[69]#011train-error:0.1224#011validation-error:0.1666\u001b[0m\n",
      "\u001b[34m[21:27:01] src/tree/updater_prune.cc:74: tree pruning end, 1 roots, 16 extra nodes, 8 pruned nodes, max_depth=5\u001b[0m\n",
      "\u001b[34m[70]#011train-error:0.121533#011validation-error:0.167\u001b[0m\n",
      "\u001b[34m[21:27:02] src/tree/updater_prune.cc:74: tree pruning end, 1 roots, 26 extra nodes, 4 pruned nodes, max_depth=5\u001b[0m\n",
      "\u001b[34m[71]#011train-error:0.1202#011validation-error:0.1671\u001b[0m\n",
      "\u001b[34m[21:27:03] src/tree/updater_prune.cc:74: tree pruning end, 1 roots, 32 extra nodes, 10 pruned nodes, max_depth=5\u001b[0m\n",
      "\u001b[34m[72]#011train-error:0.119467#011validation-error:0.1654\u001b[0m\n",
      "\u001b[34m[21:27:05] src/tree/updater_prune.cc:74: tree pruning end, 1 roots, 26 extra nodes, 12 pruned nodes, max_depth=5\u001b[0m\n",
      "\u001b[34m[73]#011train-error:0.118267#011validation-error:0.1649\u001b[0m\n",
      "\u001b[34m[21:27:06] src/tree/updater_prune.cc:74: tree pruning end, 1 roots, 10 extra nodes, 4 pruned nodes, max_depth=5\u001b[0m\n",
      "\u001b[34m[74]#011train-error:0.117867#011validation-error:0.164\u001b[0m\n",
      "\u001b[34m[21:27:07] src/tree/updater_prune.cc:74: tree pruning end, 1 roots, 24 extra nodes, 12 pruned nodes, max_depth=5\u001b[0m\n",
      "\u001b[34m[75]#011train-error:0.116667#011validation-error:0.1664\u001b[0m\n",
      "\u001b[34m[21:27:08] src/tree/updater_prune.cc:74: tree pruning end, 1 roots, 26 extra nodes, 6 pruned nodes, max_depth=5\u001b[0m\n",
      "\u001b[34m[76]#011train-error:0.1162#011validation-error:0.1645\u001b[0m\n",
      "\u001b[34m[21:27:10] src/tree/updater_prune.cc:74: tree pruning end, 1 roots, 20 extra nodes, 6 pruned nodes, max_depth=5\u001b[0m\n",
      "\u001b[34m[77]#011train-error:0.114867#011validation-error:0.1627\u001b[0m\n",
      "\u001b[34m[21:27:11] src/tree/updater_prune.cc:74: tree pruning end, 1 roots, 18 extra nodes, 4 pruned nodes, max_depth=5\u001b[0m\n",
      "\u001b[34m[78]#011train-error:0.114333#011validation-error:0.162\u001b[0m\n",
      "\u001b[34m[21:27:12] src/tree/updater_prune.cc:74: tree pruning end, 1 roots, 14 extra nodes, 6 pruned nodes, max_depth=5\u001b[0m\n",
      "\u001b[34m[79]#011train-error:0.1136#011validation-error:0.161\u001b[0m\n",
      "\u001b[34m[21:27:13] src/tree/updater_prune.cc:74: tree pruning end, 1 roots, 18 extra nodes, 10 pruned nodes, max_depth=5\u001b[0m\n",
      "\u001b[34m[80]#011train-error:0.112733#011validation-error:0.1605\u001b[0m\n",
      "\u001b[34m[21:27:15] src/tree/updater_prune.cc:74: tree pruning end, 1 roots, 24 extra nodes, 12 pruned nodes, max_depth=5\u001b[0m\n",
      "\u001b[34m[81]#011train-error:0.113067#011validation-error:0.1604\u001b[0m\n",
      "\u001b[34m[21:27:16] src/tree/updater_prune.cc:74: tree pruning end, 1 roots, 18 extra nodes, 6 pruned nodes, max_depth=5\u001b[0m\n",
      "\u001b[34m[82]#011train-error:0.112533#011validation-error:0.1599\u001b[0m\n",
      "\u001b[34m[21:27:17] src/tree/updater_prune.cc:74: tree pruning end, 1 roots, 16 extra nodes, 2 pruned nodes, max_depth=5\u001b[0m\n",
      "\u001b[34m[83]#011train-error:0.1126#011validation-error:0.1595\u001b[0m\n",
      "\u001b[34m[21:27:18] src/tree/updater_prune.cc:74: tree pruning end, 1 roots, 12 extra nodes, 12 pruned nodes, max_depth=5\u001b[0m\n",
      "\u001b[34m[84]#011train-error:0.112#011validation-error:0.159\u001b[0m\n",
      "\u001b[34m[21:27:20] src/tree/updater_prune.cc:74: tree pruning end, 1 roots, 26 extra nodes, 4 pruned nodes, max_depth=5\u001b[0m\n",
      "\u001b[34m[85]#011train-error:0.110867#011validation-error:0.1584\u001b[0m\n",
      "\u001b[34m[21:27:21] src/tree/updater_prune.cc:74: tree pruning end, 1 roots, 16 extra nodes, 2 pruned nodes, max_depth=5\u001b[0m\n",
      "\u001b[34m[86]#011train-error:0.110333#011validation-error:0.1584\u001b[0m\n",
      "\u001b[34m[21:27:22] src/tree/updater_prune.cc:74: tree pruning end, 1 roots, 28 extra nodes, 6 pruned nodes, max_depth=5\u001b[0m\n",
      "\u001b[34m[87]#011train-error:0.1102#011validation-error:0.1583\u001b[0m\n",
      "\u001b[34m[21:27:24] src/tree/updater_prune.cc:74: tree pruning end, 1 roots, 18 extra nodes, 2 pruned nodes, max_depth=5\u001b[0m\n",
      "\u001b[34m[88]#011train-error:0.109733#011validation-error:0.1576\u001b[0m\n",
      "\u001b[34m[21:27:25] src/tree/updater_prune.cc:74: tree pruning end, 1 roots, 12 extra nodes, 6 pruned nodes, max_depth=5\u001b[0m\n",
      "\u001b[34m[89]#011train-error:0.1094#011validation-error:0.1575\u001b[0m\n",
      "\u001b[34m[21:27:26] src/tree/updater_prune.cc:74: tree pruning end, 1 roots, 32 extra nodes, 6 pruned nodes, max_depth=5\u001b[0m\n",
      "\u001b[34m[90]#011train-error:0.107467#011validation-error:0.1558\u001b[0m\n"
     ]
    },
    {
     "name": "stdout",
     "output_type": "stream",
     "text": [
      "\u001b[34m[21:27:27] src/tree/updater_prune.cc:74: tree pruning end, 1 roots, 18 extra nodes, 0 pruned nodes, max_depth=5\u001b[0m\n",
      "\u001b[34m[91]#011train-error:0.1072#011validation-error:0.1562\u001b[0m\n",
      "\u001b[34m[21:27:29] src/tree/updater_prune.cc:74: tree pruning end, 1 roots, 16 extra nodes, 8 pruned nodes, max_depth=5\u001b[0m\n",
      "\u001b[34m[92]#011train-error:0.106467#011validation-error:0.1559\u001b[0m\n",
      "\u001b[34m[21:27:30] src/tree/updater_prune.cc:74: tree pruning end, 1 roots, 18 extra nodes, 4 pruned nodes, max_depth=5\u001b[0m\n",
      "\u001b[34m[93]#011train-error:0.106733#011validation-error:0.1556\u001b[0m\n",
      "\u001b[34m[21:27:31] src/tree/updater_prune.cc:74: tree pruning end, 1 roots, 16 extra nodes, 4 pruned nodes, max_depth=5\u001b[0m\n",
      "\u001b[34m[94]#011train-error:0.1058#011validation-error:0.1547\u001b[0m\n",
      "\u001b[34m[21:27:32] src/tree/updater_prune.cc:74: tree pruning end, 1 roots, 14 extra nodes, 14 pruned nodes, max_depth=5\u001b[0m\n",
      "\u001b[34m[95]#011train-error:0.1052#011validation-error:0.1547\u001b[0m\n",
      "\u001b[34m[21:27:34] src/tree/updater_prune.cc:74: tree pruning end, 1 roots, 30 extra nodes, 14 pruned nodes, max_depth=5\u001b[0m\n",
      "\u001b[34m[96]#011train-error:0.105467#011validation-error:0.1542\u001b[0m\n",
      "\u001b[34m[21:27:35] src/tree/updater_prune.cc:74: tree pruning end, 1 roots, 10 extra nodes, 4 pruned nodes, max_depth=5\u001b[0m\n",
      "\u001b[34m[97]#011train-error:0.1052#011validation-error:0.1538\u001b[0m\n",
      "\u001b[34m[21:27:36] src/tree/updater_prune.cc:74: tree pruning end, 1 roots, 12 extra nodes, 4 pruned nodes, max_depth=5\u001b[0m\n",
      "\u001b[34m[98]#011train-error:0.104733#011validation-error:0.154\u001b[0m\n",
      "\u001b[34m[21:27:37] src/tree/updater_prune.cc:74: tree pruning end, 1 roots, 14 extra nodes, 14 pruned nodes, max_depth=5\u001b[0m\n",
      "\u001b[34m[99]#011train-error:0.104467#011validation-error:0.1539\u001b[0m\n",
      "\u001b[34m[21:27:39] src/tree/updater_prune.cc:74: tree pruning end, 1 roots, 16 extra nodes, 10 pruned nodes, max_depth=5\u001b[0m\n",
      "\u001b[34m[100]#011train-error:0.103067#011validation-error:0.1533\u001b[0m\n",
      "\u001b[34m[21:27:40] src/tree/updater_prune.cc:74: tree pruning end, 1 roots, 34 extra nodes, 16 pruned nodes, max_depth=5\u001b[0m\n",
      "\u001b[34m[101]#011train-error:0.102133#011validation-error:0.1534\u001b[0m\n",
      "\u001b[34m[21:27:41] src/tree/updater_prune.cc:74: tree pruning end, 1 roots, 24 extra nodes, 12 pruned nodes, max_depth=5\u001b[0m\n",
      "\u001b[34m[102]#011train-error:0.1018#011validation-error:0.1536\u001b[0m\n",
      "\u001b[34m[21:27:43] src/tree/updater_prune.cc:74: tree pruning end, 1 roots, 14 extra nodes, 4 pruned nodes, max_depth=5\u001b[0m\n",
      "\u001b[34m[103]#011train-error:0.1012#011validation-error:0.1539\u001b[0m\n",
      "\u001b[34m[21:27:44] src/tree/updater_prune.cc:74: tree pruning end, 1 roots, 14 extra nodes, 10 pruned nodes, max_depth=5\u001b[0m\n",
      "\u001b[34m[104]#011train-error:0.100867#011validation-error:0.1541\u001b[0m\n",
      "\u001b[34m[21:27:45] src/tree/updater_prune.cc:74: tree pruning end, 1 roots, 20 extra nodes, 4 pruned nodes, max_depth=5\u001b[0m\n",
      "\u001b[34m[105]#011train-error:0.1004#011validation-error:0.1552\u001b[0m\n",
      "\u001b[34m[21:27:46] src/tree/updater_prune.cc:74: tree pruning end, 1 roots, 20 extra nodes, 6 pruned nodes, max_depth=5\u001b[0m\n",
      "\u001b[34m[106]#011train-error:0.100267#011validation-error:0.1552\u001b[0m\n",
      "\u001b[34m[21:27:48] src/tree/updater_prune.cc:74: tree pruning end, 1 roots, 24 extra nodes, 8 pruned nodes, max_depth=5\u001b[0m\n",
      "\u001b[34m[107]#011train-error:0.0992#011validation-error:0.1544\u001b[0m\n",
      "\u001b[34m[21:27:49] src/tree/updater_prune.cc:74: tree pruning end, 1 roots, 22 extra nodes, 8 pruned nodes, max_depth=5\u001b[0m\n",
      "\u001b[34m[108]#011train-error:0.0984#011validation-error:0.154\u001b[0m\n",
      "\u001b[34m[21:27:50] src/tree/updater_prune.cc:74: tree pruning end, 1 roots, 18 extra nodes, 8 pruned nodes, max_depth=5\u001b[0m\n",
      "\u001b[34m[109]#011train-error:0.097933#011validation-error:0.1534\u001b[0m\n",
      "\u001b[34m[21:27:51] src/tree/updater_prune.cc:74: tree pruning end, 1 roots, 14 extra nodes, 12 pruned nodes, max_depth=5\u001b[0m\n",
      "\u001b[34m[110]#011train-error:0.098#011validation-error:0.1532\u001b[0m\n",
      "\u001b[34m[21:27:53] src/tree/updater_prune.cc:74: tree pruning end, 1 roots, 16 extra nodes, 10 pruned nodes, max_depth=5\u001b[0m\n",
      "\u001b[34m[111]#011train-error:0.096867#011validation-error:0.1518\u001b[0m\n",
      "\u001b[34m[21:27:54] src/tree/updater_prune.cc:74: tree pruning end, 1 roots, 10 extra nodes, 14 pruned nodes, max_depth=5\u001b[0m\n",
      "\u001b[34m[112]#011train-error:0.096133#011validation-error:0.1519\u001b[0m\n",
      "\u001b[34m[21:27:55] src/tree/updater_prune.cc:74: tree pruning end, 1 roots, 20 extra nodes, 6 pruned nodes, max_depth=5\u001b[0m\n",
      "\u001b[34m[113]#011train-error:0.096#011validation-error:0.1516\u001b[0m\n",
      "\u001b[34m[21:27:56] src/tree/updater_prune.cc:74: tree pruning end, 1 roots, 16 extra nodes, 6 pruned nodes, max_depth=5\u001b[0m\n",
      "\u001b[34m[114]#011train-error:0.095533#011validation-error:0.1514\u001b[0m\n",
      "\u001b[34m[21:27:58] src/tree/updater_prune.cc:74: tree pruning end, 1 roots, 26 extra nodes, 2 pruned nodes, max_depth=5\u001b[0m\n",
      "\u001b[34m[115]#011train-error:0.095867#011validation-error:0.1507\u001b[0m\n",
      "\u001b[34m[21:27:59] src/tree/updater_prune.cc:74: tree pruning end, 1 roots, 24 extra nodes, 14 pruned nodes, max_depth=5\u001b[0m\n",
      "\u001b[34m[116]#011train-error:0.0956#011validation-error:0.1505\u001b[0m\n",
      "\u001b[34m[21:28:00] src/tree/updater_prune.cc:74: tree pruning end, 1 roots, 14 extra nodes, 12 pruned nodes, max_depth=5\u001b[0m\n",
      "\u001b[34m[117]#011train-error:0.094933#011validation-error:0.1506\u001b[0m\n",
      "\u001b[34m[21:28:02] src/tree/updater_prune.cc:74: tree pruning end, 1 roots, 16 extra nodes, 10 pruned nodes, max_depth=5\u001b[0m\n",
      "\u001b[34m[118]#011train-error:0.0952#011validation-error:0.1496\u001b[0m\n",
      "\u001b[34m[21:28:03] src/tree/updater_prune.cc:74: tree pruning end, 1 roots, 20 extra nodes, 4 pruned nodes, max_depth=5\u001b[0m\n",
      "\u001b[34m[119]#011train-error:0.093867#011validation-error:0.15\u001b[0m\n",
      "\u001b[34m[21:28:04] src/tree/updater_prune.cc:74: tree pruning end, 1 roots, 10 extra nodes, 16 pruned nodes, max_depth=5\u001b[0m\n",
      "\u001b[34m[120]#011train-error:0.0938#011validation-error:0.1486\u001b[0m\n",
      "\u001b[34m[21:28:05] src/tree/updater_prune.cc:74: tree pruning end, 1 roots, 28 extra nodes, 2 pruned nodes, max_depth=5\u001b[0m\n",
      "\u001b[34m[121]#011train-error:0.0924#011validation-error:0.1503\u001b[0m\n",
      "\u001b[34m[21:28:07] src/tree/updater_prune.cc:74: tree pruning end, 1 roots, 10 extra nodes, 4 pruned nodes, max_depth=5\u001b[0m\n",
      "\u001b[34m[122]#011train-error:0.092133#011validation-error:0.1493\u001b[0m\n",
      "\u001b[34m[21:28:08] src/tree/updater_prune.cc:74: tree pruning end, 1 roots, 22 extra nodes, 4 pruned nodes, max_depth=5\u001b[0m\n",
      "\u001b[34m[123]#011train-error:0.0914#011validation-error:0.1495\u001b[0m\n",
      "\u001b[34m[21:28:09] src/tree/updater_prune.cc:74: tree pruning end, 1 roots, 14 extra nodes, 8 pruned nodes, max_depth=5\u001b[0m\n",
      "\u001b[34m[124]#011train-error:0.091333#011validation-error:0.1487\u001b[0m\n",
      "\u001b[34m[21:28:10] src/tree/updater_prune.cc:74: tree pruning end, 1 roots, 14 extra nodes, 8 pruned nodes, max_depth=5\u001b[0m\n",
      "\u001b[34m[125]#011train-error:0.0916#011validation-error:0.1487\u001b[0m\n",
      "\u001b[34m[21:28:12] src/tree/updater_prune.cc:74: tree pruning end, 1 roots, 22 extra nodes, 8 pruned nodes, max_depth=5\u001b[0m\n",
      "\u001b[34m[126]#011train-error:0.090267#011validation-error:0.1481\u001b[0m\n",
      "\u001b[34m[21:28:13] src/tree/updater_prune.cc:74: tree pruning end, 1 roots, 10 extra nodes, 6 pruned nodes, max_depth=5\u001b[0m\n",
      "\u001b[34m[127]#011train-error:0.089733#011validation-error:0.1483\u001b[0m\n",
      "\u001b[34m[21:28:14] src/tree/updater_prune.cc:74: tree pruning end, 1 roots, 10 extra nodes, 6 pruned nodes, max_depth=5\u001b[0m\n",
      "\u001b[34m[128]#011train-error:0.0898#011validation-error:0.1481\u001b[0m\n",
      "\u001b[34m[21:28:16] src/tree/updater_prune.cc:74: tree pruning end, 1 roots, 18 extra nodes, 8 pruned nodes, max_depth=5\u001b[0m\n",
      "\u001b[34m[129]#011train-error:0.0894#011validation-error:0.1482\u001b[0m\n",
      "\u001b[34m[21:28:17] src/tree/updater_prune.cc:74: tree pruning end, 1 roots, 22 extra nodes, 4 pruned nodes, max_depth=5\u001b[0m\n",
      "\u001b[34m[130]#011train-error:0.088467#011validation-error:0.1484\u001b[0m\n",
      "\u001b[34m[21:28:18] src/tree/updater_prune.cc:74: tree pruning end, 1 roots, 10 extra nodes, 6 pruned nodes, max_depth=5\u001b[0m\n",
      "\u001b[34m[131]#011train-error:0.0884#011validation-error:0.1477\u001b[0m\n",
      "\u001b[34m[21:28:19] src/tree/updater_prune.cc:74: tree pruning end, 1 roots, 16 extra nodes, 20 pruned nodes, max_depth=5\u001b[0m\n",
      "\u001b[34m[132]#011train-error:0.088267#011validation-error:0.1477\u001b[0m\n",
      "\u001b[34m[21:28:21] src/tree/updater_prune.cc:74: tree pruning end, 1 roots, 10 extra nodes, 8 pruned nodes, max_depth=5\u001b[0m\n",
      "\u001b[34m[133]#011train-error:0.088133#011validation-error:0.1475\u001b[0m\n",
      "\u001b[34m[21:28:22] src/tree/updater_prune.cc:74: tree pruning end, 1 roots, 10 extra nodes, 16 pruned nodes, max_depth=5\u001b[0m\n",
      "\u001b[34m[134]#011train-error:0.0884#011validation-error:0.147\u001b[0m\n",
      "\u001b[34m[21:28:23] src/tree/updater_prune.cc:74: tree pruning end, 1 roots, 12 extra nodes, 14 pruned nodes, max_depth=5\u001b[0m\n",
      "\u001b[34m[135]#011train-error:0.0882#011validation-error:0.1469\u001b[0m\n",
      "\u001b[34m[21:28:24] src/tree/updater_prune.cc:74: tree pruning end, 1 roots, 20 extra nodes, 8 pruned nodes, max_depth=5\u001b[0m\n",
      "\u001b[34m[136]#011train-error:0.088133#011validation-error:0.1468\u001b[0m\n",
      "\u001b[34m[21:28:26] src/tree/updater_prune.cc:74: tree pruning end, 1 roots, 16 extra nodes, 8 pruned nodes, max_depth=5\u001b[0m\n",
      "\u001b[34m[137]#011train-error:0.088067#011validation-error:0.1465\u001b[0m\n",
      "\u001b[34m[21:28:27] src/tree/updater_prune.cc:74: tree pruning end, 1 roots, 14 extra nodes, 12 pruned nodes, max_depth=5\u001b[0m\n",
      "\u001b[34m[138]#011train-error:0.0882#011validation-error:0.1465\u001b[0m\n"
     ]
    },
    {
     "name": "stdout",
     "output_type": "stream",
     "text": [
      "\u001b[34m[21:28:28] src/tree/updater_prune.cc:74: tree pruning end, 1 roots, 16 extra nodes, 16 pruned nodes, max_depth=5\u001b[0m\n",
      "\u001b[34m[139]#011train-error:0.087533#011validation-error:0.1466\u001b[0m\n",
      "\u001b[34m[21:28:29] src/tree/updater_prune.cc:74: tree pruning end, 1 roots, 10 extra nodes, 4 pruned nodes, max_depth=5\u001b[0m\n",
      "\u001b[34m[140]#011train-error:0.087267#011validation-error:0.1463\u001b[0m\n",
      "\u001b[34m[21:28:31] src/tree/updater_prune.cc:74: tree pruning end, 1 roots, 20 extra nodes, 8 pruned nodes, max_depth=5\u001b[0m\n",
      "\u001b[34m[141]#011train-error:0.086467#011validation-error:0.1463\u001b[0m\n",
      "\u001b[34m[21:28:32] src/tree/updater_prune.cc:74: tree pruning end, 1 roots, 18 extra nodes, 8 pruned nodes, max_depth=5\u001b[0m\n",
      "\u001b[34m[142]#011train-error:0.085933#011validation-error:0.1458\u001b[0m\n",
      "\u001b[34m[21:28:33] src/tree/updater_prune.cc:74: tree pruning end, 1 roots, 16 extra nodes, 4 pruned nodes, max_depth=5\u001b[0m\n",
      "\u001b[34m[143]#011train-error:0.085133#011validation-error:0.1459\u001b[0m\n",
      "\u001b[34m[21:28:34] src/tree/updater_prune.cc:74: tree pruning end, 1 roots, 12 extra nodes, 14 pruned nodes, max_depth=5\u001b[0m\n",
      "\u001b[34m[144]#011train-error:0.084933#011validation-error:0.1457\u001b[0m\n",
      "\u001b[34m[21:28:36] src/tree/updater_prune.cc:74: tree pruning end, 1 roots, 24 extra nodes, 8 pruned nodes, max_depth=5\u001b[0m\n",
      "\u001b[34m[145]#011train-error:0.0844#011validation-error:0.1461\u001b[0m\n",
      "\u001b[34m[21:28:37] src/tree/updater_prune.cc:74: tree pruning end, 1 roots, 12 extra nodes, 4 pruned nodes, max_depth=5\u001b[0m\n",
      "\u001b[34m[146]#011train-error:0.084133#011validation-error:0.1456\u001b[0m\n",
      "\u001b[34m[21:28:38] src/tree/updater_prune.cc:74: tree pruning end, 1 roots, 22 extra nodes, 8 pruned nodes, max_depth=5\u001b[0m\n",
      "\u001b[34m[147]#011train-error:0.0834#011validation-error:0.1464\u001b[0m\n",
      "\u001b[34m[21:28:40] src/tree/updater_prune.cc:74: tree pruning end, 1 roots, 10 extra nodes, 8 pruned nodes, max_depth=5\u001b[0m\n",
      "\u001b[34m[148]#011train-error:0.083067#011validation-error:0.1464\u001b[0m\n",
      "\u001b[34m[21:28:41] src/tree/updater_prune.cc:74: tree pruning end, 1 roots, 22 extra nodes, 12 pruned nodes, max_depth=5\u001b[0m\n",
      "\u001b[34m[149]#011train-error:0.082267#011validation-error:0.146\u001b[0m\n",
      "\u001b[34m[21:28:42] src/tree/updater_prune.cc:74: tree pruning end, 1 roots, 18 extra nodes, 12 pruned nodes, max_depth=5\u001b[0m\n",
      "\u001b[34m[150]#011train-error:0.0822#011validation-error:0.1455\u001b[0m\n",
      "\u001b[34m[21:28:43] src/tree/updater_prune.cc:74: tree pruning end, 1 roots, 12 extra nodes, 8 pruned nodes, max_depth=5\u001b[0m\n",
      "\u001b[34m[151]#011train-error:0.082067#011validation-error:0.1455\u001b[0m\n",
      "\u001b[34m[21:28:45] src/tree/updater_prune.cc:74: tree pruning end, 1 roots, 34 extra nodes, 12 pruned nodes, max_depth=5\u001b[0m\n",
      "\u001b[34m[152]#011train-error:0.081133#011validation-error:0.1447\u001b[0m\n",
      "\u001b[34m[21:28:46] src/tree/updater_prune.cc:74: tree pruning end, 1 roots, 16 extra nodes, 2 pruned nodes, max_depth=5\u001b[0m\n",
      "\u001b[34m[153]#011train-error:0.080867#011validation-error:0.1441\u001b[0m\n",
      "\u001b[34m[21:28:47] src/tree/updater_prune.cc:74: tree pruning end, 1 roots, 12 extra nodes, 2 pruned nodes, max_depth=5\u001b[0m\n",
      "\u001b[34m[154]#011train-error:0.081267#011validation-error:0.1444\u001b[0m\n",
      "\u001b[34m[21:28:48] src/tree/updater_prune.cc:74: tree pruning end, 1 roots, 14 extra nodes, 8 pruned nodes, max_depth=5\u001b[0m\n",
      "\u001b[34m[155]#011train-error:0.080267#011validation-error:0.1435\u001b[0m\n",
      "\u001b[34m[21:28:50] src/tree/updater_prune.cc:74: tree pruning end, 1 roots, 10 extra nodes, 8 pruned nodes, max_depth=5\u001b[0m\n",
      "\u001b[34m[156]#011train-error:0.080267#011validation-error:0.1435\u001b[0m\n",
      "\u001b[34m[21:28:51] src/tree/updater_prune.cc:74: tree pruning end, 1 roots, 14 extra nodes, 20 pruned nodes, max_depth=5\u001b[0m\n",
      "\u001b[34m[157]#011train-error:0.0804#011validation-error:0.1429\u001b[0m\n",
      "\u001b[34m[21:28:52] src/tree/updater_prune.cc:74: tree pruning end, 1 roots, 10 extra nodes, 10 pruned nodes, max_depth=5\u001b[0m\n",
      "\u001b[34m[158]#011train-error:0.080333#011validation-error:0.1432\u001b[0m\n",
      "\u001b[34m[21:28:53] src/tree/updater_prune.cc:74: tree pruning end, 1 roots, 22 extra nodes, 16 pruned nodes, max_depth=5\u001b[0m\n",
      "\u001b[34m[159]#011train-error:0.079667#011validation-error:0.1425\u001b[0m\n",
      "\u001b[34m[21:28:55] src/tree/updater_prune.cc:74: tree pruning end, 1 roots, 20 extra nodes, 20 pruned nodes, max_depth=5\u001b[0m\n",
      "\u001b[34m[160]#011train-error:0.078467#011validation-error:0.1426\u001b[0m\n",
      "\u001b[34m[21:28:56] src/tree/updater_prune.cc:74: tree pruning end, 1 roots, 16 extra nodes, 12 pruned nodes, max_depth=5\u001b[0m\n",
      "\u001b[34m[161]#011train-error:0.078133#011validation-error:0.1425\u001b[0m\n",
      "\u001b[34m[21:28:57] src/tree/updater_prune.cc:74: tree pruning end, 1 roots, 20 extra nodes, 10 pruned nodes, max_depth=5\u001b[0m\n",
      "\u001b[34m[162]#011train-error:0.0772#011validation-error:0.1423\u001b[0m\n",
      "\u001b[34m[21:28:58] src/tree/updater_prune.cc:74: tree pruning end, 1 roots, 16 extra nodes, 6 pruned nodes, max_depth=5\u001b[0m\n",
      "\u001b[34m[163]#011train-error:0.076733#011validation-error:0.1424\u001b[0m\n",
      "\u001b[34m[21:29:00] src/tree/updater_prune.cc:74: tree pruning end, 1 roots, 10 extra nodes, 2 pruned nodes, max_depth=5\u001b[0m\n",
      "\u001b[34m[164]#011train-error:0.076467#011validation-error:0.1424\u001b[0m\n",
      "\u001b[34m[21:29:01] src/tree/updater_prune.cc:74: tree pruning end, 1 roots, 18 extra nodes, 8 pruned nodes, max_depth=5\u001b[0m\n",
      "\u001b[34m[165]#011train-error:0.0766#011validation-error:0.1428\u001b[0m\n",
      "\u001b[34m[21:29:02] src/tree/updater_prune.cc:74: tree pruning end, 1 roots, 14 extra nodes, 4 pruned nodes, max_depth=5\u001b[0m\n",
      "\u001b[34m[166]#011train-error:0.077267#011validation-error:0.1422\u001b[0m\n",
      "\u001b[34m[21:29:04] src/tree/updater_prune.cc:74: tree pruning end, 1 roots, 12 extra nodes, 4 pruned nodes, max_depth=5\u001b[0m\n",
      "\u001b[34m[167]#011train-error:0.077533#011validation-error:0.1414\u001b[0m\n",
      "\u001b[34m[21:29:05] src/tree/updater_prune.cc:74: tree pruning end, 1 roots, 14 extra nodes, 12 pruned nodes, max_depth=5\u001b[0m\n",
      "\u001b[34m[168]#011train-error:0.076933#011validation-error:0.1415\u001b[0m\n",
      "\u001b[34m[21:29:06] src/tree/updater_prune.cc:74: tree pruning end, 1 roots, 14 extra nodes, 6 pruned nodes, max_depth=5\u001b[0m\n",
      "\u001b[34m[169]#011train-error:0.076867#011validation-error:0.1415\u001b[0m\n",
      "\u001b[34m[21:29:07] src/tree/updater_prune.cc:74: tree pruning end, 1 roots, 20 extra nodes, 8 pruned nodes, max_depth=5\u001b[0m\n",
      "\u001b[34m[170]#011train-error:0.076533#011validation-error:0.1425\u001b[0m\n",
      "\u001b[34m[21:29:09] src/tree/updater_prune.cc:74: tree pruning end, 1 roots, 14 extra nodes, 12 pruned nodes, max_depth=5\u001b[0m\n",
      "\u001b[34m[171]#011train-error:0.076867#011validation-error:0.1418\u001b[0m\n",
      "\u001b[34m[21:29:10] src/tree/updater_prune.cc:74: tree pruning end, 1 roots, 16 extra nodes, 14 pruned nodes, max_depth=5\u001b[0m\n",
      "\u001b[34m[172]#011train-error:0.0768#011validation-error:0.1424\u001b[0m\n",
      "\u001b[34m[21:29:11] src/tree/updater_prune.cc:74: tree pruning end, 1 roots, 20 extra nodes, 16 pruned nodes, max_depth=5\u001b[0m\n",
      "\u001b[34m[173]#011train-error:0.0762#011validation-error:0.1417\u001b[0m\n",
      "\u001b[34m[21:29:12] src/tree/updater_prune.cc:74: tree pruning end, 1 roots, 28 extra nodes, 10 pruned nodes, max_depth=5\u001b[0m\n",
      "\u001b[34m[174]#011train-error:0.075667#011validation-error:0.142\u001b[0m\n",
      "\u001b[34m[21:29:14] src/tree/updater_prune.cc:74: tree pruning end, 1 roots, 22 extra nodes, 6 pruned nodes, max_depth=5\u001b[0m\n",
      "\u001b[34m[175]#011train-error:0.075133#011validation-error:0.1425\u001b[0m\n",
      "\u001b[34m[21:29:15] src/tree/updater_prune.cc:74: tree pruning end, 1 roots, 18 extra nodes, 12 pruned nodes, max_depth=5\u001b[0m\n",
      "\u001b[34m[176]#011train-error:0.074533#011validation-error:0.142\u001b[0m\n",
      "\u001b[34m[21:29:16] src/tree/updater_prune.cc:74: tree pruning end, 1 roots, 20 extra nodes, 2 pruned nodes, max_depth=5\u001b[0m\n",
      "\u001b[34m[177]#011train-error:0.074333#011validation-error:0.1425\u001b[0m\n",
      "\u001b[34mStopping. Best iteration:\u001b[0m\n",
      "\u001b[34m[167]#011train-error:0.077533#011validation-error:0.1414\n",
      "\u001b[0m\n",
      "\n",
      "2020-05-04 21:29:25 Uploading - Uploading generated training model\n",
      "2020-05-04 21:29:25 Completed - Training job completed\n",
      "Training seconds: 291\n",
      "Billable seconds: 291\n"
     ]
    }
   ],
   "source": [
    "xgb.fit({'train': s3_input_train, 'validation': s3_input_validation})"
   ]
  },
  {
   "cell_type": "markdown",
   "metadata": {},
   "source": [
    "## Step 5: Testing the model\n",
    "\n",
    "Now that we've fit our XGBoost model, it's time to see how well it performs. To do this we will use SageMakers Batch Transform functionality. Batch Transform is a convenient way to perform inference on a large dataset in a way that is not realtime. That is, we don't necessarily need to use our model's results immediately and instead we can perform inference on a large number of samples. An example of this in industry might be performing an end of month report. This method of inference can also be useful to us as it means that we can perform inference on our entire test set. \n",
    "\n",
    "To perform a Batch Transformation we need to first create a transformer objects from our trained estimator object."
   ]
  },
  {
   "cell_type": "code",
   "execution_count": 24,
   "metadata": {},
   "outputs": [],
   "source": [
    "xgb_transformer = xgb.transformer(instance_count = 1, instance_type = 'ml.m4.xlarge')"
   ]
  },
  {
   "cell_type": "markdown",
   "metadata": {},
   "source": [
    "Next we actually perform the transform job. When doing so we need to make sure to specify the type of data we are sending so that it is serialized correctly in the background. In our case we are providing our model with csv data so we specify `text/csv`. Also, if the test data that we have provided is too large to process all at once then we need to specify how the data file should be split up. Since each line is a single entry in our data set we tell SageMaker that it can split the input on each line."
   ]
  },
  {
   "cell_type": "code",
   "execution_count": 25,
   "metadata": {},
   "outputs": [],
   "source": [
    "xgb_transformer.transform(test_location, content_type='text/csv', split_type='Line')"
   ]
  },
  {
   "cell_type": "markdown",
   "metadata": {},
   "source": [
    "Currently the transform job is running but it is doing so in the background. Since we wish to wait until the transform job is done and we would like a bit of feedback we can run the `wait()` method."
   ]
  },
  {
   "cell_type": "code",
   "execution_count": 26,
   "metadata": {
    "scrolled": false
   },
   "outputs": [
    {
     "name": "stdout",
     "output_type": "stream",
     "text": [
      ".....................\u001b[34mArguments: serve\u001b[0m\n",
      "\u001b[34m[2020-05-04 21:33:12 +0000] [1] [INFO] Starting gunicorn 19.7.1\u001b[0m\n",
      "\u001b[34m[2020-05-04 21:33:12 +0000] [1] [INFO] Listening at: http://0.0.0.0:8080 (1)\u001b[0m\n",
      "\u001b[34m[2020-05-04 21:33:12 +0000] [1] [INFO] Using worker: gevent\u001b[0m\n",
      "\u001b[34m[2020-05-04 21:33:12 +0000] [37] [INFO] Booting worker with pid: 37\u001b[0m\n",
      "\u001b[34m[2020-05-04 21:33:12 +0000] [38] [INFO] Booting worker with pid: 38\u001b[0m\n",
      "\u001b[34m[2020-05-04:21:33:12:INFO] Model loaded successfully for worker : 37\u001b[0m\n",
      "\u001b[34m[2020-05-04 21:33:12 +0000] [39] [INFO] Booting worker with pid: 39\u001b[0m\n",
      "\u001b[34m[2020-05-04 21:33:12 +0000] [40] [INFO] Booting worker with pid: 40\u001b[0m\n",
      "\u001b[34m[2020-05-04:21:33:12:INFO] Model loaded successfully for worker : 38\u001b[0m\n",
      "\u001b[34m[2020-05-04:21:33:12:INFO] Model loaded successfully for worker : 39\u001b[0m\n",
      "\u001b[34m[2020-05-04:21:33:12:INFO] Model loaded successfully for worker : 40\u001b[0m\n",
      "\u001b[34m[2020-05-04:21:33:32:INFO] Sniff delimiter as ','\u001b[0m\n",
      "\u001b[34m[2020-05-04:21:33:32:INFO] Determined delimiter of CSV input is ','\u001b[0m\n",
      "\u001b[35m[2020-05-04:21:33:32:INFO] Sniff delimiter as ','\u001b[0m\n",
      "\u001b[35m[2020-05-04:21:33:32:INFO] Determined delimiter of CSV input is ','\u001b[0m\n",
      "\u001b[32m2020-05-04T21:33:29.844:[sagemaker logs]: MaxConcurrentTransforms=4, MaxPayloadInMB=6, BatchStrategy=MULTI_RECORD\u001b[0m\n",
      "\u001b[34m[2020-05-04:21:33:32:INFO] Sniff delimiter as ','\u001b[0m\n",
      "\u001b[34m[2020-05-04:21:33:32:INFO] Determined delimiter of CSV input is ','\u001b[0m\n",
      "\u001b[34m[2020-05-04:21:33:32:INFO] Sniff delimiter as ','\u001b[0m\n",
      "\u001b[34m[2020-05-04:21:33:32:INFO] Determined delimiter of CSV input is ','\u001b[0m\n",
      "\u001b[34m[2020-05-04:21:33:32:INFO] Sniff delimiter as ','\u001b[0m\n",
      "\u001b[34m[2020-05-04:21:33:32:INFO] Determined delimiter of CSV input is ','\u001b[0m\n",
      "\u001b[35m[2020-05-04:21:33:32:INFO] Sniff delimiter as ','\u001b[0m\n",
      "\u001b[35m[2020-05-04:21:33:32:INFO] Determined delimiter of CSV input is ','\u001b[0m\n",
      "\u001b[35m[2020-05-04:21:33:32:INFO] Sniff delimiter as ','\u001b[0m\n",
      "\u001b[35m[2020-05-04:21:33:32:INFO] Determined delimiter of CSV input is ','\u001b[0m\n",
      "\u001b[35m[2020-05-04:21:33:32:INFO] Sniff delimiter as ','\u001b[0m\n",
      "\u001b[35m[2020-05-04:21:33:32:INFO] Determined delimiter of CSV input is ','\u001b[0m\n",
      "\u001b[34m[2020-05-04:21:33:35:INFO] Sniff delimiter as ','\u001b[0m\n",
      "\u001b[34m[2020-05-04:21:33:35:INFO] Determined delimiter of CSV input is ','\u001b[0m\n",
      "\u001b[34m[2020-05-04:21:33:35:INFO] Sniff delimiter as ','\u001b[0m\n",
      "\u001b[34m[2020-05-04:21:33:35:INFO] Determined delimiter of CSV input is ','\u001b[0m\n",
      "\u001b[34m[2020-05-04:21:33:35:INFO] Sniff delimiter as ','\u001b[0m\n",
      "\u001b[34m[2020-05-04:21:33:35:INFO] Determined delimiter of CSV input is ','\u001b[0m\n",
      "\u001b[34m[2020-05-04:21:33:35:INFO] Sniff delimiter as ','\u001b[0m\n",
      "\u001b[34m[2020-05-04:21:33:35:INFO] Determined delimiter of CSV input is ','\u001b[0m\n",
      "\u001b[35m[2020-05-04:21:33:35:INFO] Sniff delimiter as ','\u001b[0m\n",
      "\u001b[35m[2020-05-04:21:33:35:INFO] Determined delimiter of CSV input is ','\u001b[0m\n",
      "\u001b[35m[2020-05-04:21:33:35:INFO] Sniff delimiter as ','\u001b[0m\n",
      "\u001b[35m[2020-05-04:21:33:35:INFO] Determined delimiter of CSV input is ','\u001b[0m\n",
      "\u001b[35m[2020-05-04:21:33:35:INFO] Sniff delimiter as ','\u001b[0m\n",
      "\u001b[35m[2020-05-04:21:33:35:INFO] Determined delimiter of CSV input is ','\u001b[0m\n",
      "\u001b[35m[2020-05-04:21:33:35:INFO] Sniff delimiter as ','\u001b[0m\n",
      "\u001b[35m[2020-05-04:21:33:35:INFO] Determined delimiter of CSV input is ','\u001b[0m\n",
      "\u001b[34m[2020-05-04:21:33:37:INFO] Sniff delimiter as ','\u001b[0m\n",
      "\u001b[34m[2020-05-04:21:33:37:INFO] Determined delimiter of CSV input is ','\u001b[0m\n",
      "\u001b[34m[2020-05-04:21:33:37:INFO] Sniff delimiter as ','\u001b[0m\n",
      "\u001b[34m[2020-05-04:21:33:37:INFO] Determined delimiter of CSV input is ','\u001b[0m\n",
      "\u001b[35m[2020-05-04:21:33:37:INFO] Sniff delimiter as ','\u001b[0m\n",
      "\u001b[35m[2020-05-04:21:33:37:INFO] Determined delimiter of CSV input is ','\u001b[0m\n",
      "\u001b[35m[2020-05-04:21:33:37:INFO] Sniff delimiter as ','\u001b[0m\n",
      "\u001b[35m[2020-05-04:21:33:37:INFO] Determined delimiter of CSV input is ','\u001b[0m\n",
      "\u001b[34m[2020-05-04:21:33:37:INFO] Sniff delimiter as ','\u001b[0m\n",
      "\u001b[34m[2020-05-04:21:33:37:INFO] Determined delimiter of CSV input is ','\u001b[0m\n",
      "\u001b[34m[2020-05-04:21:33:38:INFO] Sniff delimiter as ','\u001b[0m\n",
      "\u001b[34m[2020-05-04:21:33:38:INFO] Determined delimiter of CSV input is ','\u001b[0m\n",
      "\u001b[35m[2020-05-04:21:33:37:INFO] Sniff delimiter as ','\u001b[0m\n",
      "\u001b[35m[2020-05-04:21:33:37:INFO] Determined delimiter of CSV input is ','\u001b[0m\n",
      "\u001b[35m[2020-05-04:21:33:38:INFO] Sniff delimiter as ','\u001b[0m\n",
      "\u001b[35m[2020-05-04:21:33:38:INFO] Determined delimiter of CSV input is ','\u001b[0m\n",
      "\u001b[34m[2020-05-04:21:33:39:INFO] Sniff delimiter as ','\u001b[0m\n",
      "\u001b[34m[2020-05-04:21:33:39:INFO] Determined delimiter of CSV input is ','\u001b[0m\n",
      "\u001b[34m[2020-05-04:21:33:40:INFO] Sniff delimiter as ','\u001b[0m\n",
      "\u001b[34m[2020-05-04:21:33:40:INFO] Determined delimiter of CSV input is ','\u001b[0m\n",
      "\u001b[34m[2020-05-04:21:33:40:INFO] Sniff delimiter as ','\u001b[0m\n",
      "\u001b[34m[2020-05-04:21:33:40:INFO] Determined delimiter of CSV input is ','\u001b[0m\n",
      "\u001b[34m[2020-05-04:21:33:40:INFO] Sniff delimiter as ','\u001b[0m\n",
      "\u001b[34m[2020-05-04:21:33:40:INFO] Determined delimiter of CSV input is ','\u001b[0m\n",
      "\u001b[35m[2020-05-04:21:33:39:INFO] Sniff delimiter as ','\u001b[0m\n",
      "\u001b[35m[2020-05-04:21:33:39:INFO] Determined delimiter of CSV input is ','\u001b[0m\n",
      "\u001b[35m[2020-05-04:21:33:40:INFO] Sniff delimiter as ','\u001b[0m\n",
      "\u001b[35m[2020-05-04:21:33:40:INFO] Determined delimiter of CSV input is ','\u001b[0m\n",
      "\u001b[35m[2020-05-04:21:33:40:INFO] Sniff delimiter as ','\u001b[0m\n",
      "\u001b[35m[2020-05-04:21:33:40:INFO] Determined delimiter of CSV input is ','\u001b[0m\n",
      "\u001b[35m[2020-05-04:21:33:40:INFO] Sniff delimiter as ','\u001b[0m\n",
      "\u001b[35m[2020-05-04:21:33:40:INFO] Determined delimiter of CSV input is ','\u001b[0m\n",
      "\u001b[34m[2020-05-04:21:33:44:INFO] Sniff delimiter as ','\u001b[0m\n",
      "\u001b[34m[2020-05-04:21:33:44:INFO] Determined delimiter of CSV input is ','\u001b[0m\n",
      "\u001b[34m[2020-05-04:21:33:44:INFO] Sniff delimiter as ','\u001b[0m\n",
      "\u001b[34m[2020-05-04:21:33:44:INFO] Determined delimiter of CSV input is ','\u001b[0m\n",
      "\u001b[34m[2020-05-04:21:33:45:INFO] Sniff delimiter as ','\u001b[0m\n",
      "\u001b[34m[2020-05-04:21:33:45:INFO] Determined delimiter of CSV input is ','\u001b[0m\n",
      "\u001b[34m[2020-05-04:21:33:45:INFO] Sniff delimiter as ','\u001b[0m\n",
      "\u001b[34m[2020-05-04:21:33:45:INFO] Determined delimiter of CSV input is ','\u001b[0m\n",
      "\u001b[35m[2020-05-04:21:33:44:INFO] Sniff delimiter as ','\u001b[0m\n",
      "\u001b[35m[2020-05-04:21:33:44:INFO] Determined delimiter of CSV input is ','\u001b[0m\n",
      "\u001b[35m[2020-05-04:21:33:44:INFO] Sniff delimiter as ','\u001b[0m\n",
      "\u001b[35m[2020-05-04:21:33:44:INFO] Determined delimiter of CSV input is ','\u001b[0m\n",
      "\u001b[35m[2020-05-04:21:33:45:INFO] Sniff delimiter as ','\u001b[0m\n",
      "\u001b[35m[2020-05-04:21:33:45:INFO] Determined delimiter of CSV input is ','\u001b[0m\n",
      "\u001b[35m[2020-05-04:21:33:45:INFO] Sniff delimiter as ','\u001b[0m\n",
      "\u001b[35m[2020-05-04:21:33:45:INFO] Determined delimiter of CSV input is ','\u001b[0m\n",
      "\u001b[34m[2020-05-04:21:33:47:INFO] Sniff delimiter as ','\u001b[0m\n",
      "\u001b[34m[2020-05-04:21:33:47:INFO] Determined delimiter of CSV input is ','\u001b[0m\n",
      "\u001b[34m[2020-05-04:21:33:47:INFO] Sniff delimiter as ','\u001b[0m\n",
      "\u001b[34m[2020-05-04:21:33:47:INFO] Determined delimiter of CSV input is ','\u001b[0m\n",
      "\u001b[34m[2020-05-04:21:33:47:INFO] Sniff delimiter as ','\u001b[0m\n",
      "\u001b[34m[2020-05-04:21:33:47:INFO] Determined delimiter of CSV input is ','\u001b[0m\n",
      "\u001b[35m[2020-05-04:21:33:47:INFO] Sniff delimiter as ','\u001b[0m\n",
      "\u001b[35m[2020-05-04:21:33:47:INFO] Determined delimiter of CSV input is ','\u001b[0m\n",
      "\u001b[35m[2020-05-04:21:33:47:INFO] Sniff delimiter as ','\u001b[0m\n",
      "\u001b[35m[2020-05-04:21:33:47:INFO] Determined delimiter of CSV input is ','\u001b[0m\n",
      "\u001b[35m[2020-05-04:21:33:47:INFO] Sniff delimiter as ','\u001b[0m\n",
      "\u001b[35m[2020-05-04:21:33:47:INFO] Determined delimiter of CSV input is ','\u001b[0m\n",
      "\u001b[34m[2020-05-04:21:33:47:INFO] Sniff delimiter as ','\u001b[0m\n",
      "\u001b[34m[2020-05-04:21:33:47:INFO] Determined delimiter of CSV input is ','\u001b[0m\n",
      "\u001b[35m[2020-05-04:21:33:47:INFO] Sniff delimiter as ','\u001b[0m\n",
      "\u001b[35m[2020-05-04:21:33:47:INFO] Determined delimiter of CSV input is ','\u001b[0m\n",
      "\u001b[34m[2020-05-04:21:33:49:INFO] Sniff delimiter as ','\u001b[0m\n",
      "\u001b[34m[2020-05-04:21:33:49:INFO] Determined delimiter of CSV input is ','\u001b[0m\n",
      "\u001b[35m[2020-05-04:21:33:49:INFO] Sniff delimiter as ','\u001b[0m\n",
      "\u001b[35m[2020-05-04:21:33:49:INFO] Determined delimiter of CSV input is ','\u001b[0m\n",
      "\u001b[34m[2020-05-04:21:33:49:INFO] Sniff delimiter as ','\u001b[0m\n",
      "\u001b[34m[2020-05-04:21:33:49:INFO] Determined delimiter of CSV input is ','\u001b[0m\n",
      "\u001b[34m[2020-05-04:21:33:50:INFO] Sniff delimiter as ','\u001b[0m\n",
      "\u001b[34m[2020-05-04:21:33:50:INFO] Determined delimiter of CSV input is ','\u001b[0m\n",
      "\u001b[34m[2020-05-04:21:33:50:INFO] Sniff delimiter as ','\u001b[0m\n",
      "\u001b[34m[2020-05-04:21:33:50:INFO] Determined delimiter of CSV input is ','\u001b[0m\n",
      "\u001b[35m[2020-05-04:21:33:49:INFO] Sniff delimiter as ','\u001b[0m\n",
      "\u001b[35m[2020-05-04:21:33:49:INFO] Determined delimiter of CSV input is ','\u001b[0m\n",
      "\u001b[35m[2020-05-04:21:33:50:INFO] Sniff delimiter as ','\u001b[0m\n",
      "\u001b[35m[2020-05-04:21:33:50:INFO] Determined delimiter of CSV input is ','\u001b[0m\n",
      "\u001b[35m[2020-05-04:21:33:50:INFO] Sniff delimiter as ','\u001b[0m\n",
      "\u001b[35m[2020-05-04:21:33:50:INFO] Determined delimiter of CSV input is ','\u001b[0m\n"
     ]
    },
    {
     "name": "stdout",
     "output_type": "stream",
     "text": [
      "\u001b[34m[2020-05-04:21:33:52:INFO] Sniff delimiter as ','\u001b[0m\n",
      "\u001b[34m[2020-05-04:21:33:52:INFO] Determined delimiter of CSV input is ','\u001b[0m\n",
      "\u001b[35m[2020-05-04:21:33:52:INFO] Sniff delimiter as ','\u001b[0m\n",
      "\u001b[35m[2020-05-04:21:33:52:INFO] Determined delimiter of CSV input is ','\u001b[0m\n",
      "\u001b[34m[2020-05-04:21:33:54:INFO] Sniff delimiter as ','\u001b[0m\n",
      "\u001b[34m[2020-05-04:21:33:54:INFO] Determined delimiter of CSV input is ','\u001b[0m\n",
      "\u001b[34m[2020-05-04:21:33:54:INFO] Sniff delimiter as ','\u001b[0m\n",
      "\u001b[34m[2020-05-04:21:33:54:INFO] Determined delimiter of CSV input is ','\u001b[0m\n",
      "\u001b[34m[2020-05-04:21:33:54:INFO] Sniff delimiter as ','\u001b[0m\n",
      "\u001b[34m[2020-05-04:21:33:54:INFO] Determined delimiter of CSV input is ','\u001b[0m\n",
      "\u001b[35m[2020-05-04:21:33:54:INFO] Sniff delimiter as ','\u001b[0m\n",
      "\u001b[35m[2020-05-04:21:33:54:INFO] Determined delimiter of CSV input is ','\u001b[0m\n",
      "\u001b[35m[2020-05-04:21:33:54:INFO] Sniff delimiter as ','\u001b[0m\n",
      "\u001b[35m[2020-05-04:21:33:54:INFO] Determined delimiter of CSV input is ','\u001b[0m\n",
      "\u001b[35m[2020-05-04:21:33:54:INFO] Sniff delimiter as ','\u001b[0m\n",
      "\u001b[35m[2020-05-04:21:33:54:INFO] Determined delimiter of CSV input is ','\u001b[0m\n",
      "\u001b[34m[2020-05-04:21:33:55:INFO] Sniff delimiter as ','\u001b[0m\n",
      "\u001b[34m[2020-05-04:21:33:55:INFO] Determined delimiter of CSV input is ','\u001b[0m\n",
      "\u001b[35m[2020-05-04:21:33:55:INFO] Sniff delimiter as ','\u001b[0m\n",
      "\u001b[35m[2020-05-04:21:33:55:INFO] Determined delimiter of CSV input is ','\u001b[0m\n",
      "\n"
     ]
    }
   ],
   "source": [
    "xgb_transformer.wait()"
   ]
  },
  {
   "cell_type": "markdown",
   "metadata": {},
   "source": [
    "Now the transform job has executed and the result, the estimated sentiment of each review, has been saved on S3. Since we would rather work on this file locally we can perform a bit of notebook magic to copy the file to the `data_dir`."
   ]
  },
  {
   "cell_type": "code",
   "execution_count": 27,
   "metadata": {},
   "outputs": [
    {
     "name": "stdout",
     "output_type": "stream",
     "text": [
      "Completed 256.0 KiB/369.9 KiB (3.0 MiB/s) with 1 file(s) remaining\r",
      "Completed 369.9 KiB/369.9 KiB (4.3 MiB/s) with 1 file(s) remaining\r",
      "download: s3://sagemaker-us-east-2-525657442405/xgboost-2020-05-04-21-29-54-863/test.csv.out to ../data/sentiment_web_app/test.csv.out\r\n"
     ]
    }
   ],
   "source": [
    "!aws s3 cp --recursive $xgb_transformer.output_path $data_dir"
   ]
  },
  {
   "cell_type": "markdown",
   "metadata": {},
   "source": [
    "The last step is now to read in the output from our model, convert the output to something a little more usable, in this case we want the sentiment to be either `1` (positive) or `0` (negative), and then compare to the ground truth labels."
   ]
  },
  {
   "cell_type": "code",
   "execution_count": 28,
   "metadata": {},
   "outputs": [],
   "source": [
    "predictions = pd.read_csv(os.path.join(data_dir, 'test.csv.out'), header=None)\n",
    "predictions = [round(num) for num in predictions.squeeze().values]"
   ]
  },
  {
   "cell_type": "code",
   "execution_count": 29,
   "metadata": {},
   "outputs": [
    {
     "data": {
      "text/plain": [
       "0.8598"
      ]
     },
     "execution_count": 29,
     "metadata": {},
     "output_type": "execute_result"
    }
   ],
   "source": [
    "from sklearn.metrics import accuracy_score\n",
    "accuracy_score(test_y, predictions)"
   ]
  },
  {
   "cell_type": "markdown",
   "metadata": {},
   "source": [
    "## Step 6: Deploying the model\n",
    "\n",
    "Once we construct and fit our model, SageMaker stores the resulting model artifacts and we can use those to deploy an endpoint (inference code). To see this, look in the SageMaker console and you should see that a model has been created along with a link to the S3 location where the model artifacts have been stored.\n",
    "\n",
    "Deploying an endpoint is a lot like training the model with a few important differences. The first is that a deployed model doesn't change the model artifacts, so as you send it various testing instances the model won't change. Another difference is that since we aren't performing a fixed computation, as we were in the training step or while performing a batch transform, the compute instance that gets started stays running until we tell it to stop. This is important to note as if we forget and leave it running we will be charged the entire time.\n",
    "\n",
    "In other words **If you are no longer using a deployed endpoint, shut it down!**"
   ]
  },
  {
   "cell_type": "code",
   "execution_count": 30,
   "metadata": {},
   "outputs": [
    {
     "name": "stderr",
     "output_type": "stream",
     "text": [
      "WARNING:sagemaker:Using already existing model: xgboost-2020-05-04-21-22-40-132\n"
     ]
    },
    {
     "name": "stdout",
     "output_type": "stream",
     "text": [
      "-----------!"
     ]
    }
   ],
   "source": [
    "xgb_predictor = xgb.deploy(initial_instance_count = 1, instance_type = 'ml.m4.xlarge')"
   ]
  },
  {
   "cell_type": "markdown",
   "metadata": {},
   "source": [
    "### Testing the model (again)\n",
    "\n",
    "Now that we have deployed our endpoint, we can send the testing data to it and get back the inference results. We already did this earlier using the batch transform functionality of SageMaker, however, we will test our model again using the newly deployed endpoint so that we can make sure that it works properly and to get a bit of a feel for how the endpoint works.\n",
    "\n",
    "When using the created endpoint it is important to know that we are limited in the amount of information we can send in each call so we need to break the testing data up into chunks and then send each chunk. Also, we need to serialize our data before we send it to the endpoint to ensure that our data is transmitted properly. Fortunately, SageMaker can do the serialization part for us provided we tell it the format of our data."
   ]
  },
  {
   "cell_type": "code",
   "execution_count": 31,
   "metadata": {},
   "outputs": [],
   "source": [
    "from sagemaker.predictor import csv_serializer\n",
    "\n",
    "# We need to tell the endpoint what format the data we are sending is in so that SageMaker can perform the serialization.\n",
    "xgb_predictor.content_type = 'text/csv'\n",
    "xgb_predictor.serializer = csv_serializer"
   ]
  },
  {
   "cell_type": "code",
   "execution_count": 32,
   "metadata": {},
   "outputs": [],
   "source": [
    "# We split the data into chunks and send each chunk seperately, accumulating the results.\n",
    "\n",
    "def predict(data, rows=512):\n",
    "    split_array = np.array_split(data, int(data.shape[0] / float(rows) + 1))\n",
    "    predictions = ''\n",
    "    for array in split_array:\n",
    "        predictions = ','.join([predictions, xgb_predictor.predict(array).decode('utf-8')])\n",
    "    \n",
    "    return np.fromstring(predictions[1:], sep=',')"
   ]
  },
  {
   "cell_type": "code",
   "execution_count": 33,
   "metadata": {},
   "outputs": [],
   "source": [
    "test_X = pd.read_csv(os.path.join(data_dir, 'test.csv'), header=None).values\n",
    "\n",
    "predictions = predict(test_X)\n",
    "predictions = [round(num) for num in predictions]"
   ]
  },
  {
   "cell_type": "markdown",
   "metadata": {},
   "source": [
    "Lastly, we check to see what the accuracy of our model is."
   ]
  },
  {
   "cell_type": "code",
   "execution_count": 34,
   "metadata": {},
   "outputs": [
    {
     "data": {
      "text/plain": [
       "0.8598"
      ]
     },
     "execution_count": 34,
     "metadata": {},
     "output_type": "execute_result"
    }
   ],
   "source": [
    "from sklearn.metrics import accuracy_score\n",
    "accuracy_score(test_y, predictions)"
   ]
  },
  {
   "cell_type": "markdown",
   "metadata": {},
   "source": [
    "And the results here should agree with the model testing that we did earlier using the batch transform job.\n",
    "\n",
    "### Cleaning up\n",
    "\n",
    "Now that we've determined that deploying our model works as expected, we are going to shut it down. Remember that the longer the endpoint is left running, the greater the cost and since we have a bit more work to do before we are able to use our endpoint with our simple web app, we should shut everything down."
   ]
  },
  {
   "cell_type": "code",
   "execution_count": null,
   "metadata": {},
   "outputs": [],
   "source": [
    "xgb_predictor.delete_endpoint()"
   ]
  },
  {
   "cell_type": "markdown",
   "metadata": {},
   "source": [
    "## Step 7: Putting our model to work\n",
    "\n",
    "As we've mentioned a few times now, our goal is to have our model deployed and then access it using a very simple web app. The intent is for this web app to take some user submitted data (a review), send it off to our endpoint (the model) and then display the result.\n",
    "\n",
    "However, there is a small catch. Currently the only way we can access the endpoint to send it data is using the SageMaker API. We can, if we wish, expose the actual URL that our model's endpoint is receiving data from, however, if we just send it data ourselves we will not get anything in return. This is because the endpoint created by SageMaker requires the entity accessing it have the correct permissions. So, we would need to somehow authenticate our web app with AWS.\n",
    "\n",
    "Having a website that authenticates to AWS seems a bit beyond the scope of this lesson so we will opt for an alternative approach. Namely, we will create a new endpoint which does not require authentication and which acts as a proxy for the SageMaker endpoint.\n",
    "\n",
    "As an additional constraint, we will try to avoid doing any data processing in the web app itself. Remember that when we constructed and tested our model we started with a movie review, then we simplified it by removing any html formatting and punctuation, then we constructed a bag of words embedding and the resulting vector is what we sent to our model. All of this needs to be done to our user input as well.\n",
    "\n",
    "Fortunately we can do all of this data processing in the backend, using Amazon's Lambda service.\n",
    "\n",
    "<img src=\"Web App Diagram.svg\">\n",
    "\n",
    "The diagram above gives an overview of how the various services will work together. On the far right is the model which we trained above and which will be deployed using SageMaker. On the far left is our web app that collects a user's movie review, sends it off and expects a positive or negative sentiment in return.\n",
    "\n",
    "In the middle is where some of the magic happens. We will construct a Lambda function, which you can think of as a straightforward Python function that can be executed whenever a specified event occurs. This Python function will do the data processing we need to perform on a user submitted review. In addition, we will give this function permission to send and recieve data from a SageMaker endpoint.\n",
    "\n",
    "Lastly, the method we will use to execute the Lambda function is a new endpoint that we will create using API Gateway. This endpoint will be a url that listens for data to be sent to it. Once it gets some data it will pass that data on to the Lambda function and then return whatever the Lambda function returns. Essentially it will act as an interface that lets our web app communicate with the Lambda function.\n",
    "\n",
    "### Processing a single review\n",
    "\n",
    "For now, suppose we are given a movie review by our user in the form of a string, like so:"
   ]
  },
  {
   "cell_type": "code",
   "execution_count": 35,
   "metadata": {},
   "outputs": [],
   "source": [
    "test_review = \"Nothing but a disgusting materialistic pageant of glistening abed remote control greed zombies, totally devoid of any heart or heat. A romantic comedy that has zero romantic chemestry and zero laughs!\""
   ]
  },
  {
   "cell_type": "markdown",
   "metadata": {},
   "source": [
    "How do we go from this string to the bag of words feature vector that is expected by our model?\n",
    "\n",
    "If we recall at the beginning of this notebook, the first step is to remove any unnecessary characters using the `review_to_words` method. Remember that we intentionally did this in a very simplistic way. This is because we are going to have to copy this method to our (eventual) Lambda function (we will go into more detail later) and this means it needs to be rather simplistic."
   ]
  },
  {
   "cell_type": "code",
   "execution_count": 36,
   "metadata": {},
   "outputs": [
    {
     "name": "stdout",
     "output_type": "stream",
     "text": [
      "nothing but a disgusting materialistic pageant of glistening abed remote control greed zombies totally devoid of any heart or heat a romantic comedy that has zero romantic chemestry and zero laughs\n"
     ]
    }
   ],
   "source": [
    "test_words = review_to_words(test_review)\n",
    "print(test_words)"
   ]
  },
  {
   "cell_type": "markdown",
   "metadata": {},
   "source": [
    "Next, we need to construct a bag of words embedding of the `test_words` string. To do this, remember that a bag of words embedding uses a `vocabulary` consisting of the most frequently appearing words in a set of documents. Then, for each word in the vocabulary we record the number of times that word appears in `test_words`. We constructed the `vocabulary` earlier using the training set for our problem so encoding `test_words` is relatively straightforward."
   ]
  },
  {
   "cell_type": "code",
   "execution_count": 37,
   "metadata": {},
   "outputs": [],
   "source": [
    "def bow_encoding(words, vocabulary):\n",
    "    bow = [0] * len(vocabulary) # Start by setting the count for each word in the vocabulary to zero.\n",
    "    for word in words.split():  # For each word in the string\n",
    "        if word in vocabulary:  # If the word is one that occurs in the vocabulary, increase its count.\n",
    "            bow[vocabulary[word]] += 1\n",
    "    return bow"
   ]
  },
  {
   "cell_type": "code",
   "execution_count": 38,
   "metadata": {
    "scrolled": false
   },
   "outputs": [
    {
     "name": "stdout",
     "output_type": "stream",
     "text": [
      "[0, 0, 0, 0, 0, 0, 0, 0, 0, 0, 0, 0, 0, 0, 0, 0, 0, 0, 0, 0, 0, 0, 0, 0, 0, 0, 0, 0, 0, 0, 0, 0, 0, 0, 0, 0, 0, 0, 0, 0, 0, 0, 0, 0, 0, 0, 0, 0, 0, 0, 0, 0, 0, 0, 0, 0, 0, 0, 0, 0, 0, 0, 0, 0, 0, 0, 0, 0, 0, 0, 0, 0, 0, 0, 0, 0, 0, 0, 0, 0, 0, 0, 0, 0, 0, 0, 0, 0, 0, 0, 0, 0, 0, 0, 0, 0, 0, 0, 0, 0, 0, 0, 0, 0, 0, 0, 0, 0, 0, 0, 0, 0, 0, 0, 0, 0, 0, 0, 0, 0, 0, 0, 0, 0, 0, 0, 0, 0, 0, 0, 0, 0, 0, 0, 0, 0, 0, 0, 0, 0, 0, 0, 0, 0, 0, 0, 0, 0, 0, 0, 0, 0, 0, 0, 0, 0, 0, 0, 0, 0, 0, 0, 0, 0, 0, 0, 0, 0, 0, 0, 0, 0, 0, 0, 0, 0, 0, 0, 0, 0, 0, 0, 0, 0, 0, 0, 0, 0, 0, 0, 0, 0, 0, 0, 0, 0, 0, 0, 0, 0, 0, 0, 0, 0, 0, 0, 0, 0, 0, 0, 0, 0, 0, 0, 0, 0, 0, 0, 0, 0, 0, 0, 0, 0, 0, 0, 1, 0, 0, 0, 0, 0, 0, 0, 0, 0, 0, 0, 0, 0, 0, 0, 0, 0, 0, 0, 0, 0, 0, 0, 0, 0, 0, 0, 0, 0, 1, 0, 0, 0, 0, 0, 0, 0, 0, 0, 0, 0, 0, 0, 0, 0, 0, 0, 0, 0, 0, 0, 0, 0, 0, 0, 0, 0, 0, 0, 0, 0, 0, 0, 0, 0, 0, 0, 0, 0, 0, 0, 0, 0, 0, 0, 0, 0, 0, 0, 0, 0, 0, 0, 0, 0, 0, 0, 0, 0, 0, 0, 0, 0, 0, 0, 0, 0, 0, 0, 0, 0, 0, 0, 0, 0, 0, 0, 0, 0, 0, 0, 0, 0, 0, 0, 0, 0, 0, 0, 0, 0, 0, 0, 0, 0, 0, 0, 0, 0, 0, 0, 0, 0, 0, 0, 0, 0, 0, 0, 0, 0, 0, 0, 0, 0, 0, 0, 0, 0, 0, 0, 0, 0, 0, 0, 0, 0, 0, 0, 0, 0, 0, 0, 0, 0, 0, 0, 0, 0, 0, 0, 0, 0, 0, 0, 0, 0, 0, 0, 0, 0, 0, 0, 0, 0, 0, 0, 0, 0, 0, 0, 0, 0, 0, 0, 0, 0, 0, 0, 0, 0, 0, 0, 0, 0, 0, 0, 0, 0, 0, 0, 0, 0, 0, 0, 0, 0, 0, 0, 0, 0, 0, 0, 0, 0, 0, 0, 0, 0, 0, 0, 0, 0, 0, 0, 0, 0, 0, 0, 0, 0, 0, 0, 0, 0, 0, 0, 0, 0, 0, 0, 0, 0, 0, 0, 0, 0, 0, 0, 0, 0, 0, 0, 0, 0, 0, 0, 0, 0, 0, 0, 0, 0, 0, 0, 0, 0, 0, 0, 0, 0, 0, 0, 0, 0, 0, 0, 0, 0, 0, 0, 0, 0, 0, 0, 0, 0, 0, 0, 0, 0, 0, 0, 0, 0, 0, 0, 0, 0, 0, 0, 0, 0, 0, 0, 0, 0, 0, 0, 0, 0, 0, 0, 0, 0, 0, 0, 0, 0, 0, 0, 0, 0, 0, 0, 0, 0, 0, 0, 0, 0, 0, 0, 0, 0, 0, 0, 0, 0, 0, 0, 0, 0, 0, 0, 0, 0, 0, 0, 0, 0, 0, 0, 0, 0, 0, 0, 0, 0, 0, 0, 0, 0, 0, 0, 0, 0, 0, 0, 0, 0, 0, 0, 0, 0, 0, 0, 0, 0, 0, 0, 0, 0, 0, 0, 0, 0, 0, 0, 0, 0, 0, 0, 0, 0, 0, 0, 0, 0, 1, 0, 0, 0, 0, 0, 0, 0, 0, 0, 0, 0, 0, 0, 0, 0, 0, 0, 0, 0, 0, 0, 0, 0, 0, 0, 0, 0, 0, 0, 0, 0, 0, 0, 0, 0, 0, 0, 0, 0, 0, 0, 0, 0, 0, 0, 0, 0, 0, 0, 0, 0, 0, 0, 0, 0, 0, 0, 0, 0, 0, 0, 0, 0, 0, 0, 0, 0, 0, 0, 0, 0, 0, 0, 0, 0, 0, 0, 0, 0, 0, 0, 0, 0, 0, 0, 0, 0, 0, 0, 0, 0, 0, 0, 0, 0, 0, 0, 0, 0, 0, 0, 0, 0, 0, 0, 0, 0, 0, 0, 0, 0, 0, 0, 0, 0, 0, 0, 0, 0, 0, 0, 0, 0, 0, 0, 0, 0, 0, 0, 0, 0, 0, 0, 0, 0, 0, 0, 0, 0, 0, 0, 0, 0, 0, 0, 0, 0, 0, 0, 0, 0, 0, 0, 0, 0, 0, 0, 0, 0, 0, 0, 0, 0, 0, 0, 0, 0, 0, 0, 0, 0, 0, 0, 0, 0, 0, 0, 0, 0, 0, 0, 0, 0, 0, 0, 0, 0, 0, 0, 0, 0, 0, 0, 0, 0, 0, 0, 0, 0, 0, 0, 0, 0, 0, 0, 0, 0, 0, 0, 0, 0, 0, 0, 0, 0, 0, 0, 0, 0, 0, 0, 0, 0, 0, 0, 0, 0, 0, 0, 0, 0, 0, 0, 0, 0, 0, 0, 0, 0, 0, 0, 0, 0, 0, 0, 0, 0, 0, 0, 0, 0, 0, 0, 1, 0, 0, 0, 0, 0, 0, 0, 0, 0, 0, 0, 0, 0, 0, 0, 0, 0, 0, 0, 0, 0, 0, 0, 0, 0, 0, 0, 0, 0, 0, 0, 0, 0, 0, 0, 0, 0, 0, 0, 0, 0, 0, 0, 0, 0, 0, 0, 0, 0, 0, 0, 0, 0, 0, 0, 0, 0, 0, 0, 0, 0, 0, 0, 0, 0, 0, 0, 0, 0, 0, 0, 0, 0, 0, 0, 0, 0, 0, 0, 0, 0, 0, 0, 0, 0, 0, 1, 0, 0, 0, 0, 0, 0, 0, 0, 0, 0, 0, 0, 0, 0, 0, 0, 0, 0, 0, 0, 0, 0, 0, 0, 0, 0, 0, 0, 0, 0, 0, 0, 0, 0, 0, 0, 0, 0, 0, 0, 0, 0, 0, 0, 0, 0, 0, 0, 0, 0, 0, 0, 0, 0, 0, 0, 0, 0, 0, 0, 0, 0, 0, 0, 0, 0, 0, 0, 0, 0, 0, 0, 0, 0, 0, 0, 0, 0, 0, 0, 0, 0, 0, 0, 0, 0, 0, 0, 0, 0, 0, 0, 0, 0, 0, 0, 0, 0, 0, 0, 0, 0, 0, 0, 0, 0, 0, 0, 0, 0, 0, 0, 0, 0, 0, 0, 0, 0, 0, 0, 0, 0, 0, 0, 0, 0, 0, 0, 0, 0, 0, 0, 0, 0, 0, 0, 0, 0, 0, 0, 0, 0, 0, 0, 0, 0, 0, 0, 0, 0, 0, 0, 0, 0, 0, 0, 0, 0, 0, 0, 0, 0, 0, 0, 0, 0, 0, 0, 0, 0, 0, 0, 0, 0, 0, 0, 0, 0, 0, 0, 0, 0, 0, 0, 0, 0, 0, 0, 0, 0, 0, 0, 0, 0, 0, 0, 0, 0, 0, 0, 0, 0, 0, 0, 0, 0, 0, 0, 0, 0, 0, 0, 0, 0, 0, 0, 0, 0, 0, 0, 0, 0, 0, 0, 0, 0, 0, 0, 0, 0, 0, 0, 0, 0, 0, 0, 0, 0, 0, 0, 0, 0, 0, 0, 0, 0, 0, 0, 0, 0, 0, 0, 1, 0, 0, 0, 0, 0, 0, 0, 0, 0, 0, 0, 0, 0, 0, 0, 0, 0, 0, 0, 0, 0, 0, 0, 0, 0, 0, 0, 0, 0, 0, 0, 0, 0, 0, 0, 0, 0, 0, 0, 0, 0, 0, 0, 0, 0, 0, 0, 0, 0, 0, 0, 0, 0, 0, 0, 1, 0, 0, 0, 0, 0, 0, 0, 0, 0, 0, 0, 0, 0, 0, 0, 0, 0, 0, 0, 0, 0, 0, 0, 0, 0, 0, 0, 0, 0, 0, 0, 0, 0, 0, 0, 0, 0, 0, 0, 0, 0, 0, 0, 0, 0, 0, 0, 0, 0, 0, 0, 0, 0, 0, 0, 0, 0, 0, 0, 0, 0, 0, 0, 0, 0, 0, 0, 0, 0, 0, 0, 0, 0, 0, 0, 0, 0, 0, 0, 0, 0, 0, 0, 0, 0, 0, 0, 0, 0, 0, 0, 0, 0, 0, 0, 0, 0, 0, 0, 0, 0, 0, 0, 0, 0, 0, 0, 0, 0, 0, 0, 0, 0, 0, 0, 0, 0, 0, 0, 0, 0, 0, 0, 0, 0, 0, 0, 0, 0, 0, 0, 0, 0, 0, 0, 0, 0, 0, 0, 0, 0, 0, 0, 0, 0, 0, 0, 0, 0, 0, 0, 0, 0, 0, 0, 0, 0, 0, 0, 0, 0, 0, 0, 0, 0, 0, 0, 0, 0, 0, 0, 0, 0, 0, 0, 0, 0, 0, 0, 0, 0, 0, 0, 0, 0, 0, 0, 0, 0, 0, 0, 0, 0, 0, 0, 0, 0, 0, 0, 0, 0, 0, 0, 0, 0, 0, 0, 0, 0, 0, 0, 0, 0, 0, 0, 0, 0, 0, 0, 0, 0, 0, 0, 0, 0, 0, 0, 0, 0, 0, 0, 0, 0, 0, 0, 0, 0, 0, 0, 0, 0, 0, 0, 0, 0, 0, 0, 0, 0, 0, 0, 0, 0, 0, 0, 0, 0, 0, 0, 0, 0, 0, 0, 0, 0, 0, 0, 0, 0, 0, 0, 0, 0, 0, 0, 0, 0, 0, 0, 0, 0, 0, 0, 0, 0, 0, 0, 0, 0, 0, 0, 0, 0, 0, 0, 0, 0, 0, 0, 0, 0, 0, 0, 0, 0, 0, 0, 0, 0, 0, 0, 0, 0, 0, 0, 0, 0, 0, 0, 0, 0, 0, 0, 0, 0, 0, 0, 0, 0, 0, 0, 0, 0, 0, 0, 0, 0, 0, 0, 0, 0, 0, 0, 0, 0, 0, 0, 0, 0, 0, 0, 0, 0, 0, 0, 0, 0, 0, 0, 0, 0, 0, 0, 0, 0, 0, 0, 0, 0, 0, 0, 0, 0, 0, 0, 0, 0, 0, 0, 0, 0, 0, 0, 0, 0, 0, 0, 0, 0, 0, 0, 0, 0, 0, 0, 0, 0, 0, 0, 0, 0, 0, 0, 0, 0, 0, 0, 0, 0, 0, 0, 0, 0, 0, 0, 0, 0, 0, 0, 0, 0, 0, 0, 0, 0, 0, 0, 0, 0, 0, 0, 0, 0, 0, 0, 0, 0, 0, 0, 0, 0, 0, 0, 0, 0, 0, 0, 0, 0, 0, 0, 0, 0, 0, 0, 0, 0, 0, 0, 0, 0, 0, 0, 0, 0, 0, 0, 0, 0, 0, 0, 0, 0, 0, 0, 0, 0, 0, 0, 0, 0, 0, 0, 0, 0, 0, 0, 0, 0, 0, 0, 0, 0, 0, 0, 0, 0, 0, 0, 0, 0, 0, 0, 0, 0, 0, 0, 0, 0, 0, 0, 0, 0, 0, 0, 0, 0, 0, 0, 0, 0, 0, 0, 0, 0, 0, 0, 0, 0, 0, 0, 0, 0, 0, 0, 0, 0, 0, 0, 0, 0, 0, 0, 0, 0, 0, 0, 0, 0, 0, 0, 0, 0, 0, 0, 0, 0, 0, 0, 0, 0, 0, 0, 0, 0, 0, 0, 0, 0, 0, 0, 0, 0, 0, 0, 0, 0, 0, 0, 0, 0, 0, 0, 0, 0, 0, 0, 0, 0, 0, 0, 0, 0, 0, 0, 0, 0, 0, 0, 0, 0, 0, 0, 0, 0, 0, 0, 0, 0, 0, 0, 0, 0, 0, 0, 0, 0, 0, 0, 0, 0, 0, 0, 0, 0, 0, 0, 0, 0, 0, 0, 0, 0, 0, 0, 0, 0, 0, 0, 0, 0, 0, 0, 0, 0, 0, 0, 0, 0, 0, 0, 0, 0, 0, 0, 0, 0, 0, 0, 0, 0, 0, 0, 0, 0, 0, 0, 0, 0, 0, 0, 0, 0, 0, 0, 0, 0, 0, 0, 0, 0, 1, 0, 0, 0, 0, 0, 0, 0, 0, 0, 0, 0, 0, 0, 0, 0, 0, 0, 0, 0, 0, 0, 0, 0, 0, 0, 0, 0, 0, 0, 0, 0, 0, 0, 0, 0, 0, 0, 0, 0, 0, 0, 0, 0, 0, 0, 0, 0, 0, 0, 0, 0, 0, 0, 0, 0, 0, 0, 0, 0, 0, 0, 0, 0, 0, 0, 0, 0, 0, 0, 0, 0, 0, 0, 0, 1, 0, 0, 0, 0, 0, 0, 0, 0, 0, 0, 0, 0, 0, 0, 0, 0, 0, 0, 0, 0, 1, 0, 0, 1, 0, 0, 0, 0, 0, 0, 0, 0, 0, 0, 0, 0, 0, 0, 0, 0, 0, 0, 0, 0, 0, 0, 0, 0, 0, 0, 0, 0, 0, 0, 0, 0, 0, 0, 0, 0, 0, 0, 0, 0, 0, 0, 0, 0, 0, 0, 0, 0, 0, 0, 0, 0, 0, 0, 0, 0, 0, 0, 0, 0, 0, 0, 0, 0, 0, 0, 0, 0, 0, 0, 0, 0, 0, 0, 0, 0, 0, 0, 0, 0, 0, 0, 0, 0, 0, 0, 0, 0, 0, 0, 0, 0, 0, 0, 0, 0, 0, 0, 0, 0, 0, 0, 0, 0, 0, 0, 0, 0, 0, 0, 0, 0, 0, 0, 0, 0, 0, 0, 0, 0, 0, 0, 0, 0, 0, 0, 0, 0, 0, 0, 0, 0, 0, 0, 0, 0, 0, 0, 0, 0, 0, 0, 0, 0, 0, 0, 0, 0, 0, 0, 0, 0, 0, 0, 0, 0, 0, 0, 0, 0, 0, 0, 0, 0, 0, 0, 0, 0, 0, 0, 0, 0, 0, 0, 0, 0, 0, 0, 0, 0, 0, 0, 0, 0, 0, 0, 0, 0, 0, 0, 0, 0, 0, 0, 0, 0, 0, 0, 0, 0, 0, 0, 0, 0, 0, 0, 0, 0, 0, 0, 0, 0, 0, 0, 0, 0, 0, 0, 0, 0, 0, 0, 0, 0, 0, 0, 0, 0, 0, 0, 0, 0, 0, 0, 0, 0, 0, 0, 0, 0, 0, 0, 0, 0, 0, 0, 0, 0, 0, 0, 0, 0, 0, 0, 0, 0, 0, 0, 0, 0, 0, 0, 0, 0, 0, 0, 0, 0, 0, 0, 0, 0, 0, 0, 0, 0, 0, 0, 0, 0, 0, 0, 0, 0, 0, 0, 0, 0, 0, 0, 0, 0, 0, 0, 0, 0, 0, 0, 0, 0, 0, 0, 0, 0, 0, 0, 0, 0, 0, 0, 0, 0, 0, 0, 0, 0, 0, 0, 0, 0, 0, 0, 0, 0, 0, 0, 0, 0, 0, 0, 0, 0, 0, 0, 0, 0, 0, 0, 0, 0, 0, 0, 0, 0, 0, 0, 0, 0, 0, 0, 0, 0, 0, 0, 0, 0, 0, 0, 0, 0, 0, 0, 0, 0, 0, 0, 0, 0, 0, 0, 0, 0, 0, 0, 0, 0, 0, 0, 0, 0, 0, 0, 0, 0, 0, 0, 0, 0, 0, 0, 0, 0, 0, 0, 0, 0, 0, 0, 0, 0, 0, 0, 0, 0, 0, 0, 0, 0, 0, 0, 0, 0, 0, 0, 0, 0, 0, 0, 0, 0, 0, 0, 0, 0, 0, 0, 0, 0, 0, 0, 0, 0, 0, 0, 0, 0, 0, 0, 0, 0, 0, 0, 0, 0, 0, 0, 0, 0, 0, 0, 0, 0, 0, 0, 0, 0, 0, 0, 0, 0, 0, 0, 0, 0, 0, 0, 1, 0, 0, 0, 0, 0, 0, 0, 0, 0, 0, 0, 0, 0, 0, 0, 0, 0, 0, 0, 0, 0, 0, 0, 0, 0, 0, 0, 0, 0, 0, 0, 0, 0, 0, 0, 0, 0, 0, 0, 0, 0, 0, 0, 0, 0, 0, 0, 0, 0, 0, 0, 0, 0, 0, 0, 0, 0, 0, 0, 0, 0, 0, 0, 0, 0, 0, 0, 0, 0, 0, 0, 0, 0, 0, 0, 0, 0, 0, 0, 0, 0, 0, 0, 0, 0, 0, 0, 0, 0, 0, 0, 0, 0, 0, 0, 0, 0, 0, 0, 0, 0, 0, 0, 0, 0, 0, 0, 0, 0, 0, 0, 0, 0, 0, 0, 0, 0, 0, 0, 0, 0, 0, 0, 0, 0, 0, 0, 0, 0, 0, 0, 0, 0, 0, 0, 0, 0, 0, 0, 0, 0, 0, 0, 0, 0, 0, 0, 0, 0, 0, 0, 0, 0, 0, 0, 0, 0, 0, 0, 0, 0, 0, 0, 0, 0, 0, 0, 0, 0, 0, 0, 0, 0, 0, 0, 0, 0, 0, 0, 0, 0, 0, 0, 0, 0, 0, 0, 0, 0, 0, 0, 0, 0, 0, 0, 0, 0, 0, 0, 0, 0, 0, 0, 0, 0, 0, 0, 0, 0, 0, 0, 0, 0, 0, 0, 0, 0, 0, 0, 0, 0, 0, 0, 0, 0, 0, 0, 0, 0, 0, 0, 0, 0, 0, 0, 0, 0, 0, 0, 0, 0, 0, 0, 0, 0, 0, 0, 0, 0, 0, 0, 0, 0, 0, 0, 0, 0, 0, 0, 0, 0, 0, 0, 0, 0, 0, 0, 0, 0, 0, 0, 0, 0, 0, 0, 0, 0, 0, 0, 0, 0, 0, 0, 0, 0, 0, 0, 0, 0, 0, 0, 0, 0, 0, 0, 0, 0, 0, 0, 0, 0, 0, 0, 0, 0, 0, 0, 0, 0, 0, 0, 0, 0, 0, 0, 0, 0, 0, 0, 0, 0, 0, 0, 0, 0, 0, 0, 0, 0, 0, 0, 0, 0, 0, 0, 0, 0, 0, 0, 0, 0, 0, 0, 0, 0, 0, 0, 0, 0, 0, 0, 0, 0, 0, 0, 0, 0, 0, 0, 0, 0, 0, 0, 0, 0, 0, 0, 0, 0, 0, 0, 0, 0, 0, 0, 0, 0, 0, 0, 0, 0, 0, 0, 0, 0, 0, 0, 0, 0, 0, 0, 0, 0, 0, 0, 0, 0, 0, 0, 0, 0, 0, 0, 0, 0, 0, 0, 0, 0, 0, 0, 0, 0, 0, 0, 0, 0, 0, 0, 0, 0, 0, 0, 0, 0, 0, 0, 0, 0, 0, 0, 0, 0, 0, 0, 0, 0, 0, 0, 0, 0, 0, 0, 0, 0, 0, 0, 0, 0, 0, 0, 0, 0, 0, 0, 0, 0, 0, 0, 0, 0, 0, 0, 0, 0, 0, 0, 0, 0, 0, 0, 0, 0, 0, 0, 0, 0, 0, 0, 0, 0, 0, 0, 0, 0, 0, 0, 0, 0, 0, 0, 0, 0, 0, 0, 0, 0, 0, 0, 0, 0, 0, 0, 0, 0, 0, 0, 0, 0, 0, 0, 0, 1, 0, 0, 0, 0, 0, 0, 0, 0, 0, 0, 0, 0, 0, 0, 0, 0, 0, 0, 0, 0, 0, 0, 0, 0, 0, 0, 0, 0, 0, 0, 0, 0, 0, 0, 0, 2, 0, 0, 0, 0, 0, 0, 0, 0, 0, 0, 0, 0, 0, 0, 0, 0, 0, 0, 0, 0, 0, 0, 0, 0, 0, 0, 0, 0, 0, 0, 0, 0, 0, 0, 0, 0, 0, 0, 0, 0, 1, 0, 0, 0, 0, 0, 0, 0, 0, 0, 0, 0, 0, 0, 0, 0, 0, 0, 0, 0, 0, 0, 0, 0, 0, 0, 0, 0, 0, 0, 0, 0, 0, 0, 0, 0, 0, 0, 0, 0, 0, 0, 0, 0, 0, 0, 0, 0, 0, 0, 0, 0, 0, 0, 0, 0, 0, 0, 0, 0, 0, 0, 0, 0, 0, 0, 0, 0, 0, 0, 0, 0, 0, 0, 0, 0, 0, 0, 0, 0, 0, 0, 0, 0, 0, 0, 0, 0, 0, 0, 0, 0, 0, 0, 0, 0, 0, 0, 0, 0, 0, 0, 0, 0, 0, 0, 0, 0, 0, 0, 0, 0, 0, 0, 0, 0, 0, 0, 0, 0, 0, 0, 0, 0, 0, 0, 0, 0, 0, 0, 0, 0, 0, 0, 0, 0, 0, 0, 0, 0, 0, 0, 0, 0, 0, 0, 0, 0, 0, 0, 0, 0, 0, 0, 0, 0, 0, 0, 0, 0, 0, 0, 0, 0, 0, 0, 0, 0, 0, 0, 0, 0, 0, 0, 0, 0, 0, 0, 0, 0, 0, 0, 0, 0, 0, 0, 0, 0, 0, 0, 0, 0, 0, 0, 0, 0, 0, 0, 0, 0, 0, 0, 0, 0, 0, 0, 0, 0, 0, 0, 0, 0, 0, 0, 0, 0, 0, 0, 0, 0, 0, 0, 0, 0, 0, 0, 0, 0, 0, 0, 0, 0, 0, 0, 0, 0, 0, 0, 0, 0, 0, 0, 0, 0, 0, 0, 0, 0, 0, 0, 0, 0, 0, 0, 0, 0, 0, 0, 0, 0, 0, 0, 0, 0, 0, 0, 0, 0, 0, 0, 0, 0, 0, 0, 0, 0, 0, 0, 0, 0, 0, 0, 0, 0, 0, 0, 0, 0, 0, 0, 0, 0, 0, 0, 0, 0, 0, 0, 0, 0, 0, 0, 0, 0, 0, 0, 0, 0, 0, 0, 0, 0, 0, 0, 0, 0, 0, 0, 0, 0, 0, 0, 0, 0, 0, 0, 0, 0, 0, 0, 0, 0, 0, 0, 0, 0, 0, 0, 0, 0, 0, 0, 0, 0, 0, 0, 0, 0, 0, 0, 0, 0, 0, 0, 0, 0, 0, 0, 0, 0, 0, 0, 0, 0, 0, 0, 0, 0, 0, 0, 0, 0, 0, 0, 0, 0, 0, 0, 0, 0, 0, 0, 0, 0, 0, 0, 0, 0, 0, 0, 0, 0, 0, 0, 0, 0, 0, 0, 0, 0, 0, 0, 0, 0, 0, 0, 0, 0, 0, 0, 0, 0, 0, 0, 0, 0, 0, 0, 0, 0, 0, 0, 0, 0, 0, 0, 0, 0, 0, 0, 0, 0, 0, 0, 0, 0, 0, 0, 0, 0, 0, 0, 0, 0, 0, 0, 0, 0, 0, 0, 0, 0, 0, 0, 0, 0, 0, 0, 0, 0, 0, 0, 0, 0, 0, 0, 0, 0, 0, 0, 0, 0, 0, 0, 0, 0, 0, 0, 0, 0, 0, 0, 0, 0, 0, 0, 0, 0, 0, 0, 0, 0, 0, 0, 0, 0, 0, 0, 1, 0, 0, 0, 0, 0, 0, 0, 0, 0, 0, 0, 0, 0, 0, 0, 0, 0, 0, 0, 0, 0, 0, 0, 0, 0, 0, 0, 0, 0, 0, 0, 0, 0, 0, 0, 0, 0, 0, 0, 0, 0, 0, 0, 0, 0, 0, 0, 0, 0, 0, 0, 0, 0, 0, 0, 0, 0, 0, 0, 0, 0, 0, 0, 0, 0, 0, 0, 0, 0, 0, 0, 0, 0, 0, 0, 0, 0, 0, 0, 0, 0, 0, 0, 0, 0, 0, 0, 0, 0, 0, 0, 0, 0, 0, 0, 0, 0, 0, 0, 0, 0, 0, 0, 0, 0, 0, 0, 0, 0, 0, 2, 0, 0, 0, 0, 0, 0, 0, 0, 0, 0, 0, 0, 0, 0, 0, 0, 0, 0, 0, 0, 0, 0, 0, 0, 0, 0, 0, 0, 0, 0, 0, 0, 0, 0, 0, 0, 0, 0, 0, 0, 0, 0, 0, 0, 0, 0, 0, 0, 0, 0, 0, 0, 0, 0, 0, 0, 0, 0, 0, 0, 0, 0, 0, 0, 0, 0, 0, 0, 0, 0, 0, 0, 0, 0, 0, 0, 0, 0, 0, 0, 0, 0, 0, 0, 0, 0, 0, 0, 0, 0, 0, 0, 0, 0, 0, 0, 0, 0, 0, 0, 0, 0, 0, 0, 0, 0, 0, 0, 0, 0, 0, 0, 0, 0, 0, 0, 0, 0, 0, 0, 0, 0, 0, 0, 0, 0, 0, 0, 0, 0, 0, 0, 0, 0, 0, 0, 0, 0, 0, 0, 0, 0, 0, 0, 0, 0, 0, 0, 0, 0, 0, 0, 0, 0, 0, 0, 0, 0, 0, 0, 0, 0, 0, 0, 0, 0, 0, 0, 0, 0, 0, 0, 0, 0, 0, 0, 0, 0, 0, 0, 0, 0, 0, 0, 0, 0, 0, 0, 0, 0, 0, 0, 0, 0, 0, 0, 0, 0, 0, 0, 0, 0, 0, 0, 0, 0, 0, 0, 0, 0, 0, 0, 0, 0, 0, 0, 0, 0, 0, 0, 0, 0, 0, 0, 0, 0, 0, 0, 0, 0, 0, 0, 0, 0, 0, 0, 0, 0, 0, 0, 0, 0, 0, 0, 0, 0, 0, 0, 0, 0, 0, 0, 0, 0, 0, 0, 0, 0, 0, 0, 0, 0, 0, 0, 0, 0, 0, 0, 0, 0, 0, 0, 0, 0, 0, 0, 0, 0, 0, 0, 0, 0, 0, 0, 0, 0, 0, 0, 0, 0, 0, 0, 0, 0, 0, 0, 0, 0, 0, 0, 0, 0, 0, 0, 0, 0, 0, 0, 0, 0, 0, 0, 0, 0, 0, 0, 0, 0, 0, 0, 0, 0, 0, 0, 0, 0, 0, 0, 0, 0, 0, 0, 0, 0, 0, 0, 0, 0, 0, 0, 0, 0, 0, 0, 0, 0, 0, 0, 0, 0, 0, 0, 0, 0, 0, 0, 0, 0, 0, 0, 0, 0, 0, 0, 0, 0, 0, 0, 0, 0, 0, 0, 0, 0, 0, 0, 0, 0, 0, 0, 0, 0, 0, 0, 0, 0, 0, 0, 0, 0, 0, 0, 0, 0, 0, 0, 0, 0, 0, 0, 0, 0, 0, 0, 0, 0, 0, 0, 0, 0, 0, 0, 0, 0, 0, 0, 0, 0, 0, 0, 0, 0, 0, 0, 0, 0, 0, 0, 0, 0, 0, 0, 0, 0, 0, 0, 0, 0, 0, 0, 0, 0, 0, 0, 0, 0, 0, 0, 0, 0, 0, 0, 0, 0, 0, 0, 0, 0, 0, 0, 0, 0, 0, 0, 0, 0, 0, 0, 0, 0, 0, 0, 0, 0, 0, 0, 0, 0, 0, 0, 0, 0, 0, 0, 0, 0, 0, 0, 0, 0, 0, 0, 0, 0, 0, 0, 0, 0, 0, 0, 0, 0, 0, 0, 0, 0, 0, 0, 0, 0, 0, 0, 0, 0, 0, 0, 0, 0, 0, 0, 0, 0, 0, 0, 0, 0, 0, 0, 0, 0, 0, 0, 0, 0, 0, 0, 0, 0, 0, 0, 0, 0, 0, 0, 0, 0, 0, 0, 0, 0, 0, 0, 0, 0, 0, 0, 0, 0, 0, 0, 0, 0, 0, 0, 0, 0, 0, 0, 0, 0, 0, 0, 0, 0, 0, 0, 0, 0, 0, 0, 0, 0, 0, 0, 0, 0, 0, 0, 0, 0, 0, 0, 0, 0, 0, 0, 0, 0, 0, 0, 0, 0, 0, 0, 0, 0, 0, 0, 0, 0, 0, 0, 0, 0, 0, 0, 0, 0, 0, 0, 0, 0, 0, 0, 0, 0, 0, 0, 0, 0, 0, 0, 0, 0, 0, 0, 0, 0, 0, 0, 0, 0, 0, 0, 0, 0, 0, 0, 0, 0, 0, 0, 0, 0, 0, 0, 0, 0, 0, 0, 0, 0, 0, 0, 0, 0, 0, 0, 0, 0, 0, 0, 0, 0, 0, 0, 0, 0, 0, 0, 0, 0, 0, 0, 0, 0, 0, 0, 0, 0, 1, 0, 0, 0, 0, 0, 0, 0, 0, 0, 0, 0, 0, 0, 0, 0, 0, 0, 0, 0, 0, 0, 0, 0, 0, 0, 0, 0, 0, 0, 0, 0, 0, 0, 0, 0, 0, 0, 0, 0, 0, 0, 0, 0, 0, 0, 0, 0, 0, 0, 0, 0, 0, 0, 0, 0, 0, 0, 0, 0, 0, 0, 0, 0, 0, 0, 0, 0, 0, 0, 0, 0, 0, 0, 0, 0, 0, 0, 0, 0, 0, 0, 0, 0, 0, 0, 0, 0, 0, 0, 0, 0, 0, 0, 0, 0, 0, 0, 0, 0, 0, 0, 0, 0, 0, 0, 0, 0, 1, 0, 0, 0, 0, 0, 0, 0, 0, 0, 0, 0, 0, 0, 0, 0, 0, 0, 0, 0, 0, 0, 0, 0, 0, 0, 0, 0, 0, 0, 0, 0, 0, 0, 0, 0, 0, 0, 0, 0, 0, 0, 0, 0, 0, 0, 0, 0, 0, 0, 0, 0, 0, 0, 0, 0, 0, 0, 0, 0, 0, 0, 0, 0, 0, 0, 0, 0, 0, 0, 0, 0, 0, 0, 0, 0, 0, 0, 0, 0, 0, 0, 0, 0, 0, 0, 0, 0, 0, 0, 0, 0, 0, 0, 0, 0, 0, 0, 0, 0, 0, 0, 0, 0, 0, 0, 0, 0, 0, 0, 0, 0, 0, 0, 0, 0, 0, 0, 0, 0, 0, 0, 0, 0, 0, 0, 0, 0, 0, 0, 0, 0, 0, 0, 0, 0, 0, 0, 0, 0, 0, 0, 0, 0, 0, 0, 0, 0, 0, 0, 0, 0, 0, 0, 0, 0, 0, 0, 0, 0, 0, 0, 0, 0, 0, 0, 0, 0, 0, 0, 0, 0, 0, 0, 0, 0, 0, 0, 0, 0, 0, 0, 0, 0, 0, 0, 0, 0, 0, 0, 0, 0, 0, 0, 0, 0, 0, 0, 0, 0, 0, 0, 0, 0, 0, 0, 0, 0, 0, 0, 0, 0, 0, 0, 0, 0, 0, 0, 0, 0, 0, 0, 0, 0, 0, 0, 0, 0, 0, 0, 0, 0, 0, 0, 0, 0, 0, 0, 0, 0, 0, 0, 0, 0, 0, 0, 0, 0, 0, 0, 0, 0, 0, 0, 0, 0, 0, 0, 0, 0, 0, 0, 0, 0, 0, 0, 0, 0, 0, 0, 0, 0, 0, 0, 0, 0, 0, 0, 0, 0, 0, 0, 0, 0, 0, 0, 0, 0, 0, 0, 0, 0, 0, 0, 0, 0, 0, 0, 0, 0, 0, 0, 0, 0, 0, 0, 0, 0, 0, 0, 0, 0, 0, 0, 0, 0, 0, 0, 0, 0, 0, 0, 0, 0, 0, 0, 0, 0, 0, 0, 0, 0, 0, 0, 0, 0, 0, 0, 0, 0, 0, 0, 0, 0, 0, 0, 0, 0, 0, 0, 0, 0, 0, 0, 0, 0, 0, 0, 0, 0, 0, 0, 0, 0, 0, 0, 0, 0, 0, 0, 0, 0, 0, 0, 0, 0, 0, 0, 0, 0, 0, 0, 0, 0, 0, 0, 0, 0, 0, 0, 0, 0, 0, 0, 0, 0, 0, 0, 0, 0, 0, 0, 0, 0, 0, 0, 0, 0, 0, 0, 0, 0, 0, 0, 0, 0, 0, 0, 0, 0, 0, 0, 0, 0, 0, 0, 0, 0, 0, 0, 0, 0, 0, 0, 0, 0, 0, 0, 0, 0, 0, 0, 0, 0, 0, 0, 0, 0, 0, 0, 0, 0, 0, 0, 0, 0, 0, 0, 0, 0, 0, 0, 0, 0, 2, 0, 1, 0]\n"
     ]
    }
   ],
   "source": [
    "test_bow = bow_encoding(test_words, vocabulary)\n",
    "print(test_bow)"
   ]
  },
  {
   "cell_type": "code",
   "execution_count": 39,
   "metadata": {},
   "outputs": [
    {
     "data": {
      "text/plain": [
       "5000"
      ]
     },
     "execution_count": 39,
     "metadata": {},
     "output_type": "execute_result"
    }
   ],
   "source": [
    "len(test_bow)"
   ]
  },
  {
   "cell_type": "markdown",
   "metadata": {},
   "source": [
    "So now we know how to construct a bag of words encoding of a user provided review, how to we send it to our endpoint? First, we need to start the endpoint back up."
   ]
  },
  {
   "cell_type": "code",
   "execution_count": null,
   "metadata": {},
   "outputs": [],
   "source": [
    "xgb_predictor = xgb.deploy(initial_instance_count = 1, instance_type = 'ml.m4.xlarge')"
   ]
  },
  {
   "cell_type": "markdown",
   "metadata": {},
   "source": [
    "At this point we could just do the same thing that we did earlier when we tested our deployed model and send `test_bow` to our endpoint using the `xgb_predictor` object. However, when we eventually construct our Lambda function we won't have access to this object, so how do we call a SageMaker endpoint?\n",
    "\n",
    "It turns out that Python functions that are used in Lambda have access to another Amazon library called `boto3`. This library provides an API for working with Amazon services, including SageMaker. To start with, we need to get a handle to the SageMaker runtime."
   ]
  },
  {
   "cell_type": "code",
   "execution_count": 41,
   "metadata": {},
   "outputs": [],
   "source": [
    "import boto3\n",
    "\n",
    "runtime = boto3.Session().client('sagemaker-runtime')"
   ]
  },
  {
   "cell_type": "markdown",
   "metadata": {},
   "source": [
    "And now that we have access to the SageMaker runtime, we can ask it to make use of (invoke) an endpoint that has already been created. However, we need to provide SageMaker with the name of the deployed endpoint. To find this out we can print it out using the `xgb_predictor` object."
   ]
  },
  {
   "cell_type": "code",
   "execution_count": 42,
   "metadata": {},
   "outputs": [
    {
     "data": {
      "text/plain": [
       "'xgboost-2020-05-04-21-22-40-132'"
      ]
     },
     "execution_count": 42,
     "metadata": {},
     "output_type": "execute_result"
    }
   ],
   "source": [
    "xgb_predictor.endpoint"
   ]
  },
  {
   "cell_type": "markdown",
   "metadata": {},
   "source": [
    "Using the SageMaker runtime and the name of our endpoint, we can invoke the endpoint and send it the `test_bow` data."
   ]
  },
  {
   "cell_type": "code",
   "execution_count": null,
   "metadata": {},
   "outputs": [],
   "source": [
    "response = runtime.invoke_endpoint(EndpointName = xgb_predictor.endpoint, # The name of the endpoint we created\n",
    "                                       ContentType = 'text/csv',                     # The data format that is expected\n",
    "                                       Body = test_bow)"
   ]
  },
  {
   "cell_type": "markdown",
   "metadata": {},
   "source": [
    "So why did we get an error?\n",
    "\n",
    "Because we tried to send the endpoint a list of integers but it expected us to send data of type `text/csv`. So, we need to convert it."
   ]
  },
  {
   "cell_type": "code",
   "execution_count": 44,
   "metadata": {},
   "outputs": [],
   "source": [
    "response = runtime.invoke_endpoint(EndpointName = xgb_predictor.endpoint, # The name of the endpoint we created\n",
    "                                       ContentType = 'text/csv',                     # The data format that is expected\n",
    "                                       Body = ','.join([str(val) for val in test_bow]).encode('utf-8'))"
   ]
  },
  {
   "cell_type": "code",
   "execution_count": 45,
   "metadata": {},
   "outputs": [
    {
     "name": "stdout",
     "output_type": "stream",
     "text": [
      "{'ResponseMetadata': {'RequestId': 'e0c99c46-1e08-45b0-80c3-cfe16657111f', 'HTTPStatusCode': 200, 'HTTPHeaders': {'x-amzn-requestid': 'e0c99c46-1e08-45b0-80c3-cfe16657111f', 'x-amzn-invoked-production-variant': 'AllTraffic', 'date': 'Mon, 4 May 2020 21:58:03 GMT', 'content-type': 'text/csv; charset=utf-8', 'content-length': '14'}, 'RetryAttempts': 0}, 'ContentType': 'text/csv; charset=utf-8', 'InvokedProductionVariant': 'AllTraffic', 'Body': <botocore.response.StreamingBody object at 0x7fb1145d7f60>}\n"
     ]
    }
   ],
   "source": [
    "print(response)"
   ]
  },
  {
   "cell_type": "markdown",
   "metadata": {},
   "source": [
    "As we can see, the response from our model is a somewhat complicated looking dict that contains a bunch of information. The bit that we are most interested in is `'Body'` object which is a streaming object that we need to `read` in order to make use of."
   ]
  },
  {
   "cell_type": "code",
   "execution_count": 46,
   "metadata": {},
   "outputs": [
    {
     "name": "stdout",
     "output_type": "stream",
     "text": [
      "0.451900541782\n"
     ]
    }
   ],
   "source": [
    "response = response['Body'].read().decode('utf-8')\n",
    "print(response)"
   ]
  },
  {
   "cell_type": "markdown",
   "metadata": {},
   "source": [
    "Now that we know how to process the incoming user data we can start setting up the infrastructure to make our simple web app work. To do this we will make use of two different services. Amazon's Lambda and API Gateway services.\n",
    "\n",
    "Lambda is a service which allows someone to write some relatively simple code and have it executed whenever a chosen trigger occurs. For example, you may want to update a database whenever new data is uploaded to a folder stored on S3.\n",
    "\n",
    "API Gateway is a service that allows you to create HTTP endpoints (url addresses) which are connected to other AWS services. One of the benefits to this is that you get to decide what credentials, if any, are required to access these endpoints.\n",
    "\n",
    "In our case we are going to set up an HTTP endpoint through API Gateway which is open to the public. Then, whenever anyone sends data to our public endpoint we will trigger a Lambda function which will send the input (in our case a review) to our model's endpoint and then return the result."
   ]
  },
  {
   "cell_type": "markdown",
   "metadata": {},
   "source": [
    "### Setting up a Lambda function\n",
    "\n",
    "The first thing we are going to do is set up a Lambda function. This Lambda function will be executed whenever our public API has data sent to it. When it is executed it will receive the data, perform any sort of processing that is required, send the data (the review) to the SageMaker endpoint we've created and then return the result.\n",
    "\n",
    "#### Part A: Create an IAM Role for the Lambda function\n",
    "\n",
    "Since we want the Lambda function to call a SageMaker endpoint, we need to make sure that it has permission to do so. To do this, we will construct a role that we can later give the Lambda function.\n",
    "\n",
    "Using the AWS Console, navigate to the **IAM** page and click on **Roles**. Then, click on **Create role**. Make sure that the **AWS service** is the type of trusted entity selected and choose **Lambda** as the service that will use this role, then click **Next: Permissions**.\n",
    "\n",
    "In the search box type `sagemaker` and select the check box next to the **AmazonSageMakerFullAccess** policy. Then, click on **Next: Review**.\n",
    "\n",
    "Lastly, give this role a name. Make sure you use a name that you will remember later on, for example `LambdaSageMakerRole`. Then, click on **Create role**."
   ]
  },
  {
   "cell_type": "markdown",
   "metadata": {},
   "source": [
    "#### Part B: Create a Lambda function\n",
    "\n",
    "Now it is time to actually create the Lambda function. Remember from earlier that in order to process the user provided input and send it to our endpoint we need to gather two pieces of information:\n",
    "\n",
    " - The name of the endpoint, and\n",
    " - the vocabulary object.\n",
    "\n",
    "We will copy these pieces of information to our Lambda function after we create it.\n",
    "\n",
    "To start, using the AWS Console, navigate to the AWS Lambda page and click on **Create a function**. When you get to the next page, make sure that **Author from scratch** is selected. Now, name your Lambda function, using a name that you will remember later on, for example `sentiment_analysis_xgboost_func`. Make sure that the **Python 3.6** runtime is selected and then choose the role that you created in the previous part. Then, click on **Create Function**.\n",
    "\n",
    "On the next page you will see some information about the Lambda function you've just created. If you scroll down you should see an editor in which you can write the code that will be executed when your Lambda function is triggered. Collecting the code we wrote above to process a single review and adding it to the provided example `lambda_handler` we arrive at the following.\n",
    "\n",
    "```python\n",
    "# We need to use the low-level library to interact with SageMaker since the SageMaker API\n",
    "# is not available natively through Lambda.\n",
    "import boto3\n",
    "\n",
    "# And we need the regular expression library to do some of the data processing\n",
    "import re\n",
    "\n",
    "REPLACE_NO_SPACE = re.compile(\"(\\.)|(\\;)|(\\:)|(\\!)|(\\')|(\\?)|(\\,)|(\\\")|(\\()|(\\))|(\\[)|(\\])\")\n",
    "REPLACE_WITH_SPACE = re.compile(\"(<br\\s*/><br\\s*/>)|(\\-)|(\\/)\")\n",
    "\n",
    "def review_to_words(review):\n",
    "    words = REPLACE_NO_SPACE.sub(\"\", review.lower())\n",
    "    words = REPLACE_WITH_SPACE.sub(\" \", words)\n",
    "    return words\n",
    "    \n",
    "def bow_encoding(words, vocabulary):\n",
    "    bow = [0] * len(vocabulary) # Start by setting the count for each word in the vocabulary to zero.\n",
    "    for word in words.split():  # For each word in the string\n",
    "        if word in vocabulary:  # If the word is one that occurs in the vocabulary, increase its count.\n",
    "            bow[vocabulary[word]] += 1\n",
    "    return bow\n",
    "\n",
    "\n",
    "def lambda_handler(event, context):\n",
    "    \n",
    "    vocab = \"*** ACTUAL VOCABULARY GOES HERE ***\"\n",
    "    \n",
    "    words = review_to_words(event['body'])\n",
    "    bow = bow_encoding(words, vocab)\n",
    "\n",
    "    # The SageMaker runtime is what allows us to invoke the endpoint that we've created.\n",
    "    runtime = boto3.Session().client('sagemaker-runtime')\n",
    "\n",
    "    # Now we use the SageMaker runtime to invoke our endpoint, sending the review we were given\n",
    "    response = runtime.invoke_endpoint(EndpointName = '***ENDPOINT NAME HERE***',# The name of the endpoint we created\n",
    "                                       ContentType = 'text/csv',                 # The data format that is expected\n",
    "                                       Body = ','.join([str(val) for val in bow]).encode('utf-8')) # The actual review\n",
    "\n",
    "    # The response is an HTTP response whose body contains the result of our inference\n",
    "    result = response['Body'].read().decode('utf-8')\n",
    "    \n",
    "    # Round the result so that our web app only gets '1' or '0' as a response.\n",
    "    result = round(float(result))\n",
    "\n",
    "    return {\n",
    "        'statusCode' : 200,\n",
    "        'headers' : { 'Content-Type' : 'text/plain', 'Access-Control-Allow-Origin' : '*' },\n",
    "        'body' : str(result)\n",
    "    }\n",
    "```"
   ]
  },
  {
   "cell_type": "markdown",
   "metadata": {},
   "source": [
    "Once you have copy and pasted the code above into the Lambda code editor, replace the `**ENDPOINT NAME HERE**` portion with the name of the endpoint that we deployed earlier. You can determine the name of the endpoint using the code cell below."
   ]
  },
  {
   "cell_type": "code",
   "execution_count": null,
   "metadata": {},
   "outputs": [],
   "source": [
    "xgb_predictor.endpoint"
   ]
  },
  {
   "cell_type": "markdown",
   "metadata": {},
   "source": [
    "In addition, you will need to copy the vocabulary dict to the appropriate place in the code at the beginning of the `lambda_handler` method. The cell below prints out the vocabulary dict in a way that is easy to copy and paste."
   ]
  },
  {
   "cell_type": "code",
   "execution_count": 47,
   "metadata": {
    "scrolled": false
   },
   "outputs": [
    {
     "name": "stdout",
     "output_type": "stream",
     "text": [
      "{'when': 4862, 'this': 4457, 'initially': 2291, 'aired': 165, 'in': 2257, '1984': 23, 'my': 2951, 'wife': 4884, 'and': 226, 'it': 2366, 'on': 3105, 'our': 3139, 'very': 4723, 'first': 1736, 'vhs': 4725, 'still': 4188, 'have': 2052, 'that': 4424, 'aging': 153, 'tape': 4365, 'which': 4867, 'try': 4600, 'to': 4507, 'watch': 4811, 'was': 4805, 'the': 4426, 'year': 4978, 'child': 789, 'born': 544, 'seeing': 3857, 'christmas': 810, 'carol': 693, 'brings': 587, 'back': 378, 'fond': 1776, 'memories': 2803, 'of': 3083, 'happy': 2032, 'times': 4497, 'many': 2732, 'hours': 2177, 'were': 4848, 'spent': 4108, 'with': 4911, 'film': 1716, 'playing': 3300, 'background': 380, 'finally': 1724, 'broke': 593, 'down': 1335, 'dvd': 1391, 'me': 2778, 'take': 4349, 'moment': 2886, 'write': 4967, 'brief': 579, 'reaction': 3541, 'movie': 2926, 'charles': 764, 'dickens': 1240, 'story': 4207, 'is': 2360, 'captured': 677, 'outstanding': 3147, 'fashion': 1659, 'here': 2086, 'george': 1893, 'scott': 3824, 'absolutely': 72, 'amazing': 209, 'totally': 4532, 'believable': 453, 'as': 311, 'scrooge': 3837, 'supporting': 4304, 'cast': 710, 'equally': 1510, 'spectacular': 4101, 'mind': 2849, 'flawless': 1751, 'production': 3419, 'little': 2624, 'details': 1219, 'add': 115, 'much': 2934, 'enjoyment': 1488, 'game': 1864, 'play': 3296, 'their': 4431, 'party': 3200, 'neat': 2982, 'ive': 2372, 'since': 3990, 're': 3535, 'created': 1037, 'high': 2100, 'school': 3813, 'english': 1483, 'students': 4239, 'from': 1840, 'class': 833, 'work': 4940, 'honestly': 2147, 'can': 665, 'think': 4452, 'few': 1700, 'ways': 4822, 'entertain': 1497, 'myself': 2953, 'over': 3148, 'enjoy': 1484, 'more': 2904, 'than': 4420, 'originally': 3131, 'by': 642, 'its': 2370, 'fun': 1848, 'old': 3100, 'original': 3129, 'commercials': 903, 'show': 3953, 'just': 2437, 'how': 2181, 'years': 4979, 'things': 4451, 'changed': 750, 'bottom': 551, 'line': 2610, 'timeless': 4496, 'rendition': 3625, 'classic': 835, 'god': 1926, 'us': 4690, 'every': 1539, 'one': 3107, 'must': 2950, 'say': 3799, 'surprised': 4313, 'quality': 3484, 'far': 1653, 'better': 472, 'expected': 1577, 'scenario': 3808, 'acting': 99, 'quite': 3495, 'good': 1937, 'director': 1264, 'made': 2697, 'job': 2405, 'well': 4843, 'although': 201, 'some': 4061, 'scenes': 3811, 'look': 2646, 'bit': 488, 'clumsy': 866, 'decent': 1147, 'overall': 3150, 'idea': 2213, 'definitely': 1162, 'brilliant': 583, 'truth': 4599, 'did': 1241, 'not': 3040, 'reveal': 3670, 'itself': 2371, 'till': 4493, 'end': 1468, 'mental': 2808, 'hospital': 2172, 'atmosphere': 333, 'given': 1913, 'plot': 3309, 'clear': 839, 'consistent': 953, 'thought': 4462, 'people': 3221, 'may': 2775, 'find': 1726, 'boring': 543, 'though': 4461, 'focused': 1767, 'they': 4442, 'time': 4495, 'for': 1784, 'character': 758, 'development': 1225, 'moral': 2902, 'genre': 1888, 'adaptation': 113, 'french': 1830, 'forgot': 1796, 'name': 2960, 'sorry': 4076, 'wonderful': 4928, 'portrayal': 3341, 'side': 3965, 'will': 4886, 'make': 2713, 'you': 4986, 'into': 2332, 'laughter': 2535, 'fill': 1714, 'your': 4991, 'heart': 2064, 'warm': 4794, 'sadness': 3770, 'display': 1291, 'overwhelming': 3157, 'love': 2669, 'life': 2592, 'along': 195, 'human': 2188, 'new': 3003, 'york': 4985, 'shy': 3962, 'lonely': 2643, 'project': 3427, 'manager': 2724, 'design': 1202, 'matt': 2768, 'luke': 2687, 'wilson': 4891, 'meets': 2795, 'jenny': 2393, 'johnson': 2411, 'he': 2056, 'her': 2085, 'date': 1118, 'dinner': 1254, 'him': 2110, 'immediately': 2242, 'falls': 1640, 'sex': 3907, 'she': 3923, 'true': 4596, 'identity': 2217, 'telling': 4396, 'powerful': 3360, 'superhero': 4299, 'girl': 1909, 'after': 143, 'meeting': 2794, 'his': 2118, 'co': 867, 'worker': 4942, 'friend': 1835, 'lewis': 2586, 'anna': 245, 'becomes': 434, 'jealous': 2388, 'manipulative': 2727, 'follows': 1775, 'advice': 133, 'best': 469, 'breaking': 570, 'turns': 4609, 'hell': 2077, 'while': 4868, 'has': 2043, 'romance': 3732, 'however': 2183, 'former': 1800, 'professor': 3422, 'eddie': 1416, 'strip': 4228, 'super': 4295, 'ex': 1549, 'girlfriend': 1910, 'silly': 3976, 'funny': 1852, 'romantic': 3733, 'comedy': 890, 'adventure': 130, 'hilarious': 2106, 'moments': 2887, 'entertaining': 1499, 'great': 1964, 'role': 3726, 'an': 223, 'idiot': 2218, 'extremely': 1610, 'sexy': 3911, 'usual': 4699, 'glenn': 1918, 'close': 853, 'fatal': 1664, 'attraction': 350, 'or': 3124, 'vote': 4766, 'seven': 3903, 'title': 4504, 'brazil': 568, 'exactly': 1551, 'offensive': 3086, 'version': 4720, 'certainly': 738, 'moronic': 2907, 'might': 2835, 'lead': 2545, 'expect': 1575, 'tribute': 4581, 'pearl': 3220, 'white': 4870, 'silent': 3975, '20': 29, 'episode': 1507, 'serial': 3889, 'but': 636, 'would': 4957, 'be': 418, 'served': 3894, 'starring': 4154, 'betty': 474, 'like': 2599, 'mix': 2876, 'weakest': 4825, 'elvis': 1451, 'movies': 2927, 'worst': 4952, 'all': 187, 'blend': 504, 'these': 4441, 'someone': 4064, 'together': 4511, 'segments': 3868, 'each': 1395, 'so': 4046, 'thing': 4450, 'forth': 1804, 'between': 475, 'two': 4620, 'styles': 4250, 'what': 4858, 'there': 4438, 'comes': 891, 'pamela': 3179, 'pat': 3208, 'match': 2762, 'because': 432, 'both': 547, 'lack': 2502, 'even': 1533, 'most': 2909, 'basic': 406, 'skills': 4014, 'imagine': 2238, 'moore': 2901, 'opposite': 3123, 'dan': 1102, 'later': 2525, 'john': 2409, 'evil': 1548, 'roy': 3745, 'talent': 4354, 'them': 4432, 'actually': 109, 'painful': 3171, 'mid': 2832, '60s': 54, 'such': 4268, 'featured': 1679, 'similar': 3978, 'series': 3890, 'situations': 4009, 'sandra': 3782, 'dark': 1115, 'blue': 518, 'ad': 110, 'replaced': 3634, 'fever': 1699, 'got': 1944, 'bright': 581, 'showcase': 3954, 'feature': 1678, 'begins': 444, 'growing': 1983, 'up': 4683, 'home': 2142, 'run': 3755, 'actress': 105, 'who': 4871, 'played': 3297, 'mrs': 2930, 'several': 3905, 'opportunities': 3120, 'leaves': 2556, 'seek': 3858, 'fortune': 1806, 'gets': 1900, 'young': 4989, 'oil': 3097, 'rich': 3685, 'middle': 2833, 'eastern': 1408, 'prince': 3396, 'tries': 4585, 'attractive': 351, 'blonde': 511, 'runs': 3757, 'away': 369, 'goes': 1930, 'include': 2261, 'african': 142, 'wants': 4791, 'until': 4680, 'enough': 1491, 'marriage': 2743, 'industry': 2280, 'russian': 3762, 'space': 4090, 'program': 3424, 'intended': 2315, 'charming': 768, 'manages': 2725, 'only': 3110, 'part': 3193, 'effort': 1432, 'action': 100, 'sequences': 3888, 'under': 4639, 'camera': 659, 'unfortunately': 4654, 'everything': 1544, 'else': 1448, 'stock': 4193, 'editing': 1421, '1960s': 15, 'nothing': 3047, 'images': 2235, 'moving': 2928, 'toward': 4539, 'saw': 3798, 'tied': 4489, 'track': 4544, 'waiting': 4772, 'train': 4556, 'then': 4436, 'again': 146, 'do': 1302, 'know': 2489, 'im': 2232, 'are': 285, 'films': 1721, 'horror': 2168, 'fan': 1648, 'himself': 2111, 'herself': 2092, 'see': 3855, 'la': 2500, 'aka': 168, 'red': 3576, 'queen': 3485, 'kills': 2474, '1972': 18, 'gothic': 1945, 'tales': 4357, 'being': 448, 'favorite': 1671, 'sub': 4252, 'genres': 1889, 'looking': 2648, 'forward': 1808, 'expectations': 1576, 'masterpiece': 2759, 'greatest': 1966, 'hopes': 2159, 'earlier': 1399, 'giallo': 1904, 'night': 3013, 'came': 656, 'out': 3141, 'grave': 1962, 'already': 197, 'creepy': 1052, 'highly': 2105, 'atmospheric': 334, 'successfully': 4267, 'mixed': 2877, 'couldnt': 1008, 'possibly': 3351, 'compare': 911, 'instant': 2305, 'personal': 3240, 'hands': 2020, 'unique': 4662, 'italian': 2367, 'ever': 1538, 'no': 3020, 'lover': 2672, 'could': 1007, 'consider': 949, 'missing': 2869, 'incredibly': 2270, 'strong': 4229, 'elements': 1443, 'delivers': 1172, 'hope': 2155, 'either': 1438, 'inventive': 2341, 'compelling': 916, 'chilling': 794, 'suspense': 4330, 'setting': 3900, 'genuinely': 1892, 'colors': 879, 'stylish': 4251, 'murders': 2943, 'score': 3822, 'least': 2554, 'female': 1693, 'beautiful': 428, 'barbara': 397, 'simply': 3986, 'elegant': 1441, 'beauty': 430, 'pure': 3471, 'terror': 4412, 'starts': 4159, 'castle': 712, 'germany': 1898, 'girls': 1911, 'sister': 4001, 'been': 438, 'fighting': 1709, 'grandfather': 1954, 'tells': 4397, 'behind': 447, 'painting': 3175, 'legend': 2564, 'lady': 2507, 'return': 3665, 'hundred': 2195, 'kill': 2468, 'become': 433, 'successful': 4266, 'photographer': 3259, 'suddenly': 4273, 'begin': 442, 'get': 1899, 'murdered': 2940, 'had': 2003, 'proved': 3446, 'incredible': 2269, 'style': 4249, 'colorful': 878, 'makes': 2716, 'use': 4692, 'effectively': 1430, 'gem': 1877, 'eyes': 1613, 'indeed': 2271, 'visually': 4758, 'wise': 4903, 'haunting': 2051, 'alone': 194, 'capable': 672, 'giving': 1915, 'viewer': 4738, 'called': 652, 'arguably': 289, 'figure': 1711, 'accompanied': 86, 'frightening': 1839, 'own': 3158, 'always': 203, 'appreciated': 280, 'especially': 1520, 'prime': 3395, 'example': 1553, 'actresses': 106, 'ladies': 2506, 'appear': 273, 'screen': 3829, 'too': 4522, 'presence': 3373, 'flicks': 1755, 'among': 217, 'other': 3135, 'appearances': 275, 'starred': 4153, 'three': 4469, 'cult': 1077, 'masterpieces': 2760, '70s': 56, 'cinema': 816, 'within': 4912, 'highlight': 2103, 'dont': 1324, 'torture': 4529, 'unforgettable': 4652, 'apart': 264, 'miss': 2866, 'gorgeous': 1942, 'includes': 2263, 'afraid': 140, 'bare': 398, 'whole': 4873, 'yet': 4984, 'gory': 1943, 'memorable': 2802, 'eerie': 1427, 'convoluted': 987, 'full': 1846, 'tension': 4404, 'level': 2584, 'passing': 3204, 'minute': 2858, 'stays': 4169, 'stunning': 4244, 'last': 2521, 'second': 3846, 'cannot': 670, 'words': 4938, 'praise': 3364, 'absolute': 71, 'easily': 1406, 'ranks': 3519, 'finest': 1730, 'top': 4525, '10': 0, 'watched': 4813, 'never': 3001, 'really': 3556, 'laughs': 2534, 'about': 67, 'women': 4923, 'at': 331, 'company': 910, 'boss': 546, 'jerk': 2395, 'taste': 4369, 'respect': 3652, 'deserve': 1199, 'those': 4460, '80s': 59, 'stars': 4155, 'plays': 3301, 'bad': 382, 'guy': 2000, 'lovable': 2668, 'comedies': 889, 'south': 4087, 'wit': 4908, 'shines': 3932, 'jane': 2380, 'fonda': 1777, 'does': 1308, 'lily': 2605, 'funniest': 1851, 'lines': 2612, 'laugh': 2529, 'loud': 2664, 'gotta': 1946, 'recommend': 3571, 'anyone': 259, 'likes': 2602, 'off': 3084, 'nice': 3008, 'flow': 1762, 'coming': 896, 'once': 3106, 'care': 684, 'less': 2575, 'characters': 760, 'cute': 1090, 'picks': 3268, 'happen': 2026, 'wrap': 4963, 'quick': 3490, 'manner': 2729, 'thats': 4425, 'give': 1912, 'if': 2222, 'havent': 2053, 'seen': 3865, 'ones': 3108, 'mood': 2898, 'likable': 2598, 'deserves': 1201, 'rating': 3529, '45': 50, 'gave': 1875, 'based': 404, 'reading': 3544, 'comments': 901, 'folks': 1771, 'yeah': 4977, 'imdb': 2240, 'drama': 1346, 'sure': 4308, 'isnt': 2362, 'fortunately': 1805, 'before': 440, 'onto': 3111, 'website': 4834, 'fact': 1621, 'synopsis': 4344, 'heard': 2062, 'fully': 1847, 'wondering': 4930, 'disappoint': 1272, 'caused': 724, 'low': 2676, 'another': 250, 'factor': 1622, 'driven': 1365, 'driving': 1368, 'someones': 4065, 'previous': 3387, 'comment': 898, 'trial': 4580, 'danny': 1112, 'glover': 1923, 'seemed': 3862, 'real': 3547, 'social': 4049, 'family': 1645, 'troops': 4591, 'credibility': 1047, 'right': 3696, 'move': 2921, 'world': 4946, 'obsession': 3070, 'became': 431, 'stop': 4201, 'neighborhood': 2993, 'black': 493, 'person': 3238, 'moved': 2922, 'next': 3007, 'door': 1328, 'due': 1382, 'skin': 4015, 'color': 877, 'represented': 3638, 'tom': 4514, 'left': 2561, 'essence': 1521, 'outside': 3146, 'inside': 2297, 'minutes': 2859, 'written': 4972, 'directed': 1259, 'acted': 98, 'goldberg': 1933, 'pleasure': 3306, 'witness': 4914, 'realized': 3553, 'climax': 849, 'obvious': 3071, 'event': 1535, 'happened': 2027, 'want': 4788, 'am': 204, 'conversation': 980, 'college': 875, 'going': 1931, 'nevertheless': 3002, 'street': 4216, 'same': 3778, 'kind': 2476, 'flick': 1754, 'go': 1924, 'through': 4477, 'problems': 3409, 'pain': 3170, 'dance': 1103, 'grow': 1982, 'change': 749, 'audience': 352, 'member': 2800, 'learn': 2550, 'something': 4066, 'inspired': 2301, 'names': 2963, 'fred': 1825, 'ray': 3533, 'stevens': 4183, 'michael': 2829, 'vincent': 4746, 'plus': 3311, 'video': 4733, 'box': 555, 'youre': 4992, 'getting': 1901, 'expecting': 1578, 'thriller': 4472, 'edgar': 1417, 'forget': 1793, 'head': 2057, 'straight': 4210, 'excellent': 1555, 'roger': 3724, 'attempt': 340, 'complete': 921, 'lots': 2662, 'rated': 3527, 'ready': 3546, 'nudity': 3059, 'way': 4820, 'nude': 3058, '30': 42, 'victoria': 4732, 'whose': 4877, 'fear': 1676, 'belief': 451, 'fate': 1665, 'father': 1666, 'worthless': 4954, 'husband': 2204, 'terry': 4415, 'jay': 2386, 'richardson': 3688, 'serious': 3891, 'gangster': 1868, 'robert': 3713, 'help': 2079, 'european': 1530, 'secretary': 3850, 'lisa': 2616, 'plots': 3310, 'money': 2888, 'value': 4709, 'karen': 2444, 'drops': 1372, 'briefly': 580, 'wearing': 4831, 'shes': 3930, 'talented': 4355, '50s': 52, 'sci': 3815, 'fi': 1701, 'star': 4150, 'doctor': 1304, 'shows': 3960, 'nightmare': 3014, 'sequence': 3887, 'performing': 3233, 'living': 2629, 'mostly': 2910, 'sits': 4006, 'house': 2178, 'car': 680, 'making': 2718, 'enters': 1496, 'done': 1322, 'million': 2847, 'ending': 1471, 'unintentional': 4658, 'direct': 1258, 'rip': 3700, 'doll': 1313, 'segment': 3867, 'trilogy': 4586, 'whoever': 4872, 'awful': 372, 'face': 1616, 'fx': 1858, 'release': 3602, 'needs': 2990, 'somewhat': 4068, 'sympathetic': 4342, 'biggest': 480, 'surprise': 4312, 'pet': 3246, 'stole': 4194, 'scene': 3809, 'performance': 3228, 'screenwriter': 3833, 'agent': 150, 'wood': 4933, 'gross': 1978, 'forced': 1787, 'live': 2625, 'self': 3869, 'eccentric': 1414, 'ron': 3734, 'whom': 4875, 'come': 886, 'believe': 454, 'murderer': 2941, 'city': 825, 'costume': 1005, 'killer': 2470, 'named': 2961, 'victims': 4730, 'costumes': 1006, 'convince': 983, 'group': 1980, 'wannabe': 4787, 'makers': 2715, 'joe': 2407, 'discover': 1279, 'art': 304, 'murder': 2939, 'room': 3735, 'floor': 1759, 'studio': 4240, 'wanted': 4789, 'loss': 2659, 'actors': 104, 'fine': 1729, 'jobs': 2406, 'exceptional': 1558, 'mediocre': 2791, 'worth': 4953, 'comedic': 888, 'timing': 4498, 'chance': 747, 'wasnt': 4807, 'kidding': 2465, 'said': 3774, 'commentary': 899, 'needed': 2988, 'jerry': 2396, 'hes': 2093, 'david': 1124, 'also': 199, 'disappointed': 1273, 'doesnt': 1309, 'exist': 1569, 'any': 256, 'sitcom': 4004, 'returned': 3666, 'memory': 2804, 'captain': 674, 'now': 3054, 'loves': 2674, 'hit': 2122, 'crazy': 1035, 'whats': 4860, 'deal': 1135, 'police': 3322, 'seems': 3864, 'san': 3780, 'completely': 922, 'different': 1248, 'ago': 154, 'turn': 4605, 'sat': 3786, 'actor': 103, 'facial': 1619, 'expressions': 1603, 'shake': 3914, 'why': 4878, 'hasnt': 2044, 'marty': 2749, 'shocked': 3939, 'released': 3603, 'steve': 4181, 'martin': 2748, '2nd': 41, 'id': 2212, 'cheap': 774, 'sounds': 4084, 'bold': 528, 'statement': 4162, 'wish': 4904, 'copy': 994, 'collection': 874, 'urge': 4689, 'today': 4508, 'wrote': 4974, 'review': 3676, 'anger': 235, 'uwe': 4703, 'boll': 529, 'hollywood': 2137, 'produced': 3414, 'days': 1130, 'nation': 2969, 'security': 3854, 'understanding': 4645, 'man': 2721, 'humanity': 2189, 'importantly': 2248, 'cant': 671, 'stress': 4220, 'utterly': 4702, 'angry': 238, 'blatant': 502, 'seeking': 3859, 'death': 1141, 'destruction': 1216, 'bound': 553, 'cause': 723, 'word': 4937, 'mouth': 2920, 'critics': 1064, 'alike': 185, 'surely': 4309, 'mainstream': 2709, 'press': 3379, 'lower': 2677, 'acts': 107, 'dare': 1113, 'families': 1644, 'lost': 2660, 'lives': 2628, 'brave': 567, 'men': 2805, 'save': 3794, 'trapped': 4564, 'doomed': 1327, 'day': 1129, 'national': 2970, 'tragedy': 4551, 'post': 3352, 'appalling': 268, 'travesty': 4570, 'heavy': 2070, 'strength': 4219, 'remember': 3616, 'ask': 316, 'yourself': 4993, 'whether': 4866, 'loved': 2670, 'further': 1853, 'following': 1774, 'attacks': 339, 'soul': 4079, 'lord': 2652, 'thinking': 4453, 'spoiler': 4123, 'warning': 4800, 'itll': 2369, 'matter': 2769, 'wont': 4932, 'piece': 3272, 'trash': 4565, 'anyway': 261, 'chasing': 772, 'stupid': 4247, 'hunt': 2198, 'letting': 2583, 'mike': 2838, 'didnt': 1242, 'sign': 3970, 'hand': 2015, 'pretty': 3384, 'sad': 3767, 'having': 2054, 'developed': 1223, 'critical': 1062, 'eye': 1611, 'went': 4847, 'fisher': 1739, 'breath': 573, 'held': 2074, 'denzel': 1181, 'washington': 4806, 'skill': 4013, 'public': 3460, 'persona': 3239, 'honest': 2146, 'admit': 122, 'mark': 2739, 'wrong': 4973, 'careers': 687, 'experience': 1580, 'guide': 1993, 'sensitive': 3879, 'known': 2492, 'abuse': 74, 'directorial': 1265, 'debut': 1143, 'develop': 1222, 'point': 3316, 'present': 3374, 'triumph': 4590, 'promise': 3430, 'connected': 945, 'audiences': 353, 'childhood': 790, 'despite': 1211, 'dry': 1377, 'theatre': 4429, 'takes': 4351, 'presented': 3376, 'filmmaker': 1719, 'tell': 4395, 'convincingly': 986, 'experienced': 1581, 'draw': 1349, 'emotionally': 1460, 'without': 4913, 'pity': 3281, 'purple': 3473, 'derek': 1192, 'joy': 2422, 'won': 4925, 'supernatural': 4302, 'slasher': 4020, 'means': 2783, 'frame': 1815, 'third': 4455, 'atrocious': 335, 'consists': 955, 'firstly': 1737, 'footage': 1782, 'secondly': 3847, 'loads': 2633, 'bits': 490, 'material': 2766, 'unbelievably': 4635, 'amateurish': 207, 'inept': 2281, 'tedious': 4387, 'clearly': 840, 'quickly': 3491, 'serves': 3895, 'device': 1227, 'endless': 1473, 'clips': 852, 'boy': 557, 'sometimes': 4067, 'addition': 118, 'parts': 3199, 'voice': 4761, 'describes': 1196, 'we': 4823, 'watching': 4815, 'truly': 4597, 'exploitation': 1592, 'cynical': 1093, 'keep': 2449, 'bought': 552, '50': 51, 'pack': 3165, 'enjoyable': 1485, 'campy': 664, 'devils': 1229, 'devil': 1228, 'bat': 410, 'alfred': 181, 'arent': 288, 'hitchcock': 2123, 'horrors': 2169, 'put': 3480, 'island': 2361, 'monster': 2892, 'accept': 80, 'forgotten': 1797, 'should': 3951, 'open': 3112, 'sort': 4077, 'cruel': 1070, 'abusive': 75, 'carradine': 695, 'standing': 4146, 'died': 1244, 'children': 792, 'hates': 2048, 'gives': 1914, 'mainly': 2708, 'recording': 3575, 'flashback': 1746, 'leaving': 2557, 'sit': 4003, 'terrible': 4407, 'performances': 3229, 'rest': 3657, 'independent': 2272, 'lighting': 2596, 'effects': 1431, 'limited': 2606, 'hard': 2033, 'build': 614, 'lot': 2661, 'happening': 2028, 'ashamed': 312, 'sheer': 3925, 'stupidity': 4248, 'minor': 2857, 'happiness': 2031, 'pulled': 3462, 'twist': 4617, 'otherwise': 3137, 'meant': 2784, 'selfish': 3870, 'psychotic': 3459, 'unwatchable': 4682, 'proves': 3447, 'probably': 3407, 'haunted': 2050, 'hill': 2108, 'shop': 3945, 'jack': 2373, 'nicholson': 3011, 'dead': 1132, 'avoided': 364, 'works': 4945, 'slow': 4031, 'repetitive': 3633, 'offers': 3090, 'touches': 4535, 'half': 2007, 'grows': 1985, 'lame': 2510, 'above': 68, 'average': 362, 'considering': 952, 'directors': 1266, 'visual': 4757, 'cut': 1089, 'basically': 407, 'fake': 1635, 'science': 3816, 'sexual': 3908, 'troubled': 4593, 'magazine': 2701, 'considerable': 950, 'intensity': 2317, 'horrific': 2166, 'nightmares': 3015, 'brutally': 604, 'models': 2881, 'lovely': 2671, 'start': 4156, 'turning': 4608, 'writer': 4968, 'william': 4887, 'pace': 3161, 'builds': 617, 'reasonable': 3558, 'amount': 219, 'effective': 1429, 'savage': 3793, 'violence': 4747, 'woman': 4921, 'plastic': 3294, 'garbage': 1870, 'bag': 384, 'placed': 3283, 'definite': 1161, 'inducing': 2279, 'puts': 3481, 'refreshing': 3586, 'emphasis': 1463, 'nicely': 3009, 'drawn': 1351, 'engaging': 1481, 'plausible': 3295, 'everyday': 1541, 'helps': 2082, 'matters': 2770, 'interest': 2323, 'james': 2378, 'double': 1331, 'brother': 598, 'concerned': 932, 'psychiatrist': 3455, 'dr': 1340, 'frank': 1821, 'curtis': 1087, 'don': 1320, 'gay': 1876, 'assistant': 326, 'louis': 2665, 'detective': 1220, 'chief': 788, 'sweet': 4336, 'model': 2880, 'polished': 3323, 'cinematography': 820, 'impressive': 2253, 'occasional': 3074, 'breathtaking': 574, 'shots': 3950, 'likewise': 2603, 'trick': 4582, 'cool': 989, 'sally': 3776, 'shower': 3957, 'ring': 3698, 'bay': 416, 'standard': 4144, 'roles': 3727, 'solid': 4057, 'picture': 3269, 'stanwyck': 4149, 'trite': 4589, 'working': 4944, 'daughter': 1121, 'mother': 2911, 'rise': 3702, 'mothers': 2912, 'fathers': 1667, 'wonder': 4926, 'others': 3136, 'feel': 1684, 'thank': 4421, 'finished': 1733, 'list': 2617, 'flaws': 1752, 'amazed': 208, 'assigned': 325, 'rescue': 3643, 'plane': 3288, 'ice': 2210, 'understand': 4643, 'hero': 2088, 'zero': 4996, 'course': 1019, 'major': 2711, 'landing': 2512, 'land': 2511, 'almost': 193, 'blood': 512, 'strongly': 4231, 'interesting': 2325, 'vs': 4767, 'kurt': 2499, 'perhaps': 3235, 'theres': 4440, 'spite': 4117, 'government': 1948, 'study': 4242, 'music': 2946, 'screenplay': 3831, 'direction': 1261, 'pieces': 3273, 'unintentionally': 4659, 'funnier': 1850, 'bother': 548, 'place': 3282, 'poor': 3328, 'short': 3946, 'cash': 709, 'spoilers': 4124, 'thirty': 4456, 'youll': 4988, 'town': 4541, 'avoid': 363, 'loving': 2675, 'friends': 1837, 'across': 96, 'fell': 1690, 'features': 1680, 'taylor': 4372, 'kept': 2456, 'laughing': 2533, 'guess': 1989, 'big': 478, 'seasons': 3844, 'suggest': 4280, 'opportunity': 3121, 'four': 1812, 'books': 536, 'problem': 3408, 'follow': 1772, 'book': 535, 'titled': 4505, 'producers': 3416, 'remotely': 3623, 'resembles': 3646, 'henry': 2084, 'clark': 832, 'ages': 152, 'entire': 1502, 'where': 4864, 'fans': 1650, 'produce': 3413, 'correct': 1000, 'convincing': 985, 'emotions': 1461, 'clean': 838, 'hoping': 2160, 'doubt': 1332, 'jr': 2423, 'stick': 4185, 'closer': 856, 'closely': 855, 'followed': 1773, 'final': 1722, 'nelson': 2997, 'script': 3834, 'weak': 4824, 'filmed': 1717, 'concert': 935, 'turkey': 4604, 'internet': 2327, 'tv': 4610, 'yes': 4982, 'mtv': 2933, 'shown': 3959, 'recall': 3562, 'episodes': 1508, 'annoying': 249, 'credits': 1050, 'wait': 4770, 'week': 4837, 'fifteen': 1706, 'julie': 2428, 'winters': 4901, 'sarah': 3785, 'mr': 2929, 'gone': 1935, 'listen': 2619, 'seem': 3861, 'weird': 4841, 'creatures': 1046, 'trying': 4601, 'dreams': 1355, 'maybe': 2776, 'theyre': 4445, 'exists': 1573, 'comic': 893, 'favorites': 1672, 'unlike': 4670, 'anything': 260, 'superman': 4301, 'batman': 413, 'adult': 125, 'used': 4693, 'exact': 1550, 'moves': 2925, 'found': 1811, 'comics': 895, 'darker': 1116, 'nature': 2975, 'need': 2987, 'trip': 4588, 'check': 777, 'television': 4394, 'disappointment': 1275, 'keeping': 2450, 'simple': 3983, 'gold': 1932, 'free': 1827, 'brought': 600, 'rented': 3628, 'form': 1798, 'knowing': 2490, 'winter': 4900, 'american': 213, 'warriors': 4803, 'struck': 4232, 'brilliantly': 584, 'nonsense': 3030, 'irony': 2357, 'looks': 2649, 'special': 4097, 'technically': 4382, 'filmmakers': 1720, 'interested': 2324, 'movement': 2923, 'realism': 3549, 'shot': 3949, 'stand': 4143, 'rock': 3720, 'huge': 2185, 'moon': 2900, 'rising': 3703, 'image': 2233, 'perfectly': 3226, 'princess': 3397, 'warrior': 4802, 'sword': 4340, 'heat': 2067, 'express': 1600, 'emotion': 1458, 'rather': 3528, 'represent': 3637, 'reality': 3551, 'simplicity': 3984, 'offering': 3089, 'depth': 1190, 'themselves': 4435, 'deeply': 1156, 'physically': 3263, 'strange': 4211, 'thin': 4449, 'near': 2979, 'tears': 4380, 'hearted': 2065, 'vision': 4754, 'parent': 3187, 'enjoyed': 1486, 'learned': 2551, 'long': 2644, 'humor': 2192, 'worried': 4949, 'grandmother': 1955, 'focus': 1766, 'screening': 3830, 'parents': 3188, 'edited': 1420, 'everyone': 1542, 'talked': 4359, 'kids': 2467, 'worry': 4950, 'sense': 3877, 'gotten': 1947, 'thumbs': 4485, 'supposed': 4306, 'charlie': 765, 'exercise': 1568, 'happens': 2029, 'sound': 4081, 'visuals': 4759, 'easier': 1405, 'cgi': 740, 'rape': 3521, 'hills': 2109, 'instead': 2307, 'shocking': 3940, 'porn': 3336, 'tried': 4584, 'marry': 2745, 'suck': 4269, 'wouldnt': 4958, 'able': 66, 'pull': 3461, 'disturbing': 1300, 'sucks': 4271, 'aspect': 321, 'talking': 4360, '17': 9, 'ability': 65, 'tame': 4363, 'sucked': 4270, 'accident': 84, 'crime': 1055, 'against': 147, 'crap': 1031, 'says': 3801, 'saying': 3800, 'mario': 2738, 'brothers': 599, 'graphics': 1959, '3000': 43, 'famous': 1647, 'italy': 2368, 'including': 2264, 'responsible': 3656, 'zombie': 4997, 'flesh': 1753, 'tommy': 4516, 'kid': 2464, 'robbins': 3712, 'cannibal': 669, 'dull': 1384, 'fair': 1630, 'cheese': 780, 'ridiculous': 3693, 'bored': 541, 'storyline': 4208, 'zombies': 4998, 'reason': 3557, '1970s': 17, 'corporate': 998, 'america': 212, 'particularly': 3195, 'foul': 1810, 'object': 3066, 'stay': 4166, 'hot': 2174, 'millions': 2848, 'delightful': 1168, 'marvelous': 2750, 'genius': 1887, 'peter': 3247, 'appears': 278, 'key': 2458, 'eric': 1514, 'signs': 3973, 'dated': 1119, 'terribly': 4408, 'period': 3236, 'center': 732, 'friendly': 1836, 'prison': 3401, 'forms': 1801, 'numbers': 3061, 'sees': 3866, 'uses': 4697, 'latest': 2526, 'computer': 927, 'finds': 1728, 'advantage': 129, 'system': 4345, 'phony': 3256, 'flat': 1748, 'building': 615, 'bus': 631, 'fare': 1655, 'mess': 2818, 'beyond': 476, 'office': 3091, 'decides': 1150, 'belongs': 460, 'accomplished': 87, 'understood': 4647, 'account': 89, 'maggie': 2702, 'smith': 4038, 'perfect': 3224, 'charge': 761, 'bob': 524, 'assumed': 329, 'cameo': 657, 'airport': 167, 'inspector': 2299, 'delight': 1167, 'comedian': 887, 'past': 3207, 'months': 2897, 'hearing': 2063, 'stories': 4205, 'attempted': 341, '80': 58, 'told': 4513, 'pre': 3365, 'determined': 1221, 'paid': 3169, 'doing': 1312, 'month': 2896, 'asked': 317, 'banned': 395, 'page': 3167, 'helping': 2081, 'hbo': 2055, 'bet': 470, 'cable': 644, 'network': 3000, 'allowing': 191, 'please': 3304, 'entry': 1504, 'missed': 2867, 'started': 4157, 'wasted': 4809, 'case': 707, 'cares': 690, 'potentially': 3356, 'extreme': 1609, 'illness': 2230, 'freddy': 1826, 'suffer': 4275, 'patients': 3212, 'threat': 4467, 'leave': 2555, 'extent': 1605, 'mystery': 2956, 'type': 4621, 'teens': 4392, 'killing': 2472, 'obviously': 3072, 'heads': 2059, 'de': 1131, 'population': 3335, 'remaining': 3610, 'adults': 126, 'mass': 2753, 'depicted': 1183, 'realistic': 3550, 'hints': 2113, 'massive': 2756, 'connection': 946, 'dying': 1393, 'reasons': 3560, 'control': 977, 'essential': 1522, 'element': 1442, 'abandoned': 62, 'answers': 252, 'ten': 4399, 'citizen': 824, 'explaining': 1588, 'noted': 3045, 'unless': 4669, 'carpenter': 694, 'die': 1243, 'wes': 4851, 'craven': 1034, 'took': 4523, 'set': 3898, 'tricks': 4583, 'related': 3594, 'note': 3044, 'productions': 3420, 'fiction': 1702, 'forever': 1792, 'remembered': 3617, 'selling': 3873, 'break': 569, 'speak': 4094, 'deserved': 1200, 'grade': 1951, 'props': 3439, 'escape': 1517, 'history': 2121, 'allow': 189, 'testament': 4417, 'writers': 4969, 'concept': 930, 'ruin': 3750, 'franchise': 1817, 'master': 2757, 'popular': 3333, 'achievement': 94, 'chinese': 796, 'ghost': 1902, 'leslie': 2574, 'distant': 1295, 'china': 795, 'spend': 4105, 'during': 1387, 'mysterious': 2955, 'fight': 1707, 'meet': 2793, 'joey': 2408, 'demon': 1177, 'souls': 4080, 'ghosts': 1903, 'fall': 1637, 'allowed': 190, 'humans': 2190, 'decide': 1148, 'rule': 3753, 'happily': 2030, 'thinks': 4454, 'protagonists': 3442, 'magic': 2703, '1983': 22, 'power': 3359, 'willing': 4889, 'taking': 4352, 'twisted': 4618, 'adds': 119, 'fairy': 1632, 'tale': 4353, 'plenty': 3307, 'stunts': 4246, 'gratuitous': 1961, 'agree': 155, 'motion': 2913, 'pictures': 3270, 'freedom': 1828, 'fly': 1763, 'usually': 4700, 'larger': 2519, 'touching': 4536, 'shallow': 3917, 'act': 97, 'occasionally': 3075, 'greater': 1965, 'deep': 1154, 'genuine': 1891, 'order': 3126, 'thus': 4486, 'important': 2247, 'message': 2819, 'viewers': 4739, 'negative': 2991, 'dialogue': 1234, 'talk': 4358, 'irritating': 2359, 'sadly': 3769, 'tend': 4400, 'easy': 1410, 'possible': 3350, 'challenging': 744, 'japanese': 2382, 'maker': 2714, 'necessary': 2984, 'talks': 4361, 'scripts': 3836, 'song': 4071, 'hopefully': 2157, 'earned': 1401, 'award': 366, 'hong': 2149, 'kong': 2494, 'awards': 367, 'mentioned': 2811, 'fantasy': 1652, 'waited': 4771, 'effect': 1428, 'ridiculously': 3694, 'clichéd': 845, 'force': 1786, 'crew': 1053, 'single': 3996, 'shoot': 3942, 'em': 1452, 'hey': 2095, 'mile': 2842, 'road': 3709, 'protagonist': 3441, 'thrown': 4481, 'blows': 517, 'flying': 1764, 'bizarre': 492, 'upon': 4684, 'lone': 2642, 'army': 295, 'truck': 4595, 'guys': 2001, 'guns': 1998, 'circumstances': 822, 'beast': 422, 'killed': 2469, 'buddies': 608, 'cliché': 844, 'apparent': 269, 'logic': 2638, 'common': 906, 'dumb': 1385, 'ass': 323, 'wow': 4962, 'cheesy': 781, 'saved': 3795, 'appeal': 271, 'described': 1195, 'hardcore': 2034, 'store': 4204, 'sounded': 4082, 'focuses': 1768, 'band': 391, 'punk': 3468, 'ok': 3098, 'popularity': 3334, 'large': 2517, 'festival': 1697, 'twenty': 4612, 'members': 2801, 'struggling': 4236, 'offered': 3088, 'offer': 3087, 'basis': 408, 'europe': 1529, 'process': 3412, 'subtle': 4260, 'changes': 751, 'carefully': 689, 'documentary': 1307, '1930s': 11, 'remote': 3622, 'wild': 4885, 'animals': 240, 'exotic': 1574, 'unusual': 4681, 'dangerous': 1110, 'bringing': 586, 'alive': 186, 'often': 3095, 'conventional': 979, 'expensive': 1579, 'sets': 3899, 'team': 4378, 'documentaries': 1306, 'staged': 4140, 'events': 1536, 'africa': 141, 'inspiring': 2302, 'notably': 3042, 'producing': 3417, 'heavily': 2069, 'humour': 2194, 'viewed': 4737, 'flaw': 1749, 'brown': 601, 'yellow': 4981, 'idiots': 2220, 'clever': 841, 'younger': 4990, 'blond': 510, 'front': 1841, 'historical': 2119, 'evidence': 1546, 'environment': 1505, 'looked': 2647, 'stage': 4139, 'alien': 183, 'attempts': 343, 'teach': 4374, 'jazz': 2387, 'taught': 4370, 'twins': 4616, 'riding': 3695, 'singing': 3995, 'steps': 4177, 'meanwhile': 2785, 'staring': 4152, 'apparently': 270, 'unpleasant': 4674, 'americans': 214, 'perform': 3227, 'using': 4698, 'natural': 2973, 'ill': 2228, 'rate': 3526, 'points': 3319, 'cultural': 1078, 'decade': 1144, 'liked': 2600, 'jokes': 2415, 'worse': 4951, 'roll': 3728, 'beer': 439, 'chose': 804, 'youve': 4995, 'beaten': 424, 'harsh': 2040, 'disappointing': 1274, 'ninja': 3018, 'let': 2579, 'suffers': 4278, 'originality': 3130, 'nuclear': 3057, 'martial': 2747, 'arts': 310, 'number': 3060, 'waste': 4808, 'questions': 3489, 'mission': 2870, 'section': 3853, 'checking': 778, 'ho': 2127, 'recommended': 3572, 'nowhere': 3056, 'hang': 2022, 'below': 462, 'ignore': 2224, 'budget': 610, 'golden': 1934, 'stale': 4141, 'body': 527, 'mad': 2696, 'scientist': 3818, 'violent': 4748, 'normal': 3033, 'scientists': 3819, 'rural': 3758, 'lab': 2501, 'explained': 1587, 'wooden': 4934, 'adding': 117, 'dialog': 1232, 'cinematic': 818, 'prefer': 3368, 'entertainment': 1500, 'available': 361, 'theater': 4427, 'treatment': 4574, 'host': 2173, 'hamlet': 2013, 'pleased': 3305, 'intense': 2316, 'dramatic': 1348, 'kenneth': 2455, 'branagh': 564, 'robin': 3715, 'williams': 4888, 'billy': 482, 'lose': 2654, 'somewhere': 4069, 'beautifully': 429, 'infamous': 2284, '1996': 26, 'bar': 396, 'hurt': 2202, 'information': 2288, 'paying': 3217, 'notable': 3041, 'returning': 3667, 'delivered': 1170, 'toy': 4542, 'soldiers': 4054, 'smile': 4036, 'business': 633, 'war': 4792, 'shooting': 3943, 'machine': 2693, 'tense': 4403, 'around': 297, 'apartment': 265, 'survive': 4321, 'upper': 4685, 'spoil': 4121, 'suffice': 4279, 'rubbish': 3748, 'fourth': 1813, 'stephen': 4176, 'king': 2479, 'exception': 1557, 'impression': 2252, 'thrill': 4471, 'ride': 3692, 'arthur': 305, 'landscape': 2513, 'changing': 752, 'small': 4033, 'floating': 1758, 'mighty': 2836, 'visit': 4755, 'destroy': 1213, 'resident': 3647, 'enter': 1494, 'kings': 2481, 'marie': 2737, 'gentle': 1890, 'giant': 1905, 'partner': 3198, 'arms': 294, 'patrick': 3213, 'brain': 562, 'creature': 1045, 'share': 3920, 'dream': 1354, 'farm': 1656, 'spending': 4106, 'hence': 2083, 'career': 686, 'pay': 3216, 'cg': 739, 'detailed': 1218, 'wonderfully': 4929, 'crafted': 1029, 'designed': 1203, 'thick': 4447, 'photo': 3257, 'non': 3027, 'existent': 1572, 'landscapes': 2514, 'aside': 315, 'awe': 370, 'heres': 2087, 'finale': 1723, 'battle': 414, 'fault': 1668, 'opened': 3113, 'animated': 241, 'product': 3418, 'local': 2634, 'race': 3499, 'sea': 3838, 'except': 1556, 'pokemon': 3320, 'dad': 1095, 'disturbed': 1299, 'mom': 2885, 'pretend': 3381, 'age': 148, 'hint': 2112, 'seriously': 3892, 'rent': 3626, 'light': 2595, 'mean': 2779, 'paint': 3173, 'corner': 996, 'poetry': 3314, 'exciting': 1563, 'trouble': 4592, 'enterprise': 1495, 'universe': 4666, 'threatening': 4468, 'consequences': 947, 'seemingly': 3863, 'planet': 3289, 'sends': 3876, 'soon': 4074, 'kinds': 2478, 'emotional': 1459, 'fantastic': 1651, 'glass': 1917, 'psychological': 3458, 'kirk': 2482, 'trek': 4578, 'season': 3843, 'handed': 2016, 'literally': 2622, 'criticism': 1063, 'ironic': 2355, 'legendary': 2565, 'handle': 2018, 'themes': 4434, 'terms': 4406, 'extraordinary': 1607, 'constantly': 958, 'cliche': 843, 'discovered': 1280, 'relationship': 3597, 'chest': 784, 'cold': 872, 'text': 4419, 'involved': 2346, 'football': 1783, 'rules': 3754, 'francis': 1818, 'son': 4070, 'ralph': 3510, 'rival': 3706, 'commercial': 902, 'edge': 1418, 'album': 175, 'songs': 4072, 'combination': 883, 'opening': 3114, 'widow': 4883, 'scottish': 3825, 'ian': 2209, 'ii': 2226, 'england': 1482, 'winner': 4897, 'elizabeth': 1445, 'spends': 4107, 'difficult': 1249, 'bunch': 623, 'step': 4175, 'generation': 1883, 'wound': 4960, 'bands': 392, 'hits': 2125, 'bbc': 417, 'ed': 1415, 'fest': 1696, 'tonight': 4519, 'remind': 3618, 'lets': 2580, 'tad': 4347, 'sean': 3840, 'path': 3209, 'duke': 1383, 'introduces': 2338, 'asks': 319, 'leads': 2548, 'question': 3487, 'ball': 388, 'ran': 3513, 'led': 2558, 'running': 3756, 'dropped': 1370, 'taken': 4350, 'needless': 2989, 'gordon': 1940, 'freak': 1824, 'candy': 668, 'blues': 519, 'oscar': 3133, 'nominated': 3025, 'sings': 3997, 'bring': 585, 'exposure': 1599, 'innovative': 2295, 'angles': 237, '40s': 49, 'according': 88, 'notes': 3046, 'read': 3543, 'reflection': 3585, 'attitudes': 347, 'shame': 3918, 'locked': 2637, 'block': 508, 'ears': 1402, 'surface': 4310, 'notion': 3050, 'streisand': 4218, 'premise': 3370, 'disbelief': 1277, 'impossible': 2249, 'holmes': 2139, 'record': 3573, 'grey': 1973, 'analysis': 224, 'dealt': 1138, 'pride': 3391, 'six': 4010, 'bullets': 621, 'chase': 769, 'hold': 2129, 'cinderella': 815, 'oh': 3096, 'late': 2523, 'law': 2538, '1973': 19, 'remake': 3612, 'inferior': 2285, 'lee': 2559, 'terrific': 4409, 'edward': 1426, 'robinson': 3716, 'improvement': 2256, 'cuts': 1091, 'youd': 4987, 'hardly': 2036, 'modern': 2882, 'ugly': 4625, 'walter': 4784, 'particular': 3194, 'hideous': 2098, 'hurts': 2203, 'decision': 1151, 'stopped': 4202, 'hair': 2005, 'splendid': 4119, 'oddly': 3081, 'reveals': 3673, 'hat': 2045, 'keeps': 2451, 'raymond': 3534, 'tiny': 4500, 'slightly': 4029, 'cop': 991, 'blame': 499, 'richard': 3686, 'issue': 2364, 'jones': 2418, 'barely': 399, 'renting': 3629, 'row': 3744, 'directing': 1260, 'laughable': 2530, 'anymore': 258, 'badly': 383, 'test': 4416, 'weve': 4856, 'failed': 1626, 'touch': 4533, 'lived': 2626, '15': 7, '16': 8, 'stolen': 4195, 'dubbed': 1379, 'aint': 163, 'porno': 3337, 'ordinary': 3128, 'erotic': 1515, 'uninspired': 4657, 'unconvincing': 4638, 'dialogues': 1235, 'bore': 540, 'sudden': 4272, 'victim': 4729, 'daughters': 1122, 'bodies': 526, 'manage': 2722, 'awake': 365, 'realize': 3552, 'bigger': 479, 'academy': 77, 'walked': 4776, 'ticket': 4487, 'counter': 1011, 'purchase': 3469, 'dozen': 1338, 'requires': 3642, 'multiple': 2936, 'viewings': 4741, 'huh': 2187, 'feeling': 1685, 'embarrassed': 1453, 'fbi': 1675, 'levels': 2585, 'complexity': 924, 'structure': 4233, 'viewing': 4740, 'hidden': 2096, 'mysteries': 2954, 'unexpected': 4650, 'caught': 722, 'guard': 1988, 'revealed': 3671, 'davis': 1126, 'criminal': 1057, 'pops': 3332, 'innocent': 2294, 'paulie': 3215, 'closet': 858, 'homosexual': 2145, 'chris': 806, 'talents': 4356, 'unpredictable': 4675, 'reminiscent': 3621, 'reynolds': 3684, 'personalities': 3241, 'feelings': 1686, 'slightest': 4028, 'reflect': 3584, 'faces': 1618, 'expression': 1602, 'jason': 2383, 'ward': 4793, 'heroes': 2089, 'ambitious': 211, 'storytelling': 4209, 'pulp': 3465, 'saturday': 3792, 'entirely': 1503, 'ideas': 2215, 'attention': 345, 'five': 1743, 'teen': 4388, 'touched': 4534, 'desire': 1205, 'intrigue': 2333, 'provides': 3450, 'searching': 3842, 'watches': 4814, 'lesser': 2576, 'received': 3564, 'content': 966, 'confused': 941, 'confusing': 942, 'empathy': 1462, 'jake': 2377, 'north': 3036, 'union': 4661, 'states': 4163, 'rights': 3697, 'political': 3324, 'noble': 3021, 'east': 1407, 'joined': 2413, 'proof': 3434, 'involvement': 2347, 'shelf': 3926, 'angela': 232, 'comparing': 913, 'imaginative': 2237, 'vicious': 4728, 'lacks': 2505, 'century': 736, 'sadistic': 3768, 'amazingly': 210, 'elsewhere': 1449, 'justice': 2438, 'dirty': 1268, 'harry': 2039, 'clint': 850, 'eastwood': 1409, 'carries': 699, 'conflict': 939, 'criminals': 1058, 'draws': 1352, 'whos': 4876, 'impact': 2244, 'encounters': 1467, 'individual': 2277, 'brand': 565, 'carrying': 701, 'ended': 1470, 'department': 1182, 'vacation': 4704, 'francisco': 1819, 'recent': 3566, 'methods': 2825, 'continues': 971, 'investigation': 2343, 'ultimately': 4628, 'involves': 2348, 'artist': 307, 'jennifer': 2392, 'gradually': 1952, 'discovers': 1281, 'link': 2613, 'burning': 627, 'fit': 1740, 'chair': 742, 'spirit': 4113, 'territory': 4411, 'continuity': 972, 'directs': 1267, 'creates': 1038, 'involving': 2349, 'beginning': 443, 'joseph': 2419, 'conceived': 929, 'earl': 1398, 'aspects': 322, 'catch': 714, 'ahead': 159, 'code': 869, 'stuff': 4243, 'country': 1014, 'dear': 1140, 'icon': 2211, 'portraying': 3343, 'bond': 532, 'vengeance': 4719, 'approach': 282, 'typical': 4623, 'philosophy': 3254, 'paul': 3214, 'psycho': 3457, 'andy': 230, 'dynamic': 1394, 'purely': 3472, 'response': 3654, 'greatly': 1967, 'provide': 3448, 'albert': 174, 'nancy': 2964, 'satisfying': 3791, 'recently': 3567, 'longer': 2645, 'stuck': 4237, 'mature': 2773, 'remains': 3611, 'reputation': 3640, 'superb': 4296, 'values': 4710, 'deals': 1137, 'ridden': 3691, 'predictable': 3367, 'evening': 1534, 'drive': 1363, 'worn': 4948, 'formula': 1802, 'cardboard': 682, 'source': 4086, 'dave': 1123, 'explored': 1595, 'pot': 3354, 'subsequent': 4257, 'desperation': 1210, 'shirley': 3936, 'fail': 1625, 'soap': 4047, 'opera': 3116, 'gun': 1996, 'capital': 673, 'dean': 1139, 'holes': 2133, 'disney': 1289, 'novel': 3052, 'stanley': 4148, 'sent': 3880, 'juvenile': 2441, 'camp': 662, 'desert': 1198, 'boys': 559, 'jon': 2416, 'voight': 4764, 'sir': 4000, 'prom': 3429, 'artistic': 308, 'lifetime': 2594, 'surviving': 4323, 'disease': 1285, 'boyfriend': 558, 'sappy': 3784, 'immensely': 2243, 'plight': 3308, 'drop': 1369, 'occurred': 3077, 'fairly': 1631, 'matthew': 2772, 'knife': 2487, 'scary': 3807, 'throws': 4482, 'shadows': 3913, 'mirror': 2861, 'repeated': 3631, 'practically': 3362, 'creator': 1043, 'jump': 2429, 'scares': 3806, 'mention': 2810, 'decided': 1149, 'halfway': 2008, 'disjointed': 1287, 'cutting': 1092, 'catches': 715, 'fire': 1734, 'ends': 1474, 'cross': 1066, 'editor': 1423, 'silver': 3977, 'support': 4303, 'weekend': 4838, 'aware': 368, 'bullet': 620, 'sacrifice': 3766, '25': 40, 'parker': 3191, 'stone': 4197, 'creators': 1044, 'park': 3190, 'main': 2707, 'cooper': 990, 'throughout': 4478, 'reminds': 3620, 'corrupt': 1001, 'sports': 4130, 'quote': 3496, 'portion': 3338, 'reunion': 3669, 'create': 1036, 'sport': 4129, 'basketball': 409, 'pro': 3406, 'mate': 2765, 'absurd': 73, 'crying': 1074, 'dude': 1381, 'unfortunate': 4653, 'busy': 635, 'somehow': 4063, 'failing': 1627, 'normally': 3034, 'niro': 3019, 'horrible': 2163, 'brian': 576, 'mafia': 2700, 'worked': 4941, 'wedding': 4836, 'unfunny': 4655, 'baby': 376, 'appeared': 276, 'hate': 2046, 'minded': 2850, 'specifically': 4100, 'underrated': 4642, 'musical': 2947, 'oliver': 3102, 'writing': 4971, 'settings': 3901, 'merely': 2815, 'broadway': 592, 'historically': 2120, 'activities': 102, 'uncomfortable': 4637, 'mixture': 2878, 'casting': 711, 'precious': 3366, 'performs': 3234, 'traditional': 4550, 'routine': 3743, 'tunes': 4603, 'sing': 3992, 'buy': 640, 'kitchen': 2485, 'sink': 3999, 'despair': 1207, 'choreography': 802, 'considered': 951, 'regret': 3591, 'combined': 885, 'overcome': 3151, 'results': 3662, 'virgin': 4749, 'un': 4630, 'dreadful': 1353, 'secret': 3849, 'snake': 4042, 'potential': 3355, 'situation': 4008, 'hundreds': 2196, 'tongue': 4518, 'cheek': 779, 'trailer': 4554, 'represents': 3639, 'wear': 4830, 'reviews': 3679, 'user': 4696, 'ratings': 3530, 'enormous': 1490, 'paltrow': 3178, 'davies': 1125, 'filming': 1718, 'locations': 2636, 'characterization': 759, 'donald': 1321, 'sutherland': 4333, 'max': 2774, 'von': 4765, 'carried': 698, 'photography': 3260, 'couple': 1016, 'frankly': 1823, 'exaggerated': 1552, 'producer': 3415, 'adam': 111, 'purpose': 3474, 'gene': 1879, 'widmark': 4882, 'mickey': 2831, 'domino': 1319, 'view': 4736, 'misses': 2868, 'wide': 4880, 'hooked': 2153, 'coach': 868, 'player': 3298, 'theyll': 4444, 'stretched': 4222, 'jeremy': 2394, 'theory': 4437, 'flight': 1757, 'boredom': 542, 'patient': 3211, 'carter': 703, 'virtually': 4751, 'community': 908, 'service': 3896, 'caring': 691, 'charm': 767, 'creating': 1039, 'sentimental': 3882, 'bank': 394, 'fascinating': 1658, 'heroine': 2091, 'appearing': 277, 'welcome': 4842, 'fellow': 1691, 'sophisticated': 4075, 'douglas': 1334, 'cook': 988, 'portray': 3340, 'wayne': 4821, 'seconds': 3848, 'performers': 3232, 'recognize': 3569, 'van': 4713, 'soundtrack': 4085, 'st': 4137, 'dealing': 1136, 'picked': 3266, 'scheme': 3812, 'plan': 3287, 'storm': 4206, 'inevitably': 2283, '14': 6, 'afterwards': 145, 'walking': 4779, 'kinda': 2477, 'feels': 1687, 'authentic': 358, 'actions': 101, 'sell': 3871, 'warned': 4798, 'resources': 3651, 'future': 1856, 'snl': 4044, 'al': 170, 'essentially': 1523, '70': 55, 'racist': 3503, 'society': 4050, 'joke': 2414, 'witty': 4917, 'london': 2641, 'bette': 471, 'early': 1400, 'accent': 78, 'mistake': 2871, 'gruesome': 1986, 'dick': 1239, 'mary': 2751, 'howard': 2182, 'superbly': 4297, 'intelligent': 2314, 'ms': 2931, 'magnificent': 2705, 'believed': 455, 'pulls': 3464, 'male': 2719, 'quest': 3486, 'transfer': 4559, 'poorly': 3329, 'slaughter': 4021, 'pick': 3265, 'hour': 2176, 'ultra': 4629, 'losers': 2656, 'chicks': 787, 'picking': 3267, 'assume': 328, 'choices': 798, 'horrendous': 2162, 'reviewers': 3678, 'pointed': 3317, 'call': 651, 'accents': 79, 'numerous': 3062, 'gore': 1941, 'scooby': 3820, 'doo': 1325, 'skip': 4016, 'wanna': 4786, 'heck': 2071, 'dawn': 1127, 'vietnam': 4735, 'cruise': 1071, 'kate': 2446, 'pregnant': 3369, 'summer': 4291, 'liberal': 2588, 'everybody': 1540, 'sixties': 4011, 'bed': 436, 'aid': 160, 'stated': 4161, 'began': 441, 'necessarily': 2983, 'native': 2972, 'required': 3641, 'anybody': 257, 'schools': 3814, 'wonders': 4931, 'mistakes': 2873, 'mine': 2853, 'laughed': 2532, 'civil': 826, 'swedish': 4335, 'dressing': 1359, '1950s': 14, 'familiar': 1643, 'actual': 108, 'dress': 1357, 'topic': 4526, 'frequently': 1832, 'samurai': 3779, 'japan': 2381, 'speaks': 4096, 'birds': 485, 'monkey': 2890, 'whatever': 4859, 'encounter': 1466, 'positive': 3346, 'holiday': 2134, 'speaking': 4095, 'plain': 3286, 'weapons': 4829, 'dubbing': 1380, 'curious': 1083, 'lynch': 2691, 'journey': 2421, 'miles': 2843, 'sick': 3963, 'voiced': 4762, 'paced': 3162, 'matches': 2764, 'listening': 2620, 'witnesses': 4916, 'smart': 4035, 'meat': 2787, 'loses': 2657, 'nearly': 2981, 'thanks': 4423, 'discuss': 1283, 'price': 3389, 'calling': 653, 'costs': 1004, 'appreciate': 279, 'learning': 2552, 'mans': 2730, 'honor': 2150, 'wisdom': 4902, 'sitting': 4007, 'redeeming': 3577, 'steel': 4173, 'earth': 1403, 'discovery': 1282, 'channel': 753, 'jaw': 2384, 'dropping': 1371, 'awesome': 371, 'circle': 821, 'shark': 3921, 'adorable': 124, 'various': 4715, 'narrator': 2967, 'gods': 1928, 'views': 4742, 'format': 1799, 'couldve': 1009, 'studios': 4241, 'count': 1010, 'knew': 2486, 'existed': 1570, 'leading': 2547, 'commented': 900, '2001': 31, '90s': 61, 'enemy': 1477, 'groups': 1981, 'cube': 1076, 'etc': 1527, 'factory': 1623, 'rap': 3520, 'larry': 2520, 'revenge': 3675, 'tone': 4517, 'christopher': 811, 'lawrence': 2539, 'politics': 3326, 'controversial': 978, 'hip': 2114, 'hop': 2154, 'knowledge': 2491, 'tap': 4364, 'spoof': 4127, 'opinion': 3118, 'metal': 2823, 'hook': 2152, 'extras': 1608, 'videos': 4734, 'solo': 4058, 'artists': 309, 'lucky': 2683, 'extra': 1606, 'weeks': 4839, 'club': 863, 'sue': 4274, 'neither': 2996, 'rain': 3506, 'false': 1641, 'unnecessary': 4672, 'facts': 1624, 'educational': 1425, 'mst3k': 2932, 'june': 2433, 'rocky': 3723, 'ancient': 225, 'animation': 242, 'odd': 3080, 'magical': 2704, 'scenery': 3810, 'largely': 2518, 'sold': 4052, 'copies': 992, 'proud': 3444, 'felt': 1692, 'nick': 3012, 'thomas': 4458, 'embarrassment': 1455, 'stilted': 4190, 'mechanical': 2788, 'thoroughly': 4459, 'critic': 1061, 'turned': 4606, 'prepared': 3371, 'challenge': 743, 'pleasantly': 3303, 'portrays': 3344, 'subject': 4253, 'dating': 1120, 'suspect': 4327, 'peoples': 3222, 'met': 2822, 'portrayed': 3342, 'unreal': 4676, 'contrast': 975, 'jet': 2400, 'humorous': 2193, 'albeit': 173, 'lousy': 2667, 'stunt': 4245, 'appearance': 274, 'sake': 3775, 'cars': 702, 'explosion': 1596, 'chases': 771, 'cliff': 847, 'sides': 3967, 'general': 1880, 'generally': 1881, 'rocket': 3721, 'tough': 4537, 'choreographed': 801, 'rats': 3531, 'nights': 3016, 'superior': 4300, 'texas': 4418, 'compared': 912, 'knock': 2488, 'watchable': 4812, 'choose': 799, 'student': 4238, 'roman': 3731, 'le': 2544, 'shock': 3938, 'alright': 198, 'surprisingly': 4316, 'montage': 2894, 'random': 3514, 'reminded': 3619, 'guessing': 1991, 'suppose': 4305, 'parody': 3192, 'powers': 3361, 'daddy': 1096, 'experiences': 1582, 'relationships': 3598, 'visible': 4753, 'carry': 700, 'theme': 4433, 'absence': 70, 'total': 4531, 'crash': 1033, 'miracle': 2860, 'finding': 1727, 'affect': 136, 'closest': 857, 'handled': 2019, 'dimensional': 1253, 'australia': 356, 'pleasant': 3302, 'brad': 560, 'pitt': 3280, 'shadow': 3912, 'steven': 4182, 'seagal': 3839, 'fooled': 1780, 'hadnt': 2004, 'worthy': 4956, 'fat': 1663, 'lazy': 2543, 'thousand': 4465, 'describe': 1194, 'reactions': 3542, 'contains': 964, 'noise': 3024, 'gang': 1867, 'forest': 1791, 'shouldnt': 3952, 'send': 3875, 'danger': 1109, 'tree': 4576, 'merits': 2817, 'keaton': 2448, 'hear': 2061, 'affair': 135, 'complicated': 925, 'era': 1513, 'marks': 2742, 'featuring': 1681, 'hardy': 2037, 'judge': 2424, 'facing': 1620, 'domestic': 1318, 'crisis': 1060, 'married': 2744, 'joan': 2404, 'committed': 905, 'holds': 2131, 'prove': 3445, 'knows': 2493, 'forces': 1788, 'spring': 4134, 'emily': 1456, 'margaret': 2735, 'aunt': 355, 'surprises': 4314, 'painted': 3174, 'loaded': 2632, 'creative': 1041, 'showing': 3958, 'bergman': 466, 'smiling': 4037, 'answer': 251, 'whilst': 4869, 'arrested': 298, 'boot': 538, 'balance': 387, 'figured': 1712, 'jean': 2389, 'mel': 2796, 'cases': 708, 'incident': 2260, 'charismatic': 763, 'becoming': 435, 'instinct': 2308, 'significant': 3972, 'older': 3101, 'sequel': 3885, 'besides': 468, 'resemblance': 3645, 'catherine': 719, 'rank': 3518, 'monsters': 2893, 'target': 4366, 'reached': 3537, 'arrived': 301, 'destroyed': 1214, 'complex': 923, 'site': 4005, 'blair': 497, 'witch': 4909, 'length': 2569, 'afford': 138, 'sincere': 3991, 'bumbling': 622, 'quirky': 3493, 'bakshi': 386, 'rings': 3699, 'shine': 3931, 'epic': 1506, 'odds': 3082, 'fails': 1628, 'meaningful': 2781, 'motivations': 2915, 'villain': 4744, 'mask': 2752, 'appropriate': 283, 'audio': 354, 'whenever': 4863, 'screaming': 3827, 'execution': 1566, '30s': 44, 'cartoon': 704, 'fast': 1661, 'button': 639, 'recorded': 3574, '75': 57, 'personally': 3243, 'minimum': 2856, 'junior': 2435, 'breasts': 572, 'tune': 4602, 'hitting': 2126, 'board': 522, 'amusing': 221, 'carrie': 697, 'unknown': 4668, 'planned': 3290, 'wasting': 4810, 'contrary': 974, 'wives': 4918, 'womens': 4924, 'chick': 786, 'attorney': 348, 'realizing': 3555, 'bland': 500, 'dvds': 1392, 'secrets': 3852, 'impressed': 2251, 'blown': 516, 'matched': 2763, 'location': 2635, 'library': 2589, 'oscars': 3134, 'switch': 4339, 'mexican': 2826, 'trade': 4547, 'private': 3404, 'range': 3516, '35': 45, '40': 48, 'grew': 1972, 'dennis': 1179, 'fame': 1642, 'beach': 419, 'beat': 423, 'unbelievable': 4634, 'susan': 4326, 'poverty': 3357, 'prize': 3405, 'louise': 2666, 'brooks': 596, 'tragic': 4552, 'summary': 4290, 'explain': 1586, 'overdone': 3152, 'mountain': 2917, 'advise': 134, 'british': 589, 'lion': 2614, 'grim': 1974, 'drawing': 1350, 'web': 4833, 'spot': 4131, 'context': 968, 'remarks': 3615, 'reference': 3582, 'search': 3841, 'whatsoever': 4861, 'receive': 3563, 'introduced': 2337, 'misery': 2865, 'confusion': 943, 'chances': 748, 'glad': 1916, 'miller': 2846, 'sin': 3988, 'noir': 3023, 'christian': 808, 'paris': 3189, 'tradition': 4549, 'multi': 2935, 'darkness': 1117, 'beneath': 464, 'research': 3644, 'global': 1920, 'kidnapped': 2466, 'daniel': 1111, 'craig': 1030, 'task': 4368, 'overly': 3155, 'influenced': 2287, 'blade': 495, 'report': 3635, 'surrounded': 4318, 'connect': 944, 'presentation': 3375, 'base': 402, 'behavior': 446, 'laid': 2508, 'relatively': 3600, 'medium': 2792, 'pushed': 3478, 'meaning': 2780, 'lovers': 2673, 'rob': 3710, 'tiger': 4491, 'dragon': 1344, 'culture': 1079, 'bill': 481, 'types': 4622, 'dancer': 1104, 'dancing': 1107, 'imagination': 2236, 'loyal': 2679, '11': 2, 'international': 2326, 'choice': 797, 'ken': 2453, 'india': 2273, 'realizes': 3554, 'profound': 3423, 'guilt': 1994, 'miserably': 2864, 'executed': 1565, 'amongst': 218, 'reviewer': 3677, 'treasure': 4571, 'forgive': 1795, 'clichés': 846, 'owner': 3159, 'blind': 506, 'poetic': 3313, 'helped': 2080, 'defeat': 1157, 'cry': 1073, 'shirt': 3937, 'clothes': 860, 'stinker': 4191, 'dressed': 1358, 'initial': 2290, 'raw': 3532, 'bin': 483, 'hood': 2151, 'pan': 3180, 'notch': 3043, 'intriguing': 2335, 'digital': 1251, 'revolution': 3680, 'france': 1816, 'none': 3028, 'appealing': 272, 'foreign': 1790, 'rolled': 3729, 'wouldve': 4959, 'classical': 836, 'uninteresting': 4660, 'subjects': 4254, 'angle': 236, 'suffering': 4277, 'twice': 4613, 'twin': 4615, 'titles': 4506, 'proper': 3436, 'stones': 4198, 'bottle': 550, 'identify': 2216, 'mentioning': 2812, 'cup': 1080, 'shoots': 3944, 'eve': 1532, 'shortly': 3947, 'midnight': 2834, 'village': 4743, 'church': 813, 'bang': 393, 'rex': 3683, 'dinosaurs': 1256, 'underlying': 4641, 'shall': 3916, 'included': 2262, 'evident': 1547, 'outrageous': 3145, 'insulting': 2310, 'asking': 318, 'concerns': 934, 'lessons': 2578, 'receives': 3565, 'spanish': 4092, 'language': 2516, 'therefore': 4439, 'dinosaur': 1255, 'sticks': 4186, 'intent': 2318, 'holy': 2140, 'spiritual': 4116, 'certain': 737, 'table': 4346, 'wicked': 4879, 'naive': 2958, 'eat': 1411, 'state': 4160, 'instance': 2304, 'ideal': 2214, 'americas': 215, 'ignorant': 2223, 'closing': 859, 'jim': 2402, 'stealing': 4171, 'alexander': 180, 'rental': 3627, 'nobody': 3022, 'perfection': 3225, 'german': 1896, '12': 3, 'cinemas': 817, 'nowadays': 3055, 'starting': 4158, 'towards': 4540, 'technology': 4385, 'progress': 3425, 'todays': 4509, 'standards': 4145, 'tear': 4379, 'capturing': 679, 'household': 2179, 'west': 4852, 'relative': 3599, '1940s': 13, 'performer': 3231, 'card': 681, 'news': 3005, 'glimpse': 1919, 'scare': 3803, 'faith': 1633, 'continue': 969, 'obscure': 3068, 'supposedly': 4307, 'ground': 1979, 'current': 1084, 'veteran': 4724, 'drinking': 1362, 'animal': 239, 'attached': 336, 'pile': 3275, 'voices': 4763, 'slap': 4018, '90': 60, 'goofy': 1939, 'result': 3660, 'slick': 4026, 'pacing': 3163, 'nasty': 2968, 'rarely': 3524, 'harvey': 2042, 'rooms': 3736, 'ship': 3934, 'explore': 1594, 'mars': 2746, 'orange': 3125, 'bride': 577, 'winds': 4895, 'eating': 1413, 'plant': 3293, 'difference': 1246, 'insane': 2296, 'unable': 4631, 'sleep': 4024, 'cards': 683, 'influence': 2286, 'scream': 3826, 'scared': 3805, 'grab': 1949, 'norman': 3035, 'grown': 1984, 'doom': 1326, 'buff': 611, 'handsome': 2021, 'angel': 231, 'richards': 3687, 'excuse': 1564, 'suit': 4284, 'crucial': 1068, 'covers': 1024, 'failure': 1629, 'author': 359, 'intentions': 2321, 'coherent': 871, 'join': 2412, 'amateur': 206, 'glorious': 1921, 'communist': 907, 'concern': 931, 'obsessed': 3069, 'disgusting': 1286, 'professional': 3421, 'da': 1094, 'distance': 1294, 'official': 3094, 'success': 4265, 'cameos': 658, 'makeup': 2717, 'recognized': 3570, 'elaborate': 1439, 'buffs': 612, 'chaplin': 756, 'pop': 3330, 'hart': 2041, 'lively': 2627, 'quit': 3494, 'hollywoods': 2138, 'warner': 4799, 'green': 1971, 'colour': 880, 'stewart': 4184, 'agents': 151, 'progresses': 3426, 'mini': 2854, 'notorious': 3051, 'figures': 1713, 'nazi': 2977, 'spy': 4135, 'menace': 2806, 'disaster': 1276, 'devoted': 1231, 'players': 3299, 'ryan': 3765, 'occurs': 3078, 'narration': 2965, 'thousands': 4466, 'field': 1704, 'treated': 4573, 'houses': 2180, 'daily': 1097, 'remarkable': 3613, 'march': 2734, 'menacing': 2807, 'latin': 2527, 'arrival': 299, 'scores': 3823, 'western': 4853, 'hanging': 2023, 'passes': 3203, 'implausible': 2245, 'adams': 112, 'officer': 3092, 'mail': 2706, 'pointless': 3318, 'subplots': 4256, 'drives': 1367, 'pass': 3201, 'lumet': 2688, 'harder': 2035, 'par': 3184, 'sidney': 3968, 'seventies': 3904, 'ie': 2221, 'safe': 3771, 'likely': 2601, 'ensemble': 1492, 'dramas': 1347, 'reel': 3581, 'mansion': 2731, 'screams': 3828, 'husbands': 2205, 'vivid': 4760, 'depiction': 1185, 'presents': 3377, 'nor': 3032, 'built': 618, 'majority': 2712, 'machines': 2694, 'possibilities': 3348, 'previously': 3388, 'pool': 3327, 'sneak': 4043, 'directly': 1263, 'fictional': 1703, 'suits': 4287, 'lawyer': 2541, 'warren': 4801, 'helen': 2075, 'strikes': 4225, 'position': 3345, 'nervous': 2999, 'rough': 3741, 'letters': 2582, 'holding': 2130, 'ben': 463, 'stiller': 4189, 'pretentious': 3383, 'ego': 1435, 'putting': 3482, 'workers': 4943, 'relate': 3593, 'attempting': 342, 'reach': 3536, 'saving': 3797, 'grace': 1950, 'delivery': 1173, 'water': 4816, 'amy': 222, 'jimmy': 2403, 'leader': 2546, 'agreed': 156, 'depicting': 1184, 'classics': 837, 'remain': 3609, 'destiny': 1212, 'lies': 2591, 'bargain': 400, 'status': 4165, 'achieve': 92, 'nose': 3037, 'inappropriate': 2259, 'satan': 3787, 'cat': 713, 'writes': 4970, 'elderly': 1440, 'senseless': 3878, 'hated': 2047, 'wall': 4781, 'suspects': 4328, 'ties': 4490, 'dragged': 1343, 'settle': 3902, 'halloween': 2010, 'incoherent': 2265, 'crocodile': 1065, 'hunter': 2199, 'antics': 255, 'distracting': 1297, 'afternoon': 144, 'astaire': 330, 'ginger': 1908, 'rogers': 3725, 'musicals': 2948, 'tie': 4488, 'baker': 385, 'hall': 2009, 'mistaken': 2872, 'bears': 421, 'narrative': 2966, 'couples': 1017, 'decades': 1145, 'occur': 3076, 'berlin': 467, 'trio': 4587, 'dances': 1106, 'contest': 967, 'win': 4892, 'physical': 3262, 'melodramatic': 2798, 'outfit': 3144, 'typically': 4624, 'trademark': 4548, 'eyed': 1612, 'singer': 3993, 'regardless': 3590, 'generated': 1882, '2005': 35, 'feet': 1688, 'theatrical': 4430, 'maintain': 2710, 'closed': 854, 'develops': 1226, 'jeffrey': 2391, 'humble': 2191, 'walker': 4778, 'winning': 4898, 'attitude': 346, '1980s': 21, 'karloff': 2445, 'lugosi': 2686, 'capture': 676, 'mountains': 2918, 'existence': 1571, 'contained': 963, 'cure': 1081, 'convinced': 984, 'cheated': 775, 'seeks': 3860, 'pseudo': 3454, 'scientific': 3817, 'persons': 3244, 'remarkably': 3614, 'distinct': 1296, 'whale': 4857, 'invisible': 2344, 'universal': 4665, 'admire': 121, 'surfing': 4311, 'horribly': 2164, 'inane': 2258, 'throw': 4479, 'training': 4558, 'hotel': 2175, 'toilet': 4512, 'plague': 3285, 'wacky': 4769, 'mere': 2814, 'credit': 1049, 'canada': 666, 'wandering': 4785, 'definition': 1163, 'promises': 3432, 'prevent': 3385, 'beloved': 461, 'harris': 2038, 'drag': 1342, 'deliver': 1169, 'steals': 4172, 'empty': 1465, 'heaven': 2068, 'tea': 4373, 'sympathy': 4343, 'attack': 337, 'core': 995, 'iran': 2350, 'teacher': 4375, 'massacre': 2754, 'soldier': 4053, 'terrorist': 4413, 'childrens': 793, 'plans': 3292, 'mexico': 2827, 'slowly': 4032, 'buildings': 616, 'jumping': 2431, 'september': 3884, 'anywhere': 263, 'theaters': 4428, 'nicholas': 3010, 'cage': 645, 'hopper': 2161, 'phone': 3255, 'creativity': 1042, 'fetched': 1698, 'annoyed': 248, 'unlikely': 4671, 'arrive': 300, 'notice': 3048, 'lights': 2597, 'broken': 594, 'naked': 2959, 'wreck': 4965, 'arrives': 302, 'upset': 4687, 'titanic': 4503, 'cameron': 661, 'rose': 3739, 'primarily': 3393, 'exploration': 1593, 'survivors': 4325, 'boat': 523, 'ireland': 2352, 'april': 284, 'irish': 2353, 'hopeless': 2158, 'wealthy': 4827, 'dawson': 1128, 'speed': 4103, 'newspaper': 3006, 'friday': 1834, 'morning': 2906, 'stretch': 4221, 'legs': 2566, 'waters': 4817, 'ignored': 2225, 'shut': 3961, 'accurate': 90, 'calls': 654, 'california': 650, 'warn': 4797, 'severe': 3906, 'causing': 726, 'radio': 3504, 'suffered': 4276, 'deaths': 1142, 'gain': 1863, 'added': 116, 'molly': 2884, 'andrew': 228, 'bruce': 602, 'officers': 3093, 'survived': 4322, 'canadian': 667, 'nations': 2971, 'wanting': 4790, 'furthermore': 1854, 'smoking': 4040, 'manhattan': 2726, 'nonetheless': 3029, 'cost': 1003, 'dollars': 1315, 'creation': 1040, 'financial': 1725, 'wished': 4905, '1990s': 25, 'deeper': 1155, 'stands': 4147, 'ocean': 3079, 'twelve': 4611, 'provided': 3449, 'perspective': 3245, 'transition': 4561, 'novels': 3053, 'treats': 4575, 'insight': 2298, 'regarding': 3589, 'frustrated': 1842, 'packed': 3166, 'weight': 4840, 'pathetic': 3210, 'continued': 970, 'demons': 1178, 'mentions': 2813, 'interview': 2329, 'iii': 2227, 'games': 1865, 'scripted': 3835, 'opposed': 3122, 'finish': 1732, 'beating': 425, 'achieved': 93, 'hunters': 2200, 'string': 4227, 'females': 1694, 'ps': 3453, 'bo': 521, 'birthday': 487, 'interviews': 2330, 'appreciation': 281, 'deaf': 1134, 'aids': 161, 'hire': 2116, 'jail': 2376, 'twists': 4619, '2002': 32, 'dog': 1310, 'abysmal': 76, 'eva': 1531, 'lake': 2509, 'gag': 1861, 'werent': 4849, 'jackie': 2374, 'chan': 746, 'kung': 2498, 'fu': 1844, 'resolution': 3649, 'kicking': 2462, 'reaches': 3538, 'errors': 1516, 'rick': 3689, 'chaos': 755, 'brutal': 603, 'luckily': 2682, 'falling': 1639, 'hiding': 2099, 'traveling': 4568, 'companion': 909, 'fights': 1710, 'topless': 4527, 'opens': 3115, 'pig': 3274, 'crappy': 1032, 'entertained': 1498, 'brando': 566, 'gary': 1873, 'johnny': 2410, 'garbo': 1871, 'kelly': 2452, 'charlotte': 766, 'streep': 4215, 'julia': 2427, 'roberts': 3714, 'popcorn': 3331, 'bollywood': 530, 'sloppy': 4030, 'driver': 1366, 'streets': 4217, '1st': 28, 'ashley': 313, 'tired': 4501, 'split': 4120, 'adventures': 131, 'fired': 1735, 'hired': 2117, 'interpretation': 2328, 'legal': 2563, 'farce': 1654, 'vampire': 4711, 'spots': 4132, 'dust': 1388, 'beats': 426, 'realise': 3548, 'aimed': 162, 'teenagers': 4391, 'damon': 1101, 'omen': 3104, 'fool': 1779, 'endings': 1472, 'conclusion': 936, 'depression': 1189, 'surreal': 4317, 'flies': 1756, 'tag': 4348, 'suggests': 4282, '3d': 46, 'excessive': 1560, 'battles': 415, 'piano': 3264, 'countryside': 1015, 'shoes': 3941, 'explains': 1589, 'walks': 4780, 'walk': 4775, 'dogs': 1311, 'matthau': 2771, 'burns': 628, 'spoken': 4126, 'retired': 3664, 'neil': 2995, 'simon': 3982, 'orson': 3132, 'welles': 4844, 'granted': 1957, 'tends': 4402, 'consistently': 954, 'troubles': 4594, 'sunshine': 4294, 'spirits': 4115, 'feminist': 1695, 'lesson': 2577, 'loose': 2650, 'nostalgic': 3039, 'melting': 2799, 'lit': 2621, 'holly': 2136, 'contemporary': 965, 'issues': 2365, 'succeeds': 4264, 'raising': 3509, 'kudos': 2497, 'managed': 2723, 'gundam': 1997, 'wing': 4896, 'conflicts': 940, 'anime': 243, 'subtitles': 4259, 'dub': 1378, 'inner': 2292, 'robot': 3717, 'contain': 962, 'concerning': 933, 'beliefs': 452, 'constant': 957, 'captivating': 675, 'provoking': 3452, 'involve': 2345, 'brains': 563, 'jessica': 2398, 'guarantee': 1987, 'cox': 1026, 'sleazy': 4023, 'variety': 4714, 'versions': 4721, 'places': 3284, 'fallen': 1638, 'drug': 1373, 'sexuality': 3909, 'walls': 4783, 'photos': 3261, 'ted': 4386, 'energy': 1478, 'lucas': 2680, 'timothy': 4499, 'blake': 498, 'surrounding': 4319, 'seed': 3856, 'centers': 734, 'cover': 1022, 'breaks': 571, 'urban': 4688, 'thrilling': 4474, 'unrealistic': 4677, 'alert': 178, 'risk': 3704, 'chain': 741, 'learns': 2553, 'associated': 327, 'travel': 4567, 'secretly': 3851, 'hide': 2097, 'indian': 2274, 'neighbor': 2992, 'neighbors': 2994, '100': 1, 'river': 3707, 'spare': 4093, 'stood': 4199, 'sons': 4073, 'gas': 1874, 'crimes': 1056, 'terrorists': 4414, 'cops': 993, 'britain': 588, 'pair': 3176, 'pushing': 3479, 'size': 4012, 'bible': 477, 'mayor': 2777, 'yelling': 4980, 'villains': 4745, 'peace': 3219, 'installment': 2303, 'steal': 4170, 'sorts': 4078, 'uneven': 4649, 'mouse': 2919, 'kicked': 2461, 'cats': 721, 'masters': 2761, 'clothing': 861, 'treat': 4572, 'filled': 1715, 'disagree': 1269, 'anti': 254, 'honesty': 2148, 'wrestling': 4966, 'angels': 234, 'meaningless': 2782, 'techniques': 4384, 'university': 4667, 'southern': 4088, 'higher': 2101, 'centered': 733, 'racial': 3501, 'soft': 4051, 'fits': 1741, 'bush': 632, 'raped': 3522, 'ease': 1404, 'planning': 3291, 'drew': 1360, 'jackson': 2375, 'miscast': 2862, 'channels': 754, 'projects': 3428, 'vague': 4705, 'experiment': 1583, 'vaguely': 4706, 'defined': 1160, 'guts': 1999, 'president': 3378, 'kim': 2475, 'lacked': 2503, 'li': 2587, 'weapon': 4828, 'kicks': 2463, 'air': 164, 'thief': 4448, 'engaged': 1480, 'stops': 4203, 'homage': 2141, 'tony': 4521, 'dig': 1250, 'killers': 2471, 'museum': 2945, 'ape': 266, 'purposes': 3475, 'explanation': 1590, 'sleeping': 4025, 'wake': 4774, 'fix': 1744, 'birth': 486, 'examples': 1554, 'rare': 3523, 'tim': 4494, 'travels': 4569, 'psychic': 3456, 'succeed': 4262, 'calm': 655, 'liners': 2611, 'sequels': 3886, 'riveting': 3708, 'innocence': 2293, 'military': 2844, 'court': 1020, 'hamilton': 2012, 'dedicated': 1153, 'desperate': 1208, 'passionate': 3206, 'scale': 3802, 'detail': 1217, 'gender': 1878, 'depressing': 1188, 'headed': 2058, 'heston': 2094, 'unfolds': 4651, 'masses': 2755, 'sidekick': 3966, 'depressed': 1187, 'peters': 3248, 'ritter': 3705, 'ludicrous': 2685, 'market': 2740, '1933': 12, 'woods': 4935, 'photographed': 3258, 'losing': 2658, 'contrived': 976, 'swim': 4337, 'swimming': 4338, 'symbolism': 4341, 'crude': 1069, '18': 10, 'chemistry': 782, 'illegal': 2229, 'noticed': 3049, 'showed': 3956, 'beings': 449, 'struggle': 4234, 'racism': 3502, 'judging': 2425, 'reaching': 3539, 'forgettable': 1794, 'bridge': 578, 'surprising': 4315, 'uncle': 4636, 'suggested': 4281, '1968': 16, 'personality': 3242, 'eventually': 1537, 'divorce': 1301, 'dracula': 1341, 'priest': 3392, 'allows': 192, 'threw': 4470, 'arm': 292, 'loser': 2655, 'returns': 3668, 'usa': 4691, 'ham': 2011, '60': 53, 'ned': 2986, 'australian': 357, 'clue': 864, 'smaller': 4034, 'naturally': 2974, 'smooth': 4041, 'bomb': 531, 'cartoons': 705, 'spoiled': 4122, 'twilight': 4614, 'zone': 4999, 'womans': 4922, 'reporter': 3636, 'werewolf': 4850, 'crowd': 1067, 'spain': 4091, 'performed': 3230, 'flop': 1760, 'passion': 3205, 'cringe': 1059, 'accepted': 82, 'dozens': 1339, 'preview': 3386, 'rolling': 3730, 'wishing': 4907, 'carrey': 696, 'broad': 590, 'indie': 2276, 'mann': 2728, 'offended': 3085, 'awkward': 374, 'intellectual': 2312, 'combat': 882, 'guessed': 1990, 'transformation': 4560, 'aliens': 184, 'outer': 3143, 'pulling': 3463, 'corpse': 999, 'columbo': 881, 'unseen': 4678, 'falk': 1636, 'spielberg': 4110, 'poignant': 3315, 'allen': 188, 'hatred': 2049, 'silence': 3974, 'substance': 4258, 'latter': 2528, 'merit': 2816, 'individuals': 2278, 'mildly': 2840, 'abilities': 64, 'bugs': 613, 'technique': 4383, 'sam': 3777, 'hunting': 2201, 'ah': 158, '3rd': 47, 'dolph': 1317, 'comical': 894, 'showdown': 3955, 'scope': 3821, 'brilliance': 582, 'online': 3109, 'drivel': 1364, 'philip': 3252, 'hoffman': 2128, 'ramones': 3512, 'kick': 2460, 'condition': 937, 'wet': 4855, 'square': 4136, 'round': 3742, 'versus': 4722, 'depicts': 1186, 'favourite': 1673, 'faults': 1669, 'woody': 4936, 'lately': 2524, 'tremendous': 4579, 'questionable': 3488, 'fox': 1814, 'print': 3399, 'reed': 3580, 'lay': 2542, 'freeman': 1829, 'theyd': 4443, 'somebody': 4062, 'youth': 4994, 'glory': 1922, 'valley': 4707, 'dolls': 1316, 'equipment': 1511, 'anne': 246, 'area': 286, 'ups': 4686, 'warmth': 4796, 'desperately': 1209, 'insult': 2309, 'damage': 1099, 'sight': 3969, 'load': 2631, 'philosophical': 3253, 'bloody': 513, 'apes': 267, 'efforts': 1433, 'proceedings': 3410, 'santa': 3783, 'visits': 4756, 'frankenstein': 1822, 'laurel': 2537, 'wrapped': 4964, 'guilty': 1995, 'brady': 561, '24': 39, 'nine': 3017, 'lol': 2640, 'solve': 4060, '1980': 20, 'duo': 1386, 'burn': 625, 'smoke': 4039, 'jonathan': 2417, 'myers': 2952, 'overlooked': 3154, 'sandler': 3781, 'drags': 1345, 'border': 539, 'favor': 1670, 'agrees': 157, 'diamond': 1236, 'specific': 4099, 'sentence': 3881, 'rubber': 3747, 'dies': 1245, 'attracted': 349, 'edition': 1422, 'anderson': 227, 'utter': 4701, 'tarzan': 4367, 'asian': 314, 'miike': 2837, 'korean': 2495, 'lees': 2560, 'revealing': 3672, 'commit': 904, 'intelligence': 2313, 'fresh': 1833, 'interaction': 2322, 'duty': 1390, 'trust': 4598, 'masterful': 2758, 'catching': 716, 'argument': 291, 'gonna': 1936, 'ear': 1397, 'fay': 1674, 'dutch': 1389, 'intention': 2319, 'flawed': 1750, 'satire': 3788, 'tracks': 4545, 'jungle': 2434, 'opinions': 3119, 'sole': 4055, 'discussion': 1284, 'fitting': 1742, 'description': 1197, 'responsibility': 3655, 'fulci': 1845, 'arnold': 296, 'prior': 3400, 'worlds': 4947, 'forbidden': 1785, 'cake': 648, 'underground': 4640, 'advanced': 128, 'wars': 4804, 'united': 4664, 'defend': 1158, 'escaped': 1518, 'burt': 629, 'disneys': 1290, 'repeatedly': 3632, 'cowboy': 1025, 'michelle': 2830, 'poster': 3353, 'relatives': 3601, 'curiosity': 1082, 'boxing': 556, 'newly': 3004, 'eight': 1436, 'babe': 375, 'ruins': 3752, 'greed': 1968, 'kingdom': 2480, 'cinematographer': 819, 'fears': 1677, 'endearing': 1469, 'shed': 3924, 'disappear': 1270, 'religion': 3607, 'bathroom': 412, 'lou': 2663, 'anyways': 262, 'dollar': 1314, 'luck': 2681, 'blockbuster': 509, 'disc': 1278, 'listed': 2618, 'claimed': 829, 'downright': 1337, 'bear': 420, 'finger': 1731, 'sun': 4292, 'trap': 4563, 'via': 4726, 'stiff': 4187, 'thugs': 4484, 'cary': 706, 'grant': 1956, 'buddy': 609, 'slapstick': 4019, 'measure': 2786, 'wind': 4893, 'imagery': 2234, 'ultimate': 4627, 'bourne': 554, 'yesterday': 4983, 'alongside': 196, 'thrillers': 4473, 'operation': 3117, 'journalist': 2420, 'trail': 4553, 'cia': 814, 'altogether': 202, 'punch': 3466, 'thankfully': 4422, 'gripping': 1976, 'providing': 3451, 'suitable': 4285, 'exposed': 1598, 'dislike': 1288, 'highest': 2102, 'bone': 533, 'satisfy': 3790, 'forty': 1807, 'comparison': 914, 'liking': 2604, 'warming': 4795, 'benefit': 465, 'pretending': 3382, 'reduced': 3579, 'guest': 1992, 'diana': 1237, 'technical': 4381, 'rage': 3505, 'adapted': 114, 'powell': 3358, 'possibility': 3349, 'irrelevant': 2358, 'morgan': 2905, 'butler': 637, 'daring': 1114, 'displays': 1293, 'montana': 2895, 'kiss': 2483, 'education': 1424, 'brenda': 575, 'teenage': 4389, 'equal': 1509, 'waves': 4819, 'corruption': 1002, 'root': 3737, 'abc': 63, 'thoughtful': 4463, 'media': 2789, 'translation': 4562, 'del': 1165, 'panic': 3181, 'window': 4894, 'serving': 3897, 'introduction': 2339, 'established': 1524, 'gritty': 1977, 'whereas': 4865, 'vice': 4727, 'central': 735, 'amounts': 220, 'satisfied': 3789, 'restored': 3659, 'health': 2060, 'presumably': 3380, 'ironically': 2356, 'cousin': 1021, 'logical': 2639, 'understandable': 4644, 'limits': 2607, 'morality': 2903, 'striking': 4226, 'intimate': 2331, 'relevant': 3604, 'drugs': 1374, 'revelation': 3674, 'perry': 3237, 'justify': 2439, 'serve': 3893, 'isolated': 2363, 'demented': 1176, 'spike': 4111, 'struggles': 4235, 'invasion': 2340, 'cried': 1054, 'neo': 2998, 'flashbacks': 1747, 'literature': 2623, 'category': 718, 'push': 3477, 'conservative': 948, 'curse': 1086, 'letter': 2581, 'foot': 1781, 'goal': 1925, 'confidence': 938, 'teachers': 4376, 'decisions': 1152, 'alan': 171, 'illogical': 2231, 'attacked': 338, 'subtlety': 4261, 'hole': 2132, 'sky': 4017, 'climactic': 848, 'inspiration': 2300, 'league': 2549, '2003': 33, 'crack': 1027, 'embarrassing': 1454, 'per': 3223, 'pilot': 3276, 'bettie': 473, 'demand': 1174, 'gray': 1963, 'pages': 3168, '2007': 37, 'introduce': 2336, 'boom': 537, 'formulaic': 1803, 'wwii': 4975, 'worthwhile': 4955, 'blow': 514, 'throwing': 4480, 'sum': 4289, 'restaurant': 3658, 'goodness': 1938, 'witnessed': 4915, 'sexually': 3910, 'annie': 247, 'dancers': 1105, 'strike': 4224, 'celebrity': 729, 'jeff': 2390, 'believes': 456, 'regular': 3592, 'superficial': 4298, 'lust': 2689, 'pays': 3218, 'buying': 641, 'equivalent': 1512, 'relation': 3595, 'jewish': 2401, 'overacting': 3149, 'wondered': 4927, 'bothered': 549, 'conspiracy': 956, 'succeeded': 4263, 'suspend': 4329, 'degree': 1164, 'okay': 3099, 'explosions': 1597, 'blew': 505, 'faced': 1617, 'impress': 2250, 'baseball': 403, 'foster': 1809, 'believing': 457, 'pitch': 3279, 'ha': 2002, 'madness': 2698, 'screens': 3832, 'horse': 2170, 'endure': 1475, 'drink': 1361, 'tour': 4538, 'contract': 973, 'mob': 2879, 'motives': 2916, 'vehicle': 4718, 'blah': 496, '13': 4, 'stereotypical': 4180, 'excitement': 1562, 'behave': 445, 'quiet': 3492, 'promised': 3431, 'soviet': 4089, 'wears': 4832, '2004': 34, 'friendship': 1838, 'blowing': 515, 'bedroom': 437, 'alcohol': 176, 'respected': 3653, 'spoke': 4125, 'indians': 2275, 'damn': 1100, 'refuses': 3587, 'catholic': 720, 'courage': 1018, 'orders': 3127, 'hugh': 2186, 'rangers': 3517, 'competition': 918, 'unsettling': 4679, 'splatter': 4118, 'teeth': 4393, 'aforementioned': 139, 'dentist': 1180, 'pit': 3278, 'mildred': 2841, 'waitress': 4773, 'eager': 1396, 'widely': 4881, 'punishment': 3467, 'kay': 2447, 'vulnerable': 4768, 'deadly': 1133, 'intrigued': 2334, 'react': 3540, 'investigate': 2342, 'folk': 1770, 'expressed': 1601, 'enemies': 1476, 'sharp': 3922, 'paper': 3183, 'sisters': 4002, 'command': 897, 'ethan': 1528, 'aged': 149, 'olivier': 3103, 'faithful': 1634, 'fabulous': 1615, 'adequate': 120, 'ann': 244, 'barry': 401, 'painfully': 3172, 'inevitable': 2282, 'recognition': 3568, 'loosely': 2651, 'disappeared': 1271, 'fish': 1738, 'advertising': 132, 'che': 773, 'revolutionary': 3681, 'cuba': 1075, 'stereotypes': 4179, 'vampires': 4712, 'food': 1778, 'basement': 405, 'fed': 1682, 'frequent': 1831, 'uk': 4626, 'kapoor': 2443, 'rush': 3759, 'spirited': 4114, 'thoughts': 4464, 'leonard': 2572, 'contact': 961, 'mindless': 2851, 'principal': 3398, 'covered': 1023, 'florida': 1761, 'navy': 2976, 'virus': 4752, 'teenager': 4390, 'importance': 2246, 'championship': 745, 'spin': 4112, 'complain': 919, 'portrait': 3339, 'horrid': 2165, 'singers': 3994, 'armed': 293, 'ripped': 3701, 'rushed': 3760, 'tons': 4520, 'burned': 626, 'lane': 2515, 'propaganda': 3435, 'repeat': 3630, 'blunt': 520, 'wallace': 4782, 'ought': 3138, 'namely': 2962, 'raise': 3507, 'deliberately': 1166, 'bite': 489, 'graphic': 1958, 'horrifying': 2167, 'robbery': 3711, 'distribution': 1298, 'prostitute': 3440, 'caine': 647, 'laws': 2540, 'asleep': 320, 'incomprehensible': 2267, 'wishes': 4906, 'cabin': 643, 'fields': 1705, 'melodrama': 2797, 'lifestyle': 2593, 'combine': 884, 'westerns': 4854, 'nearby': 2980, 'craft': 1028, 'conversations': 981, 'eighties': 1437, 'escapes': 1519, 'redemption': 3578, 'solely': 4056, 'highlights': 2104, 'gift': 1906, 'gabriel': 1859, 'murphy': 2944, 'suspenseful': 4331, 'tight': 4492, 'spread': 4133, 'medical': 2790, 'outcome': 3142, 'relief': 3605, 'gags': 1862, 'enthusiasm': 1501, 'pacino': 3164, 'stronger': 4230, 'qualities': 3483, 'partly': 3197, '20th': 38, 'excited': 1561, 'faster': 1662, 'removed': 3624, 'linda': 2609, 'assault': 324, 'saves': 3796, 'greedy': 1969, 'businessman': 634, 'broadcast': 591, 'lesbian': 2573, 'awfully': 373, 'suicide': 4283, 'politically': 3325, 'der': 1191, 'movements': 2924, 'obnoxious': 3067, 'lucy': 2684, 'lacking': 2504, 'temple': 4398, '2000': 30, 'campbell': 663, 'et': 1526, 'grand': 1953, 'sunday': 4293, 'spooky': 4128, 'charisma': 762, 'throat': 4476, 'todd': 4510, 'shakespeare': 3915, 'dorothy': 1330, 'victor': 4731, 'mgm': 2828, 'estate': 1525, 'mistress': 2874, 'crush': 1072, 'claire': 831, '13th': 5, 'unhappy': 4656, 'primary': 3394, 'theyve': 4446, 'scarecrow': 3804, 'strangers': 4214, 'directions': 1262, 'sullivan': 4288, 'mundane': 2938, 'paranoia': 3186, 'creep': 1051, 'vast': 4716, 'borrowed': 545, 'expert': 1585, 'matrix': 2767, 'terrifying': 4410, 'overlook': 3153, 'claims': 830, 'chased': 770, 'explicit': 1591, 'acceptable': 81, 'kennedy': 2454, 'edie': 1419, 'destroying': 1215, 'cities': 823, 'godzilla': 1929, 'reasonably': 3559, 'wave': 4818, 'separate': 3883, 'currently': 1085, 'method': 2824, 'bucks': 606, 'drunk': 1375, 'religious': 3608, 'admittedly': 123, 'phantom': 3251, 'doctors': 1305, 'buck': 605, 'sinister': 3998, 'subplot': 4255, 'generations': 1884, 'imitation': 2241, 'alice': 182, 'elm': 1447, 'amanda': 205, 'constructed': 959, 'junk': 2436, 'captures': 678, '2006': 36, 'leg': 2562, 'affected': 137, 'countless': 1012, 'passed': 3202, 'rocks': 3722, 'shorts': 3948, 'empire': 1464, 'devoid': 1230, 'everywhere': 1545, 'walken': 4777, 'advance': 127, 'enjoys': 1489, 'motivation': 2914, 'cameras': 660, 'blank': 501, 'stan': 4142, 'experiments': 1584, 'grasp': 1960, 'comfortable': 892, 'differences': 1247, 'similarities': 3979, 'hung': 2197, 'heroic': 2090, 'turner': 4607, 'andrews': 229, 'laura': 2536, 'countries': 1013, 'shining': 3933, 'belong': 459, 'donna': 1323, 'bela': 450, 'causes': 725, 'russell': 3761, 'wed': 4835, 'rebel': 3561, 'ingredients': 2289, 'nostalgia': 3038, 'unbearable': 4633, 'leo': 2571, 'lie': 2590, 'thru': 4483, 'futuristic': 1857, 'trailers': 4555, 'soccer': 4048, 'maria': 2736, 'chuck': 812, 'ya': 4976, 'everyones': 1543, 'messed': 2821, 'solution': 4059, 'survivor': 4324, 'trees': 4577, 'seat': 3845, 'acid': 95, 'mummy': 2937, 'cheating': 776, 'sinatra': 3989, 'kane': 2442, 'similarly': 3980, 'judy': 2426, 'protect': 3443, 'cared': 685, 'virginia': 4750, 'hudson': 2184, 'engage': 1479, 'alternate': 200, 'godfather': 1927, 'macy': 2695, 'murderous': 2942, 'properly': 3437, 'miserable': 2863, 'swear': 4334, 'slave': 4022, 'incompetent': 2266, 'helicopter': 2076, 'bitter': 491, 'moody': 2899, 'familys': 1646, 'robots': 3718, '1990': 24, 'funeral': 1849, 'shell': 3927, 'raised': 3508, 'rotten': 3740, 'species': 4098, 'executive': 1567, 'feed': 1683, 'delivering': 1171, 'improved': 2255, 'fighter': 1708, 'ruthless': 3764, 'claim': 828, 'alcoholic': 177, 'nazis': 2978, 'priceless': 3390, 'survival': 4320, 'shape': 3919, 'lloyd': 2630, 'hank': 2024, 'homer': 2144, 'heights': 2073, 'fashioned': 1660, 'hyde': 2206, 'horses': 2171, 'trashy': 4566, 'wins': 4899, 'nuts': 3064, 'displayed': 1292, 'descent': 1193, 'regard': 3588, 'possessed': 3347, 'wore': 4939, 'brosnan': 597, 'purchased': 3470, 'exceptionally': 1559, 'parallel': 3185, 'bacall': 377, 'tracy': 4546, 'celluloid': 731, 'speech': 4102, 'alas': 172, 'improve': 2254, '1999': 27, 'doors': 1329, 'ellen': 1446, 'developing': 1224, 'lips': 2615, 'lying': 2690, 'desired': 1206, 'relations': 3596, 'strictly': 4223, 'instantly': 2306, 'monkeys': 2891, 'mentally': 2809, 'references': 3583, 'extended': 1604, 'revolves': 3682, 'blacks': 494, 'felix': 1689, 'kissing': 2484, 'unoriginal': 4673, 'wolf': 4920, 'spell': 4104, 'jamie': 2379, 'prisoners': 3403, 'resist': 3648, 'corny': 997, 'strangely': 4212, 'stayed': 4167, 'attend': 344, 'ships': 3935, 'jaws': 2385, 'cell': 730, 'neck': 2985, 'stranger': 4213, 'tender': 4401, 'promising': 3433, 'stomach': 4196, 'flash': 1745, 'station': 4164, 'simmons': 3981, 'access': 83, 'los': 2653, 'angeles': 233, 'eg': 1434, 'kevin': 2457, 'wounded': 4961, 'bird': 484, 'convey': 982, 'imagined': 2239, 'blob': 507, 'generous': 1886, 'fancy': 1649, 'ruby': 3749, 'coffee': 870, 'airplane': 166, 'pie': 3271, 'tall': 4362, 'bath': 411, 'focusing': 1769, 'cd': 728, 'christ': 807, 'childish': 791, 'enjoying': 1487, 'chosen': 805, 'ourselves': 3140, 'justin': 2440, 'killings': 2473, 'dreary': 1356, 'backdrop': 379, 'artificial': 306, 'hearts': 2066, 'ruined': 3751, 'marketing': 2741, 'danes': 1108, 'witches': 4910, 'idiotic': 2219, 'laughably': 2531, 'relies': 3606, 'hammer': 2014, 'gandhi': 1866, 'intentionally': 2320, 'undoubtedly': 4648, 'lowest': 2678, 'occasion': 3073, 'hollow': 2135, 'stellar': 4174, 'thrills': 4475, 'accused': 91, 'petty': 3249, 'understated': 4646, 'nonsensical': 3031, 'diane': 1238, 'wizard': 4919, 'oz': 3160, 'hippie': 2115, 'alex': 179, 'hoped': 2156, 'tooth': 4524, 'lemmon': 2567, 'areas': 287, 'germans': 1897, 'bleak': 503, 'clown': 862, 'pursuit': 3476, 'resort': 3650, 'hal': 2006, 'pg': 3250, 'saga': 3773, 'wholly': 4874, 'ford': 1789, 'caliber': 649, 'competent': 917, 'dire': 1257, 'handful': 2017, 'prisoner': 3402, 'hitler': 2124, 'civilization': 827, 'retarded': 3663, 'emma': 1457, 'complaint': 920, 'akshay': 169, 'accidentally': 85, 'useful': 4694, 'suited': 4286, 'clip': 851, 'eaten': 1412, 'jumped': 2430, 'iron': 2354, 'georges': 1894, 'staying': 4168, 'slight': 4027, 'pink': 3277, 'greek': 1970, 'anthony': 253, 'safety': 3772, 'lengthy': 2570, 'parties': 3196, 'stargate': 4151, 'pants': 3182, 'jesse': 2397, 'tiresome': 4502, 'downhill': 1336, 'monk': 2889, 'useless': 4695, 'sheriff': 3929, 'integrity': 2311, 'wells': 4845, 'signed': 3971, 'pal': 3177, 'sounding': 4083, 'tomatoes': 4515, 'frustration': 1843, 'unit': 4663, 'map': 2733, 'torn': 4528, 'stereotype': 4178, 'rid': 3690, 'con': 928, 'chorus': 803, 'gangsters': 1869, 'designs': 1204, 'dignity': 1252, 'clues': 865, 'valuable': 4708, 'cusack': 1088, 'hed': 2072, 'christians': 809, 'cleverly': 842, 'jesus': 2399, 'drunken': 1376, 'chess': 783, 'authority': 360, 'nyc': 3065, 'dialogs': 1233, 'quotes': 3497, 'tortured': 4530, 'sellers': 3872, 'practice': 3363, 'atlantis': 332, 'argue': 290, 'careful': 688, 'cole': 873, 'willis': 4890, 'ensues': 1493, 'nomination': 3026, 'minds': 2852, 'muslim': 2949, 'rabbit': 3498, 'spider': 4109, 'madonna': 2699, 'gerard': 1895, 'classes': 834, 'mall': 2720, 'stooges': 4200, 'messages': 2820, 'hello': 2078, 'prequel': 3372, 'bull': 619, 'demands': 1175, 'arrogant': 303, 'term': 4405, 'suspicious': 4332, 'carl': 692, 'bobby': 525, 'randomly': 3515, 'nail': 2957, 'abraham': 69, 'lincoln': 2608, 'mill': 2845, 'minimal': 2855, 'proceeds': 3411, 'mild': 2839, 'increasingly': 2268, 'gifted': 1907, 'ruth': 3763, 'brooklyn': 595, 'ballet': 389, 'overrated': 3156, 'garden': 1872, 'simplistic': 3985, 'roots': 3738, 'mitchell': 2875, 'buried': 624, 'credible': 1048, 'compelled': 915, 'bonus': 534, 'flynn': 1765, 'royal': 3746, 'vegas': 4717, 'lasted': 2522, 'hysterical': 2208, 'elephant': 1444, 'chapter': 757, 'trained': 4557, 'beatty': 427, 'colonel': 876, 'catchy': 717, 'jumps': 2432, 'stinks': 4192, 'generic': 1885, 'wendy': 4846, 'hanks': 2025, 'reads': 3545, 'cagney': 646, 'composed': 926, 'butt': 638, 'hype': 2207, 'backgrounds': 381, 'construction': 960, 'rambo': 3511, 'khan': 2459, 'doubts': 1333, 'rat': 3525, 'homeless': 2143, 'semi': 3874, 'balls': 390, 'toys': 4543, 'defense': 1159, 'shelley': 3928, 'nurse': 3063, 'lena': 2568, 'deceased': 1146, 'morris': 2908, 'lyrics': 2692, 'wealth': 4826, 'staff': 4138, 'taxi': 4371, 'chooses': 800, 'snow': 4045, 'rachel': 3500, 'amitabh': 216, 'elvira': 1450, 'unaware': 4632, 'modesty': 2883, 'dalton': 1098, 'eyre': 1614, 'fascinated': 1657, 'chicago': 785, 'doc': 1303, 'iraq': 2351, 'rochester': 3719, 'polanski': 3321, 'bud': 607, 'gadget': 1860, 'grinch': 1975, 'sid': 3964, 'franco': 1820, 'teaching': 4377, 'burton': 630, 'cave': 727, 'hilariously': 2107, 'simpson': 3987, 'bell': 458, 'kubrick': 2496, 'resulting': 3661, 'poem': 3312, 'fury': 1855, 'property': 3438}\n"
     ]
    }
   ],
   "source": [
    "print(str(vocabulary))"
   ]
  },
  {
   "cell_type": "markdown",
   "metadata": {},
   "source": [
    "Once you have added the endpoint name to the Lambda function, click on **Save**. Your Lambda function is now up and running. Next we need to create a way for our web app to execute the Lambda function."
   ]
  },
  {
   "cell_type": "markdown",
   "metadata": {},
   "source": [
    "### Setting up API Gateway\n",
    "\n",
    "Now that our Lambda function is set up, it is time to create a new API using API Gateway that will trigger the Lambda function we have just created.\n",
    "\n",
    "Using AWS Console, navigate to **Amazon API Gateway** and then click on **Get started**.\n",
    "\n",
    "On the next page, make sure that **New API** is selected and give the new api a name, for example, `sentiment_analysis_web_app`. Then, click on **Create API**.\n",
    "\n",
    "Now we have created an API, however it doesn't currently do anything. What we want it to do is to trigger the Lambda function that we created earlier.\n",
    "\n",
    "Select the **Actions** dropdown menu and click **Create Method**. A new blank method will be created, select its dropdown menu and select **POST**, then click on the check mark beside it.\n",
    "\n",
    "For the integration point, make sure that **Lambda Function** is selected and click on the **Use Lambda Proxy integration**. This option makes sure that the data that is sent to the API is then sent directly to the Lambda function with no processing. It also means that the return value must be a proper response object as it will also not be processed by API Gateway.\n",
    "\n",
    "Type the name of the Lambda function you created earlier into the **Lambda Function** text entry box and then click on **Save**. Click on **OK** in the pop-up box that then appears, giving permission to API Gateway to invoke the Lambda function you created.\n",
    "\n",
    "The last step in creating the API Gateway is to select the **Actions** dropdown and click on **Deploy API**. You will need to create a new Deployment stage and name it anything you like, for example `prod`.\n",
    "\n",
    "You have now successfully set up a public API to access your SageMaker model. Make sure to copy or write down the URL provided to invoke your newly created public API as this will be needed in the next step. This URL can be found at the top of the page, highlighted in blue next to the text **Invoke URL**."
   ]
  },
  {
   "cell_type": "markdown",
   "metadata": {},
   "source": [
    "## Step 7: Deploying our web app\n",
    "\n",
    "Now that we have a publicly available API, we can start using it in a web app. For our purposes, we have provided a simple static html file which can make use of the public api you created earlier.\n",
    "\n",
    "In the `website` folder there should be a file called `index.html`. Download the file to your computer and open that file up in a text editor of your choice. There should be a line which contains **\\*\\*REPLACE WITH PUBLIC API URL\\*\\***. Replace this string with the url that you wrote down in the last step and then save the file.\n",
    "\n",
    "Now, if you open `index.html` on your local computer, your browser will behave as a local web server and you can use the provided site to interact with your SageMaker model.\n",
    "\n",
    "If you'd like to go further, you can host this html file anywhere you'd like, for example using github or hosting a static site on Amazon's S3. Once you have done this you can share the link with anyone you'd like and have them play with it too!\n",
    "\n",
    "> **Important Note** In order for the web app to communicate with the SageMaker endpoint, the endpoint has to actually be deployed and running. This means that you are paying for it. Make sure that the endpoint is running when you want to use the web app but that you shut it down when you don't need it, otherwise you will end up with a surprisingly large AWS bill."
   ]
  },
  {
   "cell_type": "markdown",
   "metadata": {},
   "source": [
    "### Delete the endpoint\n",
    "\n",
    "Remember to always shut down your endpoint if you are no longer using it. You are charged for the length of time that the endpoint is running so if you forget and leave it on you could end up with an unexpectedly large bill."
   ]
  },
  {
   "cell_type": "code",
   "execution_count": 48,
   "metadata": {},
   "outputs": [],
   "source": [
    "xgb_predictor.delete_endpoint()"
   ]
  },
  {
   "cell_type": "markdown",
   "metadata": {},
   "source": [
    "## Optional: Clean up\n",
    "\n",
    "The default notebook instance on SageMaker doesn't have a lot of excess disk space available. As you continue to complete and execute notebooks you will eventually fill up this disk space, leading to errors which can be difficult to diagnose. Once you are completely finished using a notebook it is a good idea to remove the files that you created along the way. Of course, you can do this from the terminal or from the notebook hub if you would like. The cell below contains some commands to clean up the created files from within the notebook."
   ]
  },
  {
   "cell_type": "code",
   "execution_count": null,
   "metadata": {},
   "outputs": [],
   "source": [
    "# First we will remove all of the files contained in the data_dir directory\n",
    "!rm $data_dir/*\n",
    "\n",
    "# And then we delete the directory itself\n",
    "!rmdir $data_dir\n",
    "\n",
    "# Similarly we remove the files in the cache_dir directory and the directory itself\n",
    "!rm $cache_dir/*\n",
    "!rmdir $cache_dir"
   ]
  },
  {
   "cell_type": "code",
   "execution_count": null,
   "metadata": {},
   "outputs": [],
   "source": []
  }
 ],
 "metadata": {
  "kernelspec": {
   "display_name": "conda_python3",
   "language": "python",
   "name": "conda_python3"
  },
  "language_info": {
   "codemirror_mode": {
    "name": "ipython",
    "version": 3
   },
   "file_extension": ".py",
   "mimetype": "text/x-python",
   "name": "python",
   "nbconvert_exporter": "python",
   "pygments_lexer": "ipython3",
   "version": "3.6.5"
  }
 },
 "nbformat": 4,
 "nbformat_minor": 2
}
