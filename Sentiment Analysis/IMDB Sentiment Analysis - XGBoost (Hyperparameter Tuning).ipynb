{
 "cells": [
  {
   "cell_type": "markdown",
   "metadata": {},
   "source": [
    "# Sentiment Analysis\n",
    "\n",
    "## Using XGBoost in SageMaker\n",
    "\n",
    "_Deep Learning Nanodegree Program | Deployment_\n",
    "\n",
    "---\n",
    "\n",
    "In this example of using Amazon's SageMaker service we will construct a random tree model to predict the sentiment of a movie review. You may have seen a version of this example in a pervious lesson although it would have been done using the sklearn package. Instead, we will be using the XGBoost package as it is provided to us by Amazon.\n",
    "\n",
    "## Instructions\n",
    "\n",
    "Some template code has already been provided for you, and you will need to implement additional functionality to successfully complete this notebook. You will not need to modify the included code beyond what is requested. Sections that begin with '**TODO**' in the header indicate that you need to complete or implement some portion within them. Instructions will be provided for each section and the specifics of the implementation are marked in the code block with a `# TODO: ...` comment. Please be sure to read the instructions carefully!\n",
    "\n",
    "In addition to implementing code, there will be questions for you to answer which relate to the task and your implementation. Each section where you will answer a question is preceded by a '**Question:**' header. Carefully read each question and provide your answer below the '**Answer:**' header by editing the Markdown cell.\n",
    "\n",
    "> **Note**: Code and Markdown cells can be executed using the **Shift+Enter** keyboard shortcut. In addition, a cell can be edited by typically clicking it (double-click for Markdown cells) or by pressing **Enter** while it is highlighted."
   ]
  },
  {
   "cell_type": "markdown",
   "metadata": {},
   "source": [
    "## Step 1: Downloading the data\n",
    "\n",
    "The dataset we are going to use is very popular among researchers in Natural Language Processing, usually referred to as the [IMDb dataset](http://ai.stanford.edu/~amaas/data/sentiment/). It consists of movie reviews from the website [imdb.com](http://www.imdb.com/), each labeled as either '**pos**itive', if the reviewer enjoyed the film, or '**neg**ative' otherwise.\n",
    "\n",
    "> Maas, Andrew L., et al. [Learning Word Vectors for Sentiment Analysis](http://ai.stanford.edu/~amaas/data/sentiment/). In _Proceedings of the 49th Annual Meeting of the Association for Computational Linguistics: Human Language Technologies_. Association for Computational Linguistics, 2011.\n",
    "\n",
    "We begin by using some Jupyter Notebook magic to download and extract the dataset."
   ]
  },
  {
   "cell_type": "code",
   "execution_count": null,
   "metadata": {},
   "outputs": [],
   "source": [
    "%mkdir ../data\n",
    "!wget -O ../data/aclImdb_v1.tar.gz http://ai.stanford.edu/~amaas/data/sentiment/aclImdb_v1.tar.gz\n",
    "!tar -zxf ../data/aclImdb_v1.tar.gz -C ../data"
   ]
  },
  {
   "cell_type": "markdown",
   "metadata": {},
   "source": [
    "## Step 2: Preparing the data\n",
    "\n",
    "The data we have downloaded is split into various files, each of which contains a single review. It will be much easier going forward if we combine these individual files into two large files, one for training and one for testing."
   ]
  },
  {
   "cell_type": "code",
   "execution_count": 1,
   "metadata": {},
   "outputs": [],
   "source": [
    "import os\n",
    "import glob\n",
    "\n",
    "def read_imdb_data(data_dir='../data/aclImdb'):\n",
    "    data = {}\n",
    "    labels = {}\n",
    "    \n",
    "    for data_type in ['train', 'test']:\n",
    "        data[data_type] = {}\n",
    "        labels[data_type] = {}\n",
    "        \n",
    "        for sentiment in ['pos', 'neg']:\n",
    "            data[data_type][sentiment] = []\n",
    "            labels[data_type][sentiment] = []\n",
    "            \n",
    "            path = os.path.join(data_dir, data_type, sentiment, '*.txt')\n",
    "            files = glob.glob(path)\n",
    "            \n",
    "            for f in files:\n",
    "                with open(f) as review:\n",
    "                    data[data_type][sentiment].append(review.read())\n",
    "                    # Here we represent a positive review by '1' and a negative review by '0'\n",
    "                    labels[data_type][sentiment].append(1 if sentiment == 'pos' else 0)\n",
    "                    \n",
    "            assert len(data[data_type][sentiment]) == len(labels[data_type][sentiment]), \\\n",
    "                    \"{}/{} data size does not match labels size\".format(data_type, sentiment)\n",
    "                \n",
    "    return data, labels"
   ]
  },
  {
   "cell_type": "code",
   "execution_count": 2,
   "metadata": {},
   "outputs": [
    {
     "name": "stdout",
     "output_type": "stream",
     "text": [
      "IMDB reviews: train = 12500 pos / 12500 neg, test = 12500 pos / 12500 neg\n"
     ]
    }
   ],
   "source": [
    "data, labels = read_imdb_data()\n",
    "print(\"IMDB reviews: train = {} pos / {} neg, test = {} pos / {} neg\".format(\n",
    "            len(data['train']['pos']), len(data['train']['neg']),\n",
    "            len(data['test']['pos']), len(data['test']['neg'])))"
   ]
  },
  {
   "cell_type": "code",
   "execution_count": 3,
   "metadata": {},
   "outputs": [],
   "source": [
    "from sklearn.utils import shuffle\n",
    "\n",
    "def prepare_imdb_data(data, labels):\n",
    "    \"\"\"Prepare training and test sets from IMDb movie reviews.\"\"\"\n",
    "    \n",
    "    #Combine positive and negative reviews and labels\n",
    "    data_train = data['train']['pos'] + data['train']['neg']\n",
    "    data_test = data['test']['pos'] + data['test']['neg']\n",
    "    labels_train = labels['train']['pos'] + labels['train']['neg']\n",
    "    labels_test = labels['test']['pos'] + labels['test']['neg']\n",
    "    \n",
    "    #Shuffle reviews and corresponding labels within training and test sets\n",
    "    data_train, labels_train = shuffle(data_train, labels_train)\n",
    "    data_test, labels_test = shuffle(data_test, labels_test)\n",
    "    \n",
    "    # Return a unified training data, test data, training labels, test labets\n",
    "    return data_train, data_test, labels_train, labels_test"
   ]
  },
  {
   "cell_type": "code",
   "execution_count": 4,
   "metadata": {},
   "outputs": [
    {
     "name": "stdout",
     "output_type": "stream",
     "text": [
      "IMDb reviews (combined): train = 25000, test = 25000\n"
     ]
    }
   ],
   "source": [
    "train_X, test_X, train_y, test_y = prepare_imdb_data(data, labels)\n",
    "print(\"IMDb reviews (combined): train = {}, test = {}\".format(len(train_X), len(test_X)))"
   ]
  },
  {
   "cell_type": "code",
   "execution_count": 5,
   "metadata": {},
   "outputs": [
    {
     "data": {
      "text/plain": [
       "\"As part of the celebration of the release of Casino Royale, this film with the new Bond starring in it was shown, from director Roger Michell (Notting Hill). I almost turned it off for being a bit boring, but I'm glad I stuck with it. Basically May (Anne Reid) is a single mother of Helen (Anna Wilson-Jones) who hardly sees anyone and has not had a boyfriend in years. Her daughter says that she might want to get married to her new boyfriend, Darren (Daniel Craig, of course). After knowing each other only a few days, May and Darren have a secret affair. And at her age, with a 30-something, and the new Bond?! Anyway, they obviously want to keep it a secret, but May has regrets and wonders if Helen will find out. When she does, Darren gets less hassle than May. In fact, Helen asks her permission to hit her. Also starring Peter Vaughan as Toots, Danira Govich as Au Pair, Harry Michell as Harry, Rosie Michell as Rosie and Johnny English's Oliver Ford Davies as Bruce. Very good!\""
      ]
     },
     "execution_count": 5,
     "metadata": {},
     "output_type": "execute_result"
    }
   ],
   "source": [
    "train_X[100]"
   ]
  },
  {
   "cell_type": "markdown",
   "metadata": {},
   "source": [
    "## Step 3: Processing the data\n",
    "\n",
    "Now that we have our training and testing datasets merged and ready to use, we need to start processing the raw data into something that will be useable by our machine learning algorithm. To begin with, we remove any html formatting that may appear in the reviews and perform some standard natural language processing in order to homogenize the data."
   ]
  },
  {
   "cell_type": "code",
   "execution_count": 6,
   "metadata": {},
   "outputs": [
    {
     "name": "stdout",
     "output_type": "stream",
     "text": [
      "[nltk_data] Downloading package stopwords to\n",
      "[nltk_data]     /home/ec2-user/nltk_data...\n",
      "[nltk_data]   Package stopwords is already up-to-date!\n"
     ]
    }
   ],
   "source": [
    "import nltk\n",
    "nltk.download(\"stopwords\")\n",
    "from nltk.corpus import stopwords\n",
    "from nltk.stem.porter import *\n",
    "stemmer = PorterStemmer()"
   ]
  },
  {
   "cell_type": "code",
   "execution_count": 7,
   "metadata": {},
   "outputs": [],
   "source": [
    "import re\n",
    "from bs4 import BeautifulSoup\n",
    "\n",
    "def review_to_words(review):\n",
    "    text = BeautifulSoup(review, \"html.parser\").get_text() # Remove HTML tags\n",
    "    text = re.sub(r\"[^a-zA-Z0-9]\", \" \", text.lower()) # Convert to lower case\n",
    "    words = text.split() # Split string into words\n",
    "    words = [w for w in words if w not in stopwords.words(\"english\")] # Remove stopwords\n",
    "    words = [PorterStemmer().stem(w) for w in words] # stem\n",
    "    \n",
    "    return words"
   ]
  },
  {
   "cell_type": "code",
   "execution_count": 8,
   "metadata": {},
   "outputs": [],
   "source": [
    "import pickle\n",
    "\n",
    "cache_dir = os.path.join(\"../cache\", \"sentiment_analysis\")  # where to store cache files\n",
    "os.makedirs(cache_dir, exist_ok=True)  # ensure cache directory exists\n",
    "\n",
    "def preprocess_data(data_train, data_test, labels_train, labels_test,\n",
    "                    cache_dir=cache_dir, cache_file=\"preprocessed_data.pkl\"):\n",
    "    \"\"\"Convert each review to words; read from cache if available.\"\"\"\n",
    "\n",
    "    # If cache_file is not None, try to read from it first\n",
    "    cache_data = None\n",
    "    if cache_file is not None:\n",
    "        try:\n",
    "            with open(os.path.join(cache_dir, cache_file), \"rb\") as f:\n",
    "                cache_data = pickle.load(f)\n",
    "            print(\"Read preprocessed data from cache file:\", cache_file)\n",
    "        except:\n",
    "            pass  # unable to read from cache, but that's okay\n",
    "    \n",
    "    # If cache is missing, then do the heavy lifting\n",
    "    if cache_data is None:\n",
    "        # Preprocess training and test data to obtain words for each review\n",
    "        #words_train = list(map(review_to_words, data_train))\n",
    "        #words_test = list(map(review_to_words, data_test))\n",
    "        words_train = [review_to_words(review) for review in data_train]\n",
    "        words_test = [review_to_words(review) for review in data_test]\n",
    "        \n",
    "        # Write to cache file for future runs\n",
    "        if cache_file is not None:\n",
    "            cache_data = dict(words_train=words_train, words_test=words_test,\n",
    "                              labels_train=labels_train, labels_test=labels_test)\n",
    "            with open(os.path.join(cache_dir, cache_file), \"wb\") as f:\n",
    "                pickle.dump(cache_data, f)\n",
    "            print(\"Wrote preprocessed data to cache file:\", cache_file)\n",
    "    else:\n",
    "        # Unpack data loaded from cache file\n",
    "        words_train, words_test, labels_train, labels_test = (cache_data['words_train'],\n",
    "                cache_data['words_test'], cache_data['labels_train'], cache_data['labels_test'])\n",
    "    \n",
    "    return words_train, words_test, labels_train, labels_test"
   ]
  },
  {
   "cell_type": "code",
   "execution_count": 9,
   "metadata": {},
   "outputs": [
    {
     "name": "stdout",
     "output_type": "stream",
     "text": [
      "Read preprocessed data from cache file: preprocessed_data.pkl\n"
     ]
    }
   ],
   "source": [
    "# Preprocess data\n",
    "train_X, test_X, train_y, test_y = preprocess_data(train_X, test_X, train_y, test_y)"
   ]
  },
  {
   "cell_type": "markdown",
   "metadata": {},
   "source": [
    "### Extract Bag-of-Words features\n",
    "\n",
    "For the model we will be implementing, rather than using the reviews directly, we are going to transform each review into a Bag-of-Words feature representation. Keep in mind that 'in the wild' we will only have access to the training set so our transformer can only use the training set to construct a representation."
   ]
  },
  {
   "cell_type": "code",
   "execution_count": 10,
   "metadata": {},
   "outputs": [],
   "source": [
    "import numpy as np\n",
    "from sklearn.feature_extraction.text import CountVectorizer\n",
    "from sklearn.externals import joblib\n",
    "# joblib is an enhanced version of pickle that is more efficient for storing NumPy arrays\n",
    "\n",
    "def extract_BoW_features(words_train, words_test, vocabulary_size=5000,\n",
    "                         cache_dir=cache_dir, cache_file=\"bow_features.pkl\"):\n",
    "    \"\"\"Extract Bag-of-Words for a given set of documents, already preprocessed into words.\"\"\"\n",
    "    \n",
    "    # If cache_file is not None, try to read from it first\n",
    "    cache_data = None\n",
    "    if cache_file is not None:\n",
    "        try:\n",
    "            with open(os.path.join(cache_dir, cache_file), \"rb\") as f:\n",
    "                cache_data = joblib.load(f)\n",
    "            print(\"Read features from cache file:\", cache_file)\n",
    "        except:\n",
    "            pass  # unable to read from cache, but that's okay\n",
    "    \n",
    "    # If cache is missing, then do the heavy lifting\n",
    "    if cache_data is None:\n",
    "        # Fit a vectorizer to training documents and use it to transform them\n",
    "        # NOTE: Training documents have already been preprocessed and tokenized into words;\n",
    "        #       pass in dummy functions to skip those steps, e.g. preprocessor=lambda x: x\n",
    "        vectorizer = CountVectorizer(max_features=vocabulary_size,\n",
    "                preprocessor=lambda x: x, tokenizer=lambda x: x)  # already preprocessed\n",
    "        features_train = vectorizer.fit_transform(words_train).toarray()\n",
    "\n",
    "        # Apply the same vectorizer to transform the test documents (ignore unknown words)\n",
    "        features_test = vectorizer.transform(words_test).toarray()\n",
    "        \n",
    "        # NOTE: Remember to convert the features using .toarray() for a compact representation\n",
    "        \n",
    "        # Write to cache file for future runs (store vocabulary as well)\n",
    "        if cache_file is not None:\n",
    "            vocabulary = vectorizer.vocabulary_\n",
    "            cache_data = dict(features_train=features_train, features_test=features_test,\n",
    "                             vocabulary=vocabulary)\n",
    "            with open(os.path.join(cache_dir, cache_file), \"wb\") as f:\n",
    "                joblib.dump(cache_data, f)\n",
    "            print(\"Wrote features to cache file:\", cache_file)\n",
    "    else:\n",
    "        # Unpack data loaded from cache file\n",
    "        features_train, features_test, vocabulary = (cache_data['features_train'],\n",
    "                cache_data['features_test'], cache_data['vocabulary'])\n",
    "    \n",
    "    # Return both the extracted features as well as the vocabulary\n",
    "    return features_train, features_test, vocabulary"
   ]
  },
  {
   "cell_type": "code",
   "execution_count": 11,
   "metadata": {},
   "outputs": [
    {
     "name": "stdout",
     "output_type": "stream",
     "text": [
      "Read features from cache file: bow_features.pkl\n"
     ]
    }
   ],
   "source": [
    "# Extract Bag of Words features for both training and test datasets\n",
    "train_X, test_X, vocabulary = extract_BoW_features(train_X, test_X)"
   ]
  },
  {
   "cell_type": "markdown",
   "metadata": {},
   "source": [
    "## Step 4: Classification using XGBoost\n",
    "\n",
    "Now that we have created the feature representation of our training (and testing) data, it is time to start setting up and using the XGBoost classifier provided by SageMaker.\n",
    "\n",
    "### Writing the dataset\n",
    "\n",
    "The XGBoost classifier that we will be using requires the dataset to be written to a file and stored using Amazon S3. To do this, we will start by splitting the training dataset into two parts, the data we will train the model with and a validation set. Then, we will write those datasets to a file and upload the files to S3. In addition, we will write the test set input to a file and upload the file to S3. This is so that we can use SageMakers Batch Transform functionality to test our model once we've fit it."
   ]
  },
  {
   "cell_type": "code",
   "execution_count": 12,
   "metadata": {},
   "outputs": [],
   "source": [
    "import pandas as pd\n",
    "\n",
    "val_X = pd.DataFrame(train_X[:10000])\n",
    "train_X = pd.DataFrame(train_X[10000:])\n",
    "\n",
    "val_y = pd.DataFrame(train_y[:10000])\n",
    "train_y = pd.DataFrame(train_y[10000:])\n",
    "\n",
    "test_y = pd.DataFrame(test_y)\n",
    "test_X = pd.DataFrame(test_X)"
   ]
  },
  {
   "cell_type": "code",
   "execution_count": 23,
   "metadata": {},
   "outputs": [
    {
     "name": "stdout",
     "output_type": "stream",
     "text": [
      "(15000, 5000)\n",
      "(15000, 1)\n",
      "(25000, 5000)\n",
      "(25000, 1)\n",
      "(10000, 5000)\n",
      "(10000, 1)\n"
     ]
    }
   ],
   "source": [
    "print(train_X.shape)\n",
    "print(train_y.shape)\n",
    "print(test_X.shape)\n",
    "print(test_y.shape)\n",
    "print(val_X.shape)\n",
    "print(val_y.shape)"
   ]
  },
  {
   "cell_type": "markdown",
   "metadata": {},
   "source": [
    "The documentation for the XGBoost algorithm in SageMaker requires that the saved datasets should contain no headers or index and that for the training and validation data, the label should occur first for each sample.\n",
    "\n",
    "For more information about this and other algorithms, the SageMaker developer documentation can be found on __[Amazon's website.](https://docs.aws.amazon.com/sagemaker/latest/dg/)__"
   ]
  },
  {
   "cell_type": "code",
   "execution_count": 24,
   "metadata": {},
   "outputs": [],
   "source": [
    "# First we make sure that the local directory in which we'd like to store the training and validation csv files exists.\n",
    "data_dir = '../data/xgboost'\n",
    "if not os.path.exists(data_dir):\n",
    "    os.makedirs(data_dir)"
   ]
  },
  {
   "cell_type": "code",
   "execution_count": 25,
   "metadata": {
    "scrolled": true
   },
   "outputs": [],
   "source": [
    "# First, save the test data to test.csv in the data_dir directory. Note that we do not save the associated ground truth\n",
    "# labels, instead we will use them later to compare with our model output.\n",
    "\n",
    "test_X.to_csv(os.path.join(data_dir, 'test.csv'), header=False, index=False)\n",
    "pd.concat([val_y, val_X], axis=1).to_csv(os.path.join(data_dir, 'validation.csv'), header=False, index=False)\n",
    "pd.concat([train_y, train_X], axis=1).to_csv(os.path.join(data_dir, 'train.csv'), header=False, index=False)"
   ]
  },
  {
   "cell_type": "code",
   "execution_count": 26,
   "metadata": {},
   "outputs": [],
   "source": [
    "# To save a bit of memory we can set text_X, train_X, val_X, train_y and val_y to None.\n",
    "\n",
    "train_X = val_X = train_y = val_y = None"
   ]
  },
  {
   "cell_type": "code",
   "execution_count": null,
   "metadata": {},
   "outputs": [],
   "source": [
    "%reset"
   ]
  },
  {
   "cell_type": "markdown",
   "metadata": {},
   "source": [
    "### Uploading Training / Validation files to S3\n",
    "\n",
    "Amazon's S3 service allows us to store files that can be access by both the built-in training models such as the XGBoost model we will be using as well as custom models such as the one we will see a little later.\n",
    "\n",
    "For this, and most other tasks we will be doing using SageMaker, there are two methods we could use. The first is to use the low level functionality of SageMaker which requires knowing each of the objects involved in the SageMaker environment. The second is to use the high level functionality in which certain choices have been made on the user's behalf. The low level approach benefits from allowing the user a great deal of flexibility while the high level approach makes development much quicker. For our purposes we will opt to use the high level approach although using the low-level approach is certainly an option.\n",
    "\n",
    "Recall the method `upload_data()` which is a member of object representing our current SageMaker session. What this method does is upload the data to the default bucket (which is created if it does not exist) into the path described by the key_prefix variable. To see this for yourself, once you have uploaded the data files, go to the S3 console and look to see where the files have been uploaded.\n",
    "\n",
    "For additional resources, see the __[SageMaker API documentation](http://sagemaker.readthedocs.io/en/latest/)__ and in addition the __[SageMaker Developer Guide.](https://docs.aws.amazon.com/sagemaker/latest/dg/)__"
   ]
  },
  {
   "cell_type": "code",
   "execution_count": 27,
   "metadata": {},
   "outputs": [],
   "source": [
    "import sagemaker\n",
    "\n",
    "session = sagemaker.Session() # Store the current SageMaker session\n",
    "\n",
    "# S3 prefix (which folder will we use)\n",
    "prefix = 'sentiment-xgboost'\n",
    "\n",
    "test_location = session.upload_data(os.path.join(data_dir, 'test.csv'), key_prefix=prefix)\n",
    "val_location = session.upload_data(os.path.join(data_dir, 'validation.csv'), key_prefix=prefix)\n",
    "train_location = session.upload_data(os.path.join(data_dir, 'train.csv'), key_prefix=prefix)"
   ]
  },
  {
   "cell_type": "markdown",
   "metadata": {},
   "source": [
    "### (TODO) Creating a hypertuned XGBoost model\n",
    "\n",
    "Now that the data has been uploaded it is time to create the XGBoost model. As in the Boston Housing notebook, the first step is to create an estimator object which will be used as the *base* of your hyperparameter tuning job."
   ]
  },
  {
   "cell_type": "code",
   "execution_count": 28,
   "metadata": {},
   "outputs": [],
   "source": [
    "from sagemaker import get_execution_role\n",
    "\n",
    "# Our current execution role is require when creating the model as the training\n",
    "# and inference code will need to access the model artifacts.\n",
    "role = get_execution_role()"
   ]
  },
  {
   "cell_type": "code",
   "execution_count": 29,
   "metadata": {},
   "outputs": [
    {
     "name": "stderr",
     "output_type": "stream",
     "text": [
      "WARNING:root:There is a more up to date SageMaker XGBoost image. To use the newer image, please set 'repo_version'='0.90-2'. For example:\n",
      "\tget_image_uri(region, 'xgboost', '0.90-2').\n"
     ]
    }
   ],
   "source": [
    "# We need to retrieve the location of the container which is provided by Amazon for using XGBoost.\n",
    "# As a matter of convenience, the training and inference code both use the same container.\n",
    "from sagemaker.amazon.amazon_estimator import get_image_uri\n",
    "\n",
    "container = get_image_uri(session.boto_region_name, 'xgboost')"
   ]
  },
  {
   "cell_type": "code",
   "execution_count": 30,
   "metadata": {},
   "outputs": [],
   "source": [
    "# TODO: Create a SageMaker estimator using the container location determined in the previous cell.\n",
    "#       It is recommended that you use a single training instance of type ml.m4.xlarge. It is also\n",
    "#       recommended that you use 's3://{}/{}/output'.format(session.default_bucket(), prefix) as the\n",
    "#       output path.\n",
    "\n",
    "xgb = sagemaker.estimator.Estimator(container,\n",
    "                                   role = role,\n",
    "                                   train_instance_count=1,\n",
    "                                   train_instance_type='ml.m4.xlarge',\n",
    "                                   output_path= 's3://{}/{}/output'.format(session.default_bucket(),prefix),\n",
    "                                   sagemaker_session=session)\n",
    "\n",
    "# TODO: Set the XGBoost hyperparameters in the xgb object. Don't forget that in this case we have a binary\n",
    "#       label so we should be using the 'binary:logistic' objective.\n",
    "\n",
    "xgb.set_hyperparameters(max_depth=5,\n",
    "                       eta=0.2,\n",
    "                       gamma=4,\n",
    "                       min_child_weight=6,\n",
    "                       subsample=0.8,\n",
    "                        objective='binary:logistic',\n",
    "                        early_stopping_rounds=10,\n",
    "                        num_round=200)\n",
    "                        "
   ]
  },
  {
   "cell_type": "markdown",
   "metadata": {},
   "source": [
    "### (TODO) Create the hyperparameter tuner\n",
    "\n",
    "Now that the base estimator has been set up we need to construct a hyperparameter tuner object which we will use to request SageMaker construct a hyperparameter tuning job.\n",
    "\n",
    "**Note:** Training a single sentiment analysis XGBoost model takes longer than training a Boston Housing XGBoost model so if you don't want the hyperparameter tuning job to take too long, make sure to not set the total number of models (jobs) too high."
   ]
  },
  {
   "cell_type": "code",
   "execution_count": 32,
   "metadata": {},
   "outputs": [],
   "source": [
    "# First, make sure to import the relevant objects used to construct the tuner\n",
    "from sagemaker.tuner import IntegerParameter, ContinuousParameter, HyperparameterTuner\n",
    "\n",
    "# TODO: Create the hyperparameter tuner object\n",
    "\n",
    "xgb_hyperparameter_tuner = HyperparameterTuner(estimator=xgb,\n",
    "                                              objective_metric_name='validation:error',\n",
    "                                              objective_type='Minimize',\n",
    "                                              max_jobs=20,\n",
    "                                              max_parallel_jobs=3,\n",
    "                                              hyperparameter_ranges={\n",
    "                                                  'max_depth': IntegerParameter(3,15),\n",
    "                                                  'eta': ContinuousParameter(0.1,0.5),\n",
    "                                                  'min_child_weight': IntegerParameter(3,9),\n",
    "                                                  'subsample': ContinuousParameter(0.1,1.0),\n",
    "                                                  'gamma': ContinuousParameter(0,10)\n",
    "                                              })\n",
    "\n"
   ]
  },
  {
   "cell_type": "markdown",
   "metadata": {},
   "source": [
    "### Fit the hyperparameter tuner\n",
    "\n",
    "Now that the hyperparameter tuner object has been constructed, it is time to fit the various models and find the best performing model."
   ]
  },
  {
   "cell_type": "code",
   "execution_count": 33,
   "metadata": {},
   "outputs": [],
   "source": [
    "s3_input_train = sagemaker.s3_input(s3_data=train_location, content_type='csv')\n",
    "s3_input_validation = sagemaker.s3_input(s3_data=val_location, content_type='csv')"
   ]
  },
  {
   "cell_type": "code",
   "execution_count": 34,
   "metadata": {},
   "outputs": [],
   "source": [
    "xgb_hyperparameter_tuner.fit({'train': s3_input_train, 'validation': s3_input_validation})"
   ]
  },
  {
   "cell_type": "markdown",
   "metadata": {},
   "source": [
    "Remember that the tuning job is constructed and run in the background so if we want to see the progress of our training job we need to call the `wait()` method."
   ]
  },
  {
   "cell_type": "code",
   "execution_count": 35,
   "metadata": {},
   "outputs": [
    {
     "name": "stdout",
     "output_type": "stream",
     "text": [
      "................................................................................................................................................................................................................................................................................................................................................................................................................................................................................................................................................................................................................................................................................................................................................!\n"
     ]
    }
   ],
   "source": [
    "xgb_hyperparameter_tuner.wait()"
   ]
  },
  {
   "cell_type": "markdown",
   "metadata": {},
   "source": [
    "### (TODO) Testing the model\n",
    "\n",
    "Now that we've run our hyperparameter tuning job, it's time to see how well the best performing model actually performs. To do this we will use SageMaker's Batch Transform functionality. Batch Transform is a convenient way to perform inference on a large dataset in a way that is not realtime. That is, we don't necessarily need to use our model's results immediately and instead we can peform inference on a large number of samples. An example of this in industry might be peforming an end of month report. This method of inference can also be useful to us as it means to can perform inference on our entire test set. \n",
    "\n",
    "Remember that in order to create a transformer object to perform the batch transform job, we need a trained estimator object. We can do that using the `attach()` method, creating an estimator object which is attached to the best trained job."
   ]
  },
  {
   "cell_type": "code",
   "execution_count": 36,
   "metadata": {
    "scrolled": false
   },
   "outputs": [
    {
     "name": "stdout",
     "output_type": "stream",
     "text": [
      "2020-05-07 01:31:10 Starting - Preparing the instances for training\n",
      "2020-05-07 01:31:10 Downloading - Downloading input data\n",
      "2020-05-07 01:31:10 Training - Training image download completed. Training in progress.\n",
      "2020-05-07 01:31:10 Uploading - Uploading generated training model\n",
      "2020-05-07 01:31:10 Completed - Training job completed\u001b[34mArguments: train\u001b[0m\n",
      "\u001b[34m[2020-05-07:01:20:56:INFO] Running standalone xgboost training.\u001b[0m\n",
      "\u001b[34m[2020-05-07:01:20:56:INFO] Setting up HPO optimized metric to be : error\u001b[0m\n",
      "\u001b[34m[2020-05-07:01:20:56:INFO] File size need to be processed in the node: 238.47mb. Available memory size in the node: 8452.91mb\u001b[0m\n",
      "\u001b[34m[2020-05-07:01:20:56:INFO] Determined delimiter of CSV input is ','\u001b[0m\n",
      "\u001b[34m[01:20:56] S3DistributionType set as FullyReplicated\u001b[0m\n",
      "\u001b[34m[01:20:58] 15000x5000 matrix with 75000000 entries loaded from /opt/ml/input/data/train?format=csv&label_column=0&delimiter=,\u001b[0m\n",
      "\u001b[34m[2020-05-07:01:20:58:INFO] Determined delimiter of CSV input is ','\u001b[0m\n",
      "\u001b[34m[01:20:58] S3DistributionType set as FullyReplicated\u001b[0m\n",
      "\u001b[34m[01:20:59] 10000x5000 matrix with 50000000 entries loaded from /opt/ml/input/data/validation?format=csv&label_column=0&delimiter=,\u001b[0m\n",
      "\u001b[34m[01:21:05] src/tree/updater_prune.cc:74: tree pruning end, 1 roots, 230 extra nodes, 70 pruned nodes, max_depth=15\u001b[0m\n",
      "\u001b[34m[0]#011train-error:0.234133#011validation-error:0.2682\u001b[0m\n",
      "\u001b[34mMultiple eval metrics have been passed: 'validation-error' will be used for early stopping.\n",
      "\u001b[0m\n",
      "\u001b[34mWill train until validation-error hasn't improved in 10 rounds.\u001b[0m\n",
      "\u001b[34m[01:21:10] src/tree/updater_prune.cc:74: tree pruning end, 1 roots, 204 extra nodes, 78 pruned nodes, max_depth=15\u001b[0m\n",
      "\u001b[34m[1]#011train-error:0.218#011validation-error:0.2518\u001b[0m\n",
      "\u001b[34m[01:21:14] src/tree/updater_prune.cc:74: tree pruning end, 1 roots, 188 extra nodes, 60 pruned nodes, max_depth=15\u001b[0m\n",
      "\u001b[34m[2]#011train-error:0.2108#011validation-error:0.2409\u001b[0m\n",
      "\u001b[34m[01:21:18] src/tree/updater_prune.cc:74: tree pruning end, 1 roots, 216 extra nodes, 88 pruned nodes, max_depth=15\u001b[0m\n",
      "\u001b[34m[3]#011train-error:0.204667#011validation-error:0.2361\u001b[0m\n",
      "\u001b[34m[01:21:21] src/tree/updater_prune.cc:74: tree pruning end, 1 roots, 180 extra nodes, 78 pruned nodes, max_depth=15\u001b[0m\n",
      "\u001b[34m[4]#011train-error:0.2006#011validation-error:0.2368\u001b[0m\n",
      "\u001b[34m[01:21:25] src/tree/updater_prune.cc:74: tree pruning end, 1 roots, 196 extra nodes, 92 pruned nodes, max_depth=15\u001b[0m\n",
      "\u001b[34m[5]#011train-error:0.1944#011validation-error:0.2311\u001b[0m\n",
      "\u001b[34m[01:21:29] src/tree/updater_prune.cc:74: tree pruning end, 1 roots, 180 extra nodes, 94 pruned nodes, max_depth=15\u001b[0m\n",
      "\u001b[34m[6]#011train-error:0.1908#011validation-error:0.2282\u001b[0m\n",
      "\u001b[34m[01:21:33] src/tree/updater_prune.cc:74: tree pruning end, 1 roots, 160 extra nodes, 66 pruned nodes, max_depth=15\u001b[0m\n",
      "\u001b[34m[7]#011train-error:0.1888#011validation-error:0.2243\u001b[0m\n",
      "\u001b[34m[01:21:37] src/tree/updater_prune.cc:74: tree pruning end, 1 roots, 166 extra nodes, 84 pruned nodes, max_depth=15\u001b[0m\n",
      "\u001b[34m[8]#011train-error:0.183467#011validation-error:0.2222\u001b[0m\n",
      "\u001b[34m[01:21:41] src/tree/updater_prune.cc:74: tree pruning end, 1 roots, 180 extra nodes, 92 pruned nodes, max_depth=15\u001b[0m\n",
      "\u001b[34m[9]#011train-error:0.178733#011validation-error:0.2174\u001b[0m\n",
      "\u001b[34m[01:21:45] src/tree/updater_prune.cc:74: tree pruning end, 1 roots, 110 extra nodes, 72 pruned nodes, max_depth=15\u001b[0m\n",
      "\u001b[34m[10]#011train-error:0.174467#011validation-error:0.2127\u001b[0m\n",
      "\u001b[34m[01:21:49] src/tree/updater_prune.cc:74: tree pruning end, 1 roots, 168 extra nodes, 76 pruned nodes, max_depth=15\u001b[0m\n",
      "\u001b[34m[11]#011train-error:0.1692#011validation-error:0.2103\u001b[0m\n",
      "\u001b[34m[01:21:52] src/tree/updater_prune.cc:74: tree pruning end, 1 roots, 208 extra nodes, 118 pruned nodes, max_depth=15\u001b[0m\n",
      "\u001b[34m[12]#011train-error:0.162533#011validation-error:0.2076\u001b[0m\n",
      "\u001b[34m[01:21:56] src/tree/updater_prune.cc:74: tree pruning end, 1 roots, 132 extra nodes, 92 pruned nodes, max_depth=15\u001b[0m\n",
      "\u001b[34m[13]#011train-error:0.160533#011validation-error:0.2049\u001b[0m\n",
      "\u001b[34m[01:22:00] src/tree/updater_prune.cc:74: tree pruning end, 1 roots, 162 extra nodes, 86 pruned nodes, max_depth=15\u001b[0m\n",
      "\u001b[34m[14]#011train-error:0.156667#011validation-error:0.2017\u001b[0m\n",
      "\u001b[34m[01:22:04] src/tree/updater_prune.cc:74: tree pruning end, 1 roots, 130 extra nodes, 72 pruned nodes, max_depth=15\u001b[0m\n",
      "\u001b[34m[15]#011train-error:0.152867#011validation-error:0.1995\u001b[0m\n",
      "\u001b[34m[01:22:08] src/tree/updater_prune.cc:74: tree pruning end, 1 roots, 128 extra nodes, 74 pruned nodes, max_depth=15\u001b[0m\n",
      "\u001b[34m[16]#011train-error:0.1494#011validation-error:0.1968\u001b[0m\n",
      "\u001b[34m[01:22:12] src/tree/updater_prune.cc:74: tree pruning end, 1 roots, 108 extra nodes, 54 pruned nodes, max_depth=15\u001b[0m\n",
      "\u001b[34m[17]#011train-error:0.147533#011validation-error:0.1935\u001b[0m\n",
      "\u001b[34m[01:22:16] src/tree/updater_prune.cc:74: tree pruning end, 1 roots, 132 extra nodes, 98 pruned nodes, max_depth=15\u001b[0m\n",
      "\u001b[34m[18]#011train-error:0.1432#011validation-error:0.1907\u001b[0m\n",
      "\u001b[34m[01:22:20] src/tree/updater_prune.cc:74: tree pruning end, 1 roots, 94 extra nodes, 72 pruned nodes, max_depth=15\u001b[0m\n",
      "\u001b[34m[19]#011train-error:0.139533#011validation-error:0.1887\u001b[0m\n",
      "\u001b[34m[01:22:23] src/tree/updater_prune.cc:74: tree pruning end, 1 roots, 144 extra nodes, 120 pruned nodes, max_depth=15\u001b[0m\n",
      "\u001b[34m[20]#011train-error:0.1378#011validation-error:0.1867\u001b[0m\n",
      "\u001b[34m[01:22:27] src/tree/updater_prune.cc:74: tree pruning end, 1 roots, 92 extra nodes, 68 pruned nodes, max_depth=15\u001b[0m\n",
      "\u001b[34m[21]#011train-error:0.135667#011validation-error:0.1854\u001b[0m\n",
      "\u001b[34m[01:22:31] src/tree/updater_prune.cc:74: tree pruning end, 1 roots, 96 extra nodes, 70 pruned nodes, max_depth=15\u001b[0m\n",
      "\u001b[34m[22]#011train-error:0.134533#011validation-error:0.1853\u001b[0m\n",
      "\u001b[34m[01:22:35] src/tree/updater_prune.cc:74: tree pruning end, 1 roots, 120 extra nodes, 96 pruned nodes, max_depth=15\u001b[0m\n",
      "\u001b[34m[23]#011train-error:0.1308#011validation-error:0.1827\u001b[0m\n",
      "\u001b[34m[01:22:39] src/tree/updater_prune.cc:74: tree pruning end, 1 roots, 106 extra nodes, 64 pruned nodes, max_depth=15\u001b[0m\n",
      "\u001b[34m[24]#011train-error:0.128467#011validation-error:0.1822\u001b[0m\n",
      "\u001b[34m[01:22:43] src/tree/updater_prune.cc:74: tree pruning end, 1 roots, 98 extra nodes, 60 pruned nodes, max_depth=15\u001b[0m\n",
      "\u001b[34m[25]#011train-error:0.1268#011validation-error:0.1794\u001b[0m\n",
      "\u001b[34m[01:22:47] src/tree/updater_prune.cc:74: tree pruning end, 1 roots, 78 extra nodes, 62 pruned nodes, max_depth=15\u001b[0m\n",
      "\u001b[34m[26]#011train-error:0.123133#011validation-error:0.1778\u001b[0m\n",
      "\u001b[34m[01:22:50] src/tree/updater_prune.cc:74: tree pruning end, 1 roots, 102 extra nodes, 56 pruned nodes, max_depth=15\u001b[0m\n",
      "\u001b[34m[27]#011train-error:0.1216#011validation-error:0.1766\u001b[0m\n",
      "\u001b[34m[01:22:54] src/tree/updater_prune.cc:74: tree pruning end, 1 roots, 116 extra nodes, 90 pruned nodes, max_depth=15\u001b[0m\n",
      "\u001b[34m[28]#011train-error:0.119133#011validation-error:0.1752\u001b[0m\n",
      "\u001b[34m[01:22:58] src/tree/updater_prune.cc:74: tree pruning end, 1 roots, 96 extra nodes, 60 pruned nodes, max_depth=15\u001b[0m\n",
      "\u001b[34m[29]#011train-error:0.1164#011validation-error:0.1723\u001b[0m\n",
      "\u001b[34m[01:23:02] src/tree/updater_prune.cc:74: tree pruning end, 1 roots, 116 extra nodes, 72 pruned nodes, max_depth=15\u001b[0m\n",
      "\u001b[34m[30]#011train-error:0.113333#011validation-error:0.1721\u001b[0m\n",
      "\u001b[34m[01:23:06] src/tree/updater_prune.cc:74: tree pruning end, 1 roots, 102 extra nodes, 70 pruned nodes, max_depth=15\u001b[0m\n",
      "\u001b[34m[31]#011train-error:0.1124#011validation-error:0.1711\u001b[0m\n",
      "\u001b[34m[01:23:10] src/tree/updater_prune.cc:74: tree pruning end, 1 roots, 80 extra nodes, 70 pruned nodes, max_depth=15\u001b[0m\n",
      "\u001b[34m[32]#011train-error:0.110533#011validation-error:0.1706\u001b[0m\n",
      "\u001b[34m[01:23:14] src/tree/updater_prune.cc:74: tree pruning end, 1 roots, 130 extra nodes, 74 pruned nodes, max_depth=15\u001b[0m\n",
      "\u001b[34m[33]#011train-error:0.109#011validation-error:0.1693\u001b[0m\n",
      "\u001b[34m[01:23:17] src/tree/updater_prune.cc:74: tree pruning end, 1 roots, 80 extra nodes, 60 pruned nodes, max_depth=15\u001b[0m\n",
      "\u001b[34m[34]#011train-error:0.107867#011validation-error:0.1683\u001b[0m\n",
      "\u001b[34m[01:23:21] src/tree/updater_prune.cc:74: tree pruning end, 1 roots, 74 extra nodes, 50 pruned nodes, max_depth=15\u001b[0m\n",
      "\u001b[34m[35]#011train-error:0.1066#011validation-error:0.1667\u001b[0m\n",
      "\u001b[34m[01:23:25] src/tree/updater_prune.cc:74: tree pruning end, 1 roots, 118 extra nodes, 90 pruned nodes, max_depth=15\u001b[0m\n",
      "\u001b[34m[36]#011train-error:0.106133#011validation-error:0.1659\u001b[0m\n",
      "\u001b[34m[01:23:29] src/tree/updater_prune.cc:74: tree pruning end, 1 roots, 76 extra nodes, 52 pruned nodes, max_depth=15\u001b[0m\n",
      "\u001b[34m[37]#011train-error:0.104467#011validation-error:0.1638\u001b[0m\n",
      "\u001b[34m[01:23:33] src/tree/updater_prune.cc:74: tree pruning end, 1 roots, 80 extra nodes, 104 pruned nodes, max_depth=15\u001b[0m\n",
      "\u001b[34m[38]#011train-error:0.103#011validation-error:0.1637\u001b[0m\n",
      "\u001b[34m[01:23:37] src/tree/updater_prune.cc:74: tree pruning end, 1 roots, 78 extra nodes, 72 pruned nodes, max_depth=15\u001b[0m\n",
      "\u001b[34m[39]#011train-error:0.100467#011validation-error:0.1618\u001b[0m\n",
      "\u001b[34m[01:23:41] src/tree/updater_prune.cc:74: tree pruning end, 1 roots, 118 extra nodes, 86 pruned nodes, max_depth=15\u001b[0m\n",
      "\u001b[34m[40]#011train-error:0.098467#011validation-error:0.1628\u001b[0m\n",
      "\u001b[34m[01:23:45] src/tree/updater_prune.cc:74: tree pruning end, 1 roots, 102 extra nodes, 66 pruned nodes, max_depth=15\u001b[0m\n",
      "\u001b[34m[41]#011train-error:0.096#011validation-error:0.1608\u001b[0m\n",
      "\u001b[34m[01:23:48] src/tree/updater_prune.cc:74: tree pruning end, 1 roots, 136 extra nodes, 84 pruned nodes, max_depth=15\u001b[0m\n",
      "\u001b[34m[42]#011train-error:0.094933#011validation-error:0.1616\u001b[0m\n",
      "\u001b[34m[01:23:52] src/tree/updater_prune.cc:74: tree pruning end, 1 roots, 54 extra nodes, 38 pruned nodes, max_depth=15\u001b[0m\n",
      "\u001b[34m[43]#011train-error:0.093867#011validation-error:0.161\u001b[0m\n",
      "\u001b[34m[01:23:56] src/tree/updater_prune.cc:74: tree pruning end, 1 roots, 36 extra nodes, 48 pruned nodes, max_depth=15\u001b[0m\n",
      "\u001b[34m[44]#011train-error:0.0946#011validation-error:0.1602\u001b[0m\n",
      "\u001b[34m[01:24:00] src/tree/updater_prune.cc:74: tree pruning end, 1 roots, 60 extra nodes, 48 pruned nodes, max_depth=15\u001b[0m\n",
      "\u001b[34m[45]#011train-error:0.093333#011validation-error:0.1601\u001b[0m\n",
      "\u001b[34m[01:24:04] src/tree/updater_prune.cc:74: tree pruning end, 1 roots, 64 extra nodes, 52 pruned nodes, max_depth=15\u001b[0m\n",
      "\u001b[34m[46]#011train-error:0.093#011validation-error:0.1595\u001b[0m\n",
      "\u001b[34m[01:24:07] src/tree/updater_prune.cc:74: tree pruning end, 1 roots, 60 extra nodes, 40 pruned nodes, max_depth=15\u001b[0m\n",
      "\u001b[34m[47]#011train-error:0.092#011validation-error:0.1597\u001b[0m\n",
      "\u001b[34m[01:24:11] src/tree/updater_prune.cc:74: tree pruning end, 1 roots, 64 extra nodes, 62 pruned nodes, max_depth=15\u001b[0m\n",
      "\u001b[34m[48]#011train-error:0.090667#011validation-error:0.1574\u001b[0m\n",
      "\u001b[34m[01:24:15] src/tree/updater_prune.cc:74: tree pruning end, 1 roots, 72 extra nodes, 60 pruned nodes, max_depth=15\u001b[0m\n",
      "\u001b[34m[49]#011train-error:0.089933#011validation-error:0.1565\u001b[0m\n",
      "\u001b[34m[01:24:19] src/tree/updater_prune.cc:74: tree pruning end, 1 roots, 46 extra nodes, 36 pruned nodes, max_depth=15\u001b[0m\n",
      "\u001b[34m[50]#011train-error:0.088733#011validation-error:0.1572\u001b[0m\n",
      "\u001b[34m[01:24:23] src/tree/updater_prune.cc:74: tree pruning end, 1 roots, 84 extra nodes, 50 pruned nodes, max_depth=15\u001b[0m\n",
      "\u001b[34m[51]#011train-error:0.088333#011validation-error:0.1572\u001b[0m\n",
      "\u001b[34m[01:24:26] src/tree/updater_prune.cc:74: tree pruning end, 1 roots, 66 extra nodes, 32 pruned nodes, max_depth=15\u001b[0m\n",
      "\u001b[34m[52]#011train-error:0.086467#011validation-error:0.1567\u001b[0m\n",
      "\u001b[34m[01:24:30] src/tree/updater_prune.cc:74: tree pruning end, 1 roots, 54 extra nodes, 42 pruned nodes, max_depth=15\u001b[0m\n",
      "\u001b[34m[53]#011train-error:0.086667#011validation-error:0.1547\u001b[0m\n",
      "\u001b[34m[01:24:34] src/tree/updater_prune.cc:74: tree pruning end, 1 roots, 72 extra nodes, 50 pruned nodes, max_depth=15\u001b[0m\n",
      "\u001b[34m[54]#011train-error:0.0856#011validation-error:0.1547\u001b[0m\n",
      "\u001b[34m[01:24:38] src/tree/updater_prune.cc:74: tree pruning end, 1 roots, 76 extra nodes, 66 pruned nodes, max_depth=15\u001b[0m\n",
      "\u001b[34m[55]#011train-error:0.0854#011validation-error:0.1554\u001b[0m\n",
      "\u001b[34m[01:24:42] src/tree/updater_prune.cc:74: tree pruning end, 1 roots, 44 extra nodes, 42 pruned nodes, max_depth=15\u001b[0m\n",
      "\u001b[34m[56]#011train-error:0.084467#011validation-error:0.1533\u001b[0m\n",
      "\u001b[34m[01:24:45] src/tree/updater_prune.cc:74: tree pruning end, 1 roots, 86 extra nodes, 64 pruned nodes, max_depth=15\u001b[0m\n",
      "\u001b[34m[57]#011train-error:0.083067#011validation-error:0.1527\u001b[0m\n",
      "\u001b[34m[01:24:49] src/tree/updater_prune.cc:74: tree pruning end, 1 roots, 50 extra nodes, 72 pruned nodes, max_depth=15\u001b[0m\n",
      "\u001b[34m[58]#011train-error:0.0826#011validation-error:0.1512\u001b[0m\n",
      "\u001b[34m[01:24:53] src/tree/updater_prune.cc:74: tree pruning end, 1 roots, 74 extra nodes, 42 pruned nodes, max_depth=15\u001b[0m\n",
      "\u001b[34m[59]#011train-error:0.081733#011validation-error:0.1514\u001b[0m\n",
      "\u001b[34m[01:24:57] src/tree/updater_prune.cc:74: tree pruning end, 1 roots, 54 extra nodes, 66 pruned nodes, max_depth=15\u001b[0m\n",
      "\u001b[34m[60]#011train-error:0.0814#011validation-error:0.1521\u001b[0m\n",
      "\u001b[34m[01:25:01] src/tree/updater_prune.cc:74: tree pruning end, 1 roots, 48 extra nodes, 44 pruned nodes, max_depth=15\u001b[0m\n",
      "\u001b[34m[61]#011train-error:0.080867#011validation-error:0.151\u001b[0m\n",
      "\u001b[34m[01:25:04] src/tree/updater_prune.cc:74: tree pruning end, 1 roots, 30 extra nodes, 26 pruned nodes, max_depth=15\u001b[0m\n",
      "\u001b[34m[62]#011train-error:0.080133#011validation-error:0.1501\u001b[0m\n",
      "\u001b[34m[01:25:08] src/tree/updater_prune.cc:74: tree pruning end, 1 roots, 42 extra nodes, 44 pruned nodes, max_depth=15\u001b[0m\n",
      "\u001b[34m[63]#011train-error:0.0798#011validation-error:0.1505\u001b[0m\n",
      "\u001b[34m[01:25:12] src/tree/updater_prune.cc:74: tree pruning end, 1 roots, 64 extra nodes, 60 pruned nodes, max_depth=15\u001b[0m\n",
      "\u001b[34m[64]#011train-error:0.078733#011validation-error:0.1486\u001b[0m\n",
      "\u001b[34m[01:25:16] src/tree/updater_prune.cc:74: tree pruning end, 1 roots, 48 extra nodes, 28 pruned nodes, max_depth=15\u001b[0m\n",
      "\u001b[34m[65]#011train-error:0.078533#011validation-error:0.1475\u001b[0m\n",
      "\u001b[34m[01:25:20] src/tree/updater_prune.cc:74: tree pruning end, 1 roots, 42 extra nodes, 70 pruned nodes, max_depth=15\u001b[0m\n",
      "\u001b[34m[66]#011train-error:0.0782#011validation-error:0.1472\u001b[0m\n",
      "\u001b[34m[01:25:23] src/tree/updater_prune.cc:74: tree pruning end, 1 roots, 78 extra nodes, 90 pruned nodes, max_depth=15\u001b[0m\n",
      "\u001b[34m[67]#011train-error:0.077#011validation-error:0.1478\u001b[0m\n",
      "\u001b[34m[01:25:27] src/tree/updater_prune.cc:74: tree pruning end, 1 roots, 56 extra nodes, 34 pruned nodes, max_depth=15\u001b[0m\n",
      "\u001b[34m[68]#011train-error:0.077333#011validation-error:0.1484\u001b[0m\n",
      "\u001b[34m[01:25:31] src/tree/updater_prune.cc:74: tree pruning end, 1 roots, 68 extra nodes, 64 pruned nodes, max_depth=15\u001b[0m\n",
      "\u001b[34m[69]#011train-error:0.076467#011validation-error:0.148\u001b[0m\n",
      "\u001b[34m[01:25:35] src/tree/updater_prune.cc:74: tree pruning end, 1 roots, 50 extra nodes, 32 pruned nodes, max_depth=15\u001b[0m\n",
      "\u001b[34m[70]#011train-error:0.075267#011validation-error:0.1466\u001b[0m\n",
      "\u001b[34m[01:25:38] src/tree/updater_prune.cc:74: tree pruning end, 1 roots, 58 extra nodes, 48 pruned nodes, max_depth=15\u001b[0m\n",
      "\u001b[34m[71]#011train-error:0.074733#011validation-error:0.1466\u001b[0m\n",
      "\u001b[34m[01:25:42] src/tree/updater_prune.cc:74: tree pruning end, 1 roots, 118 extra nodes, 72 pruned nodes, max_depth=15\u001b[0m\n",
      "\u001b[34m[72]#011train-error:0.072867#011validation-error:0.1467\u001b[0m\n",
      "\u001b[34m[01:25:46] src/tree/updater_prune.cc:74: tree pruning end, 1 roots, 36 extra nodes, 56 pruned nodes, max_depth=15\u001b[0m\n",
      "\u001b[34m[73]#011train-error:0.0726#011validation-error:0.1462\u001b[0m\n",
      "\u001b[34m[01:25:50] src/tree/updater_prune.cc:74: tree pruning end, 1 roots, 48 extra nodes, 72 pruned nodes, max_depth=15\u001b[0m\n",
      "\u001b[34m[74]#011train-error:0.072867#011validation-error:0.1465\u001b[0m\n",
      "\u001b[34m[01:25:54] src/tree/updater_prune.cc:74: tree pruning end, 1 roots, 46 extra nodes, 50 pruned nodes, max_depth=15\u001b[0m\n",
      "\u001b[34m[75]#011train-error:0.071933#011validation-error:0.1456\u001b[0m\n",
      "\u001b[34m[01:25:57] src/tree/updater_prune.cc:74: tree pruning end, 1 roots, 46 extra nodes, 24 pruned nodes, max_depth=15\u001b[0m\n",
      "\u001b[34m[76]#011train-error:0.071333#011validation-error:0.1447\u001b[0m\n",
      "\u001b[34m[01:26:01] src/tree/updater_prune.cc:74: tree pruning end, 1 roots, 68 extra nodes, 68 pruned nodes, max_depth=15\u001b[0m\n",
      "\u001b[34m[77]#011train-error:0.070533#011validation-error:0.1449\u001b[0m\n",
      "\u001b[34m[01:26:05] src/tree/updater_prune.cc:74: tree pruning end, 1 roots, 58 extra nodes, 44 pruned nodes, max_depth=15\u001b[0m\n",
      "\u001b[34m[78]#011train-error:0.069667#011validation-error:0.1436\u001b[0m\n",
      "\u001b[34m[01:26:09] src/tree/updater_prune.cc:74: tree pruning end, 1 roots, 64 extra nodes, 50 pruned nodes, max_depth=15\u001b[0m\n",
      "\u001b[34m[79]#011train-error:0.068467#011validation-error:0.1431\u001b[0m\n",
      "\u001b[34m[01:26:13] src/tree/updater_prune.cc:74: tree pruning end, 1 roots, 46 extra nodes, 42 pruned nodes, max_depth=15\u001b[0m\n",
      "\u001b[34m[80]#011train-error:0.068333#011validation-error:0.1431\u001b[0m\n",
      "\u001b[34m[01:26:17] src/tree/updater_prune.cc:74: tree pruning end, 1 roots, 42 extra nodes, 34 pruned nodes, max_depth=15\u001b[0m\n",
      "\u001b[34m[81]#011train-error:0.0682#011validation-error:0.143\u001b[0m\n",
      "\u001b[34m[01:26:20] src/tree/updater_prune.cc:74: tree pruning end, 1 roots, 62 extra nodes, 64 pruned nodes, max_depth=15\u001b[0m\n",
      "\u001b[34m[82]#011train-error:0.066867#011validation-error:0.1428\u001b[0m\n",
      "\u001b[34m[01:26:24] src/tree/updater_prune.cc:74: tree pruning end, 1 roots, 38 extra nodes, 40 pruned nodes, max_depth=15\u001b[0m\n",
      "\u001b[34m[83]#011train-error:0.066533#011validation-error:0.1422\u001b[0m\n",
      "\u001b[34m[01:26:28] src/tree/updater_prune.cc:74: tree pruning end, 1 roots, 66 extra nodes, 56 pruned nodes, max_depth=15\u001b[0m\n",
      "\u001b[34m[84]#011train-error:0.065733#011validation-error:0.1435\u001b[0m\n",
      "\u001b[34m[01:26:32] src/tree/updater_prune.cc:74: tree pruning end, 1 roots, 50 extra nodes, 38 pruned nodes, max_depth=15\u001b[0m\n",
      "\u001b[34m[85]#011train-error:0.065667#011validation-error:0.1419\u001b[0m\n",
      "\u001b[34m[01:26:36] src/tree/updater_prune.cc:74: tree pruning end, 1 roots, 52 extra nodes, 48 pruned nodes, max_depth=15\u001b[0m\n",
      "\u001b[34m[86]#011train-error:0.064667#011validation-error:0.1405\u001b[0m\n",
      "\u001b[34m[01:26:39] src/tree/updater_prune.cc:74: tree pruning end, 1 roots, 46 extra nodes, 46 pruned nodes, max_depth=15\u001b[0m\n",
      "\u001b[34m[87]#011train-error:0.064267#011validation-error:0.1408\u001b[0m\n",
      "\u001b[34m[01:26:43] src/tree/updater_prune.cc:74: tree pruning end, 1 roots, 48 extra nodes, 50 pruned nodes, max_depth=15\u001b[0m\n",
      "\u001b[34m[88]#011train-error:0.064333#011validation-error:0.1406\u001b[0m\n",
      "\u001b[34m[01:26:47] src/tree/updater_prune.cc:74: tree pruning end, 1 roots, 42 extra nodes, 42 pruned nodes, max_depth=15\u001b[0m\n",
      "\u001b[34m[89]#011train-error:0.064#011validation-error:0.1401\u001b[0m\n",
      "\u001b[34m[01:26:51] src/tree/updater_prune.cc:74: tree pruning end, 1 roots, 70 extra nodes, 48 pruned nodes, max_depth=15\u001b[0m\n",
      "\u001b[34m[90]#011train-error:0.063267#011validation-error:0.1401\u001b[0m\n",
      "\u001b[34m[01:26:55] src/tree/updater_prune.cc:74: tree pruning end, 1 roots, 52 extra nodes, 34 pruned nodes, max_depth=15\u001b[0m\n",
      "\u001b[34m[91]#011train-error:0.062#011validation-error:0.14\u001b[0m\n",
      "\u001b[34m[01:26:58] src/tree/updater_prune.cc:74: tree pruning end, 1 roots, 54 extra nodes, 70 pruned nodes, max_depth=15\u001b[0m\n",
      "\u001b[34m[92]#011train-error:0.061867#011validation-error:0.1399\u001b[0m\n",
      "\u001b[34m[01:27:02] src/tree/updater_prune.cc:74: tree pruning end, 1 roots, 76 extra nodes, 48 pruned nodes, max_depth=15\u001b[0m\n",
      "\u001b[34m[93]#011train-error:0.061067#011validation-error:0.1403\u001b[0m\n",
      "\u001b[34m[01:27:06] src/tree/updater_prune.cc:74: tree pruning end, 1 roots, 40 extra nodes, 42 pruned nodes, max_depth=15\u001b[0m\n",
      "\u001b[34m[94]#011train-error:0.060667#011validation-error:0.1398\u001b[0m\n",
      "\u001b[34m[01:27:10] src/tree/updater_prune.cc:74: tree pruning end, 1 roots, 34 extra nodes, 36 pruned nodes, max_depth=15\u001b[0m\n",
      "\u001b[34m[95]#011train-error:0.0604#011validation-error:0.1391\u001b[0m\n",
      "\u001b[34m[01:27:14] src/tree/updater_prune.cc:74: tree pruning end, 1 roots, 56 extra nodes, 38 pruned nodes, max_depth=15\u001b[0m\n",
      "\u001b[34m[96]#011train-error:0.0602#011validation-error:0.139\u001b[0m\n",
      "\u001b[34m[01:27:17] src/tree/updater_prune.cc:74: tree pruning end, 1 roots, 50 extra nodes, 52 pruned nodes, max_depth=15\u001b[0m\n",
      "\u001b[34m[97]#011train-error:0.059133#011validation-error:0.1387\u001b[0m\n",
      "\u001b[34m[01:27:21] src/tree/updater_prune.cc:74: tree pruning end, 1 roots, 48 extra nodes, 42 pruned nodes, max_depth=15\u001b[0m\n",
      "\u001b[34m[98]#011train-error:0.058533#011validation-error:0.1387\u001b[0m\n",
      "\u001b[34m[01:27:25] src/tree/updater_prune.cc:74: tree pruning end, 1 roots, 34 extra nodes, 42 pruned nodes, max_depth=15\u001b[0m\n",
      "\u001b[34m[99]#011train-error:0.058467#011validation-error:0.139\u001b[0m\n",
      "\u001b[34m[01:27:29] src/tree/updater_prune.cc:74: tree pruning end, 1 roots, 64 extra nodes, 62 pruned nodes, max_depth=15\u001b[0m\n",
      "\u001b[34m[100]#011train-error:0.058#011validation-error:0.1391\u001b[0m\n",
      "\u001b[34m[01:27:32] src/tree/updater_prune.cc:74: tree pruning end, 1 roots, 38 extra nodes, 42 pruned nodes, max_depth=15\u001b[0m\n",
      "\u001b[34m[101]#011train-error:0.057467#011validation-error:0.1392\u001b[0m\n",
      "\u001b[34m[01:27:36] src/tree/updater_prune.cc:74: tree pruning end, 1 roots, 40 extra nodes, 42 pruned nodes, max_depth=15\u001b[0m\n",
      "\u001b[34m[102]#011train-error:0.057667#011validation-error:0.1391\u001b[0m\n",
      "\u001b[34m[01:27:40] src/tree/updater_prune.cc:74: tree pruning end, 1 roots, 76 extra nodes, 52 pruned nodes, max_depth=15\u001b[0m\n",
      "\u001b[34m[103]#011train-error:0.057#011validation-error:0.1389\u001b[0m\n",
      "\u001b[34m[01:27:44] src/tree/updater_prune.cc:74: tree pruning end, 1 roots, 52 extra nodes, 68 pruned nodes, max_depth=15\u001b[0m\n",
      "\u001b[34m[104]#011train-error:0.0568#011validation-error:0.1386\u001b[0m\n",
      "\u001b[34m[01:27:48] src/tree/updater_prune.cc:74: tree pruning end, 1 roots, 50 extra nodes, 40 pruned nodes, max_depth=15\u001b[0m\n",
      "\u001b[34m[105]#011train-error:0.056#011validation-error:0.1385\u001b[0m\n",
      "\u001b[34m[01:27:52] src/tree/updater_prune.cc:74: tree pruning end, 1 roots, 50 extra nodes, 58 pruned nodes, max_depth=15\u001b[0m\n",
      "\u001b[34m[106]#011train-error:0.054533#011validation-error:0.1382\u001b[0m\n",
      "\u001b[34m[01:27:56] src/tree/updater_prune.cc:74: tree pruning end, 1 roots, 50 extra nodes, 50 pruned nodes, max_depth=15\u001b[0m\n",
      "\u001b[34m[107]#011train-error:0.054267#011validation-error:0.1382\u001b[0m\n",
      "\u001b[34m[01:27:59] src/tree/updater_prune.cc:74: tree pruning end, 1 roots, 48 extra nodes, 48 pruned nodes, max_depth=15\u001b[0m\n",
      "\u001b[34m[108]#011train-error:0.053733#011validation-error:0.1379\u001b[0m\n",
      "\u001b[34m[01:28:03] src/tree/updater_prune.cc:74: tree pruning end, 1 roots, 44 extra nodes, 52 pruned nodes, max_depth=15\u001b[0m\n",
      "\u001b[34m[109]#011train-error:0.053533#011validation-error:0.1364\u001b[0m\n",
      "\u001b[34m[01:28:07] src/tree/updater_prune.cc:74: tree pruning end, 1 roots, 42 extra nodes, 36 pruned nodes, max_depth=15\u001b[0m\n",
      "\u001b[34m[110]#011train-error:0.052933#011validation-error:0.1363\u001b[0m\n",
      "\u001b[34m[01:28:11] src/tree/updater_prune.cc:74: tree pruning end, 1 roots, 48 extra nodes, 48 pruned nodes, max_depth=15\u001b[0m\n",
      "\u001b[34m[111]#011train-error:0.052667#011validation-error:0.1365\u001b[0m\n",
      "\u001b[34m[01:28:14] src/tree/updater_prune.cc:74: tree pruning end, 1 roots, 40 extra nodes, 34 pruned nodes, max_depth=15\u001b[0m\n",
      "\u001b[34m[112]#011train-error:0.052733#011validation-error:0.1361\u001b[0m\n",
      "\u001b[34m[01:28:18] src/tree/updater_prune.cc:74: tree pruning end, 1 roots, 32 extra nodes, 44 pruned nodes, max_depth=15\u001b[0m\n",
      "\u001b[34m[113]#011train-error:0.052667#011validation-error:0.1357\u001b[0m\n",
      "\u001b[34m[01:28:22] src/tree/updater_prune.cc:74: tree pruning end, 1 roots, 44 extra nodes, 36 pruned nodes, max_depth=15\u001b[0m\n",
      "\u001b[34m[114]#011train-error:0.0524#011validation-error:0.1358\u001b[0m\n",
      "\u001b[34m[01:28:26] src/tree/updater_prune.cc:74: tree pruning end, 1 roots, 38 extra nodes, 54 pruned nodes, max_depth=15\u001b[0m\n",
      "\u001b[34m[115]#011train-error:0.0522#011validation-error:0.136\u001b[0m\n",
      "\u001b[34m[01:28:30] src/tree/updater_prune.cc:74: tree pruning end, 1 roots, 38 extra nodes, 38 pruned nodes, max_depth=15\u001b[0m\n",
      "\u001b[34m[116]#011train-error:0.052267#011validation-error:0.1361\u001b[0m\n",
      "\u001b[34m[01:28:34] src/tree/updater_prune.cc:74: tree pruning end, 1 roots, 36 extra nodes, 56 pruned nodes, max_depth=15\u001b[0m\n",
      "\u001b[34m[117]#011train-error:0.052067#011validation-error:0.1351\u001b[0m\n",
      "\u001b[34m[01:28:38] src/tree/updater_prune.cc:74: tree pruning end, 1 roots, 58 extra nodes, 46 pruned nodes, max_depth=15\u001b[0m\n",
      "\u001b[34m[118]#011train-error:0.051867#011validation-error:0.1346\u001b[0m\n",
      "\u001b[34m[01:28:41] src/tree/updater_prune.cc:74: tree pruning end, 1 roots, 36 extra nodes, 40 pruned nodes, max_depth=15\u001b[0m\n",
      "\u001b[34m[119]#011train-error:0.051#011validation-error:0.1353\u001b[0m\n",
      "\u001b[34m[01:28:45] src/tree/updater_prune.cc:74: tree pruning end, 1 roots, 34 extra nodes, 32 pruned nodes, max_depth=15\u001b[0m\n",
      "\u001b[34m[120]#011train-error:0.050467#011validation-error:0.1348\u001b[0m\n",
      "\u001b[34m[01:28:49] src/tree/updater_prune.cc:74: tree pruning end, 1 roots, 54 extra nodes, 34 pruned nodes, max_depth=15\u001b[0m\n",
      "\u001b[34m[121]#011train-error:0.049933#011validation-error:0.1354\u001b[0m\n",
      "\u001b[34m[01:28:53] src/tree/updater_prune.cc:74: tree pruning end, 1 roots, 46 extra nodes, 26 pruned nodes, max_depth=15\u001b[0m\n",
      "\u001b[34m[122]#011train-error:0.049733#011validation-error:0.1351\u001b[0m\n",
      "\u001b[34m[01:28:56] src/tree/updater_prune.cc:74: tree pruning end, 1 roots, 32 extra nodes, 16 pruned nodes, max_depth=15\u001b[0m\n",
      "\u001b[34m[123]#011train-error:0.050067#011validation-error:0.1349\u001b[0m\n",
      "\u001b[34m[01:29:00] src/tree/updater_prune.cc:74: tree pruning end, 1 roots, 52 extra nodes, 46 pruned nodes, max_depth=15\u001b[0m\n",
      "\u001b[34m[124]#011train-error:0.049467#011validation-error:0.1345\u001b[0m\n",
      "\u001b[34m[01:29:04] src/tree/updater_prune.cc:74: tree pruning end, 1 roots, 52 extra nodes, 48 pruned nodes, max_depth=15\u001b[0m\n",
      "\u001b[34m[125]#011train-error:0.049867#011validation-error:0.1348\u001b[0m\n",
      "\u001b[34m[01:29:08] src/tree/updater_prune.cc:74: tree pruning end, 1 roots, 30 extra nodes, 40 pruned nodes, max_depth=15\u001b[0m\n",
      "\u001b[34m[126]#011train-error:0.0496#011validation-error:0.1352\u001b[0m\n",
      "\u001b[34m[01:29:12] src/tree/updater_prune.cc:74: tree pruning end, 1 roots, 34 extra nodes, 46 pruned nodes, max_depth=15\u001b[0m\n",
      "\u001b[34m[127]#011train-error:0.0492#011validation-error:0.1344\u001b[0m\n",
      "\u001b[34m[01:29:16] src/tree/updater_prune.cc:74: tree pruning end, 1 roots, 48 extra nodes, 44 pruned nodes, max_depth=15\u001b[0m\n",
      "\u001b[34m[128]#011train-error:0.0488#011validation-error:0.1331\u001b[0m\n",
      "\u001b[34m[01:29:20] src/tree/updater_prune.cc:74: tree pruning end, 1 roots, 42 extra nodes, 60 pruned nodes, max_depth=15\u001b[0m\n",
      "\u001b[34m[129]#011train-error:0.048533#011validation-error:0.1333\u001b[0m\n",
      "\u001b[34m[01:29:23] src/tree/updater_prune.cc:74: tree pruning end, 1 roots, 46 extra nodes, 60 pruned nodes, max_depth=15\u001b[0m\n",
      "\u001b[34m[130]#011train-error:0.0486#011validation-error:0.1334\u001b[0m\n",
      "\u001b[34m[01:29:27] src/tree/updater_prune.cc:74: tree pruning end, 1 roots, 42 extra nodes, 38 pruned nodes, max_depth=15\u001b[0m\n",
      "\u001b[34m[131]#011train-error:0.048133#011validation-error:0.1329\u001b[0m\n",
      "\u001b[34m[01:29:31] src/tree/updater_prune.cc:74: tree pruning end, 1 roots, 40 extra nodes, 38 pruned nodes, max_depth=15\u001b[0m\n",
      "\u001b[34m[132]#011train-error:0.048533#011validation-error:0.133\u001b[0m\n",
      "\u001b[34m[01:29:35] src/tree/updater_prune.cc:74: tree pruning end, 1 roots, 30 extra nodes, 28 pruned nodes, max_depth=15\u001b[0m\n",
      "\u001b[34m[133]#011train-error:0.0486#011validation-error:0.1332\u001b[0m\n",
      "\u001b[34m[01:29:39] src/tree/updater_prune.cc:74: tree pruning end, 1 roots, 34 extra nodes, 22 pruned nodes, max_depth=15\u001b[0m\n",
      "\u001b[34m[134]#011train-error:0.0482#011validation-error:0.1331\u001b[0m\n",
      "\u001b[34m[01:29:42] src/tree/updater_prune.cc:74: tree pruning end, 1 roots, 30 extra nodes, 18 pruned nodes, max_depth=15\u001b[0m\n",
      "\u001b[34m[135]#011train-error:0.048333#011validation-error:0.133\u001b[0m\n",
      "\u001b[34m[01:29:46] src/tree/updater_prune.cc:74: tree pruning end, 1 roots, 34 extra nodes, 12 pruned nodes, max_depth=15\u001b[0m\n",
      "\u001b[34m[136]#011train-error:0.0478#011validation-error:0.1327\u001b[0m\n",
      "\u001b[34m[01:29:50] src/tree/updater_prune.cc:74: tree pruning end, 1 roots, 54 extra nodes, 58 pruned nodes, max_depth=15\u001b[0m\n",
      "\u001b[34m[137]#011train-error:0.047467#011validation-error:0.1318\u001b[0m\n",
      "\u001b[34m[01:29:54] src/tree/updater_prune.cc:74: tree pruning end, 1 roots, 36 extra nodes, 42 pruned nodes, max_depth=15\u001b[0m\n",
      "\u001b[34m[138]#011train-error:0.046933#011validation-error:0.132\u001b[0m\n",
      "\u001b[34m[01:29:58] src/tree/updater_prune.cc:74: tree pruning end, 1 roots, 36 extra nodes, 70 pruned nodes, max_depth=15\u001b[0m\n",
      "\u001b[34m[139]#011train-error:0.0464#011validation-error:0.1316\u001b[0m\n",
      "\u001b[34m[01:30:01] src/tree/updater_prune.cc:74: tree pruning end, 1 roots, 36 extra nodes, 44 pruned nodes, max_depth=15\u001b[0m\n",
      "\u001b[34m[140]#011train-error:0.046533#011validation-error:0.1323\u001b[0m\n",
      "\u001b[34m[01:30:05] src/tree/updater_prune.cc:74: tree pruning end, 1 roots, 46 extra nodes, 38 pruned nodes, max_depth=15\u001b[0m\n",
      "\u001b[34m[141]#011train-error:0.045933#011validation-error:0.1315\u001b[0m\n",
      "\u001b[34m[01:30:09] src/tree/updater_prune.cc:74: tree pruning end, 1 roots, 34 extra nodes, 50 pruned nodes, max_depth=15\u001b[0m\n",
      "\u001b[34m[142]#011train-error:0.045933#011validation-error:0.1317\u001b[0m\n",
      "\u001b[34m[01:30:13] src/tree/updater_prune.cc:74: tree pruning end, 1 roots, 32 extra nodes, 12 pruned nodes, max_depth=15\u001b[0m\n",
      "\u001b[34m[143]#011train-error:0.045467#011validation-error:0.1315\u001b[0m\n",
      "\u001b[34m[01:30:16] src/tree/updater_prune.cc:74: tree pruning end, 1 roots, 38 extra nodes, 48 pruned nodes, max_depth=15\u001b[0m\n",
      "\u001b[34m[144]#011train-error:0.0458#011validation-error:0.1313\u001b[0m\n",
      "\u001b[34m[01:30:20] src/tree/updater_prune.cc:74: tree pruning end, 1 roots, 40 extra nodes, 30 pruned nodes, max_depth=15\u001b[0m\n",
      "\u001b[34m[145]#011train-error:0.045533#011validation-error:0.1306\u001b[0m\n",
      "\u001b[34m[01:30:24] src/tree/updater_prune.cc:74: tree pruning end, 1 roots, 44 extra nodes, 34 pruned nodes, max_depth=15\u001b[0m\n",
      "\u001b[34m[146]#011train-error:0.044933#011validation-error:0.1312\u001b[0m\n",
      "\u001b[34m[01:30:28] src/tree/updater_prune.cc:74: tree pruning end, 1 roots, 42 extra nodes, 58 pruned nodes, max_depth=15\u001b[0m\n",
      "\u001b[34m[147]#011train-error:0.044133#011validation-error:0.1313\u001b[0m\n",
      "\u001b[34m[01:30:32] src/tree/updater_prune.cc:74: tree pruning end, 1 roots, 50 extra nodes, 40 pruned nodes, max_depth=15\u001b[0m\n",
      "\u001b[34m[148]#011train-error:0.044067#011validation-error:0.1315\u001b[0m\n",
      "\u001b[34m[01:30:35] src/tree/updater_prune.cc:74: tree pruning end, 1 roots, 34 extra nodes, 46 pruned nodes, max_depth=15\u001b[0m\n",
      "\u001b[34m[149]#011train-error:0.044067#011validation-error:0.1314\u001b[0m\n",
      "\u001b[34m[01:30:39] src/tree/updater_prune.cc:74: tree pruning end, 1 roots, 34 extra nodes, 54 pruned nodes, max_depth=15\u001b[0m\n",
      "\u001b[34m[150]#011train-error:0.044133#011validation-error:0.132\u001b[0m\n",
      "\u001b[34m[01:30:43] src/tree/updater_prune.cc:74: tree pruning end, 1 roots, 54 extra nodes, 64 pruned nodes, max_depth=15\u001b[0m\n",
      "\u001b[34m[151]#011train-error:0.043667#011validation-error:0.1318\u001b[0m\n",
      "\u001b[34m[01:30:47] src/tree/updater_prune.cc:74: tree pruning end, 1 roots, 38 extra nodes, 36 pruned nodes, max_depth=15\u001b[0m\n",
      "\u001b[34m[152]#011train-error:0.043133#011validation-error:0.1321\u001b[0m\n",
      "\u001b[34m[01:30:51] src/tree/updater_prune.cc:74: tree pruning end, 1 roots, 36 extra nodes, 46 pruned nodes, max_depth=15\u001b[0m\n",
      "\u001b[34m[153]#011train-error:0.043133#011validation-error:0.1318\u001b[0m\n",
      "\u001b[34m[01:30:54] src/tree/updater_prune.cc:74: tree pruning end, 1 roots, 38 extra nodes, 26 pruned nodes, max_depth=15\u001b[0m\n",
      "\u001b[34m[154]#011train-error:0.042667#011validation-error:0.1315\u001b[0m\n",
      "\u001b[34m[01:30:58] src/tree/updater_prune.cc:74: tree pruning end, 1 roots, 34 extra nodes, 52 pruned nodes, max_depth=15\u001b[0m\n",
      "\u001b[34m[155]#011train-error:0.042467#011validation-error:0.1321\u001b[0m\n",
      "\u001b[34mStopping. Best iteration:\u001b[0m\n",
      "\u001b[34m[145]#011train-error:0.045533#011validation-error:0.1306\n",
      "\u001b[0m\n",
      "Training seconds: 667\n",
      "Billable seconds: 667\n"
     ]
    }
   ],
   "source": [
    "# TODO: Create a new estimator object attached to the best training job found during hyperparameter tuning\n",
    "\n",
    "xgb_attached = sagemaker.estimator.Estimator.attach(xgb_hyperparameter_tuner.best_training_job())\n"
   ]
  },
  {
   "cell_type": "markdown",
   "metadata": {},
   "source": [
    "Now that we have an estimator object attached to the correct training job, we can proceed as we normally would and create a transformer object."
   ]
  },
  {
   "cell_type": "code",
   "execution_count": 37,
   "metadata": {},
   "outputs": [],
   "source": [
    "# TODO: Create a transformer object from the attached estimator. Using an instance count of 1 and an instance type of ml.m4.xlarge\n",
    "#       should be more than enough.\n",
    "\n",
    "xgb_transformer = xgb_attached.transformer(instance_count = 1, instance_type = 'ml.m4.xlarge')\n"
   ]
  },
  {
   "cell_type": "markdown",
   "metadata": {},
   "source": [
    "Next we actually perform the transform job. When doing so we need to make sure to specify the type of data we are sending so that it is serialized correctly in the background. In our case we are providing our model with csv data so we specify `text/csv`. Also, if the test data that we have provided is too large to process all at once then we need to specify how the data file should be split up. Since each line is a single entry in our data set we tell SageMaker that it can split the input on each line."
   ]
  },
  {
   "cell_type": "code",
   "execution_count": 38,
   "metadata": {},
   "outputs": [],
   "source": [
    "# TODO: Start the transform job. Make sure to specify the content type and the split type of the test data.\n",
    "xgb_transformer.transform(test_location,content_type='text/csv',split_type='Line')"
   ]
  },
  {
   "cell_type": "markdown",
   "metadata": {},
   "source": [
    "Currently the transform job is running but it is doing so in the background. Since we wish to wait until the transform job is done and we would like a bit of feedback we can run the `wait()` method."
   ]
  },
  {
   "cell_type": "code",
   "execution_count": 39,
   "metadata": {
    "scrolled": false
   },
   "outputs": [
    {
     "name": "stdout",
     "output_type": "stream",
     "text": [
      "....................\u001b[34mArguments: serve\u001b[0m\n",
      "\u001b[34m[2020-05-07 01:41:14 +0000] [1] [INFO] Starting gunicorn 19.7.1\u001b[0m\n",
      "\u001b[34m[2020-05-07 01:41:14 +0000] [1] [INFO] Listening at: http://0.0.0.0:8080 (1)\u001b[0m\n",
      "\u001b[34m[2020-05-07 01:41:14 +0000] [1] [INFO] Using worker: gevent\u001b[0m\n",
      "\u001b[34m[2020-05-07 01:41:14 +0000] [38] [INFO] Booting worker with pid: 38\u001b[0m\n",
      "\u001b[34m[2020-05-07 01:41:14 +0000] [39] [INFO] Booting worker with pid: 39\u001b[0m\n",
      "\u001b[34m[2020-05-07 01:41:14 +0000] [40] [INFO] Booting worker with pid: 40\u001b[0m\n",
      "\u001b[34m[2020-05-07:01:41:14:INFO] Model loaded successfully for worker : 38\u001b[0m\n",
      "\u001b[34m[2020-05-07 01:41:14 +0000] [41] [INFO] Booting worker with pid: 41\u001b[0m\n",
      "\u001b[34m[2020-05-07:01:41:14:INFO] Model loaded successfully for worker : 39\u001b[0m\n",
      "\u001b[34m[2020-05-07:01:41:14:INFO] Model loaded successfully for worker : 40\u001b[0m\n",
      "\u001b[34m[2020-05-07:01:41:14:INFO] Model loaded successfully for worker : 41\u001b[0m\n",
      "\u001b[32m2020-05-07T01:41:49.572:[sagemaker logs]: MaxConcurrentTransforms=4, MaxPayloadInMB=6, BatchStrategy=MULTI_RECORD\u001b[0m\n",
      "\u001b[34m[2020-05-07:01:41:52:INFO] Sniff delimiter as ','\u001b[0m\n",
      "\u001b[34m[2020-05-07:01:41:52:INFO] Determined delimiter of CSV input is ','\u001b[0m\n",
      "\u001b[34m[2020-05-07:01:41:52:INFO] Sniff delimiter as ','\u001b[0m\n",
      "\u001b[34m[2020-05-07:01:41:52:INFO] Determined delimiter of CSV input is ','\u001b[0m\n",
      "\u001b[34m[2020-05-07:01:41:52:INFO] Sniff delimiter as ','\u001b[0m\n",
      "\u001b[34m[2020-05-07:01:41:52:INFO] Determined delimiter of CSV input is ','\u001b[0m\n",
      "\u001b[35m[2020-05-07:01:41:52:INFO] Sniff delimiter as ','\u001b[0m\n",
      "\u001b[35m[2020-05-07:01:41:52:INFO] Determined delimiter of CSV input is ','\u001b[0m\n",
      "\u001b[35m[2020-05-07:01:41:52:INFO] Sniff delimiter as ','\u001b[0m\n",
      "\u001b[35m[2020-05-07:01:41:52:INFO] Determined delimiter of CSV input is ','\u001b[0m\n",
      "\u001b[35m[2020-05-07:01:41:52:INFO] Sniff delimiter as ','\u001b[0m\n",
      "\u001b[35m[2020-05-07:01:41:52:INFO] Determined delimiter of CSV input is ','\u001b[0m\n",
      "\u001b[34m[2020-05-07:01:41:53:INFO] Sniff delimiter as ','\u001b[0m\n",
      "\u001b[34m[2020-05-07:01:41:53:INFO] Determined delimiter of CSV input is ','\u001b[0m\n",
      "\u001b[35m[2020-05-07:01:41:53:INFO] Sniff delimiter as ','\u001b[0m\n",
      "\u001b[35m[2020-05-07:01:41:53:INFO] Determined delimiter of CSV input is ','\u001b[0m\n",
      "\u001b[34m[2020-05-07:01:41:54:INFO] Sniff delimiter as ','\u001b[0m\n",
      "\u001b[34m[2020-05-07:01:41:54:INFO] Determined delimiter of CSV input is ','\u001b[0m\n",
      "\u001b[34m[2020-05-07:01:41:55:INFO] Sniff delimiter as ','\u001b[0m\n",
      "\u001b[34m[2020-05-07:01:41:55:INFO] Determined delimiter of CSV input is ','\u001b[0m\n",
      "\u001b[34m[2020-05-07:01:41:55:INFO] Sniff delimiter as ','\u001b[0m\n",
      "\u001b[35m[2020-05-07:01:41:54:INFO] Sniff delimiter as ','\u001b[0m\n",
      "\u001b[35m[2020-05-07:01:41:54:INFO] Determined delimiter of CSV input is ','\u001b[0m\n",
      "\u001b[35m[2020-05-07:01:41:55:INFO] Sniff delimiter as ','\u001b[0m\n",
      "\u001b[35m[2020-05-07:01:41:55:INFO] Determined delimiter of CSV input is ','\u001b[0m\n",
      "\u001b[35m[2020-05-07:01:41:55:INFO] Sniff delimiter as ','\u001b[0m\n",
      "\u001b[34m[2020-05-07:01:41:55:INFO] Determined delimiter of CSV input is ','\u001b[0m\n",
      "\u001b[34m[2020-05-07:01:41:55:INFO] Sniff delimiter as ','\u001b[0m\n",
      "\u001b[34m[2020-05-07:01:41:55:INFO] Determined delimiter of CSV input is ','\u001b[0m\n",
      "\u001b[35m[2020-05-07:01:41:55:INFO] Determined delimiter of CSV input is ','\u001b[0m\n",
      "\u001b[35m[2020-05-07:01:41:55:INFO] Sniff delimiter as ','\u001b[0m\n",
      "\u001b[35m[2020-05-07:01:41:55:INFO] Determined delimiter of CSV input is ','\u001b[0m\n",
      "\u001b[34m[2020-05-07:01:41:57:INFO] Sniff delimiter as ','\u001b[0m\n",
      "\u001b[35m[2020-05-07:01:41:57:INFO] Sniff delimiter as ','\u001b[0m\n",
      "\u001b[34m[2020-05-07:01:41:57:INFO] Determined delimiter of CSV input is ','\u001b[0m\n",
      "\u001b[34m[2020-05-07:01:41:57:INFO] Sniff delimiter as ','\u001b[0m\n",
      "\u001b[34m[2020-05-07:01:41:57:INFO] Determined delimiter of CSV input is ','\u001b[0m\n",
      "\u001b[34m[2020-05-07:01:41:57:INFO] Sniff delimiter as ','\u001b[0m\n",
      "\u001b[34m[2020-05-07:01:41:57:INFO] Determined delimiter of CSV input is ','\u001b[0m\n",
      "\u001b[35m[2020-05-07:01:41:57:INFO] Determined delimiter of CSV input is ','\u001b[0m\n",
      "\u001b[35m[2020-05-07:01:41:57:INFO] Sniff delimiter as ','\u001b[0m\n",
      "\u001b[35m[2020-05-07:01:41:57:INFO] Determined delimiter of CSV input is ','\u001b[0m\n",
      "\u001b[35m[2020-05-07:01:41:57:INFO] Sniff delimiter as ','\u001b[0m\n",
      "\u001b[35m[2020-05-07:01:41:57:INFO] Determined delimiter of CSV input is ','\u001b[0m\n",
      "\u001b[34m[2020-05-07:01:41:58:INFO] Sniff delimiter as ','\u001b[0m\n",
      "\u001b[34m[2020-05-07:01:41:58:INFO] Determined delimiter of CSV input is ','\u001b[0m\n",
      "\u001b[35m[2020-05-07:01:41:58:INFO] Sniff delimiter as ','\u001b[0m\n",
      "\u001b[35m[2020-05-07:01:41:58:INFO] Determined delimiter of CSV input is ','\u001b[0m\n",
      "\u001b[34m[2020-05-07:01:41:59:INFO] Sniff delimiter as ','\u001b[0m\n",
      "\u001b[34m[2020-05-07:01:41:59:INFO] Determined delimiter of CSV input is ','\u001b[0m\n",
      "\u001b[35m[2020-05-07:01:41:59:INFO] Sniff delimiter as ','\u001b[0m\n",
      "\u001b[35m[2020-05-07:01:41:59:INFO] Determined delimiter of CSV input is ','\u001b[0m\n",
      "\u001b[34m[2020-05-07:01:41:59:INFO] Sniff delimiter as ','\u001b[0m\n",
      "\u001b[34m[2020-05-07:01:41:59:INFO] Determined delimiter of CSV input is ','\u001b[0m\n",
      "\u001b[34m[2020-05-07:01:42:00:INFO] Sniff delimiter as ','\u001b[0m\n",
      "\u001b[34m[2020-05-07:01:42:00:INFO] Determined delimiter of CSV input is ','\u001b[0m\n",
      "\u001b[35m[2020-05-07:01:41:59:INFO] Sniff delimiter as ','\u001b[0m\n",
      "\u001b[35m[2020-05-07:01:41:59:INFO] Determined delimiter of CSV input is ','\u001b[0m\n",
      "\u001b[35m[2020-05-07:01:42:00:INFO] Sniff delimiter as ','\u001b[0m\n",
      "\u001b[35m[2020-05-07:01:42:00:INFO] Determined delimiter of CSV input is ','\u001b[0m\n",
      "\u001b[34m[2020-05-07:01:42:00:INFO] Sniff delimiter as ','\u001b[0m\n",
      "\u001b[34m[2020-05-07:01:42:00:INFO] Determined delimiter of CSV input is ','\u001b[0m\n",
      "\u001b[35m[2020-05-07:01:42:00:INFO] Sniff delimiter as ','\u001b[0m\n",
      "\u001b[35m[2020-05-07:01:42:00:INFO] Determined delimiter of CSV input is ','\u001b[0m\n",
      "\u001b[34m[2020-05-07:01:42:02:INFO] Sniff delimiter as ','\u001b[0m\n",
      "\u001b[35m[2020-05-07:01:42:02:INFO] Sniff delimiter as ','\u001b[0m\n",
      "\u001b[34m[2020-05-07:01:42:02:INFO] Determined delimiter of CSV input is ','\u001b[0m\n",
      "\u001b[34m[2020-05-07:01:42:02:INFO] Sniff delimiter as ','\u001b[0m\n",
      "\u001b[34m[2020-05-07:01:42:02:INFO] Determined delimiter of CSV input is ','\u001b[0m\n",
      "\u001b[35m[2020-05-07:01:42:02:INFO] Determined delimiter of CSV input is ','\u001b[0m\n",
      "\u001b[35m[2020-05-07:01:42:02:INFO] Sniff delimiter as ','\u001b[0m\n",
      "\u001b[35m[2020-05-07:01:42:02:INFO] Determined delimiter of CSV input is ','\u001b[0m\n",
      "\u001b[34m[2020-05-07:01:42:02:INFO] Sniff delimiter as ','\u001b[0m\n",
      "\u001b[34m[2020-05-07:01:42:02:INFO] Determined delimiter of CSV input is ','\u001b[0m\n",
      "\u001b[35m[2020-05-07:01:42:02:INFO] Sniff delimiter as ','\u001b[0m\n",
      "\u001b[35m[2020-05-07:01:42:02:INFO] Determined delimiter of CSV input is ','\u001b[0m\n",
      "\u001b[34m[2020-05-07:01:42:04:INFO] Sniff delimiter as ','\u001b[0m\n",
      "\u001b[34m[2020-05-07:01:42:04:INFO] Determined delimiter of CSV input is ','\u001b[0m\n",
      "\u001b[35m[2020-05-07:01:42:04:INFO] Sniff delimiter as ','\u001b[0m\n",
      "\u001b[35m[2020-05-07:01:42:04:INFO] Determined delimiter of CSV input is ','\u001b[0m\n",
      "\u001b[34m[2020-05-07:01:42:04:INFO] Sniff delimiter as ','\u001b[0m\n",
      "\u001b[34m[2020-05-07:01:42:04:INFO] Determined delimiter of CSV input is ','\u001b[0m\n",
      "\u001b[34m[2020-05-07:01:42:04:INFO] Sniff delimiter as ','\u001b[0m\n",
      "\u001b[34m[2020-05-07:01:42:04:INFO] Determined delimiter of CSV input is ','\u001b[0m\n",
      "\u001b[34m[2020-05-07:01:42:05:INFO] Sniff delimiter as ','\u001b[0m\n",
      "\u001b[34m[2020-05-07:01:42:05:INFO] Determined delimiter of CSV input is ','\u001b[0m\n",
      "\u001b[35m[2020-05-07:01:42:04:INFO] Sniff delimiter as ','\u001b[0m\n",
      "\u001b[35m[2020-05-07:01:42:04:INFO] Determined delimiter of CSV input is ','\u001b[0m\n",
      "\u001b[35m[2020-05-07:01:42:04:INFO] Sniff delimiter as ','\u001b[0m\n",
      "\u001b[35m[2020-05-07:01:42:04:INFO] Determined delimiter of CSV input is ','\u001b[0m\n",
      "\u001b[35m[2020-05-07:01:42:05:INFO] Sniff delimiter as ','\u001b[0m\n",
      "\u001b[35m[2020-05-07:01:42:05:INFO] Determined delimiter of CSV input is ','\u001b[0m\n",
      "\u001b[34m[2020-05-07:01:42:07:INFO] Sniff delimiter as ','\u001b[0m\n",
      "\u001b[34m[2020-05-07:01:42:07:INFO] Determined delimiter of CSV input is ','\u001b[0m\n",
      "\u001b[34m[2020-05-07:01:42:07:INFO] Sniff delimiter as ','\u001b[0m\n",
      "\u001b[34m[2020-05-07:01:42:07:INFO] Determined delimiter of CSV input is ','\u001b[0m\n",
      "\u001b[34m[2020-05-07:01:42:07:INFO] Sniff delimiter as ','\u001b[0m\n",
      "\u001b[34m[2020-05-07:01:42:07:INFO] Determined delimiter of CSV input is ','\u001b[0m\n",
      "\u001b[35m[2020-05-07:01:42:07:INFO] Sniff delimiter as ','\u001b[0m\n",
      "\u001b[35m[2020-05-07:01:42:07:INFO] Determined delimiter of CSV input is ','\u001b[0m\n",
      "\u001b[35m[2020-05-07:01:42:07:INFO] Sniff delimiter as ','\u001b[0m\n",
      "\u001b[35m[2020-05-07:01:42:07:INFO] Determined delimiter of CSV input is ','\u001b[0m\n",
      "\u001b[35m[2020-05-07:01:42:07:INFO] Sniff delimiter as ','\u001b[0m\n",
      "\u001b[35m[2020-05-07:01:42:07:INFO] Determined delimiter of CSV input is ','\u001b[0m\n",
      "\u001b[34m[2020-05-07:01:42:07:INFO] Sniff delimiter as ','\u001b[0m\n",
      "\u001b[34m[2020-05-07:01:42:07:INFO] Determined delimiter of CSV input is ','\u001b[0m\n",
      "\u001b[35m[2020-05-07:01:42:07:INFO] Sniff delimiter as ','\u001b[0m\n",
      "\u001b[35m[2020-05-07:01:42:07:INFO] Determined delimiter of CSV input is ','\u001b[0m\n",
      "\u001b[34m[2020-05-07:01:42:09:INFO] Sniff delimiter as ','\u001b[0m\n",
      "\u001b[34m[2020-05-07:01:42:09:INFO] Determined delimiter of CSV input is ','\u001b[0m\n",
      "\u001b[34m[2020-05-07:01:42:09:INFO] Sniff delimiter as ','\u001b[0m\n",
      "\u001b[34m[2020-05-07:01:42:09:INFO] Determined delimiter of CSV input is ','\u001b[0m\n",
      "\u001b[34m[2020-05-07:01:42:09:INFO] Sniff delimiter as ','\u001b[0m\n",
      "\u001b[34m[2020-05-07:01:42:09:INFO] Determined delimiter of CSV input is ','\u001b[0m\n",
      "\u001b[35m[2020-05-07:01:42:09:INFO] Sniff delimiter as ','\u001b[0m\n",
      "\u001b[35m[2020-05-07:01:42:09:INFO] Determined delimiter of CSV input is ','\u001b[0m\n",
      "\u001b[35m[2020-05-07:01:42:09:INFO] Sniff delimiter as ','\u001b[0m\n",
      "\u001b[35m[2020-05-07:01:42:09:INFO] Determined delimiter of CSV input is ','\u001b[0m\n",
      "\u001b[35m[2020-05-07:01:42:09:INFO] Sniff delimiter as ','\u001b[0m\n",
      "\u001b[35m[2020-05-07:01:42:09:INFO] Determined delimiter of CSV input is ','\u001b[0m\n",
      "\u001b[34m[2020-05-07:01:42:10:INFO] Sniff delimiter as ','\u001b[0m\n",
      "\u001b[34m[2020-05-07:01:42:10:INFO] Determined delimiter of CSV input is ','\u001b[0m\n",
      "\u001b[35m[2020-05-07:01:42:10:INFO] Sniff delimiter as ','\u001b[0m\n",
      "\u001b[35m[2020-05-07:01:42:10:INFO] Determined delimiter of CSV input is ','\u001b[0m\n",
      "\u001b[34m[2020-05-07:01:42:12:INFO] Sniff delimiter as ','\u001b[0m\n",
      "\u001b[34m[2020-05-07:01:42:12:INFO] Determined delimiter of CSV input is ','\u001b[0m\n",
      "\u001b[34m[2020-05-07:01:42:12:INFO] Sniff delimiter as ','\u001b[0m\n",
      "\u001b[34m[2020-05-07:01:42:12:INFO] Determined delimiter of CSV input is ','\u001b[0m\n",
      "\u001b[34m[2020-05-07:01:42:12:INFO] Sniff delimiter as ','\u001b[0m\n",
      "\u001b[34m[2020-05-07:01:42:12:INFO] Determined delimiter of CSV input is ','\u001b[0m\n",
      "\u001b[35m[2020-05-07:01:42:12:INFO] Sniff delimiter as ','\u001b[0m\n",
      "\u001b[35m[2020-05-07:01:42:12:INFO] Determined delimiter of CSV input is ','\u001b[0m\n",
      "\u001b[35m[2020-05-07:01:42:12:INFO] Sniff delimiter as ','\u001b[0m\n",
      "\u001b[35m[2020-05-07:01:42:12:INFO] Determined delimiter of CSV input is ','\u001b[0m\n",
      "\u001b[35m[2020-05-07:01:42:12:INFO] Sniff delimiter as ','\u001b[0m\n",
      "\u001b[35m[2020-05-07:01:42:12:INFO] Determined delimiter of CSV input is ','\u001b[0m\n",
      "\u001b[34m[2020-05-07:01:42:14:INFO] Sniff delimiter as ','\u001b[0m\n",
      "\u001b[34m[2020-05-07:01:42:14:INFO] Determined delimiter of CSV input is ','\u001b[0m\n",
      "\u001b[34m[2020-05-07:01:42:14:INFO] Sniff delimiter as ','\u001b[0m\n",
      "\u001b[34m[2020-05-07:01:42:14:INFO] Determined delimiter of CSV input is ','\u001b[0m\n",
      "\u001b[34m[2020-05-07:01:42:14:INFO] Sniff delimiter as ','\u001b[0m\n",
      "\u001b[34m[2020-05-07:01:42:14:INFO] Determined delimiter of CSV input is ','\u001b[0m\n",
      "\u001b[35m[2020-05-07:01:42:14:INFO] Sniff delimiter as ','\u001b[0m\n",
      "\u001b[35m[2020-05-07:01:42:14:INFO] Determined delimiter of CSV input is ','\u001b[0m\n",
      "\u001b[35m[2020-05-07:01:42:14:INFO] Sniff delimiter as ','\u001b[0m\n",
      "\u001b[35m[2020-05-07:01:42:14:INFO] Determined delimiter of CSV input is ','\u001b[0m\n",
      "\u001b[35m[2020-05-07:01:42:14:INFO] Sniff delimiter as ','\u001b[0m\n",
      "\u001b[35m[2020-05-07:01:42:14:INFO] Determined delimiter of CSV input is ','\u001b[0m\n",
      "\u001b[34m[2020-05-07:01:42:15:INFO] Sniff delimiter as ','\u001b[0m\n",
      "\u001b[34m[2020-05-07:01:42:15:INFO] Determined delimiter of CSV input is ','\u001b[0m\n",
      "\u001b[35m[2020-05-07:01:42:15:INFO] Sniff delimiter as ','\u001b[0m\n",
      "\u001b[35m[2020-05-07:01:42:15:INFO] Determined delimiter of CSV input is ','\u001b[0m\n",
      "\n"
     ]
    }
   ],
   "source": [
    "xgb_transformer.wait()"
   ]
  },
  {
   "cell_type": "code",
   "execution_count": null,
   "metadata": {},
   "outputs": [],
   "source": []
  },
  {
   "cell_type": "markdown",
   "metadata": {},
   "source": [
    "Now the transform job has executed and the result, the estimated sentiment of each review, has been saved on S3. Since we would rather work on this file locally we can perform a bit of notebook magic to copy the file to the `data_dir`."
   ]
  },
  {
   "cell_type": "code",
   "execution_count": 40,
   "metadata": {},
   "outputs": [
    {
     "name": "stdout",
     "output_type": "stream",
     "text": [
      "download: s3://sagemaker-us-east-2-525657442405/xgboost-200507-0037-017-995a43b8-2020-05-07-01-38-05-874/test.csv.out to ../data/xgboost/test.csv.out\r\n"
     ]
    }
   ],
   "source": [
    "!aws s3 cp --recursive $xgb_transformer.output_path $data_dir"
   ]
  },
  {
   "cell_type": "markdown",
   "metadata": {},
   "source": [
    "The last step is now to read in the output from our model, convert the output to something a little more usable, in this case we want the sentiment to be either `1` (positive) or `0` (negative), and then compare to the ground truth labels."
   ]
  },
  {
   "cell_type": "code",
   "execution_count": 41,
   "metadata": {},
   "outputs": [],
   "source": [
    "predictions = pd.read_csv(os.path.join(data_dir, 'test.csv.out'), header=None)\n",
    "predictions = [round(num) for num in predictions.squeeze().values]"
   ]
  },
  {
   "cell_type": "code",
   "execution_count": 42,
   "metadata": {},
   "outputs": [
    {
     "data": {
      "text/plain": [
       "0.86452"
      ]
     },
     "execution_count": 42,
     "metadata": {},
     "output_type": "execute_result"
    }
   ],
   "source": [
    "from sklearn.metrics import accuracy_score\n",
    "accuracy_score(test_y, predictions)"
   ]
  },
  {
   "cell_type": "markdown",
   "metadata": {},
   "source": [
    "## Optional: Clean up\n",
    "\n",
    "The default notebook instance on SageMaker doesn't have a lot of excess disk space available. As you continue to complete and execute notebooks you will eventually fill up this disk space, leading to errors which can be difficult to diagnose. Once you are completely finished using a notebook it is a good idea to remove the files that you created along the way. Of course, you can do this from the terminal or from the notebook hub if you would like. The cell below contains some commands to clean up the created files from within the notebook."
   ]
  },
  {
   "cell_type": "code",
   "execution_count": 43,
   "metadata": {},
   "outputs": [],
   "source": [
    "# First we will remove all of the files contained in the data_dir directory\n",
    "!rm $data_dir/*\n",
    "\n",
    "# And then we delete the directory itself\n",
    "!rmdir $data_dir\n",
    "\n",
    "# Similarly we will remove the files in the cache_dir directory and the directory itself\n",
    "!rm $cache_dir/*\n",
    "!rmdir $cache_dir"
   ]
  },
  {
   "cell_type": "code",
   "execution_count": null,
   "metadata": {},
   "outputs": [],
   "source": []
  }
 ],
 "metadata": {
  "kernelspec": {
   "display_name": "conda_python3",
   "language": "python",
   "name": "conda_python3"
  },
  "language_info": {
   "codemirror_mode": {
    "name": "ipython",
    "version": 3
   },
   "file_extension": ".py",
   "mimetype": "text/x-python",
   "name": "python",
   "nbconvert_exporter": "python",
   "pygments_lexer": "ipython3",
   "version": "3.6.5"
  }
 },
 "nbformat": 4,
 "nbformat_minor": 2
}
